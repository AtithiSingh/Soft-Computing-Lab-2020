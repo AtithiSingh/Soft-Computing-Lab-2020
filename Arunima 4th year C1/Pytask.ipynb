{
  "nbformat": 4,
  "nbformat_minor": 0,
  "metadata": {
    "colab": {
      "name": "Untitled0.ipynb",
      "provenance": [],
      "authorship_tag": "ABX9TyNC+/e3a6JMn8palx8rqcHd",
      "include_colab_link": true
    },
    "kernelspec": {
      "name": "python3",
      "display_name": "Python 3"
    }
  },
  "cells": [
    {
      "cell_type": "markdown",
      "metadata": {
        "id": "view-in-github",
        "colab_type": "text"
      },
      "source": [
        "<a href=\"https://colab.research.google.com/github/arunima27-3-99/Soft-Computing-Lab-2020/blob/master/Arunima%204th%20year%20C1/Pytask.ipynb\" target=\"_parent\"><img src=\"https://colab.research.google.com/assets/colab-badge.svg\" alt=\"Open In Colab\"/></a>"
      ]
    },
    {
      "cell_type": "code",
      "metadata": {
        "id": "M27nOTAGvkZM",
        "outputId": "f56597d1-16df-4065-c56c-267b43e4037a",
        "colab": {
          "base_uri": "https://localhost:8080/",
          "height": 134
        }
      },
      "source": [
        "a=5\n",
        "b=9\n",
        "c=a+b #addition\n",
        "print(c)\n",
        "# Subtraction\n",
        "d=b-a\n",
        "print(d)\n",
        "# Multiplication\n",
        "e=a*b\n",
        "print(b)\n",
        "#Division\n",
        "f=b/a\n",
        "print(f)\n",
        "#Modulus\n",
        "print(a%b)\n",
        "#Exponent\n",
        "print(a**b)\n",
        "#Floor Division\n",
        "print(a//b)"
      ],
      "execution_count": 1,
      "outputs": [
        {
          "output_type": "stream",
          "text": [
            "14\n",
            "4\n",
            "9\n",
            "1.8\n",
            "5\n",
            "1953125\n",
            "0\n"
          ],
          "name": "stdout"
        }
      ]
    },
    {
      "cell_type": "code",
      "metadata": {
        "id": "WeyOElPYw_UP",
        "outputId": "c7334322-85a7-40ab-fbc4-fc2559b74b0c",
        "colab": {
          "base_uri": "https://localhost:8080/",
          "height": 118
        }
      },
      "source": [
        "print(a==b) \n",
        "print(a!=b) \n",
        "print(a>b)\n",
        "print(a<b)\n",
        "print(a>=b)\n",
        "print(a<=b)"
      ],
      "execution_count": 2,
      "outputs": [
        {
          "output_type": "stream",
          "text": [
            "False\n",
            "True\n",
            "False\n",
            "True\n",
            "False\n",
            "True\n"
          ],
          "name": "stdout"
        }
      ]
    },
    {
      "cell_type": "code",
      "metadata": {
        "id": "Bj9VkxyexKHB",
        "outputId": "b5785d4a-9ab7-455d-a686-249f3e2dc2d5",
        "colab": {
          "base_uri": "https://localhost:8080/",
          "height": 118
        }
      },
      "source": [
        "print(a&b)\n",
        "print(a|b)\n",
        "print(a^b)\n",
        "print(~a)\n",
        "print(a<<1)\n",
        "print(a>>1)"
      ],
      "execution_count": 3,
      "outputs": [
        {
          "output_type": "stream",
          "text": [
            "1\n",
            "13\n",
            "12\n",
            "-6\n",
            "10\n",
            "2\n"
          ],
          "name": "stdout"
        }
      ]
    },
    {
      "cell_type": "code",
      "metadata": {
        "id": "Fg65CyGExP5w",
        "outputId": "d16d31ca-5e07-43e4-b463-cd06791c655b",
        "colab": {
          "base_uri": "https://localhost:8080/",
          "height": 67
        }
      },
      "source": [
        "print(a>7 and b<7)\n",
        "print(a>7 or b<7)\n",
        "print(not(a>7))"
      ],
      "execution_count": 4,
      "outputs": [
        {
          "output_type": "stream",
          "text": [
            "False\n",
            "False\n",
            "True\n"
          ],
          "name": "stdout"
        }
      ]
    },
    {
      "cell_type": "code",
      "metadata": {
        "id": "2R-Xm6blxZPT",
        "outputId": "c59e3128-87fe-4bf0-f8c8-0416b6bb86ac",
        "colab": {
          "base_uri": "https://localhost:8080/",
          "height": 151
        }
      },
      "source": [
        "c=a+b\n",
        "print(c)\n",
        "c+=a\n",
        "print(c)\n",
        "c-=a\n",
        "print(c)\n",
        "c*=a\n",
        "print(c)\n",
        "c/=a\n",
        "print(c)\n",
        "c**=a\n",
        "print(c)\n",
        "c%=a\n",
        "print(c)\n",
        "c//=a\n",
        "print(c)"
      ],
      "execution_count": 5,
      "outputs": [
        {
          "output_type": "stream",
          "text": [
            "14\n",
            "19\n",
            "14\n",
            "70\n",
            "14.0\n",
            "537824.0\n",
            "4.0\n",
            "0.0\n"
          ],
          "name": "stdout"
        }
      ]
    },
    {
      "cell_type": "code",
      "metadata": {
        "id": "m5fIwsxOxdlC",
        "outputId": "5c912f79-698c-41ba-ed75-ffa3385bf8f3",
        "colab": {
          "base_uri": "https://localhost:8080/",
          "height": 50
        }
      },
      "source": [
        "print(a is b)\n",
        "print(a is not b)"
      ],
      "execution_count": 6,
      "outputs": [
        {
          "output_type": "stream",
          "text": [
            "False\n",
            "True\n"
          ],
          "name": "stdout"
        }
      ]
    }
  ]
}