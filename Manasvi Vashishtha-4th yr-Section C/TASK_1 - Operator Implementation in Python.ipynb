{
  "nbformat": 4,
  "nbformat_minor": 0,
  "metadata": {
    "colab": {
      "name": "Untitled0.ipynb",
      "provenance": []
    },
    "kernelspec": {
      "name": "python3",
      "display_name": "Python 3"
    }
  },
  "cells": [
    {
      "cell_type": "markdown",
      "metadata": {
        "id": "D52zDvs8m_By"
      },
      "source": [
        "**TASK 1: Operator Implementation in Python**"
      ]
    },
    {
      "cell_type": "markdown",
      "metadata": {
        "id": "royCecy-nOxJ"
      },
      "source": [
        "***1. Arithmetic Operators***\n"
      ]
    },
    {
      "cell_type": "code",
      "metadata": {
        "id": "9aOoRzBbniKM",
        "outputId": "67411d13-e7e7-4fe8-a674-d22cefbe9e0a",
        "colab": {
          "base_uri": "https://localhost:8080/",
          "height": 136
        }
      },
      "source": [
        "a = 8\n",
        "b = 7\n",
        "print(\"Addition: \", a+b)\n",
        "print(\"Substraction: \", a-b)\n",
        "print(\"Multiplication: \", a*b)\n",
        "print(\"Division: \", a/b)\n",
        "print(\"Floor Division: \", a//b)\n",
        "print(\"Modulo: \", a%b)\n",
        "print(\"Power: \", a**b)\n"
      ],
      "execution_count": 1,
      "outputs": [
        {
          "output_type": "stream",
          "text": [
            "Addition:  15\n",
            "Substraction:  1\n",
            "Multiplication:  56\n",
            "Division:  1.1428571428571428\n",
            "Floor Division:  1\n",
            "Modulo:  1\n",
            "Power:  2097152\n"
          ],
          "name": "stdout"
        }
      ]
    },
    {
      "cell_type": "markdown",
      "metadata": {
        "id": "xODToXfnoHCJ"
      },
      "source": [
        "***2. Relational Operators***"
      ]
    },
    {
      "cell_type": "code",
      "metadata": {
        "id": "WDc8eOMXoMcj",
        "outputId": "fc2a6b75-f8ab-4781-c8e4-000f416b4900",
        "colab": {
          "base_uri": "https://localhost:8080/",
          "height": 119
        }
      },
      "source": [
        "a = 8\n",
        "b = 7\n",
        "print(\"a>b : \", a>b)\n",
        "print(\"a<b : \", a<b)\n",
        "print(\"a>=b : \", a>=b)\n",
        "print(\"a<=b : \", a<=b)\n",
        "print(\"a!=b : \", a!=b)\n",
        "print(\"a==b : \", a==b)\n"
      ],
      "execution_count": 2,
      "outputs": [
        {
          "output_type": "stream",
          "text": [
            "a>b :  True\n",
            "a<b :  False\n",
            "a>=b :  True\n",
            "a<=b :  False\n",
            "a!=b :  True\n",
            "a==b :  False\n"
          ],
          "name": "stdout"
        }
      ]
    },
    {
      "cell_type": "markdown",
      "metadata": {
        "id": "FWP6SFG1oqnd"
      },
      "source": [
        "***3. Logical Operators***"
      ]
    },
    {
      "cell_type": "code",
      "metadata": {
        "id": "n2fDfzANowE1",
        "outputId": "5012314b-10ee-48b4-a3fe-d8295c28edb5",
        "colab": {
          "base_uri": "https://localhost:8080/",
          "height": 85
        }
      },
      "source": [
        "a = True\n",
        "b = False\n",
        "print(\"a and b : \", a and b)\n",
        "print(\"a or b : \", a or b)\n",
        "print(\"not b : \", not b)\n",
        "print(\"not a : \", not a)"
      ],
      "execution_count": 3,
      "outputs": [
        {
          "output_type": "stream",
          "text": [
            "a and b :  False\n",
            "a or b :  True\n",
            "not b :  True\n",
            "not a :  False\n"
          ],
          "name": "stdout"
        }
      ]
    },
    {
      "cell_type": "markdown",
      "metadata": {
        "id": "huLQ0VGSpDm1"
      },
      "source": [
        "***4. Bitwise Operators***"
      ]
    },
    {
      "cell_type": "code",
      "metadata": {
        "id": "SN3JYeAYpHP7",
        "outputId": "d78d86ae-12fc-47c2-a626-7f33cd23dc9c",
        "colab": {
          "base_uri": "https://localhost:8080/",
          "height": 136
        }
      },
      "source": [
        "a = 8\n",
        "b = 7\n",
        "print(\"a&b : \", a&b)\n",
        "print(\"a|b : \", a|b)\n",
        "print(\"~a : \", ~a )\n",
        "print(\"~b : \", ~b)\n",
        "print(\"a^b : \", a^b)\n",
        "print(\"a>>2 : \", a>>2)\n",
        "print(\"a<<2 : \", a<<2)"
      ],
      "execution_count": 5,
      "outputs": [
        {
          "output_type": "stream",
          "text": [
            "a&b :  0\n",
            "a|b :  15\n",
            "~a :  -9\n",
            "~b :  -8\n",
            "a^b :  15\n",
            "a>>2 :  2\n",
            "a<<2 :  32\n"
          ],
          "name": "stdout"
        }
      ]
    },
    {
      "cell_type": "markdown",
      "metadata": {
        "id": "cuTMcnV-pvRv"
      },
      "source": [
        "***5. Assignment Operators***"
      ]
    },
    {
      "cell_type": "code",
      "metadata": {
        "id": "loG_f-sNqgEI",
        "outputId": "962d96a0-e824-4cd5-ef7b-d064d67b0c34",
        "colab": {
          "base_uri": "https://localhost:8080/",
          "height": 221
        }
      },
      "source": [
        "a = 81\n",
        "b = 71\n",
        "\n",
        "c  = a+b\n",
        "print(\" = \", c)\n",
        "\n",
        "c += 2\n",
        "print(\"+= : \", c)\n",
        "\n",
        "c -=2\n",
        "print(\"-= : \", c)\n",
        "\n",
        "c *= 2\n",
        "print(\"*= : \", c)\n",
        "\n",
        "c /= 2\n",
        "print(\"/= : \", c)\n",
        "\n",
        "c //=2\n",
        "print(\"//= : \", c)\n",
        "\n",
        "c %=2\n",
        "print(\"%= : \", c)\n",
        "\n",
        "c = 118\n",
        "c &= 2\n",
        "print(\"&= : \", c)\n",
        "\n",
        "c |=2\n",
        "print(\"|= : \", c)\n",
        "\n",
        "c ^= 2\n",
        "print(\"^= : \", c)\n",
        "\n",
        "c >>= 2\n",
        "print(\">>= : \", c)\n",
        "\n",
        "c <<= 2\n",
        "print(\"<<= : \", c) \n"
      ],
      "execution_count": 9,
      "outputs": [
        {
          "output_type": "stream",
          "text": [
            " =  152\n",
            "+= :  154\n",
            "-= :  152\n",
            "*= :  304\n",
            "/= :  152.0\n",
            "//= :  76.0\n",
            "%= :  0.0\n",
            "&= :  2\n",
            "|= :  2\n",
            "^= :  0\n",
            ">>= :  0\n",
            "<<= :  0\n"
          ],
          "name": "stdout"
        }
      ]
    },
    {
      "cell_type": "markdown",
      "metadata": {
        "id": "UL04vtaCsDta"
      },
      "source": [
        "***6. Identity Operators***"
      ]
    },
    {
      "cell_type": "code",
      "metadata": {
        "id": "L73sexlrsIVQ",
        "outputId": "4cf87037-ab33-4c94-b095-e82cd4ec939a",
        "colab": {
          "base_uri": "https://localhost:8080/",
          "height": 85
        }
      },
      "source": [
        "a = \"Hello\"\n",
        "b = \"Hello\"\n",
        "print(\"a is b : \", a is b)\n",
        "print(\"a is not b : \", a is not b)\n",
        "c = [1,2,3]\n",
        "d = [1,2,3]\n",
        "print(\"c is d : \", c is d)\n",
        "print(\"c is not d : \", c is not d)\n",
        "\n"
      ],
      "execution_count": 14,
      "outputs": [
        {
          "output_type": "stream",
          "text": [
            "a is b :  True\n",
            "a is not b :  False\n",
            "c is d :  False\n",
            "c is not d :  True\n"
          ],
          "name": "stdout"
        }
      ]
    },
    {
      "cell_type": "markdown",
      "metadata": {
        "id": "_Difam1Gs0Ew"
      },
      "source": [
        "***7. Membership Operators***"
      ]
    },
    {
      "cell_type": "code",
      "metadata": {
        "id": "gP_Gl8hvs4De",
        "outputId": "12ce3cf8-5a98-4865-93e5-43f9cabb9b51",
        "colab": {
          "base_uri": "https://localhost:8080/",
          "height": 51
        }
      },
      "source": [
        "a = [23,56,22,12,55,78,100]\n",
        "print(\"23 in a : \", 23 in a)\n",
        "print(\"13 not in a : \", 13 not in a)"
      ],
      "execution_count": 15,
      "outputs": [
        {
          "output_type": "stream",
          "text": [
            "23 in a :  True\n",
            "13 not in a :  True\n"
          ],
          "name": "stdout"
        }
      ]
    }
  ]
}