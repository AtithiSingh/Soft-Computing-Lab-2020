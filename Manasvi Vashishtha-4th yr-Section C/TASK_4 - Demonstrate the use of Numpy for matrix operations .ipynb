{
  "nbformat": 4,
  "nbformat_minor": 0,
  "metadata": {
    "colab": {
      "name": "Untitled3.ipynb",
      "provenance": []
    },
    "kernelspec": {
      "name": "python3",
      "display_name": "Python 3"
    }
  },
  "cells": [
    {
      "cell_type": "markdown",
      "metadata": {
        "id": "kuP8XJgQYGzI"
      },
      "source": [
        "# TASK 4: Demonstrate the use of Numpy for matrix operations"
      ]
    },
    {
      "cell_type": "markdown",
      "metadata": {
        "id": "_NzjciTtY2By"
      },
      "source": [
        "Numpy is a general-purpose array-processing package. It provides a high-performance multidimensional array object, and tools for working with these arrays.\n",
        "\n",
        "It is the fundamental package for scientific computing with Python.\n",
        "\n",
        "Besides its obvious scientific uses, Numpy can also be used as an efficient multi-dimensional container of generic data."
      ]
    },
    {
      "cell_type": "code",
      "metadata": {
        "id": "cZp2UJGSY6QV",
        "outputId": "38ebc8cc-c6a2-4dc8-ad11-d625fe360387",
        "colab": {
          "base_uri": "https://localhost:8080/",
          "height": 153
        }
      },
      "source": [
        "#creating a numpy array\n",
        "\n",
        "import numpy as np\n",
        " \n",
        "arr = np.array([1, 2, 3])\n",
        "print(\"Array with Rank 1: \\n\",arr)\n",
        "arr = np.array([[1, 2, 3],\n",
        "                [4, 5, 6]])\n",
        "print(\"Array with Rank 2: \\n\", arr)\n",
        "arr = np.array((1, 3, 2))\n",
        "print(\"\\nArray created using \"\n",
        "      \"passed tuple:\\n\", arr)"
      ],
      "execution_count": 1,
      "outputs": [
        {
          "output_type": "stream",
          "text": [
            "Array with Rank 1: \n",
            " [1 2 3]\n",
            "Array with Rank 2: \n",
            " [[1 2 3]\n",
            " [4 5 6]]\n",
            "\n",
            "Array created using passed tuple:\n",
            " [1 3 2]\n"
          ],
          "name": "stdout"
        }
      ]
    },
    {
      "cell_type": "code",
      "metadata": {
        "id": "Fw830naBZUzU",
        "outputId": "0ab47b35-e1b7-45dc-fc33-a1fffb5c42a6",
        "colab": {
          "base_uri": "https://localhost:8080/",
          "height": 119
        }
      },
      "source": [
        "#indexing\n",
        "\n",
        "\n",
        "import numpy as np\n",
        "arr = np.array([[-1, 2, 0, 4],\n",
        "                [4, -0.5, 6, 0],\n",
        "                [2.6, 0, 7, 8],\n",
        "                [3, -7, 4, 2.0]])\n",
        "\n",
        "sliced_arr = arr[:2, ::2]\n",
        "print (\"Array with first 2 rows and alternate columns(0 and 2):\\n\", sliced_arr)\n",
        "Index_arr = arr[[1, 1, 0, 3], \n",
        "                [3, 2, 1, 0]]\n",
        "print (\"\\nElements at indices (1, 3),(1, 2), (0, 1), (3, 0):\\n\", Index_arr)"
      ],
      "execution_count": 3,
      "outputs": [
        {
          "output_type": "stream",
          "text": [
            "Array with first 2 rows and alternate columns(0 and 2):\n",
            " [[-1.  0.]\n",
            " [ 4.  6.]]\n",
            "\n",
            "Elements at indices (1, 3),(1, 2), (0, 1), (3, 0):\n",
            " [0. 6. 2. 3.]\n"
          ],
          "name": "stdout"
        }
      ]
    },
    {
      "cell_type": "code",
      "metadata": {
        "id": "jf1IAJG-ZU2p",
        "outputId": "f1dd728e-c2de-49ef-f4eb-068ccbf9beb7",
        "colab": {
          "base_uri": "https://localhost:8080/",
          "height": 204
        }
      },
      "source": [
        "#numpy matrix operations\n",
        "\n",
        "import numpy as np\n",
        " \n",
        "a = np.array([[1, 2],[3, 4]])\n",
        "b = np.array([[4, 3],[2, 1]])\n",
        "print (\"Adding 1 to every element:\", a + 1)\n",
        "print (\"\\nSubtracting 2 from each element:\", b - 2)\n",
        "print (\"\\nSum of all array elements: \", a.sum())\n",
        "print (\"\\nArray sum:\\n\", a + b)"
      ],
      "execution_count": 4,
      "outputs": [
        {
          "output_type": "stream",
          "text": [
            "Adding 1 to every element: [[2 3]\n",
            " [4 5]]\n",
            "\n",
            "Subtracting 2 from each element: [[ 2  1]\n",
            " [ 0 -1]]\n",
            "\n",
            "Sum of all array elements:  10\n",
            "\n",
            "Array sum:\n",
            " [[5 5]\n",
            " [5 5]]\n"
          ],
          "name": "stdout"
        }
      ]
    },
    {
      "cell_type": "code",
      "metadata": {
        "id": "w_75VtKDZU5T",
        "outputId": "2aff9dd1-4dc6-45e0-fab3-087154e92b02",
        "colab": {
          "base_uri": "https://localhost:8080/",
          "height": 255
        }
      },
      "source": [
        "import numpy as np\n",
        " \n",
        "\n",
        "arr1 = np.array([[4, 7], [2, 6]],dtype = np.float64)\n",
        "arr2 = np.array([[3, 6], [2, 8]],dtype = np.float64) \n",
        "\n",
        "Sum = np.add(arr1, arr2)\n",
        "print(\"Addition of Two Arrays: \")\n",
        "print(Sum)\n",
        "\n",
        "Sum1 = np.sum(arr1)\n",
        "print(\"\\nAddition of Array elements: \")\n",
        "print(Sum1)\n",
        " \n",
        "Sqrt = np.sqrt(arr1)\n",
        "print(\"\\nSquare root of Array1 elements: \")\n",
        "print(Sqrt)\n",
        " \n",
        "Trans_arr = arr1.T\n",
        "print(\"\\nTranspose of Array: \")\n",
        "print(Trans_arr)"
      ],
      "execution_count": 5,
      "outputs": [
        {
          "output_type": "stream",
          "text": [
            "Addition of Two Arrays: \n",
            "[[ 7. 13.]\n",
            " [ 4. 14.]]\n",
            "\n",
            "Addition of Array elements: \n",
            "19.0\n",
            "\n",
            "Square root of Array1 elements: \n",
            "[[2.         2.64575131]\n",
            " [1.41421356 2.44948974]]\n",
            "\n",
            "Transpose of Array: \n",
            "[[4. 2.]\n",
            " [7. 6.]]\n"
          ],
          "name": "stdout"
        }
      ]
    }
  ]
}