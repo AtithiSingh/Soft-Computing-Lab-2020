{
  "nbformat": 4,
  "nbformat_minor": 0,
  "metadata": {
    "colab": {
      "name": "Untitled2.ipynb",
      "provenance": []
    },
    "kernelspec": {
      "name": "python3",
      "display_name": "Python 3"
    }
  },
  "cells": [
    {
      "cell_type": "markdown",
      "metadata": {
        "id": "oPZii_xV3mmf"
      },
      "source": [
        "# TASK 3: Implementation of various Data Structures in Python and their operations"
      ]
    },
    {
      "cell_type": "markdown",
      "metadata": {
        "id": "yp2Qw9h045Yy"
      },
      "source": [
        "Data structures in python are something which can old data:\n",
        "1. Lists\n",
        "2. Tuples\n",
        "3. Dictionary\n",
        "4. Sets\n",
        "5. Frozen Sets\n",
        "6. Arrays"
      ]
    },
    {
      "cell_type": "markdown",
      "metadata": {
        "id": "6C-yUwY05a0_"
      },
      "source": [
        "## 1. Lists"
      ]
    },
    {
      "cell_type": "markdown",
      "metadata": {
        "id": "H4bgZ_On5krI"
      },
      "source": [
        "List in Python are ordered and have a definite count. \n",
        "\n",
        "The elements in a list are indexed according to a definite sequence and the indexing of a list is done with 0 being the first index.\n",
        "\n",
        "Each element in the list has its definite place in the list, which allows duplicating of elements in the list, with each element having its own distinct place and credibility"
      ]
    },
    {
      "cell_type": "code",
      "metadata": {
        "id": "Cmw7H5vr5rxz",
        "outputId": "82a3e85a-8408-4f67-eff9-89a2eaca3808",
        "colab": {
          "base_uri": "https://localhost:8080/",
          "height": 85
        }
      },
      "source": [
        "#creating  lists\n",
        "\n",
        "l1 = []\n",
        "l2 = [1,2,3,4]\n",
        "l3 = [\"Hello\", \"World\"]\n",
        "l4 = [[\"Good\", \"Morning\"],[3,4,5,6]]\n",
        "\n",
        "print(\"Its an empty list: \", l1)\n",
        "print(\"List with numerical data: \", l2)\n",
        "print(\"List with string data: \", l3)\n",
        "print(\"Nested list: \", l4)\n"
      ],
      "execution_count": 1,
      "outputs": [
        {
          "output_type": "stream",
          "text": [
            "Its an empty list:  []\n",
            "List with numerical data:  [1, 2, 3, 4]\n",
            "List with string data:  ['Hello', 'World']\n",
            "Nested list:  [['Good', 'Morning'], [3, 4, 5, 6]]\n"
          ],
          "name": "stdout"
        }
      ]
    },
    {
      "cell_type": "code",
      "metadata": {
        "id": "bM45HkYB6aSl",
        "outputId": "d4fecaa6-c80e-4418-94f9-583afbc7fc2e",
        "colab": {
          "base_uri": "https://localhost:8080/",
          "height": 51
        }
      },
      "source": [
        "# list can be created with duplicate elements as well\n",
        "\n",
        "l1 = [1,2,3,4,4,5,6,6,7,7,7,7,8,9,9]\n",
        "print(\"Duplicate elements in list: \", l1)\n",
        "print(\"Length of list: \", len(l1))"
      ],
      "execution_count": 2,
      "outputs": [
        {
          "output_type": "stream",
          "text": [
            "Duplicate elements in list:  [1, 2, 3, 4, 4, 5, 6, 6, 7, 7, 7, 7, 8, 9, 9]\n",
            "Length of list:  15\n"
          ],
          "name": "stdout"
        }
      ]
    },
    {
      "cell_type": "code",
      "metadata": {
        "id": "DjvwWEVU6tGf",
        "outputId": "ec0e59e5-7d23-4ce5-d153-7f72e5331ce8",
        "colab": {
          "base_uri": "https://localhost:8080/",
          "height": 51
        }
      },
      "source": [
        "#new elements can be added to the list using append() function\n",
        "\n",
        "l1 = [1,2,3,4]\n",
        "l2 = [5,6,7,8]\n",
        "\n",
        "print(\"Before append: \", l1)\n",
        "l1.append(l2)\n",
        "print(\"After append: \", l1)"
      ],
      "execution_count": 3,
      "outputs": [
        {
          "output_type": "stream",
          "text": [
            "Before append:  [1, 2, 3, 4]\n",
            "After append:  [1, 2, 3, 4, [5, 6, 7, 8]]\n"
          ],
          "name": "stdout"
        }
      ]
    },
    {
      "cell_type": "code",
      "metadata": {
        "id": "5SPiaZIt7HYr",
        "outputId": "8c20df62-f81f-423e-b6b1-4fc6d9e0c901",
        "colab": {
          "base_uri": "https://localhost:8080/",
          "height": 34
        }
      },
      "source": [
        "#using insert() to add elements to the list\n",
        "#append() adds the elemnents at the end of the list but with insert() elements can be added at any desired position. Hence insert() takes 2 arguments\n",
        "\n",
        "l1 = [1,2,3]\n",
        "l1.insert(2,[4,5,6])\n",
        "print(l1)"
      ],
      "execution_count": 5,
      "outputs": [
        {
          "output_type": "stream",
          "text": [
            "[1, 2, [4, 5, 6], 3]\n"
          ],
          "name": "stdout"
        }
      ]
    },
    {
      "cell_type": "code",
      "metadata": {
        "id": "DiyZ5bXDHgUb",
        "outputId": "dcf6e004-ddd4-40a1-dc6d-3ae228469238",
        "colab": {
          "base_uri": "https://localhost:8080/",
          "height": 68
        }
      },
      "source": [
        "#accessing elements\n",
        "\n",
        "l1 = [1,2,3,4,5,6,7,8,9]\n",
        "l2 = [1,2,[3,4]]\n",
        "print(l1[3])\n",
        "print(l1[3:7])\n",
        "print(l2[2][0])\n",
        "print(-1)\n"
      ],
      "execution_count": 6,
      "outputs": [
        {
          "output_type": "stream",
          "text": [
            "4\n",
            "[4, 5, 6, 7]\n",
            "3\n"
          ],
          "name": "stdout"
        }
      ]
    },
    {
      "cell_type": "code",
      "metadata": {
        "id": "2WWgLSHgIeuS",
        "outputId": "53551c1e-8cea-44e5-a0c1-ef4575b5e54a",
        "colab": {
          "base_uri": "https://localhost:8080/",
          "height": 51
        }
      },
      "source": [
        "#using remove() to remove elements from the list\n",
        "\n",
        "l1 = [34,65,77,12,32]\n",
        "print(\"Before Removing: \", l1)\n",
        "l1.remove(34)\n",
        "l1.remove(77)\n",
        "print(\"After Removing: \", l1)\n"
      ],
      "execution_count": 8,
      "outputs": [
        {
          "output_type": "stream",
          "text": [
            "Before Removing:  [34, 65, 77, 12, 32]\n",
            "After Removing:  [65, 12, 32]\n"
          ],
          "name": "stdout"
        }
      ]
    },
    {
      "cell_type": "code",
      "metadata": {
        "id": "X_T9nIuPIrjl",
        "outputId": "5deff2d0-66b1-45f5-f43c-aeb4f486f6e1",
        "colab": {
          "base_uri": "https://localhost:8080/",
          "height": 34
        }
      },
      "source": [
        "#using pop() to remove elements\n",
        "#The difference between remove() and pop() is that pop() rmoves the last element\n",
        "\n",
        "l1 = [45,66,22,67,98,23]\n",
        "l1.pop()\n",
        "l1.pop()\n",
        "print(l1)   #two elements popped from the end of the string"
      ],
      "execution_count": 9,
      "outputs": [
        {
          "output_type": "stream",
          "text": [
            "[45, 66, 22, 67]\n"
          ],
          "name": "stdout"
        }
      ]
    },
    {
      "cell_type": "markdown",
      "metadata": {
        "id": "8e5HqjiLJToa"
      },
      "source": [
        "## 2. Tuples"
      ]
    },
    {
      "cell_type": "markdown",
      "metadata": {
        "id": "AHym8_x_JeX-"
      },
      "source": [
        "Tuple is a collection of Python objects much like a list. \n",
        "\n",
        "The sequence of values stored in a tuple can be of any type, and they are indexed by integers.\n",
        "\n",
        "Values of a tuple are syntactically separated by ‘commas’. Although it is not necessary, it is more common to define a tuple by closing the sequence of values in parentheses. "
      ]
    },
    {
      "cell_type": "code",
      "metadata": {
        "id": "Sjs0lON-Jiya",
        "outputId": "ea3bb0b8-7e62-4f27-a5d5-e1002be7577c",
        "colab": {
          "base_uri": "https://localhost:8080/",
          "height": 85
        }
      },
      "source": [
        "#creating tuples\n",
        "\n",
        "t1 = ()\n",
        "t2 = (1,2,3)\n",
        "t3 = [1,2,3,4,5,6]\n",
        "t4 = tuple(\"Geeks\")\n",
        "\n",
        "print(\"Empty Tuple: \", t1)\n",
        "print(\"Numerical tuple: \",t2)\n",
        "print(\"Creating tuple form list: \", t3)\n",
        "print(\"Tuple typecasting: \", t4)\n"
      ],
      "execution_count": 11,
      "outputs": [
        {
          "output_type": "stream",
          "text": [
            "Empty Tuple:  ()\n",
            "Numerical tuple:  (1, 2, 3)\n",
            "Creating tuple form list:  [1, 2, 3, 4, 5, 6]\n",
            "Tuple typecasting:  ('G', 'e', 'e', 'k', 's')\n"
          ],
          "name": "stdout"
        }
      ]
    },
    {
      "cell_type": "code",
      "metadata": {
        "id": "CSgvsABnKjZc",
        "outputId": "8b93e6ec-e133-4b39-b5bb-aece593c26af",
        "colab": {
          "base_uri": "https://localhost:8080/",
          "height": 85
        }
      },
      "source": [
        "#accessing tuple elements\n",
        "\n",
        "t1 = (1,2,3,4,5,6,7,8)\n",
        "t2 = ((1,2,3,4),[6,7,8,9],10,11)\n",
        "print(t1[4])\n",
        "print(t1[4:8])\n",
        "print(t2[0][3])\n",
        "print(t2[1][0])"
      ],
      "execution_count": 12,
      "outputs": [
        {
          "output_type": "stream",
          "text": [
            "5\n",
            "(5, 6, 7, 8)\n",
            "4\n",
            "6\n"
          ],
          "name": "stdout"
        }
      ]
    },
    {
      "cell_type": "code",
      "metadata": {
        "id": "dkH6Q-DWK55g",
        "outputId": "85195af1-b0da-42b5-97fb-d43c4002ead9",
        "colab": {
          "base_uri": "https://localhost:8080/",
          "height": 214
        }
      },
      "source": [
        "#because tuple is an immuatable type, you cannot remove an element from the tuple, but can delete the entire tuple\n",
        "\n",
        "t1 = (1,2,3,4,5)\n",
        "print(t1)\n",
        "del t1\n",
        "print(t1)"
      ],
      "execution_count": 13,
      "outputs": [
        {
          "output_type": "stream",
          "text": [
            "(1, 2, 3, 4, 5)\n"
          ],
          "name": "stdout"
        },
        {
          "output_type": "error",
          "ename": "NameError",
          "evalue": "ignored",
          "traceback": [
            "\u001b[0;31m---------------------------------------------------------------------------\u001b[0m",
            "\u001b[0;31mNameError\u001b[0m                                 Traceback (most recent call last)",
            "\u001b[0;32m<ipython-input-13-cfdd87b1785c>\u001b[0m in \u001b[0;36m<module>\u001b[0;34m()\u001b[0m\n\u001b[1;32m      4\u001b[0m \u001b[0mprint\u001b[0m\u001b[0;34m(\u001b[0m\u001b[0mt1\u001b[0m\u001b[0;34m)\u001b[0m\u001b[0;34m\u001b[0m\u001b[0;34m\u001b[0m\u001b[0m\n\u001b[1;32m      5\u001b[0m \u001b[0;32mdel\u001b[0m \u001b[0mt1\u001b[0m\u001b[0;34m\u001b[0m\u001b[0;34m\u001b[0m\u001b[0m\n\u001b[0;32m----> 6\u001b[0;31m \u001b[0mprint\u001b[0m\u001b[0;34m(\u001b[0m\u001b[0mt1\u001b[0m\u001b[0;34m)\u001b[0m\u001b[0;34m\u001b[0m\u001b[0;34m\u001b[0m\u001b[0m\n\u001b[0m",
            "\u001b[0;31mNameError\u001b[0m: name 't1' is not defined"
          ]
        }
      ]
    },
    {
      "cell_type": "markdown",
      "metadata": {
        "id": "xNGSWdymLNfz"
      },
      "source": [
        "## 3. Sets"
      ]
    },
    {
      "cell_type": "markdown",
      "metadata": {
        "id": "l_8An4BgLPQa"
      },
      "source": [
        "In Python, Set is an unordered collection of data type that is iterable, mutable and has no duplicate elements. \n",
        "\n",
        "The order of elements in a set is undefined though it may consist of various elements."
      ]
    },
    {
      "cell_type": "code",
      "metadata": {
        "id": "DMZjU9kOLcOG",
        "outputId": "500cdde1-05d5-4a3f-cad7-d52376672f9b",
        "colab": {
          "base_uri": "https://localhost:8080/",
          "height": 68
        }
      },
      "source": [
        "#creating a set\n",
        "\n",
        "s1 = set()\n",
        "s2 = set(\"Thisisaset\")\n",
        "s3 = set([1,2,3,4,5,6])\n",
        "\n",
        "print(\"Empty set: \", s1)\n",
        "print(\"Set created from string object: \", s2)\n",
        "print(\"Set created from typecasting list: \", s3)\n"
      ],
      "execution_count": 14,
      "outputs": [
        {
          "output_type": "stream",
          "text": [
            "Empty set:  set()\n",
            "Set created from string object:  {'h', 'i', 'a', 't', 'e', 's', 'T'}\n",
            "Set created from typecasting list:  {1, 2, 3, 4, 5, 6}\n"
          ],
          "name": "stdout"
        }
      ]
    },
    {
      "cell_type": "code",
      "metadata": {
        "id": "-b4lJ5oULcZu",
        "outputId": "7b48ff15-8fd5-4e02-9f0c-77d74802fb0d",
        "colab": {
          "base_uri": "https://localhost:8080/",
          "height": 51
        }
      },
      "source": [
        "#adding elements to the set\n",
        "\n",
        "s1 = set((1,2,3))\n",
        "s1.add(4)\n",
        "s1.add(5)\n",
        "s1.add((6,7,8))\n",
        "print(s1)\n",
        "\n",
        "#with add() you can add only one element at a time. To add more elements we use update()\n",
        "\n",
        "s2 = set((1,2,3,4))\n",
        "s2.update([6,7,8],(45,67,89))\n",
        "print(s2)\n"
      ],
      "execution_count": 17,
      "outputs": [
        {
          "output_type": "stream",
          "text": [
            "{1, 2, 3, 4, 5, (6, 7, 8)}\n",
            "{1, 2, 3, 4, 67, 6, 7, 8, 45, 89}\n"
          ],
          "name": "stdout"
        }
      ]
    },
    {
      "cell_type": "code",
      "metadata": {
        "id": "rIb87tNgMy00",
        "outputId": "15740c55-9f53-472e-8859-47e7196519bf",
        "colab": {
          "base_uri": "https://localhost:8080/",
          "height": 51
        }
      },
      "source": [
        "#indexing is not possible in set\n",
        "\n",
        "#pop() is used to remove elements from the back of the tuple\n",
        "\n",
        "s1 = {34,67,2,12,43,99,17,80}\n",
        "print(\"Before popping: \", s1)\n",
        "s1.pop()\n",
        "s1.pop()\n",
        "print(\"After popping: \", s1)\n"
      ],
      "execution_count": 19,
      "outputs": [
        {
          "output_type": "stream",
          "text": [
            "Before popping:  {2, 34, 67, 99, 43, 12, 80, 17}\n",
            "After popping:  {67, 99, 43, 12, 80, 17}\n"
          ],
          "name": "stdout"
        }
      ]
    },
    {
      "cell_type": "code",
      "metadata": {
        "id": "7sFJ4MZrLciZ",
        "outputId": "af2129e7-96fd-45d0-ef89-dcbac01f55fb",
        "colab": {
          "base_uri": "https://localhost:8080/",
          "height": 51
        }
      },
      "source": [
        "#removing set elements using remove() and discard() \n",
        "#The difference between remove() and discard() is that remove() raises an Error\n",
        "#if the element we are trying to remove is not present while discard() doesnt \n",
        "#raise an error and the set remains unchanged.\n",
        "\n",
        "s1 = {45,12,11,34,87,55,90,80}\n",
        "s1.remove(12)\n",
        "s1.remove(90)\n",
        "print(\"After remove():\", s1)\n",
        "s1.discard(11)\n",
        "s1.discard(90)\n",
        "print(\"After discard():\", s1)"
      ],
      "execution_count": 20,
      "outputs": [
        {
          "output_type": "stream",
          "text": [
            "After remove(): {34, 11, 45, 80, 55, 87}\n",
            "After discard(): {34, 45, 80, 55, 87}\n"
          ],
          "name": "stdout"
        }
      ]
    },
    {
      "cell_type": "markdown",
      "metadata": {
        "id": "U2PyL6xdOYrN"
      },
      "source": [
        "## 4. Frozen Sets"
      ]
    },
    {
      "cell_type": "markdown",
      "metadata": {
        "id": "n6Mu1GFxOhpV"
      },
      "source": [
        "Frozen sets in Python are immutable objects that only support methods and operators that produce a result without affecting the frozen set or sets to which they are applied. \n",
        "\n",
        "While elements of a set can be modified at any time, elements of the frozen set remain the same after creation."
      ]
    },
    {
      "cell_type": "code",
      "metadata": {
        "id": "RfJ80QnGOhzf",
        "outputId": "ae5c28ea-f3b1-4a30-8e18-8753ac46b9bb",
        "colab": {
          "base_uri": "https://localhost:8080/",
          "height": 51
        }
      },
      "source": [
        "#creating a frozen set\n",
        "\n",
        "fs1 = frozenset()\n",
        "fs2 = frozenset(\"HelloWorld\")\n",
        "\n",
        "print(fs1)\n",
        "print(fs2)"
      ],
      "execution_count": 21,
      "outputs": [
        {
          "output_type": "stream",
          "text": [
            "frozenset()\n",
            "frozenset({'r', 'd', 'o', 'W', 'e', 'H', 'l'})\n"
          ],
          "name": "stdout"
        }
      ]
    },
    {
      "cell_type": "markdown",
      "metadata": {
        "id": "k_Ve3H2_S9N9"
      },
      "source": [
        "Rest all of the basic set functions can also be applied to the frozen sets. \n",
        "But because the frozen sets are immutable, elements in the set cannot be changed once it is created."
      ]
    },
    {
      "cell_type": "markdown",
      "metadata": {
        "id": "4MBHRWAKTJZJ"
      },
      "source": [
        "## 5. Dictionary"
      ]
    },
    {
      "cell_type": "markdown",
      "metadata": {
        "id": "N5xRfGCHTXzk"
      },
      "source": [
        "Dictionary in Python is an unordered collection of data values, used to store data values like a map, which unlike other Data Types that hold only single value as an element, Dictionary holds key:value pair. Key value is provided in the dictionary to make it more optimized.\n",
        "\n",
        "Note – Keys in a dictionary doesn’t allows Polymorphism."
      ]
    },
    {
      "cell_type": "code",
      "metadata": {
        "id": "KM4w_m0DTcS8",
        "outputId": "a9edf7bf-2bf4-4a1f-8bbc-6aab6d8b83d2",
        "colab": {
          "base_uri": "https://localhost:8080/",
          "height": 170
        }
      },
      "source": [
        "#creating a dictionary\n",
        "\n",
        "\n",
        "Dict = {} \n",
        "print(\"Empty Dictionary: \") \n",
        "print(Dict) \n",
        "  \n",
        "Dict = dict({1: 'Geeks', 2: 'For', 3:'Geeks'}) \n",
        "print(\"\\nDictionary with the use of dict(): \") \n",
        "print(Dict) \n",
        "  \n",
        "Dict = dict([(1, 'Geeks'), (2, 'For')]) \n",
        "print(\"\\nDictionary with each item as a pair: \") \n",
        "print(Dict) \n",
        "\n",
        "Dict = {1: 'Geeks', 2: 'For', 3:{'A' : 'Welcome', 'B' : 'To', 'C' : 'Geeks'}} \n",
        "print(Dict) "
      ],
      "execution_count": 22,
      "outputs": [
        {
          "output_type": "stream",
          "text": [
            "Empty Dictionary: \n",
            "{}\n",
            "\n",
            "Dictionary with the use of dict(): \n",
            "{1: 'Geeks', 2: 'For', 3: 'Geeks'}\n",
            "\n",
            "Dictionary with each item as a pair: \n",
            "{1: 'Geeks', 2: 'For'}\n",
            "{1: 'Geeks', 2: 'For', 3: {'A': 'Welcome', 'B': 'To', 'C': 'Geeks'}}\n"
          ],
          "name": "stdout"
        }
      ]
    },
    {
      "cell_type": "code",
      "metadata": {
        "id": "DUAhnMxjTcgr",
        "outputId": "5fa44746-b0ff-425a-95ed-caadcde0b85e",
        "colab": {
          "base_uri": "https://localhost:8080/",
          "height": 221
        }
      },
      "source": [
        "#adding elements to a dictionary\n",
        "\n",
        "\n",
        "Dict = {} \n",
        "Dict[0] = 'Geeks'\n",
        "Dict[2] = 'For'\n",
        "Dict[3] = 1\n",
        "print(\"\\nDictionary after adding 3 elements: \") \n",
        "print(Dict) \n",
        "\n",
        "Dict['Value_set'] = 2, 3, 4\n",
        "print(\"\\nDictionary after adding 3 elements: \") \n",
        "print(Dict) \n",
        "\n",
        "Dict[2] = 'Welcome'\n",
        "print(\"\\nUpdated key value: \") \n",
        "print(Dict) \n",
        "\n",
        "Dict[5] = {'Nested' :{'1' : 'Life', '2' : 'Geeks'}} \n",
        "print(\"\\nAdding a Nested Key: \") \n",
        "print(Dict) \n"
      ],
      "execution_count": 23,
      "outputs": [
        {
          "output_type": "stream",
          "text": [
            "\n",
            "Dictionary after adding 3 elements: \n",
            "{0: 'Geeks', 2: 'For', 3: 1}\n",
            "\n",
            "Dictionary after adding 3 elements: \n",
            "{0: 'Geeks', 2: 'For', 3: 1, 'Value_set': (2, 3, 4)}\n",
            "\n",
            "Updated key value: \n",
            "{0: 'Geeks', 2: 'Welcome', 3: 1, 'Value_set': (2, 3, 4)}\n",
            "\n",
            "Adding a Nested Key: \n",
            "{0: 'Geeks', 2: 'Welcome', 3: 1, 'Value_set': (2, 3, 4), 5: {'Nested': {'1': 'Life', '2': 'Geeks'}}}\n"
          ],
          "name": "stdout"
        }
      ]
    },
    {
      "cell_type": "code",
      "metadata": {
        "id": "nToq7DK5TcjW",
        "outputId": "bbe62357-b008-49c7-9a67-863728765719",
        "colab": {
          "base_uri": "https://localhost:8080/",
          "height": 85
        }
      },
      "source": [
        "#accessing elements from a dictionary\n",
        "\n",
        "\n",
        "Dict = {1: 'Geeks', 'name': 'For', 3: 'Geeks'} \n",
        "print(\"Accessing a element using key:\") \n",
        "print(Dict['name']) \n",
        "print(\"Accessing a element using key:\") \n",
        "print(Dict[1]) \n"
      ],
      "execution_count": 24,
      "outputs": [
        {
          "output_type": "stream",
          "text": [
            "Accessing a element using key:\n",
            "For\n",
            "Accessing a element using key:\n",
            "Geeks\n"
          ],
          "name": "stdout"
        }
      ]
    },
    {
      "cell_type": "code",
      "metadata": {
        "id": "vU94gnqNTcmI",
        "outputId": "55cedd71-6688-459e-fb62-c7fe05a5080c",
        "colab": {
          "base_uri": "https://localhost:8080/",
          "height": 51
        }
      },
      "source": [
        "Dict = {1: 'Geeks', 'name': 'For', 3: 'Geeks'} \n",
        "print(\"Accessing a element using get:\") \n",
        "print(Dict.get(3)) \n"
      ],
      "execution_count": 25,
      "outputs": [
        {
          "output_type": "stream",
          "text": [
            "Accessing a element using get:\n",
            "Geeks\n"
          ],
          "name": "stdout"
        }
      ]
    },
    {
      "cell_type": "code",
      "metadata": {
        "id": "0pgvuPJ1Tcot",
        "outputId": "398d328c-e257-43d7-e2d0-20fc97b70066",
        "colab": {
          "base_uri": "https://localhost:8080/",
          "height": 153
        }
      },
      "source": [
        "#deleting elements from the dictionary\n",
        "\n",
        "Dict = { 5 : 'Welcome', 6 : 'To', 7 : 'Geeks', \n",
        "\t\t'A' : {1 : 'Geeks', 2 : 'For', 3 : 'Geeks'}, \n",
        "\t\t'B' : {1 : 'Geeks', 2 : 'Life'}} \n",
        "print(\"Initial Dictionary: \") \n",
        "print(Dict) \n",
        "\n",
        "# Deleting a Key value \n",
        "del Dict[6] \n",
        "print(\"\\nDeleting a specific key: \") \n",
        "print(Dict) \n",
        "\n",
        "del Dict['A'][2] \n",
        "print(\"\\nDeleting a key from Nested Dictionary: \") \n",
        "print(Dict) \n"
      ],
      "execution_count": 26,
      "outputs": [
        {
          "output_type": "stream",
          "text": [
            "Initial Dictionary: \n",
            "{5: 'Welcome', 6: 'To', 7: 'Geeks', 'A': {1: 'Geeks', 2: 'For', 3: 'Geeks'}, 'B': {1: 'Geeks', 2: 'Life'}}\n",
            "\n",
            "Deleting a specific key: \n",
            "{5: 'Welcome', 7: 'Geeks', 'A': {1: 'Geeks', 2: 'For', 3: 'Geeks'}, 'B': {1: 'Geeks', 2: 'Life'}}\n",
            "\n",
            "Deleting a key from Nested Dictionary: \n",
            "{5: 'Welcome', 7: 'Geeks', 'A': {1: 'Geeks', 3: 'Geeks'}, 'B': {1: 'Geeks', 2: 'Life'}}\n"
          ],
          "name": "stdout"
        }
      ]
    },
    {
      "cell_type": "code",
      "metadata": {
        "id": "xdRZRaHqTc1n",
        "outputId": "80184ea1-65d1-4a6b-9965-f263812ee4f3",
        "colab": {
          "base_uri": "https://localhost:8080/",
          "height": 68
        }
      },
      "source": [
        "Dict = {1: 'Geeks', 'name': 'For', 3: 'Geeks'} \n",
        "\n",
        "# Deleting a key \n",
        "# using pop() method \n",
        "pop_ele = Dict.pop(1) \n",
        "print('\\nDictionary after deletion: ' + str(Dict)) \n",
        "print('Value associated to poped key is: ' + str(pop_ele)) \n"
      ],
      "execution_count": 27,
      "outputs": [
        {
          "output_type": "stream",
          "text": [
            "\n",
            "Dictionary after deletion: {'name': 'For', 3: 'Geeks'}\n",
            "Value associated to poped key is: Geeks\n"
          ],
          "name": "stdout"
        }
      ]
    },
    {
      "cell_type": "code",
      "metadata": {
        "id": "8Cgb_4aDTdPf",
        "outputId": "100c3590-4c8d-45f4-8d6a-a65a4e15c7cd",
        "colab": {
          "base_uri": "https://localhost:8080/",
          "height": 68
        }
      },
      "source": [
        "Dict = {1: 'Geeks', 'name': 'For', 3: 'Geeks'} \n",
        "\n",
        "# Deleting an arbitrary key \n",
        "# using popitem() function \n",
        "pop_ele = Dict.popitem() \n",
        "print(\"\\nDictionary after deletion: \" + str(Dict)) \n",
        "print(\"The arbitrary pair returned is: \" + str(pop_ele)) \n"
      ],
      "execution_count": 28,
      "outputs": [
        {
          "output_type": "stream",
          "text": [
            "\n",
            "Dictionary after deletion: {1: 'Geeks', 'name': 'For'}\n",
            "The arbitrary pair returned is: (3, 'Geeks')\n"
          ],
          "name": "stdout"
        }
      ]
    },
    {
      "cell_type": "markdown",
      "metadata": {
        "id": "eJ1mbDdfTMVT"
      },
      "source": [
        "## 6. Arrays"
      ]
    },
    {
      "cell_type": "markdown",
      "metadata": {
        "id": "SD-y4OJuTeUo"
      },
      "source": [
        "An array is a collection of items stored at contiguous memory locations. The idea is to store multiple items of the same type together. \n",
        "\n",
        "This makes it easier to calculate the position of each element by simply adding an offset to a base value, i.e., the memory location of the first element of the array (generally denoted by the name of the array).\n",
        "\n",
        "For simplicity, we can think of an array a fleet of stairs where on each step is placed a value (let’s say one of your friends). Here, you can identify the location of any of your friends by simply knowing the count of the step they are on. Array can be handled in Python by a module named array. \n",
        "\n",
        "They can be useful when we have to manipulate only a specific data type values. A user can treat lists as arrays. However, user cannot constraint the type of elements stored in a list. If you create arrays using the array module, all elements of the array must be of the same type."
      ]
    },
    {
      "cell_type": "code",
      "metadata": {
        "id": "neSfovXDTiwW",
        "outputId": "4f9b4d99-fdb3-4383-f287-31a9588f3c10",
        "colab": {
          "base_uri": "https://localhost:8080/",
          "height": 51
        }
      },
      "source": [
        "#creating an array in python \n",
        "\n",
        "\n",
        "import array as arr \n",
        "a = arr.array('i', [1, 2, 3]) \n",
        "print (\"The new created array is : \", end =\" \") \n",
        "for i in range (0, 3): \n",
        "\tprint (a[i], end =\" \") \n",
        "print() \n",
        "\n",
        "b = arr.array('d', [2.5, 3.2, 3.3]) \n",
        "print (\"The new created array is : \", end =\" \") \n",
        "for i in range (0, 3): \n",
        "\tprint (b[i], end =\" \")"
      ],
      "execution_count": 29,
      "outputs": [
        {
          "output_type": "stream",
          "text": [
            "The new created array is :  1 2 3 \n",
            "The new created array is :  2.5 3.2 3.3 "
          ],
          "name": "stdout"
        }
      ]
    },
    {
      "cell_type": "code",
      "metadata": {
        "id": "5Bnf_j76Tizw",
        "outputId": "c8f6f7ef-eff1-4b75-d416-922a3fd4745b",
        "colab": {
          "base_uri": "https://localhost:8080/",
          "height": 85
        }
      },
      "source": [
        "#adding elements to an array\n",
        "\n",
        "\n",
        "import array as arr \n",
        "a = arr.array('i', [1, 2, 3]) \n",
        "print (\"Array before insertion : \", end =\" \") \n",
        "for i in range (0, 3): \n",
        "\tprint (a[i], end =\" \") \n",
        "print() \n",
        "\n",
        "# inserting array using \n",
        "# insert() function \n",
        "a.insert(1, 4) \n",
        "print (\"Array after insertion : \", end =\" \") \n",
        "for i in (a): \n",
        "\tprint (i, end =\" \") \n",
        "print() \n",
        "\n",
        "# array with float type \n",
        "b = arr.array('d', [2.5, 3.2, 3.3]) \n",
        "print (\"Array before insertion : \", end =\" \") \n",
        "for i in range (0, 3): \n",
        "\tprint (b[i], end =\" \") \n",
        "print() \n",
        "\n",
        "# adding an element using append() \n",
        "b.append(4.4) \n",
        "print (\"Array after insertion : \", end =\" \") \n",
        "for i in (b): \n",
        "\tprint (i, end =\" \") \n",
        "print() \n"
      ],
      "execution_count": 30,
      "outputs": [
        {
          "output_type": "stream",
          "text": [
            "Array before insertion :  1 2 3 \n",
            "Array after insertion :  1 4 2 3 \n",
            "Array before insertion :  2.5 3.2 3.3 \n",
            "Array after insertion :  2.5 3.2 3.3 4.4 \n"
          ],
          "name": "stdout"
        }
      ]
    },
    {
      "cell_type": "code",
      "metadata": {
        "id": "cbitBgaWTi4e",
        "outputId": "976b7009-cf17-4adf-aa5d-d9fd384ff62b",
        "colab": {
          "base_uri": "https://localhost:8080/",
          "height": 85
        }
      },
      "source": [
        "#accessing the elements\n",
        "\n",
        "\n",
        "import array as arr \n",
        "a = arr.array('i', [1, 2, 3, 4, 5, 6]) \n",
        "print(\"Access element is: \", a[0]) \n",
        "print(\"Access element is: \", a[3]) \n",
        "b = arr.array('d', [2.5, 3.2, 3.3]) \n",
        "print(\"Access element is: \", b[1]) \n",
        "print(\"Access element is: \", b[2]) \n"
      ],
      "execution_count": 31,
      "outputs": [
        {
          "output_type": "stream",
          "text": [
            "Access element is:  1\n",
            "Access element is:  4\n",
            "Access element is:  3.2\n",
            "Access element is:  3.3\n"
          ],
          "name": "stdout"
        }
      ]
    },
    {
      "cell_type": "code",
      "metadata": {
        "id": "vH2zQXPZTi74",
        "outputId": "20c9c071-03d4-4d73-8a56-3c1074c5261c",
        "colab": {
          "base_uri": "https://localhost:8080/",
          "height": 85
        }
      },
      "source": [
        "#removing elements from the array\n",
        "\n",
        "\n",
        "import array \n",
        "arr = array.array('i', [1, 2, 3, 1, 5]) \n",
        "print (\"The new created array is : \", end =\"\") \n",
        "for i in range (0, 5): \n",
        "\tprint (arr[i], end =\" \") \n",
        "print (\"\\r\") \n",
        "\n",
        "# using pop() to remove element at 2nd position \n",
        "print (\"The popped element is : \", end =\"\") \n",
        "print (arr.pop(2)) \n",
        "print (\"The array after popping is : \", end =\"\") \n",
        "for i in range (0, 4): \n",
        "\tprint (arr[i], end =\" \") \n",
        "print(\"\\r\") \n",
        "\n",
        "# using remove() to remove 1st occurrence of 1 \n",
        "arr.remove(1) \n",
        "print (\"The array after removing is : \", end =\"\") \n",
        "for i in range (0, 3): \n",
        "\tprint (arr[i], end =\" \") \n"
      ],
      "execution_count": 32,
      "outputs": [
        {
          "output_type": "stream",
          "text": [
            "The new created array is : 1 2 3 1 5 \r\n",
            "The popped element is : 3\n",
            "The array after popping is : 1 2 1 5 \r\n",
            "The array after removing is : 2 1 5 "
          ],
          "name": "stdout"
        }
      ]
    },
    {
      "cell_type": "code",
      "metadata": {
        "id": "n4WGFBjmTjAa",
        "outputId": "6923c2ae-0deb-4858-c2f9-a9fe40da4b3d",
        "colab": {
          "base_uri": "https://localhost:8080/",
          "height": 68
        }
      },
      "source": [
        "#searching element in an array\n",
        "\n",
        " \n",
        "import array \n",
        "arr = array.array('i', [1, 2, 3, 1, 2, 5]) \n",
        "print (\"The new created array is : \", end =\"\") \n",
        "for i in range (0, 6): \n",
        "\tprint (arr[i], end =\" \") \n",
        "print (\"\\r\") \n",
        "\n",
        "print (\"The index of 1st occurrence of 2 is : \", end =\"\") \n",
        "print (arr.index(2)) \n",
        "\n",
        "print (\"The index of 1st occurrence of 1 is : \", end =\"\") \n",
        "print (arr.index(1)) \n"
      ],
      "execution_count": 33,
      "outputs": [
        {
          "output_type": "stream",
          "text": [
            "The new created array is : 1 2 3 1 2 5 \r\n",
            "The index of 1st occurrence of 2 is : 1\n",
            "The index of 1st occurrence of 1 is : 0\n"
          ],
          "name": "stdout"
        }
      ]
    }
  ]
}