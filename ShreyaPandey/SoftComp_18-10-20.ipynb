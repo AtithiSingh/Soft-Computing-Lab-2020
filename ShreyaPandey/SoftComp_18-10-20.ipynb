{
  "nbformat": 4,
  "nbformat_minor": 0,
  "metadata": {
    "colab": {
      "name": "Untitled20.ipynb",
      "provenance": [],
      "authorship_tag": "ABX9TyOe5Y5fKMFa0foIwCr35xiQ",
      "include_colab_link": true
    },
    "kernelspec": {
      "name": "python3",
      "display_name": "Python 3"
    }
  },
  "cells": [
    {
      "cell_type": "markdown",
      "metadata": {
        "id": "view-in-github",
        "colab_type": "text"
      },
      "source": [
        "<a href=\"https://colab.research.google.com/github/spshreya/Soft-Computing-Lab-2020/blob/master/ShreyaPandey/SoftComp_18-10-20.ipynb\" target=\"_parent\"><img src=\"https://colab.research.google.com/assets/colab-badge.svg\" alt=\"Open In Colab\"/></a>"
      ]
    },
    {
      "cell_type": "markdown",
      "metadata": {
        "id": "gQyd6sYuI-Lb"
      },
      "source": [
        "**AIM**:\n",
        "1. WAP to implement various data structures in python and their operations\n",
        "2. Demonstrate the use of Numpy for matrix operations\n",
        "3. Demonstrate the use of Matplotlib library"
      ]
    },
    {
      "cell_type": "markdown",
      "metadata": {
        "id": "3r66Ao9FKyjZ"
      },
      "source": [
        "LISTS:\n",
        "A list is a collection which is ordered and changeable. In Python lists are written with square brackets."
      ]
    },
    {
      "cell_type": "code",
      "metadata": {
        "id": "HEsnZlHqK95s",
        "outputId": "684d9d18-a7d3-416f-86db-63ee58278904",
        "colab": {
          "base_uri": "https://localhost:8080/",
          "height": 170
        }
      },
      "source": [
        "fruits = ['orange', 'apple', 'pear', 'banana', 'kiwi', 'apple', 'banana']  #creation\n",
        "c=fruits.count('apple')\n",
        "print('number of apples in the list',c)\n",
        "d=fruits.index('banana')\n",
        "print('banana is at position', d)\n",
        "e=fruits.index('banana', 4)  # Find next banana starting a position 4\n",
        "print('banana after position 4 appears at position', e)\n",
        "fruits.reverse()\n",
        "print('reversed list is', fruits)\n",
        "fruits.append('grape')\n",
        "print('addding grape to the list', fruits)\n",
        "fruits.sort()\n",
        "print('sorted list is', fruits)\n",
        "n=fruits.pop()\n",
        "print('popped element is', n)\n",
        "print('existing elements in the list are', fruits)\n",
        "print(fruits[2:4]) #slicing"
      ],
      "execution_count": 15,
      "outputs": [
        {
          "output_type": "stream",
          "text": [
            "number of apples in the list 2\n",
            "banana is at position 3\n",
            "banana after position 4 appears at position 6\n",
            "reversed list is ['banana', 'apple', 'kiwi', 'banana', 'pear', 'apple', 'orange']\n",
            "addding grape to the list ['banana', 'apple', 'kiwi', 'banana', 'pear', 'apple', 'orange', 'grape']\n",
            "sorted list is ['apple', 'apple', 'banana', 'banana', 'grape', 'kiwi', 'orange', 'pear']\n",
            "popped element is pear\n",
            "existing elements in the list are ['apple', 'apple', 'banana', 'banana', 'grape', 'kiwi', 'orange']\n",
            "['banana', 'banana']\n"
          ],
          "name": "stdout"
        }
      ]
    },
    {
      "cell_type": "code",
      "metadata": {
        "id": "72dO8s8rLYNC",
        "outputId": "261af2b2-79bc-4380-d667-d5513d20b29c",
        "colab": {
          "base_uri": "https://localhost:8080/",
          "height": 51
        }
      },
      "source": [
        "#list comprehension\n",
        "squares = [x**2 for x in range(10)]\n",
        "print(squares)\n",
        "lst=[(x, y) for x in [1,2,3] for y in [3,1,4] if x != y]\n",
        "print(lst)"
      ],
      "execution_count": 11,
      "outputs": [
        {
          "output_type": "stream",
          "text": [
            "[0, 1, 4, 9, 16, 25, 36, 49, 64, 81]\n",
            "[(1, 3), (1, 4), (2, 3), (2, 1), (2, 4), (3, 1), (3, 4)]\n"
          ],
          "name": "stdout"
        }
      ]
    },
    {
      "cell_type": "markdown",
      "metadata": {
        "id": "yyAyEEszPQcC"
      },
      "source": [
        "TUPLES:\n",
        "A tuple is a collection which is ordered and unchangeable. In Python tuples are written with round brackets."
      ]
    },
    {
      "cell_type": "code",
      "metadata": {
        "id": "YAs764qZPAls",
        "outputId": "9b970cc4-faec-4b43-a82a-b13aca419773",
        "colab": {
          "base_uri": "https://localhost:8080/",
          "height": 34
        }
      },
      "source": [
        "t = 12345, 54321, 'hello!'\n",
        "type(t)"
      ],
      "execution_count": 12,
      "outputs": [
        {
          "output_type": "execute_result",
          "data": {
            "text/plain": [
              "tuple"
            ]
          },
          "metadata": {
            "tags": []
          },
          "execution_count": 12
        }
      ]
    },
    {
      "cell_type": "code",
      "metadata": {
        "id": "OPloZ0sHPlCz",
        "outputId": "8d325028-89c0-4d4f-a12b-1b993eb990c0",
        "colab": {
          "base_uri": "https://localhost:8080/",
          "height": 34
        }
      },
      "source": [
        "t = (12345, 54321, 'hello!')\n",
        "type(t)"
      ],
      "execution_count": 13,
      "outputs": [
        {
          "output_type": "execute_result",
          "data": {
            "text/plain": [
              "tuple"
            ]
          },
          "metadata": {
            "tags": []
          },
          "execution_count": 13
        }
      ]
    },
    {
      "cell_type": "code",
      "metadata": {
        "id": "vCx1HCCCPu1q",
        "outputId": "61a801df-20f3-462e-a9b3-8e2a24d9dc04",
        "colab": {
          "base_uri": "https://localhost:8080/",
          "height": 170
        }
      },
      "source": [
        "print('second element',t[1])\n",
        "print('element 2 to 3',t[1:3])\n",
        "print('last element',t[-1])\n",
        "x, y, z = t\n",
        "print('x=',x,'y=',y,'z=',z)\n",
        "v = ([1, 2, 3], [3, 2, 1])\n",
        "print(v)\n",
        "print(v[0])\n",
        "print(v[0][0])\n",
        "empty = ()\n",
        "singleton = 'hello',    # note trailing comma\n",
        "print(len(empty))\n",
        "print(len(singleton))"
      ],
      "execution_count": 25,
      "outputs": [
        {
          "output_type": "stream",
          "text": [
            "second element 54321\n",
            "element 2 to 3 (54321, 'hello!')\n",
            "last element hello!\n",
            "x= 12345 y= 54321 z= hello!\n",
            "([1, 2, 3], [3, 2, 1])\n",
            "[1, 2, 3]\n",
            "1\n",
            "0\n",
            "1\n"
          ],
          "name": "stdout"
        }
      ]
    },
    {
      "cell_type": "markdown",
      "metadata": {
        "id": "d8BXg2IGTCvW"
      },
      "source": [
        "SETS:\n",
        "A set is a collection which is unordered and unindexed. In Python, sets are written with curly brackets"
      ]
    },
    {
      "cell_type": "code",
      "metadata": {
        "id": "v0Mp7xgPQIE5",
        "outputId": "b4111d57-5ceb-40e3-b53c-57565e1e377d",
        "colab": {
          "base_uri": "https://localhost:8080/",
          "height": 136
        }
      },
      "source": [
        "basket = {'apple', 'orange', 'apple', 'pear', 'orange', 'banana'}\n",
        "print(basket)                      # show that duplicates have been removed\n",
        "print('crabgrass' in basket)\n",
        "a = set('abracadabra')\n",
        "print('set made out of abracadabra',a)\n",
        "b = set('alacazam')\n",
        "print('a-b is',a - b) \n",
        "print('a|b is', a | b)\n",
        "print('a and b is', a & b)\n",
        "print('a ^ b is', a ^ b) "
      ],
      "execution_count": 33,
      "outputs": [
        {
          "output_type": "stream",
          "text": [
            "{'pear', 'apple', 'banana', 'orange'}\n",
            "False\n",
            "set made out of abracadabra {'d', 'r', 'c', 'a', 'b'}\n",
            "a-b is {'d', 'r', 'b'}\n",
            "a|b is {'d', 'r', 'c', 'a', 'm', 'l', 'z', 'b'}\n",
            "a and b is {'a', 'c'}\n",
            "a ^ b is {'d', 'r', 'l', 'm', 'z', 'b'}\n"
          ],
          "name": "stdout"
        }
      ]
    },
    {
      "cell_type": "code",
      "metadata": {
        "id": "1XDIAMY9U9AD",
        "outputId": "fa05baa1-79ae-4dae-b40f-62db7d149bf4",
        "colab": {
          "base_uri": "https://localhost:8080/",
          "height": 34
        }
      },
      "source": [
        "a = {x for x in 'abracadabra' if x not in 'abc'}\n",
        "print(a)"
      ],
      "execution_count": 35,
      "outputs": [
        {
          "output_type": "stream",
          "text": [
            "{'d', 'r'}\n"
          ],
          "name": "stdout"
        }
      ]
    },
    {
      "cell_type": "markdown",
      "metadata": {
        "id": "bMTM6Lj3YY2-"
      },
      "source": [
        "DICTIONARIES:\n",
        "A dictionary is a collection which is unordered, changeable and indexed. In Python dictionaries are written with curly brackets, and they have keys and values."
      ]
    },
    {
      "cell_type": "code",
      "metadata": {
        "id": "_44aTg8hXvY1",
        "outputId": "686f732d-d768-43e6-e0f9-37a180c522a0",
        "colab": {
          "base_uri": "https://localhost:8080/",
          "height": 51
        }
      },
      "source": [
        "tel = {'jack': 4098, 'sape': 4139}\n",
        "tel['guido'] = 4127\n",
        "print(tel)\n",
        "del tel['sape']\n",
        "tel['irv'] = 4127\n",
        "print(tel)"
      ],
      "execution_count": 38,
      "outputs": [
        {
          "output_type": "stream",
          "text": [
            "{'jack': 4098, 'sape': 4139, 'guido': 4127}\n",
            "{'jack': 4098, 'guido': 4127, 'irv': 4127}\n"
          ],
          "name": "stdout"
        }
      ]
    },
    {
      "cell_type": "code",
      "metadata": {
        "id": "94PpZIu9YVmB",
        "outputId": "16ab27db-8d16-49fb-9bb5-99d899351da5",
        "colab": {
          "base_uri": "https://localhost:8080/",
          "height": 34
        }
      },
      "source": [
        "list(tel)\n",
        "sorted(tel)"
      ],
      "execution_count": 39,
      "outputs": [
        {
          "output_type": "execute_result",
          "data": {
            "text/plain": [
              "['guido', 'irv', 'jack']"
            ]
          },
          "metadata": {
            "tags": []
          },
          "execution_count": 39
        }
      ]
    },
    {
      "cell_type": "code",
      "metadata": {
        "id": "YMvT9Dx_bcng",
        "outputId": "49b6cc8d-d283-4c99-8613-9ff8efd9116e",
        "colab": {
          "base_uri": "https://localhost:8080/",
          "height": 34
        }
      },
      "source": [
        "dict([('sape', 4139), ('guido', 4127), ('jack', 4098)])"
      ],
      "execution_count": 40,
      "outputs": [
        {
          "output_type": "execute_result",
          "data": {
            "text/plain": [
              "{'guido': 4127, 'jack': 4098, 'sape': 4139}"
            ]
          },
          "metadata": {
            "tags": []
          },
          "execution_count": 40
        }
      ]
    },
    {
      "cell_type": "markdown",
      "metadata": {
        "id": "sUs6E6A_boJA"
      },
      "source": [
        " Looping Techniques:\n"
      ]
    },
    {
      "cell_type": "code",
      "metadata": {
        "id": "yy8MjXx0beNi",
        "outputId": "d10ad21b-3aa9-4d9b-b142-024ac64f0534",
        "colab": {
          "base_uri": "https://localhost:8080/",
          "height": 51
        }
      },
      "source": [
        "knights = {'gallahad': 'the pure', 'robin': 'the brave'}\n",
        "for k, v in knights.items():\n",
        "  print(k, v)"
      ],
      "execution_count": 41,
      "outputs": [
        {
          "output_type": "stream",
          "text": [
            "gallahad the pure\n",
            "robin the brave\n"
          ],
          "name": "stdout"
        }
      ]
    },
    {
      "cell_type": "code",
      "metadata": {
        "id": "JgYl5I7jb4Fh",
        "outputId": "e16d0a46-b4f4-431d-8dd6-b8e5ecd46e6a",
        "colab": {
          "base_uri": "https://localhost:8080/",
          "height": 68
        }
      },
      "source": [
        "questions = ['name', 'quest', 'favorite color']\n",
        "answers = ['lancelot', 'the holy grail', 'blue']\n",
        "for q, a in zip(questions, answers):\n",
        "   print('What is your {0}?  It is {1}.'.format(q, a))"
      ],
      "execution_count": 42,
      "outputs": [
        {
          "output_type": "stream",
          "text": [
            "What is your name?  It is lancelot.\n",
            "What is your quest?  It is the holy grail.\n",
            "What is your favorite color?  It is blue.\n"
          ],
          "name": "stdout"
        }
      ]
    },
    {
      "cell_type": "code",
      "metadata": {
        "id": "Y2q8zxdicDHh",
        "outputId": "be9f1322-ddd8-4b4c-8424-06e12c208091",
        "colab": {
          "base_uri": "https://localhost:8080/",
          "height": 102
        }
      },
      "source": [
        "for i in reversed(range(1, 10, 2)):\n",
        "  print(i)"
      ],
      "execution_count": 43,
      "outputs": [
        {
          "output_type": "stream",
          "text": [
            "9\n",
            "7\n",
            "5\n",
            "3\n",
            "1\n"
          ],
          "name": "stdout"
        }
      ]
    },
    {
      "cell_type": "code",
      "metadata": {
        "id": "ldYLgUCScIzD",
        "outputId": "ae1152d3-1293-4ba5-9feb-ed13806ed7e6",
        "colab": {
          "base_uri": "https://localhost:8080/",
          "height": 85
        }
      },
      "source": [
        "basket = ['apple', 'orange', 'apple', 'pear', 'orange', 'banana']\n",
        "for f in sorted(set(basket)):\n",
        "   print(f)"
      ],
      "execution_count": 44,
      "outputs": [
        {
          "output_type": "stream",
          "text": [
            "apple\n",
            "banana\n",
            "orange\n",
            "pear\n"
          ],
          "name": "stdout"
        }
      ]
    },
    {
      "cell_type": "code",
      "metadata": {
        "id": "ZKnpvA8NcQUt",
        "outputId": "65272664-2587-4321-cb9b-af9977bbe418",
        "colab": {
          "base_uri": "https://localhost:8080/",
          "height": 68
        }
      },
      "source": [
        "i = 1\n",
        "while i < 6:\n",
        "  print(i)\n",
        "  if i == 3:\n",
        "    break\n",
        "  i += 1"
      ],
      "execution_count": 45,
      "outputs": [
        {
          "output_type": "stream",
          "text": [
            "1\n",
            "2\n",
            "3\n"
          ],
          "name": "stdout"
        }
      ]
    },
    {
      "cell_type": "markdown",
      "metadata": {
        "id": "GeRfJxlXenPg"
      },
      "source": [
        "MATRICES USING NUMPY"
      ]
    },
    {
      "cell_type": "code",
      "metadata": {
        "id": "AlI35RHUc9cp",
        "outputId": "f58fe693-dd6f-4cf1-ce1f-86a62ddcbe2a",
        "colab": {
          "base_uri": "https://localhost:8080/",
          "height": 51
        }
      },
      "source": [
        "import numpy as np\n",
        "a = np.array([1, 2, 3])\n",
        "print(a)               \n",
        "print(type(a))"
      ],
      "execution_count": 46,
      "outputs": [
        {
          "output_type": "stream",
          "text": [
            "[1 2 3]\n",
            "<class 'numpy.ndarray'>\n"
          ],
          "name": "stdout"
        }
      ]
    },
    {
      "cell_type": "code",
      "metadata": {
        "id": "12AGQ9yyexfs",
        "outputId": "0eca3452-b525-4df9-e0ff-67ea21f85996",
        "colab": {
          "base_uri": "https://localhost:8080/",
          "height": 119
        }
      },
      "source": [
        "A = np.array([[1, 2, 3], [3, 4, 5]])\n",
        "print(A)\n",
        "\n",
        "A = np.array([[1.1, 2, 3], [3, 4, 5]]) # Array of floats\n",
        "print(A)\n",
        "\n",
        "A = np.array([[1, 2, 3], [3, 4, 5]], dtype = complex) # Array of complex numbers\n",
        "print(A)"
      ],
      "execution_count": 47,
      "outputs": [
        {
          "output_type": "stream",
          "text": [
            "[[1 2 3]\n",
            " [3 4 5]]\n",
            "[[1.1 2.  3. ]\n",
            " [3.  4.  5. ]]\n",
            "[[1.+0.j 2.+0.j 3.+0.j]\n",
            " [3.+0.j 4.+0.j 5.+0.j]]\n"
          ],
          "name": "stdout"
        }
      ]
    },
    {
      "cell_type": "code",
      "metadata": {
        "id": "C0lMP4fRe3aQ",
        "outputId": "29c923d3-4110-4502-ed65-1febba683d3f",
        "colab": {
          "base_uri": "https://localhost:8080/",
          "height": 68
        }
      },
      "source": [
        "#arrays of zeros and ones\n",
        "\n",
        "zeors_array = np.zeros( (2, 3) )\n",
        "print(zeors_array)\n",
        "\n",
        "ones_array = np.ones( (1, 5), dtype=np.int32 ) \n",
        "print(ones_array)    "
      ],
      "execution_count": 49,
      "outputs": [
        {
          "output_type": "stream",
          "text": [
            "[[0. 0. 0.]\n",
            " [0. 0. 0.]]\n",
            "[[1 1 1 1 1]]\n"
          ],
          "name": "stdout"
        }
      ]
    },
    {
      "cell_type": "code",
      "metadata": {
        "id": "G7cFW64HfGLq",
        "outputId": "c80d162a-7d8e-4bc9-c924-e50fcb7645c8",
        "colab": {
          "base_uri": "https://localhost:8080/",
          "height": 68
        }
      },
      "source": [
        "A = np.arange(4)\n",
        "print('A =', A)\n",
        "\n",
        "B = np.arange(12).reshape(2, 6)\n",
        "print('B =', B)"
      ],
      "execution_count": 50,
      "outputs": [
        {
          "output_type": "stream",
          "text": [
            "A = [0 1 2 3]\n",
            "B = [[ 0  1  2  3  4  5]\n",
            " [ 6  7  8  9 10 11]]\n"
          ],
          "name": "stdout"
        }
      ]
    },
    {
      "cell_type": "code",
      "metadata": {
        "id": "--5_BKj2fTlF",
        "outputId": "21124ea9-25d0-4dc3-c73d-e6f24ee589c0",
        "colab": {
          "base_uri": "https://localhost:8080/",
          "height": 51
        }
      },
      "source": [
        "#addition of 2 matrices\n",
        "\n",
        "A = np.array([[2, 4], [5, -6]])\n",
        "B = np.array([[9, -3], [3, 6]])\n",
        "C = A + B      # element wise addition\n",
        "print(C)"
      ],
      "execution_count": 51,
      "outputs": [
        {
          "output_type": "stream",
          "text": [
            "[[11  1]\n",
            " [ 8  0]]\n"
          ],
          "name": "stdout"
        }
      ]
    },
    {
      "cell_type": "code",
      "metadata": {
        "id": "0GPjHnFgfcQs",
        "outputId": "1921887d-bfa9-4066-8a45-c2e948139662",
        "colab": {
          "base_uri": "https://localhost:8080/",
          "height": 51
        }
      },
      "source": [
        "#multiplication of maatrices\n",
        "A = np.array([[3, 6, 7], [5, -3, 0]])\n",
        "B = np.array([[1, 1], [2, 1], [3, -3]])\n",
        "C = A.dot(B)\n",
        "print(C)\n"
      ],
      "execution_count": 52,
      "outputs": [
        {
          "output_type": "stream",
          "text": [
            "[[ 36 -12]\n",
            " [ -1   2]]\n"
          ],
          "name": "stdout"
        }
      ]
    },
    {
      "cell_type": "code",
      "metadata": {
        "id": "2s68N4wJfsD6",
        "outputId": "123313ae-bccd-4515-df19-5697c7ba037a",
        "colab": {
          "base_uri": "https://localhost:8080/",
          "height": 51
        }
      },
      "source": [
        "#transpose of matrix\n",
        "A = np.array([[1, 1], [2, 1], [3, -3]])\n",
        "print(A.transpose())"
      ],
      "execution_count": 53,
      "outputs": [
        {
          "output_type": "stream",
          "text": [
            "[[ 1  2  3]\n",
            " [ 1  1 -3]]\n"
          ],
          "name": "stdout"
        }
      ]
    },
    {
      "cell_type": "code",
      "metadata": {
        "id": "nynbAJGhfx7X",
        "outputId": "a728fcf4-011b-44c8-cc24-c9eb0adb27ad",
        "colab": {
          "base_uri": "https://localhost:8080/",
          "height": 238
        }
      },
      "source": [
        "#accessing elements\n",
        "A = np.array([[1, 4, 5, 12],\n",
        "    [-5, 8, 9, 0],\n",
        "    [-6, 7, 11, 19]])\n",
        "\n",
        "#  First element of first row\n",
        "print(\"A[0][0] =\", A[0][0])  \n",
        "\n",
        "# Third element of second row\n",
        "print(\"A[1][2] =\", A[1][2])\n",
        "\n",
        "# Last element of last row\n",
        "print(\"A[-1][-1] =\", A[-1][-1]) \n",
        "A = np.array([[1, 4, 5, 12], \n",
        "    [-5, 8, 9, 0],\n",
        "    [-6, 7, 11, 19]])\n",
        "\n",
        "print(\"A[:,0] =\",A[:,0]) # First Column\n",
        "print(\"A[:,3] =\", A[:,3]) # Fourth Column\n",
        "print(\"A[:,-1] =\", A[:,-1]) # Last Column (4th column in this case)   \n",
        "\n",
        "#slicing\n",
        "A = np.array([[1, 4, 5, 12, 14], \n",
        "    [-5, 8, 9, 0, 17],\n",
        "    [-6, 7, 11, 19, 21]])\n",
        "\n",
        "print(A[:2, :4])  # two rows, four columns\n",
        "print(A[:1,])  # first row, all columns\n",
        "\n",
        "print(A[:,2])  # all rows, second column\n",
        "\n",
        "print(A[:, 2:5])  # all rows, third to the fifth column"
      ],
      "execution_count": 59,
      "outputs": [
        {
          "output_type": "stream",
          "text": [
            "A[0][0] = 1\n",
            "A[1][2] = 9\n",
            "A[-1][-1] = 19\n",
            "A[:,0] = [ 1 -5 -6]\n",
            "A[:,3] = [12  0 19]\n",
            "A[:,-1] = [12  0 19]\n",
            "[[ 1  4  5 12]\n",
            " [-5  8  9  0]]\n",
            "[[ 1  4  5 12 14]]\n",
            "[ 5  9 11]\n",
            "[[ 5 12 14]\n",
            " [ 9  0 17]\n",
            " [11 19 21]]\n"
          ],
          "name": "stdout"
        }
      ]
    },
    {
      "cell_type": "markdown",
      "metadata": {
        "id": "QBYBQXuFhwF7"
      },
      "source": [
        "MATPLOTLIB IN PYTHON:\n",
        "Matplotlib is an amazing visualization library in Python for 2D plots of arrays. Matplotlib is a multi-platform data visualization library built on NumPy arrays and designed to work with the broader SciPy stack. It was introduced by John Hunter in the year 2002."
      ]
    },
    {
      "cell_type": "code",
      "metadata": {
        "id": "MTGwKQTrf8Vp",
        "outputId": "ec114eea-99c9-4e9d-dba6-7df966c1dc8d",
        "colab": {
          "base_uri": "https://localhost:8080/",
          "height": 1000
        }
      },
      "source": [
        "# importing matplotlib module  \n",
        "from matplotlib import pyplot as plt \n",
        "  \n",
        "# x-axis values \n",
        "x = [5, 2, 9, 4, 7] \n",
        "  \n",
        "# Y-axis values \n",
        "y = [10, 5, 8, 4, 2] \n",
        "  \n",
        "# Function to plot \n",
        "plt.plot(x,y) \n",
        "  \n",
        "# function to show the plot \n",
        "plt.show()\n",
        "\n",
        "x = [5, 2, 9, 4, 7] \n",
        "y = [10, 5, 8, 4, 2] \n",
        "  \n",
        "# Function to plot the bar \n",
        "plt.bar(x,y)  \n",
        "plt.show() \n",
        "plt.hist(y) #histogram over y\n",
        "plt.show() \n",
        "plt.scatter(x, y) \n",
        "plt.show() #scatter plot"
      ],
      "execution_count": 67,
      "outputs": [
        {
          "output_type": "display_data",
          "data": {
            "image/png": "[encoded data removed]",
            "text/plain": [
              "<Figure size 432x288 with 1 Axes>"
            ]
          },
          "metadata": {
            "tags": []
          }
        },
        {
          "output_type": "display_data",
          "data": {
            "image/png": "[encoded data removed]",
            "text/plain": [
              "<Figure size 432x288 with 1 Axes>"
            ]
          },
          "metadata": {
            "tags": []
          }
        },
        {
          "output_type": "display_data",
          "data": {
            "image/png": "[encoded data removed]",
            "text/plain": [
              "<Figure size 432x288 with 1 Axes>"
            ]
          },
          "metadata": {
            "tags": []
          }
        },
        {
          "output_type": "display_data",
          "data": {
            "image/png": "[encoded data removed]",
            "text/plain": [
              "<Figure size 432x288 with 1 Axes>"
            ]
          },
          "metadata": {
            "tags": []
          }
        }
      ]
    },
    {
      "cell_type": "code",
      "metadata": {
        "id": "Ed7mzrwmiJgQ",
        "outputId": "121057d0-d693-4fd0-c36d-a7f565a31d8c",
        "colab": {
          "base_uri": "https://localhost:8080/",
          "height": 299
        }
      },
      "source": [
        "from matplotlib import style\n",
        " \n",
        "style.use('ggplot')\n",
        "x = [5,8,10]\n",
        "y = [12,16,6]\n",
        "x2 = [6,9,11]\n",
        "y2 = [6,15,7]\n",
        "plt.plot(x,y,'g',label='line one', linewidth=5)\n",
        "plt.plot(x2,y2,'c',label='line two',linewidth=5)\n",
        "plt.title('Epic Info')\n",
        "plt.ylabel('Y axis')\n",
        "plt.xlabel('X axis')\n",
        "plt.legend()\n",
        "plt.grid(True,color='k')\n",
        "plt.show()"
      ],
      "execution_count": 66,
      "outputs": [
        {
          "output_type": "display_data",
          "data": {
            "image/png": "[encoded data removed]",
            "text/plain": [
              "<Figure size 432x288 with 1 Axes>"
            ]
          },
          "metadata": {
            "tags": []
          }
        }
      ]
    },
    {
      "cell_type": "code",
      "metadata": {
        "id": "sLkAQ3KKi0RH",
        "outputId": "54c8bd23-3f3b-462e-8f0c-dd1aa8bf3e51",
        "colab": {
          "base_uri": "https://localhost:8080/",
          "height": 299
        }
      },
      "source": [
        "plt.bar([0.25,1.25,2.25,3.25,4.25],[50,40,70,80,20],\n",
        "label=\"BMW\",width=.5)\n",
        "plt.bar([.75,1.75,2.75,3.75,4.75],[80,20,20,50,60],\n",
        "label=\"Audi\", color='k',width=.5)\n",
        "plt.legend()\n",
        "plt.xlabel('Days')\n",
        "plt.ylabel('Distance (kms)')\n",
        "plt.title('Information')\n",
        "plt.show()"
      ],
      "execution_count": 69,
      "outputs": [
        {
          "output_type": "display_data",
          "data": {
            "image/png": "[encoded data removed]",
            "text/plain": [
              "<Figure size 432x288 with 1 Axes>"
            ]
          },
          "metadata": {
            "tags": []
          }
        }
      ]
    },
    {
      "cell_type": "code",
      "metadata": {
        "id": "4jVACsk5jkdg",
        "outputId": "c1b36ad3-d122-4726-83b2-25c7ec959f1a",
        "colab": {
          "base_uri": "https://localhost:8080/",
          "height": 299
        }
      },
      "source": [
        "#stackplot\n",
        "days = [1,2,3,4,5]\n",
        "  \n",
        "sleeping =[7,8,6,11,7]\n",
        "eating = [2,3,4,3,2]\n",
        "working =[7,8,7,2,2]\n",
        "playing = [8,5,7,8,13]\n",
        "  \n",
        "plt.plot([],[],color='m', label='Sleeping', linewidth=5)\n",
        "plt.plot([],[],color='c', label='Eating', linewidth=5)\n",
        "plt.plot([],[],color='r', label='Working', linewidth=5)\n",
        "plt.plot([],[],color='k', label='Playing', linewidth=5)\n",
        "  \n",
        "plt.stackplot(days, sleeping,eating,working,playing, colors=['m','c','r','k'])\n",
        "  \n",
        "plt.xlabel('x')\n",
        "plt.ylabel('y')\n",
        "plt.title('Stack Plot')\n",
        "plt.legend()\n",
        "plt.show()"
      ],
      "execution_count": 71,
      "outputs": [
        {
          "output_type": "display_data",
          "data": {
            "image/png": "[encoded data removed]",
            "text/plain": [
              "<Figure size 432x288 with 1 Axes>"
            ]
          },
          "metadata": {
            "tags": []
          }
        }
      ]
    },
    {
      "cell_type": "code",
      "metadata": {
        "id": "dOK-uWfdj8P4",
        "outputId": "3c29e53a-8dc1-4ae9-f9d8-935d608060be",
        "colab": {
          "base_uri": "https://localhost:8080/",
          "height": 265
        }
      },
      "source": [
        "days = [1,2,3,4,5]\n",
        " \n",
        "sleeping =[7,8,6,11,7]\n",
        "eating = [2,3,4,3,2]\n",
        "working =[7,8,7,2,2]\n",
        "playing = [8,5,7,8,13]\n",
        "slices = [7,2,2,13]\n",
        "activities = ['sleeping','eating','working','playing']\n",
        "cols = ['c','m','r','b']\n",
        " \n",
        "plt.pie(slices,\n",
        "  labels=activities,\n",
        "  colors=cols,\n",
        "  startangle=90,\n",
        "  shadow= True,\n",
        "  explode=(0,0.1,0,0),\n",
        "  autopct='%1.1f%%')\n",
        " \n",
        "plt.title('Pie Plot')\n",
        "plt.show()"
      ],
      "execution_count": 72,
      "outputs": [
        {
          "output_type": "display_data",
          "data": {
            "image/png": "[encoded data removed]",
            "text/plain": [
              "<Figure size 432x288 with 1 Axes>"
            ]
          },
          "metadata": {
            "tags": []
          }
        }
      ]
    },
    {
      "cell_type": "code",
      "metadata": {
        "id": "Zc0nVccll6K8"
      },
      "source": [
        ""
      ],
      "execution_count": null,
      "outputs": []
    }
  ]
}