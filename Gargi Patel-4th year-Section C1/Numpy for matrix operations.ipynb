{
 "cells": [
  {
   "cell_type": "markdown",
   "metadata": {},
   "source": [
    "# Demonstrate the use of Numpy for matrix operations."
   ]
  },
  {
   "cell_type": "markdown",
   "metadata": {},
   "source": [
    "### What is NumPy and when to use it?\n",
    "NumPy is a Python library allowing easy numerical calculations involving single and multidimensional arrays and matrices. NumPy excels in performing numerical calculations. Many linear algebra calculations become easy to solve using NumPy. Linear algebra is the core mathematical tool used in many Machine Learning algorithms. "
   ]
  },
  {
   "cell_type": "code",
   "execution_count": 1,
   "metadata": {},
   "outputs": [],
   "source": [
    "#Importing NumPy library\n",
    "import numpy as np"
   ]
  },
  {
   "cell_type": "markdown",
   "metadata": {},
   "source": [
    "#### Creating a matrix in NumPy"
   ]
  },
  {
   "cell_type": "code",
   "execution_count": 2,
   "metadata": {},
   "outputs": [
    {
     "name": "stdout",
     "output_type": "stream",
     "text": [
      "[[1 2 3]\n",
      " [4 5 6]]\n",
      "(2, 3)\n"
     ]
    }
   ],
   "source": [
    "arr = np.array([[ 1, 2, 3],[ 4, 5, 6]])\n",
    "print(arr)\n",
    "print(arr.shape) #tells number of rows and columns in the array"
   ]
  },
  {
   "cell_type": "markdown",
   "metadata": {},
   "source": [
    "#### Creating matrix using ranges"
   ]
  },
  {
   "cell_type": "code",
   "execution_count": 3,
   "metadata": {},
   "outputs": [
    {
     "name": "stdout",
     "output_type": "stream",
     "text": [
      "[1 2 3 4 5]\n"
     ]
    }
   ],
   "source": [
    "## Generate numbers from (start) to (end-1)\n",
    "## Here start = 1 and end = 6\n",
    "## Generated a NumPy array from 1 to 5\n",
    "print(np.arange(1,6))"
   ]
  },
  {
   "cell_type": "markdown",
   "metadata": {},
   "source": [
    "#### Matrix filled with zeros and ones"
   ]
  },
  {
   "cell_type": "code",
   "execution_count": 4,
   "metadata": {},
   "outputs": [
    {
     "name": "stdout",
     "output_type": "stream",
     "text": [
      "[[0. 0. 0. 0.]\n",
      " [0. 0. 0. 0.]\n",
      " [0. 0. 0. 0.]]\n"
     ]
    }
   ],
   "source": [
    "#Filling with zeros:\n",
    "print(np.zeros((3, 4)))"
   ]
  },
  {
   "cell_type": "code",
   "execution_count": 5,
   "metadata": {},
   "outputs": [
    {
     "name": "stdout",
     "output_type": "stream",
     "text": [
      "[[1 1]\n",
      " [1 1]]\n"
     ]
    }
   ],
   "source": [
    "#Filling with ones:\n",
    "print(np.ones((2, 2), dtype=np.int16))"
   ]
  },
  {
   "cell_type": "markdown",
   "metadata": {},
   "source": [
    "### Matrix Operations "
   ]
  },
  {
   "cell_type": "markdown",
   "metadata": {},
   "source": [
    "#### Addition"
   ]
  },
  {
   "cell_type": "code",
   "execution_count": 13,
   "metadata": {},
   "outputs": [
    {
     "name": "stdout",
     "output_type": "stream",
     "text": [
      "Matrix1: \n",
      "  [[0 1 2]\n",
      " [3 4 5]]\n",
      "Matrix2: \n",
      "  [[ 6  7  8]\n",
      " [ 9 10 11]]\n",
      "Scalar addition: \n",
      "  [[1 2 3]\n",
      " [4 5 6]]\n",
      "Element wise addition of two matrices of same size: \n",
      "  [[ 6  8 10]\n",
      " [12 14 16]]\n"
     ]
    }
   ],
   "source": [
    "## Generate two matrices\n",
    "mat_2d_1 = np.array([np.arange(0,3), np.arange(3,6)])\n",
    "mat_2d_2 = np.array([np.arange(6,9), np.arange(9,12)])\n",
    "print(\"Matrix1: \\n \", mat_2d_1)\n",
    "print(\"Matrix2: \\n \", mat_2d_2)\n",
    " \n",
    "## Add 1 to each element in mat_2d_1 and print it\n",
    "print(\"Scalar addition: \\n \", mat_2d_1 + 1)\n",
    " \n",
    "## Add two matrices above elementwise\n",
    "print(\"Element wise addition of two matrices of same size: \\n \", mat_2d_1 + mat_2d_2)\n"
   ]
  },
  {
   "cell_type": "markdown",
   "metadata": {},
   "source": [
    "#### Subtraction"
   ]
  },
  {
   "cell_type": "code",
   "execution_count": 14,
   "metadata": {},
   "outputs": [
    {
     "name": "stdout",
     "output_type": "stream",
     "text": [
      "Matrix1: \n",
      "  [[0 1 2]\n",
      " [3 4 5]]\n",
      "Matrix2: \n",
      "  [[ 6  7  8]\n",
      " [ 9 10 11]]\n",
      "Scalar addition: \n",
      "  [[-1  0  1]\n",
      " [ 2  3  4]]\n",
      "Element wise subtraction of two matrices of same size: \n",
      "  [[-6 -6 -6]\n",
      " [-6 -6 -6]]\n"
     ]
    }
   ],
   "source": [
    "## Generate two matrices\n",
    "mat_2d_1 = np.array([np.arange(0,3), np.arange(3,6)])\n",
    "mat_2d_2 = np.array([np.arange(6,9), np.arange(9,12)])\n",
    " \n",
    "print(\"Matrix1: \\n \", mat_2d_1)\n",
    "print(\"Matrix2: \\n \", mat_2d_2)\n",
    " \n",
    "## Subtract 1 from each element in mat_2d_1 and print it\n",
    "print(\"Scalar addition: \\n \", mat_2d_1 - 1)\n",
    " \n",
    "## Subtract two matrices above elementwise\n",
    "print(\"Element wise subtraction of two matrices of same size: \\n \", mat_2d_1 - mat_2d_2)\n"
   ]
  },
  {
   "cell_type": "markdown",
   "metadata": {},
   "source": [
    "#### Product"
   ]
  },
  {
   "cell_type": "code",
   "execution_count": 15,
   "metadata": {},
   "outputs": [
    {
     "name": "stdout",
     "output_type": "stream",
     "text": [
      "Matrix1: \n",
      "  [[0 1 2]\n",
      " [3 4 5]]\n",
      "Matrix1 shape: \n",
      " (2, 3)\n",
      "Matrix2: \n",
      "  [[0 1]\n",
      " [2 3]\n",
      " [4 5]]\n",
      "Matrix2 shape: \n",
      " (3, 2)\n",
      "Scalar Product: \n",
      "  [[ 0  2  4]\n",
      " [ 6  8 10]]\n",
      "Dot Product: \n",
      "  [[10 13]\n",
      " [28 40]]\n"
     ]
    }
   ],
   "source": [
    "## Generate two matrices of shape (2,3) and (3,2) so that we can find\n",
    "## dot product\n",
    "mat_2d_1 = np.array([np.arange(0,3), np.arange(3,6)])\n",
    "mat_2d_2 = np.array([np.arange(0,2), np.arange(2,4), np.arange(4,6)])\n",
    " \n",
    "## Print shapes and matrices\n",
    "print(\"Matrix1: \\n \", mat_2d_1)\n",
    "print(\"Matrix1 shape: \\n\", mat_2d_1.shape)\n",
    "print(\"Matrix2: \\n \", mat_2d_2)\n",
    "print(\"Matrix2 shape: \\n\", mat_2d_2.shape)\n",
    " \n",
    "## Multiply each element by 2 in mat_2d_1 and print it\n",
    "print(\"Scalar Product: \\n \", mat_2d_1 * 2)\n",
    " \n",
    "## Find product of two matrices above using dot product\n",
    "print(\"Dot Product: \\n \", np.dot(mat_2d_1, mat_2d_2))\n"
   ]
  },
  {
   "cell_type": "markdown",
   "metadata": {},
   "source": [
    "#### Division"
   ]
  },
  {
   "cell_type": "code",
   "execution_count": 16,
   "metadata": {},
   "outputs": [
    {
     "name": "stdout",
     "output_type": "stream",
     "text": [
      "Matrix: \n",
      "  [[0 1 2]\n",
      " [3 4 5]]\n",
      "Scalar Division: \n",
      "  [[0.  0.5 1. ]\n",
      " [1.5 2.  2.5]]\n"
     ]
    }
   ],
   "source": [
    "## Generate a matrix of shape (2,3)\n",
    "mat_2d = np.array([np.arange(0,3), np.arange(3,6)])\n",
    " \n",
    "## Print the matrix\n",
    "print(\"Matrix: \\n \", mat_2d)\n",
    " \n",
    "## Element wise division by scalar\n",
    "print(\"Scalar Division: \\n \", mat_2d / 2)\n"
   ]
  },
  {
   "cell_type": "markdown",
   "metadata": {},
   "source": [
    "#### Transpose"
   ]
  },
  {
   "cell_type": "code",
   "execution_count": 17,
   "metadata": {},
   "outputs": [
    {
     "name": "stdout",
     "output_type": "stream",
     "text": [
      "Matrix: \n",
      "  [[0 1 2]\n",
      " [3 4 5]]\n",
      "Transpose \n",
      "  [[0 3]\n",
      " [1 4]\n",
      " [2 5]]\n"
     ]
    }
   ],
   "source": [
    "## Generate a matrix of shape (2,3)\n",
    "mat_2d = np.array([np.arange(0,3), np.arange(3,6)])\n",
    " \n",
    "## Print the matrix\n",
    "print(\"Matrix: \\n \", mat_2d)\n",
    " \n",
    "## Matrix Transpose\n",
    "print(\"Transpose \\n \", mat_2d.T)"
   ]
  },
  {
   "cell_type": "markdown",
   "metadata": {},
   "source": [
    "#### Slicing a Matrix"
   ]
  },
  {
   "cell_type": "code",
   "execution_count": 22,
   "metadata": {},
   "outputs": [
    {
     "name": "stdout",
     "output_type": "stream",
     "text": [
      "Matrix 1: \n",
      " [[0 1 2]\n",
      " [3 4 5]]\n",
      "Sliced row: \n",
      "  [[3 4 5]]\n",
      "\n",
      " Sliced column: \n",
      "  [[2]\n",
      " [5]]\n",
      "\n",
      " Matrix 2: \n",
      " [[ 0  1  2  3]\n",
      " [ 4  5  6  7]\n",
      " [ 8  9 10 11]\n",
      " [12 13 14 15]]\n",
      "\n",
      " Sliced sub-matrix: \n",
      "  [[ 5  6]\n",
      " [ 9 10]]\n"
     ]
    }
   ],
   "source": [
    "# Create a matrix\n",
    "mat_2d = np.array([np.arange(0,3), np.arange(3,6)])\n",
    "print(\"Matrix 1: \\n\", mat_2d)\n",
    " \n",
    "# Slice to get second row in matrix\n",
    "print(\"Sliced row: \\n \", mat_2d[1:, :])\n",
    "\n",
    "# Slice to get last column in matrix\n",
    "print(\"\\n Sliced column: \\n \", mat_2d[:, 2:])\n",
    "\n",
    "#Slice to get (2, 2) submatrix in the centre of mat_2d i.e. [ [ 5 6] [ 9 10] ]\n",
    "mat_2d_1 = np.array([np.arange(0,4), np.arange(4,8), np.arange(8,12), np.arange(12,16)])\n",
    "print(\"\\n Matrix 2: \\n\", mat_2d_1)\n",
    "print(\"\\n Sliced sub-matrix: \\n \", mat_2d_1[1:3, 1:3])"
   ]
  },
  {
   "cell_type": "code",
   "execution_count": null,
   "metadata": {},
   "outputs": [],
   "source": []
  },
  {
   "cell_type": "markdown",
   "metadata": {},
   "source": [
    "###### Submitted By:\n",
    "       Gargi Patel\n",
    "       B.Tech-CSE(BDA)\n",
    "       170371"
   ]
  }
 ],
 "metadata": {
  "kernelspec": {
   "display_name": "Python 3",
   "language": "python",
   "name": "python3"
  },
  "language_info": {
   "codemirror_mode": {
    "name": "ipython",
    "version": 3
   },
   "file_extension": ".py",
   "mimetype": "text/x-python",
   "name": "python",
   "nbconvert_exporter": "python",
   "pygments_lexer": "ipython3",
   "version": "3.7.6"
  }
 },
 "nbformat": 4,
 "nbformat_minor": 4
}
