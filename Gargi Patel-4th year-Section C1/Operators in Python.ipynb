{
 "cells": [
  {
   "cell_type": "markdown",
   "metadata": {},
   "source": [
    "# Operators in Python"
   ]
  },
  {
   "cell_type": "markdown",
   "metadata": {},
   "source": [
    "### 1. Arithmetic operators"
   ]
  },
  {
   "cell_type": "code",
   "execution_count": 18,
   "metadata": {},
   "outputs": [
    {
     "name": "stdout",
     "output_type": "stream",
     "text": [
      "x + y = 19\n",
      "x - y = 11\n",
      "x * y = 60\n",
      "x / y = 3.75\n",
      "x // y = 3\n",
      "x ** y = 50625\n",
      "x % y = 3\n"
     ]
    }
   ],
   "source": [
    "x = 15\n",
    "y = 4\n",
    "\n",
    "#Addition\n",
    "print('x + y =',x+y)\n",
    "\n",
    "#Subtraction\n",
    "print('x - y =',x-y)\n",
    "\n",
    "#Multiplication\n",
    "print('x * y =',x*y)\n",
    "\n",
    "#Division\n",
    "print('x / y =',x/y)\n",
    "\n",
    "#Floor Division\n",
    "print('x // y =',x//y)\n",
    "\n",
    "#Exponent\n",
    "print('x ** y =',x**y)\n",
    "\n",
    "#Modulus\n",
    "print('x % y =',x%y)"
   ]
  },
  {
   "cell_type": "markdown",
   "metadata": {},
   "source": [
    "### 2. Logical Operators"
   ]
  },
  {
   "cell_type": "code",
   "execution_count": 4,
   "metadata": {},
   "outputs": [
    {
     "name": "stdout",
     "output_type": "stream",
     "text": [
      "x and y is False\n",
      "x or y is True\n",
      "not x is False\n"
     ]
    }
   ],
   "source": [
    "x = True\n",
    "y = False\n",
    "\n",
    "print('x and y is',x and y)\n",
    "\n",
    "print('x or y is',x or y)\n",
    "//\n",
    "print('not x is',not x)"
   ]
  },
  {
   "cell_type": "markdown",
   "metadata": {},
   "source": [
    "### 3. Bitwise Operators"
   ]
  },
  {
   "cell_type": "code",
   "execution_count": 9,
   "metadata": {},
   "outputs": [
    {
     "name": "stdout",
     "output_type": "stream",
     "text": [
      "x & y = 0\n",
      "x | y = 14\n",
      "~x = -11\n",
      "x ^ y = 14\n",
      "x >> 2 = 2\n",
      "x << 2 = 40\n"
     ]
    }
   ],
   "source": [
    "x = 10\n",
    "y = 4\n",
    "\n",
    "# & : bitwise AND\n",
    "print('x & y =',x & y)\n",
    "\n",
    "# | : bitwise OR\n",
    "print('x | y =', x|y)\n",
    "\n",
    "# ~ : bitwise NOT\n",
    "print('~x =',~x)\n",
    "\n",
    "# ^ : bitwise XOR\n",
    "print('x ^ y =',x^y)\n",
    "\n",
    "# >> : bitwise right shift\n",
    "print('x >> 2 =',x>>2)\n",
    "\n",
    "# << : bitwise left shift\n",
    "print('x << 2 =',x<<2)"
   ]
  },
  {
   "cell_type": "markdown",
   "metadata": {},
   "source": [
    "### 4. Comparison Operators"
   ]
  },
  {
   "cell_type": "code",
   "execution_count": 15,
   "metadata": {},
   "outputs": [
    {
     "name": "stdout",
     "output_type": "stream",
     "text": [
      "x > y is True\n",
      "x < y is False\n",
      "x == y is False\n",
      "x != y is True\n",
      "x >= y is True\n",
      "x <= y is False\n"
     ]
    }
   ],
   "source": [
    "x = 20\n",
    "y = 15\n",
    "\n",
    "print('x > y is',x>y)\n",
    "\n",
    "print('x < y is',x<y)\n",
    "\n",
    "print('x == y is',x==y)\n",
    "\n",
    "print('x != y is',x!=y)\n",
    "\n",
    "print('x >= y is',x>=y)\n",
    "\n",
    "print('x <= y is',x<=y)\n"
   ]
  },
  {
   "cell_type": "markdown",
   "metadata": {},
   "source": [
    "### 5. Identity operators: 'is' and 'is not'"
   ]
  },
  {
   "cell_type": "code",
   "execution_count": 14,
   "metadata": {},
   "outputs": [
    {
     "name": "stdout",
     "output_type": "stream",
     "text": [
      "True\n",
      "True\n",
      "False\n"
     ]
    }
   ],
   "source": [
    "x1 = 10\n",
    "y1 = 5\n",
    "x2 = 'Hello'\n",
    "y2 = 'Hello'\n",
    "x3 = [1,2,3]\n",
    "y3 = [1,2,3]\n",
    "\n",
    "print(x1 is not y1)\n",
    "\n",
    "print(x2 is y2)\n",
    "\n",
    "print(x3 is y3)"
   ]
  },
  {
   "cell_type": "markdown",
   "metadata": {},
   "source": [
    "### 6. Membership Operators"
   ]
  },
  {
   "cell_type": "code",
   "execution_count": 17,
   "metadata": {},
   "outputs": [
    {
     "name": "stdout",
     "output_type": "stream",
     "text": [
      "True\n",
      "True\n",
      "True\n",
      "False\n"
     ]
    }
   ],
   "source": [
    "x = 'Hello world'\n",
    "y = {1:'a',2:'b'}\n",
    "\n",
    "print('H' in x)\n",
    "\n",
    "print('hello' not in x)\n",
    "\n",
    "print(1 in y)\n",
    "\n",
    "print('a' in y)"
   ]
  },
  {
   "cell_type": "markdown",
   "metadata": {},
   "source": [
    "### 7. Assignment operator"
   ]
  },
  {
   "cell_type": "code",
   "execution_count": 32,
   "metadata": {},
   "outputs": [
    {
     "name": "stdout",
     "output_type": "stream",
     "text": [
      "Value of z is  10\n",
      "Value of z is  12\n",
      "Value of z is  22\n",
      "Value of z is  20\n",
      "Value of z is  200\n",
      "Value of z is  100.0\n",
      "Value of z is  5\n",
      "Value of z is  2\n",
      "Value of z is  1024\n"
     ]
    }
   ],
   "source": [
    "x = 10\n",
    "y = 2\n",
    "z = 30\n",
    "\n",
    "z = x\n",
    "print('Value of z is ',z)\n",
    "\n",
    "z = x + y\n",
    "print('Value of z is ',z)\n",
    "\n",
    "z += x\n",
    "print('Value of z is ',z)\n",
    "\n",
    "z -= y\n",
    "print('Value of z is ',z)\n",
    "\n",
    "z *= x\n",
    "print('Value of z is ',z)\n",
    "\n",
    "z /= y\n",
    "print('Value of z is ',z)\n",
    "\n",
    "z = 5\n",
    "z %= x\n",
    "print('Value of z is ',z)\n",
    "\n",
    "z //= y\n",
    "print('Value of z is ',z)\n",
    "\n",
    "z **= x\n",
    "print('Value of z is ',z)\n",
    "\n"
   ]
  },
  {
   "cell_type": "markdown",
   "metadata": {},
   "source": [
    "\n",
    "\n",
    "\n",
    "\n",
    "\n",
    "\n",
    "#### Submitted by:\n",
    "     Gargi Patel\n",
    "     (170371)\n",
    "     B.Tech, 4th year, CSE(BDA)"
   ]
  },
  {
   "cell_type": "code",
   "execution_count": null,
   "metadata": {},
   "outputs": [],
   "source": []
  }
 ],
 "metadata": {
  "kernelspec": {
   "display_name": "Python 3",
   "language": "python",
   "name": "python3"
  },
  "language_info": {
   "codemirror_mode": {
    "name": "ipython",
    "version": 3
   },
   "file_extension": ".py",
   "mimetype": "text/x-python",
   "name": "python",
   "nbconvert_exporter": "python",
   "pygments_lexer": "ipython3",
   "version": "3.7.6"
  }
 },
 "nbformat": 4,
 "nbformat_minor": 4
}
