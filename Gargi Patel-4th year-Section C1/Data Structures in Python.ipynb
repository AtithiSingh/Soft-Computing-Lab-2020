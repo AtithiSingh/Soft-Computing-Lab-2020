{
 "cells": [
  {
   "cell_type": "markdown",
   "metadata": {},
   "source": [
    "## Write a program to implement various data structures in python and their operations."
   ]
  },
  {
   "cell_type": "markdown",
   "metadata": {},
   "source": [
    "### 1. Lists\n",
    "Lists are used to store data of different data types in a sequential manner. "
   ]
  },
  {
   "cell_type": "code",
   "execution_count": 1,
   "metadata": {},
   "outputs": [
    {
     "name": "stdout",
     "output_type": "stream",
     "text": [
      "[]\n",
      "[1, 2, 3, 'hello', 4.567]\n"
     ]
    }
   ],
   "source": [
    "# CREATING LIST\n",
    "list = []  # empty list\n",
    "print(list)\n",
    "list = [1,2,3,'hello',4.567]  #list with elements of different data types\n",
    "print(list)"
   ]
  },
  {
   "cell_type": "code",
   "execution_count": 2,
   "metadata": {},
   "outputs": [
    {
     "name": "stdout",
     "output_type": "stream",
     "text": [
      "[1, 2, 3, 4]\n",
      "[1, 2, 3, 4, [123, 45]]\n",
      "[1, 2, 3, 4, [123, 45], 56, 'hello world']\n",
      "[1, 2, 3, 'new element', 4, [123, 45], 56, 'hello world']\n"
     ]
    }
   ],
   "source": [
    "# ADDING ELEMENTS\n",
    "list = [1,2,3,4]\n",
    "print(list)\n",
    "list.append([123,45]) # adding as single element and creating nested list\n",
    "print(list)\n",
    "list.extend([56,'hello world']) # adding multiple elements\n",
    "print(list)\n",
    "list.insert(3,'new element') #insertng element at ith i.e. 3rd position \n",
    "print(list)"
   ]
  },
  {
   "cell_type": "code",
   "execution_count": 3,
   "metadata": {},
   "outputs": [
    {
     "name": "stdout",
     "output_type": "stream",
     "text": [
      "[1, 2, 3, 'new element', 4, [123, 45], 56, 'hello world']\n",
      "[1, 2, 3, 'new element', 4, 56, 'hello world']\n",
      "[1, 2, 3, 4, 56, 'hello world']\n",
      "Popped Element: 2     List remaining: [1, 3, 4, 56, 'hello world']\n",
      "[]\n"
     ]
    }
   ],
   "source": [
    "# DELETING ELEMENTS\n",
    "print(list) #original list\n",
    "del list[5]  #deleting element on 4th index\n",
    "print(list)\n",
    "list.remove('new element') #remove element with value\n",
    "print(list)\n",
    "popped_element = list.pop(1) #pop element from list\n",
    "print('Popped Element:', popped_element, '    List remaining:', list)\n",
    "list.clear() #empty the list\n",
    "print(list)"
   ]
  },
  {
   "cell_type": "code",
   "execution_count": 22,
   "metadata": {},
   "outputs": [
    {
     "name": "stdout",
     "output_type": "stream",
     "text": [
      "\n",
      "->Access elements one by one:\n",
      "1\n",
      "2\n",
      "3\n",
      "new element\n",
      "4\n",
      "[123, 45]\n",
      "56\n",
      "hello world\n",
      "\n",
      "->Access all elements:\n",
      " [1, 2, 3, 'new element', 4, [123, 45], 56, 'hello world']\n",
      "\n",
      "->Access index 3 element:\n",
      " new element\n",
      "\n",
      "->Access elements from 0 to 1 and exclude 2:\n",
      " [1, 2]\n",
      "\n",
      "->Access elements in reverse:\n",
      " ['hello world', 56, [123, 45], 4, 'new element', 3, 2, 1]\n"
     ]
    }
   ],
   "source": [
    "#ACCESSING ELEMENTS\n",
    "org_list = [1, 2, 3, 'new element', 4, [123, 45], 56, 'hello world']\n",
    "print(\"\\n->Access elements one by one:\")\n",
    "for element in org_list: #access elements one by one\n",
    "    print(element)\n",
    "print('\\n->Access all elements:\\n',org_list) #access all elements\n",
    "print('\\n->Access index 3 element:\\n',org_list[3]) #access index 3 element\n",
    "print('\\n->Access elements from 0 to 1 and exclude 2:\\n',org_list[0:2]) #access elements from 0 to 1 and exclude 2\n",
    "print('\\n->Access elements in reverse:\\n',org_list[::-1]) #access elements in reverse"
   ]
  },
  {
   "cell_type": "markdown",
   "metadata": {},
   "source": [
    "### 2. Tuple\n",
    "Tuples are the same as lists are with the exception that the data once entered into the tuple cannot be changed. The only exception is when the data inside the tuple is mutable, only then the tuple data can be changed."
   ]
  },
  {
   "cell_type": "code",
   "execution_count": 23,
   "metadata": {},
   "outputs": [
    {
     "name": "stdout",
     "output_type": "stream",
     "text": [
      "(1, 2, 3)\n"
     ]
    }
   ],
   "source": [
    "#Creating a Tuple\n",
    "my_tuple = (1, 2, 3) \n",
    "print(my_tuple) "
   ]
  },
  {
   "cell_type": "code",
   "execution_count": 25,
   "metadata": {},
   "outputs": [
    {
     "name": "stdout",
     "output_type": "stream",
     "text": [
      "1\n",
      "2\n",
      "3\n",
      "Hello World\n",
      "(1, 2, 3, 'Hello World')\n",
      "1\n",
      "(1, 2, 3, 'Hello World')\n",
      "o\n"
     ]
    }
   ],
   "source": [
    "# Accessing Elements\n",
    "my_tuple2 = (1, 2, 3, 'Hello World') #access elements\n",
    "for x in my_tuple2:\n",
    "    print(x)\n",
    "print(my_tuple2)\n",
    "print(my_tuple2[0])\n",
    "print(my_tuple2[:])\n",
    "print(my_tuple2[3][4])\n"
   ]
  },
  {
   "cell_type": "code",
   "execution_count": 26,
   "metadata": {},
   "outputs": [
    {
     "name": "stdout",
     "output_type": "stream",
     "text": [
      "(1, 2, 3, 4, 5, 6)\n"
     ]
    }
   ],
   "source": [
    "# Appending Elements\n",
    "my_tuple = (1, 2, 3)\n",
    "my_tuple = my_tuple + (4, 5, 6) #add elements\n",
    "print(my_tuple)"
   ]
  },
  {
   "cell_type": "markdown",
   "metadata": {},
   "source": [
    "### 3. Dictionary\n",
    "Dictionaries are used to store key-value pairs."
   ]
  },
  {
   "cell_type": "code",
   "execution_count": 27,
   "metadata": {},
   "outputs": [
    {
     "name": "stdout",
     "output_type": "stream",
     "text": [
      "{}\n",
      "{1: 'Python', 2: 'Java'}\n"
     ]
    }
   ],
   "source": [
    "# Creating a Dictionary\n",
    "my_dict = {} #empty dictionary\n",
    "print(my_dict)\n",
    "my_dict = {1: 'Python', 2: 'Java'} #dictionary with elements\n",
    "print(my_dict)"
   ]
  },
  {
   "cell_type": "code",
   "execution_count": 29,
   "metadata": {},
   "outputs": [
    {
     "name": "stdout",
     "output_type": "stream",
     "text": [
      "{'First': 'Python', 'Second': 'Java'}\n",
      "{'First': 'Python', 'Second': 'C++'}\n",
      "{'First': 'Python', 'Second': 'C++', 'Third': 'R'}\n"
     ]
    }
   ],
   "source": [
    "#Changing and Adding key-value pairs\n",
    "my_dict = {'First': 'Python', 'Second': 'Java'}\n",
    "print(my_dict)\n",
    "my_dict['Second'] = 'C++' #changing element\n",
    "print(my_dict)\n",
    "my_dict['Third'] = 'R' #adding key-value pair\n",
    "print(my_dict)"
   ]
  },
  {
   "cell_type": "code",
   "execution_count": 31,
   "metadata": {},
   "outputs": [
    {
     "name": "stdout",
     "output_type": "stream",
     "text": [
      "Value: Ruby\n",
      "Dictionary: {'First': 'Python', 'Second': 'Java'}\n",
      "Key, value pair: ('Second', 'Java')\n",
      "Dictionary {'First': 'Python'}\n",
      "n {}\n"
     ]
    }
   ],
   "source": [
    "#Deleting key-value pairs\n",
    "my_dict = {'First': 'Python', 'Second': 'Java', 'Third': 'Ruby'}\n",
    "a = my_dict.pop('Third') #pop element\n",
    "print('Value:', a)\n",
    "print('Dictionary:', my_dict)\n",
    "b = my_dict.popitem() #pop the key-value pair\n",
    "print('Key, value pair:', b)\n",
    "print('Dictionary', my_dict)\n",
    "my_dict.clear() #empty dictionary\n",
    "print('n', my_dict)"
   ]
  },
  {
   "cell_type": "code",
   "execution_count": 32,
   "metadata": {},
   "outputs": [
    {
     "name": "stdout",
     "output_type": "stream",
     "text": [
      "Python\n",
      "Java\n"
     ]
    }
   ],
   "source": [
    "#Accessing Elements\n",
    "my_dict = {'First': 'Python', 'Second': 'Java'}\n",
    "print(my_dict['First']) #access elements using keys\n",
    "print(my_dict.get('Second'))\n"
   ]
  },
  {
   "cell_type": "markdown",
   "metadata": {},
   "source": [
    "### 4. Sets\n",
    "Sets are a collection of unordered elements that are unique. Meaning that even if the data is repeated more than one time, it would be entered into the set only once."
   ]
  },
  {
   "cell_type": "code",
   "execution_count": 33,
   "metadata": {},
   "outputs": [
    {
     "name": "stdout",
     "output_type": "stream",
     "text": [
      "{1, 2, 3, 4, 5}\n"
     ]
    }
   ],
   "source": [
    "# Creating a set\n",
    "set = {1, 2, 3, 4, 5, 5, 5} #create set\n",
    "print(set)"
   ]
  },
  {
   "cell_type": "code",
   "execution_count": 34,
   "metadata": {},
   "outputs": [
    {
     "name": "stdout",
     "output_type": "stream",
     "text": [
      "{1, 2, 3, 4}\n"
     ]
    }
   ],
   "source": [
    "#Adding elements\n",
    "set = {1, 2, 3}\n",
    "set.add(4) #add element to set\n",
    "print(set)"
   ]
  },
  {
   "cell_type": "code",
   "execution_count": 35,
   "metadata": {},
   "outputs": [
    {
     "name": "stdout",
     "output_type": "stream",
     "text": [
      "{1, 2, 3, 4, 5, 6} ---------- {1, 2, 3, 4, 5, 6}\n",
      "{3, 4} ---------- {3, 4}\n",
      "{1, 2} ---------- {1, 2}\n",
      "{1, 2, 5, 6} ---------- {1, 2, 5, 6}\n",
      "set()\n"
     ]
    }
   ],
   "source": [
    "# Operations in sets\n",
    "set = {1, 2, 3, 4}\n",
    "set_2 = {3, 4, 5, 6}\n",
    "print(set.union(set_2), '----------', set | set_2)\n",
    "print(set.intersection(set_2), '----------', set & set_2)\n",
    "print(set.difference(set_2), '----------', set - set_2)\n",
    "print(set.symmetric_difference(set_2), '----------', set ^ set_2)\n",
    "set.clear()\n",
    "print(set)"
   ]
  },
  {
   "cell_type": "code",
   "execution_count": null,
   "metadata": {},
   "outputs": [],
   "source": []
  },
  {
   "cell_type": "markdown",
   "metadata": {},
   "source": [
    "#### SUBMITTED BY:\n",
    "    GARGI PATEL\n",
    "    170371\n",
    "    CSE(BDA)- C1"
   ]
  },
  {
   "cell_type": "code",
   "execution_count": null,
   "metadata": {},
   "outputs": [],
   "source": []
  }
 ],
 "metadata": {
  "kernelspec": {
   "display_name": "Python 3",
   "language": "python",
   "name": "python3"
  },
  "language_info": {
   "codemirror_mode": {
    "name": "ipython",
    "version": 3
   },
   "file_extension": ".py",
   "mimetype": "text/x-python",
   "name": "python",
   "nbconvert_exporter": "python",
   "pygments_lexer": "ipython3",
   "version": "3.7.6"
  }
 },
 "nbformat": 4,
 "nbformat_minor": 4
}
