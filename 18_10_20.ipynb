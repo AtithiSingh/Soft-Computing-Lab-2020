{
  "nbformat": 4,
  "nbformat_minor": 0,
  "metadata": {
    "colab": {
      "name": "18-10-20.ipynb",
      "provenance": [],
      "authorship_tag": "ABX9TyPKR83gbEF6V4HvCUPLmHdl",
      "include_colab_link": true
    },
    "kernelspec": {
      "name": "python3",
      "display_name": "Python 3"
    }
  },
  "cells": [
    {
      "cell_type": "markdown",
      "metadata": {
        "id": "view-in-github",
        "colab_type": "text"
      },
      "source": [
        "<a href=\"https://colab.research.google.com/github/tarusingh00250/Soft-Computing-Lab-2020/blob/master/18_10_20.ipynb\" target=\"_parent\"><img src=\"https://colab.research.google.com/assets/colab-badge.svg\" alt=\"Open In Colab\"/></a>"
      ]
    },
    {
      "cell_type": "code",
      "metadata": {
        "id": "4tdVu0g_L42b"
      },
      "source": [
        ""
      ],
      "execution_count": null,
      "outputs": []
    },
    {
      "cell_type": "markdown",
      "metadata": {
        "id": "Ri-SuS2kL_So"
      },
      "source": [
        "AIM:\n",
        "\n",
        "1. WAP to implement various data structures in python and their operations\n",
        "2. Demonstrate the use of Numpy for matrix operations\n",
        "3. Demonstrate the use of Matplotlib library\n",
        "\n",
        "LISTS: A list is a collection which is ordered and changeable. In Python lists are written with square brackets."
      ]
    },
    {
      "cell_type": "markdown",
      "metadata": {
        "id": "nTgWhGGFL-Tv"
      },
      "source": [
        ""
      ]
    },
    {
      "cell_type": "code",
      "metadata": {
        "id": "Q_vl-D5UMGqK",
        "outputId": "c4255136-7932-498e-cf22-68109788880a",
        "colab": {
          "base_uri": "https://localhost:8080/",
          "height": 170
        }
      },
      "source": [
        "\n",
        "fruits = ['orange', 'apple', 'pear', 'banana', 'kiwi', 'apple', 'banana']  #creation\n",
        "c=fruits.count('apple')\n",
        "print('number of apples in the list',c)\n",
        "d=fruits.index('banana')\n",
        "print('banana is at position', d)\n",
        "e=fruits.index('banana', 4)  # Find next banana starting a position 4\n",
        "print('banana after position 4 appears at position', e)\n",
        "fruits.reverse()\n",
        "print('reversed list is', fruits)\n",
        "fruits.append('grape')\n",
        "print('addding grape to the list', fruits)\n",
        "fruits.sort()\n",
        "print('sorted list is', fruits)\n",
        "n=fruits.pop()\n",
        "print('popped element is', n)\n",
        "print('existing elements in the list are', fruits)\n",
        "print(fruits[2:4]) #slicin"
      ],
      "execution_count": 1,
      "outputs": [
        {
          "output_type": "stream",
          "text": [
            "number of apples in the list 2\n",
            "banana is at position 3\n",
            "banana after position 4 appears at position 6\n",
            "reversed list is ['banana', 'apple', 'kiwi', 'banana', 'pear', 'apple', 'orange']\n",
            "addding grape to the list ['banana', 'apple', 'kiwi', 'banana', 'pear', 'apple', 'orange', 'grape']\n",
            "sorted list is ['apple', 'apple', 'banana', 'banana', 'grape', 'kiwi', 'orange', 'pear']\n",
            "popped element is pear\n",
            "existing elements in the list are ['apple', 'apple', 'banana', 'banana', 'grape', 'kiwi', 'orange']\n",
            "['banana', 'banana']\n"
          ],
          "name": "stdout"
        }
      ]
    },
    {
      "cell_type": "code",
      "metadata": {
        "id": "zOHqfGiNOGOV",
        "outputId": "5126e50b-a130-4b93-e633-19b30e396589",
        "colab": {
          "base_uri": "https://localhost:8080/",
          "height": 51
        }
      },
      "source": [
        "#list comprehension\n",
        "squares = [x**2 for x in range(10)]\n",
        "print(squares)\n",
        "lst=[(x, y) for x in [1,2,3] for y in [3,1,4] if x != y]\n",
        "print(lst)"
      ],
      "execution_count": 3,
      "outputs": [
        {
          "output_type": "stream",
          "text": [
            "[0, 1, 4, 9, 16, 25, 36, 49, 64, 81]\n",
            "[(1, 3), (1, 4), (2, 3), (2, 1), (2, 4), (3, 1), (3, 4)]\n"
          ],
          "name": "stdout"
        }
      ]
    },
    {
      "cell_type": "code",
      "metadata": {
        "id": "-yPYdyYQORA_",
        "outputId": "f3dc2d9e-94e4-41cd-9499-8ebea4e3dbde",
        "colab": {
          "base_uri": "https://localhost:8080/",
          "height": 34
        }
      },
      "source": [
        "t = 12345, 54321, 'hello!'\n",
        "type(t)"
      ],
      "execution_count": 4,
      "outputs": [
        {
          "output_type": "execute_result",
          "data": {
            "text/plain": [
              "tuple"
            ]
          },
          "metadata": {
            "tags": []
          },
          "execution_count": 4
        }
      ]
    },
    {
      "cell_type": "code",
      "metadata": {
        "id": "wHEF07ddOYL_",
        "outputId": "9d3c4c49-e3ed-4a1c-dfb7-46a27a975f00",
        "colab": {
          "base_uri": "https://localhost:8080/",
          "height": 170
        }
      },
      "source": [
        "print('second element',t[1])\n",
        "print('element 2 to 3',t[1:3])\n",
        "print('last element',t[-1])\n",
        "x, y, z = t\n",
        "print('x=',x,'y=',y,'z=',z)\n",
        "v = ([1, 2, 3], [3, 2, 1])\n",
        "print(v)\n",
        "print(v[0])\n",
        "print(v[0][0])\n",
        "empty = ()\n",
        "singleton = 'hello',    # note trailing comma\n",
        "print(len(empty))\n",
        "print(len(singleton))"
      ],
      "execution_count": 5,
      "outputs": [
        {
          "output_type": "stream",
          "text": [
            "second element 54321\n",
            "element 2 to 3 (54321, 'hello!')\n",
            "last element hello!\n",
            "x= 12345 y= 54321 z= hello!\n",
            "([1, 2, 3], [3, 2, 1])\n",
            "[1, 2, 3]\n",
            "1\n",
            "0\n",
            "1\n"
          ],
          "name": "stdout"
        }
      ]
    },
    {
      "cell_type": "code",
      "metadata": {
        "id": "-k_aJ87cOcMW",
        "outputId": "de282ee2-e1bb-48c5-e72e-d5c9b331ddb1",
        "colab": {
          "base_uri": "https://localhost:8080/",
          "height": 136
        }
      },
      "source": [
        "basket = {'apple', 'orange', 'apple', 'pear', 'orange', 'banana'}\n",
        "print(basket)                      # show that duplicates have been removed\n",
        "print('crabgrass' in basket)\n",
        "a = set('abracadabra')\n",
        "print('set made out of abracadabra',a)\n",
        "b = set('alacazam')\n",
        "print('a-b is',a - b) \n",
        "print('a|b is', a | b)\n",
        "print('a and b is', a & b)\n",
        "print('a ^ b is', a ^ b)"
      ],
      "execution_count": 6,
      "outputs": [
        {
          "output_type": "stream",
          "text": [
            "{'apple', 'orange', 'banana', 'pear'}\n",
            "False\n",
            "set made out of abracadabra {'b', 'c', 'r', 'a', 'd'}\n",
            "a-b is {'b', 'r', 'd'}\n",
            "a|b is {'m', 'b', 'z', 'l', 'c', 'r', 'a', 'd'}\n",
            "a and b is {'c', 'a'}\n",
            "a ^ b is {'m', 'b', 'z', 'r', 'd', 'l'}\n"
          ],
          "name": "stdout"
        }
      ]
    },
    {
      "cell_type": "code",
      "metadata": {
        "id": "rd9Q9JkMOgoi",
        "outputId": "2bde291e-f352-4515-8dc5-5fa10052993a",
        "colab": {
          "base_uri": "https://localhost:8080/",
          "height": 34
        }
      },
      "source": [
        "a = {x for x in 'abracadabra' if x not in 'abc'}\n",
        "print(a)"
      ],
      "execution_count": 7,
      "outputs": [
        {
          "output_type": "stream",
          "text": [
            "{'d', 'r'}\n"
          ],
          "name": "stdout"
        }
      ]
    },
    {
      "cell_type": "code",
      "metadata": {
        "id": "BIqU21riOl7i",
        "outputId": "f0d98093-ce9a-483a-ef42-25b96ea4a5fe",
        "colab": {
          "base_uri": "https://localhost:8080/",
          "height": 51
        }
      },
      "source": [
        "tel = {'jack': 4098, 'sape': 4139}\n",
        "tel['guido'] = 4127\n",
        "print(tel)\n",
        "del tel['sape']\n",
        "tel['irv'] = 4127\n",
        "print(tel)"
      ],
      "execution_count": 8,
      "outputs": [
        {
          "output_type": "stream",
          "text": [
            "{'jack': 4098, 'sape': 4139, 'guido': 4127}\n",
            "{'jack': 4098, 'guido': 4127, 'irv': 4127}\n"
          ],
          "name": "stdout"
        }
      ]
    },
    {
      "cell_type": "code",
      "metadata": {
        "id": "_qKupCbMO6pA",
        "outputId": "23e617ef-129a-4d09-8201-fa2bdaddfaab",
        "colab": {
          "base_uri": "https://localhost:8080/",
          "height": 34
        }
      },
      "source": [
        "list(tel)\n",
        "sorted(tel)"
      ],
      "execution_count": 9,
      "outputs": [
        {
          "output_type": "execute_result",
          "data": {
            "text/plain": [
              "['guido', 'irv', 'jack']"
            ]
          },
          "metadata": {
            "tags": []
          },
          "execution_count": 9
        }
      ]
    },
    {
      "cell_type": "code",
      "metadata": {
        "id": "r0sUKjRPO98n",
        "outputId": "2c96aff0-c792-4c9f-e6d1-d21eefa91a71",
        "colab": {
          "base_uri": "https://localhost:8080/",
          "height": 34
        }
      },
      "source": [
        "dict([('sape', 4139), ('guido', 4127), ('jack', 4098)])"
      ],
      "execution_count": 10,
      "outputs": [
        {
          "output_type": "execute_result",
          "data": {
            "text/plain": [
              "{'guido': 4127, 'jack': 4098, 'sape': 4139}"
            ]
          },
          "metadata": {
            "tags": []
          },
          "execution_count": 10
        }
      ]
    },
    {
      "cell_type": "code",
      "metadata": {
        "id": "Xkdobg1rPBIE",
        "outputId": "36e3655b-7a49-412d-ea99-5292bf258b5d",
        "colab": {
          "base_uri": "https://localhost:8080/",
          "height": 51
        }
      },
      "source": [
        "knights = {'gallahad': 'the pure', 'robin': 'the brave'}\n",
        "for k, v in knights.items():\n",
        "  print(k, v)"
      ],
      "execution_count": 11,
      "outputs": [
        {
          "output_type": "stream",
          "text": [
            "gallahad the pure\n",
            "robin the brave\n"
          ],
          "name": "stdout"
        }
      ]
    },
    {
      "cell_type": "code",
      "metadata": {
        "id": "OmaEfRehPDn4",
        "outputId": "5c1990cd-2e3f-44ec-9805-4685a56f79df",
        "colab": {
          "base_uri": "https://localhost:8080/",
          "height": 68
        }
      },
      "source": [
        "questions = ['name', 'quest', 'favorite color']\n",
        "answers = ['lancelot', 'the holy grail', 'blue']\n",
        "for q, a in zip(questions, answers):\n",
        "   print('What is your {0}?  It is {1}.'.format(q, a))"
      ],
      "execution_count": 12,
      "outputs": [
        {
          "output_type": "stream",
          "text": [
            "What is your name?  It is lancelot.\n",
            "What is your quest?  It is the holy grail.\n",
            "What is your favorite color?  It is blue.\n"
          ],
          "name": "stdout"
        }
      ]
    },
    {
      "cell_type": "code",
      "metadata": {
        "id": "6R2ggDLrPGm8",
        "outputId": "34996781-65d1-4287-e79b-ee998a0e44ae",
        "colab": {
          "base_uri": "https://localhost:8080/",
          "height": 102
        }
      },
      "source": [
        "for i in reversed(range(1, 10, 2)):\n",
        "  print(i)"
      ],
      "execution_count": 13,
      "outputs": [
        {
          "output_type": "stream",
          "text": [
            "9\n",
            "7\n",
            "5\n",
            "3\n",
            "1\n"
          ],
          "name": "stdout"
        }
      ]
    },
    {
      "cell_type": "code",
      "metadata": {
        "id": "0R7-ICruPJIA",
        "outputId": "4bb895d5-ed8f-470d-a8ae-313adb873ff8",
        "colab": {
          "base_uri": "https://localhost:8080/",
          "height": 85
        }
      },
      "source": [
        "basket = ['apple', 'orange', 'apple', 'pear', 'orange', 'banana']\n",
        "for f in sorted(set(basket)):\n",
        "   print(f)"
      ],
      "execution_count": 14,
      "outputs": [
        {
          "output_type": "stream",
          "text": [
            "apple\n",
            "banana\n",
            "orange\n",
            "pear\n"
          ],
          "name": "stdout"
        }
      ]
    },
    {
      "cell_type": "code",
      "metadata": {
        "id": "yauSHBDvPLuE",
        "outputId": "4e1f9176-862f-42a6-9a34-d1cdd4746ccf",
        "colab": {
          "base_uri": "https://localhost:8080/",
          "height": 68
        }
      },
      "source": [
        "i = 1\n",
        "while i < 6:\n",
        "  print(i)\n",
        "  if i == 3:\n",
        "    break\n",
        "  i += 1"
      ],
      "execution_count": 15,
      "outputs": [
        {
          "output_type": "stream",
          "text": [
            "1\n",
            "2\n",
            "3\n"
          ],
          "name": "stdout"
        }
      ]
    },
    {
      "cell_type": "code",
      "metadata": {
        "id": "_mrzJa9XPPFx",
        "outputId": "cb1e9821-2f7f-459c-cf00-da22d2d0f7c7",
        "colab": {
          "base_uri": "https://localhost:8080/",
          "height": 51
        }
      },
      "source": [
        "import numpy as np\n",
        "a = np.array([1, 2, 3])\n",
        "print(a)               \n",
        "print(type(a))"
      ],
      "execution_count": 16,
      "outputs": [
        {
          "output_type": "stream",
          "text": [
            "[1 2 3]\n",
            "<class 'numpy.ndarray'>\n"
          ],
          "name": "stdout"
        }
      ]
    },
    {
      "cell_type": "code",
      "metadata": {
        "id": "YZXyMwy3PSkH",
        "outputId": "a1d9e256-44aa-40b4-873e-4aa3db9f9969",
        "colab": {
          "base_uri": "https://localhost:8080/",
          "height": 119
        }
      },
      "source": [
        "A = np.array([[1, 2, 3], [3, 4, 5]])\n",
        "print(A)\n",
        "\n",
        "A = np.array([[1.1, 2, 3], [3, 4, 5]]) # Array of floats\n",
        "print(A)\n",
        "\n",
        "A = np.array([[1, 2, 3], [3, 4, 5]], dtype = complex) # Array of complex numbers\n",
        "print(A)"
      ],
      "execution_count": 17,
      "outputs": [
        {
          "output_type": "stream",
          "text": [
            "[[1 2 3]\n",
            " [3 4 5]]\n",
            "[[1.1 2.  3. ]\n",
            " [3.  4.  5. ]]\n",
            "[[1.+0.j 2.+0.j 3.+0.j]\n",
            " [3.+0.j 4.+0.j 5.+0.j]]\n"
          ],
          "name": "stdout"
        }
      ]
    },
    {
      "cell_type": "code",
      "metadata": {
        "id": "yfTTJlWyPWFn",
        "outputId": "62af825b-b770-48e4-b544-714d27a4f1c4",
        "colab": {
          "base_uri": "https://localhost:8080/",
          "height": 68
        }
      },
      "source": [
        "#arrays of zeros and ones\n",
        "\n",
        "zeors_array = np.zeros( (2, 3) )\n",
        "print(zeors_array)\n",
        "\n",
        "ones_array = np.ones( (1, 5), dtype=np.int32 ) \n",
        "print(ones_array)"
      ],
      "execution_count": 18,
      "outputs": [
        {
          "output_type": "stream",
          "text": [
            "[[0. 0. 0.]\n",
            " [0. 0. 0.]]\n",
            "[[1 1 1 1 1]]\n"
          ],
          "name": "stdout"
        }
      ]
    },
    {
      "cell_type": "code",
      "metadata": {
        "id": "7IkXriiAPYut",
        "outputId": "1c9cf257-44c9-4975-e97c-ab3dd44f4f97",
        "colab": {
          "base_uri": "https://localhost:8080/",
          "height": 68
        }
      },
      "source": [
        "A = np.arange(4)\n",
        "print('A =', A)\n",
        "\n",
        "B = np.arange(12).reshape(2, 6)\n",
        "print('B =', B)"
      ],
      "execution_count": 19,
      "outputs": [
        {
          "output_type": "stream",
          "text": [
            "A = [0 1 2 3]\n",
            "B = [[ 0  1  2  3  4  5]\n",
            " [ 6  7  8  9 10 11]]\n"
          ],
          "name": "stdout"
        }
      ]
    },
    {
      "cell_type": "code",
      "metadata": {
        "id": "66yJ-1LOPg1U",
        "outputId": "f42fe362-8d89-4cd6-a14a-0274e12ff027",
        "colab": {
          "base_uri": "https://localhost:8080/",
          "height": 51
        }
      },
      "source": [
        "#addition of 2 matrices\n",
        "\n",
        "A = np.array([[2, 4], [5, -6]])\n",
        "B = np.array([[9, -3], [3, 6]])\n",
        "C = A + B      # element wise addition\n",
        "print(C)"
      ],
      "execution_count": 20,
      "outputs": [
        {
          "output_type": "stream",
          "text": [
            "[[11  1]\n",
            " [ 8  0]]\n"
          ],
          "name": "stdout"
        }
      ]
    },
    {
      "cell_type": "code",
      "metadata": {
        "id": "BXOw6DmoPleW",
        "outputId": "042de161-7d63-4f70-b273-3bb8f84246d5",
        "colab": {
          "base_uri": "https://localhost:8080/",
          "height": 51
        }
      },
      "source": [
        "#multiplication of maatrices\n",
        "A = np.array([[3, 6, 7], [5, -3, 0]])\n",
        "B = np.array([[1, 1], [2, 1], [3, -3]])\n",
        "C = A.dot(B)\n",
        "print(C)"
      ],
      "execution_count": 21,
      "outputs": [
        {
          "output_type": "stream",
          "text": [
            "[[ 36 -12]\n",
            " [ -1   2]]\n"
          ],
          "name": "stdout"
        }
      ]
    },
    {
      "cell_type": "code",
      "metadata": {
        "id": "iWgJYiCpPpNa",
        "outputId": "c4c91d90-fcbd-482c-a5b2-d8c23d43eb44",
        "colab": {
          "base_uri": "https://localhost:8080/",
          "height": 51
        }
      },
      "source": [
        "#transpose of matrix\n",
        "A = np.array([[1, 1], [2, 1], [3, -3]])\n",
        "print(A.transpose())"
      ],
      "execution_count": 22,
      "outputs": [
        {
          "output_type": "stream",
          "text": [
            "[[ 1  2  3]\n",
            " [ 1  1 -3]]\n"
          ],
          "name": "stdout"
        }
      ]
    },
    {
      "cell_type": "code",
      "metadata": {
        "id": "l1IDiBiwPslS",
        "outputId": "d11bbbef-96a6-49e5-acec-dc0b80cb47cf",
        "colab": {
          "base_uri": "https://localhost:8080/",
          "height": 238
        }
      },
      "source": [
        "#accessing elements\n",
        "A = np.array([[1, 4, 5, 12],\n",
        "    [-5, 8, 9, 0],\n",
        "    [-6, 7, 11, 19]])\n",
        "\n",
        "#  First element of first row\n",
        "print(\"A[0][0] =\", A[0][0])  \n",
        "\n",
        "# Third element of second row\n",
        "print(\"A[1][2] =\", A[1][2])\n",
        "\n",
        "# Last element of last row\n",
        "print(\"A[-1][-1] =\", A[-1][-1]) \n",
        "A = np.array([[1, 4, 5, 12], \n",
        "    [-5, 8, 9, 0],\n",
        "    [-6, 7, 11, 19]])\n",
        "\n",
        "print(\"A[:,0] =\",A[:,0]) # First Column\n",
        "print(\"A[:,3] =\", A[:,3]) # Fourth Column\n",
        "print(\"A[:,-1] =\", A[:,-1]) # Last Column (4th column in this case)   \n",
        "\n",
        "#slicing\n",
        "A = np.array([[1, 4, 5, 12, 14], \n",
        "    [-5, 8, 9, 0, 17],\n",
        "    [-6, 7, 11, 19, 21]])\n",
        "\n",
        "print(A[:2, :4])  # two rows, four columns\n",
        "print(A[:1,])  # first row, all columns\n",
        "\n",
        "print(A[:,2])  # all rows, second column\n",
        "\n",
        "print(A[:, 2:5])  # all rows, third to the fifth column"
      ],
      "execution_count": 23,
      "outputs": [
        {
          "output_type": "stream",
          "text": [
            "A[0][0] = 1\n",
            "A[1][2] = 9\n",
            "A[-1][-1] = 19\n",
            "A[:,0] = [ 1 -5 -6]\n",
            "A[:,3] = [12  0 19]\n",
            "A[:,-1] = [12  0 19]\n",
            "[[ 1  4  5 12]\n",
            " [-5  8  9  0]]\n",
            "[[ 1  4  5 12 14]]\n",
            "[ 5  9 11]\n",
            "[[ 5 12 14]\n",
            " [ 9  0 17]\n",
            " [11 19 21]]\n"
          ],
          "name": "stdout"
        }
      ]
    },
    {
      "cell_type": "code",
      "metadata": {
        "id": "mErtJxk5P0cB"
      },
      "source": [
        ""
      ],
      "execution_count": null,
      "outputs": []
    },
    {
      "cell_type": "markdown",
      "metadata": {
        "id": "2BXC4SIlP7zl"
      },
      "source": [
        "MATPLOTLIB IN PYTHON: Matplotlib is an amazing visualization library in Python for 2D plots of arrays. Matplotlib is a multi-platform data visualization library built on NumPy arrays and designed to work with the broader SciPy stack. It was introduced by John Hunter in the year 2002."
      ]
    },
    {
      "cell_type": "code",
      "metadata": {
        "id": "IJo3JnPIP82Q",
        "outputId": "1a132a2d-c742-47c4-b242-776e2cc083fd",
        "colab": {
          "base_uri": "https://localhost:8080/",
          "height": 1000
        }
      },
      "source": [
        "# importing matplotlib module  \n",
        "from matplotlib import pyplot as plt \n",
        "  \n",
        "# x-axis values \n",
        "x = [5, 2, 9, 4, 7] \n",
        "  \n",
        "# Y-axis values \n",
        "y = [10, 5, 8, 4, 2] \n",
        "  \n",
        "# Function to plot \n",
        "plt.plot(x,y) \n",
        "  \n",
        "# function to show the plot \n",
        "plt.show()\n",
        "\n",
        "x = [5, 2, 9, 4, 7] \n",
        "y = [10, 5, 8, 4, 2] \n",
        "  \n",
        "# Function to plot the bar \n",
        "plt.bar(x,y)  \n",
        "plt.show() \n",
        "plt.hist(y) #histogram over y\n",
        "plt.show() \n",
        "plt.scatter(x, y) \n",
        "plt.show() #scatter plot"
      ],
      "execution_count": 24,
      "outputs": [
        {
          "output_type": "display_data",
          "data": {
            "image/png": "[encoded data removed]",
            "text/plain": [
              "<Figure size 432x288 with 1 Axes>"
            ]
          },
          "metadata": {
            "tags": [],
            "needs_background": "light"
          }
        },
        {
          "output_type": "display_data",
          "data": {
            "image/png": "[encoded data removed]",
            "text/plain": [
              "<Figure size 432x288 with 1 Axes>"
            ]
          },
          "metadata": {
            "tags": [],
            "needs_background": "light"
          }
        },
        {
          "output_type": "display_data",
          "data": {
            "image/png": "[encoded data removed]",
            "text/plain": [
              "<Figure size 432x288 with 1 Axes>"
            ]
          },
          "metadata": {
            "tags": [],
            "needs_background": "light"
          }
        },
        {
          "output_type": "display_data",
          "data": {
            "image/png": "[encoded data removed]",
            "text/plain": [
              "<Figure size 432x288 with 1 Axes>"
            ]
          },
          "metadata": {
            "tags": [],
            "needs_background": "light"
          }
        }
      ]
    },
    {
      "cell_type": "code",
      "metadata": {
        "id": "3maxwFq5P9Wz",
        "outputId": "4b5eb913-0fed-4213-ca0b-ed6d0adedcf2",
        "colab": {
          "base_uri": "https://localhost:8080/",
          "height": 299
        }
      },
      "source": [
        "from matplotlib import style\n",
        " \n",
        "style.use('ggplot')\n",
        "x = [5,8,10]\n",
        "y = [12,16,6]\n",
        "x2 = [6,9,11]\n",
        "y2 = [6,15,7]\n",
        "plt.plot(x,y,'g',label='line one', linewidth=5)\n",
        "plt.plot(x2,y2,'c',label='line two',linewidth=5)\n",
        "plt.title('Epic Info')\n",
        "plt.ylabel('Y axis')\n",
        "plt.xlabel('X axis')\n",
        "plt.legend()\n",
        "plt.grid(True,color='k')\n",
        "plt.show()"
      ],
      "execution_count": 25,
      "outputs": [
        {
          "output_type": "display_data",
          "data": {
            "image/png": "[encoded data removed]",
            "text/plain": [
              "<Figure size 432x288 with 1 Axes>"
            ]
          },
          "metadata": {
            "tags": []
          }
        }
      ]
    },
    {
      "cell_type": "code",
      "metadata": {
        "id": "TUfFIOeFQgpy",
        "outputId": "622732e3-15e7-4633-f3e3-7cd7907b7d1a",
        "colab": {
          "base_uri": "https://localhost:8080/",
          "height": 299
        }
      },
      "source": [
        "plt.bar([0.25,1.25,2.25,3.25,4.25],[50,40,70,80,20],\n",
        "label=\"BMW\",width=.5)\n",
        "plt.bar([.75,1.75,2.75,3.75,4.75],[80,20,20,50,60],\n",
        "label=\"Audi\", color='k',width=.5)\n",
        "plt.legend()\n",
        "plt.xlabel('Days')\n",
        "plt.ylabel('Distance (kms)')\n",
        "plt.title('Information')\n",
        "plt.show()"
      ],
      "execution_count": 26,
      "outputs": [
        {
          "output_type": "display_data",
          "data": {
            "image/png": "[encoded data removed]",
            "text/plain": [
              "<Figure size 432x288 with 1 Axes>"
            ]
          },
          "metadata": {
            "tags": []
          }
        }
      ]
    },
    {
      "cell_type": "code",
      "metadata": {
        "id": "FVsb1cDTQkjB",
        "outputId": "d7dbf2e9-eb5e-4827-bf3b-b283a455d73c",
        "colab": {
          "base_uri": "https://localhost:8080/",
          "height": 299
        }
      },
      "source": [
        "#stackplot\n",
        "days = [1,2,3,4,5]\n",
        "  \n",
        "sleeping =[7,8,6,11,7]\n",
        "eating = [2,3,4,3,2]\n",
        "working =[7,8,7,2,2]\n",
        "playing = [8,5,7,8,13]\n",
        "  \n",
        "plt.plot([],[],color='m', label='Sleeping', linewidth=5)\n",
        "plt.plot([],[],color='c', label='Eating', linewidth=5)\n",
        "plt.plot([],[],color='r', label='Working', linewidth=5)\n",
        "plt.plot([],[],color='k', label='Playing', linewidth=5)\n",
        "  \n",
        "plt.stackplot(days, sleeping,eating,working,playing, colors=['m','c','r','k'])\n",
        "  \n",
        "plt.xlabel('x')\n",
        "plt.ylabel('y')\n",
        "plt.title('Stack Plot')\n",
        "plt.legend()\n",
        "plt.show()"
      ],
      "execution_count": 27,
      "outputs": [
        {
          "output_type": "display_data",
          "data": {
            "image/png": "[encoded data removed]",
            "text/plain": [
              "<Figure size 432x288 with 1 Axes>"
            ]
          },
          "metadata": {
            "tags": []
          }
        }
      ]
    },
    {
      "cell_type": "code",
      "metadata": {
        "id": "ZTB_oUkNQn50",
        "outputId": "036bf8dd-0320-40fa-d988-d13007ea9a32",
        "colab": {
          "base_uri": "https://localhost:8080/",
          "height": 265
        }
      },
      "source": [
        "days = [1,2,3,4,5]\n",
        " \n",
        "sleeping =[7,8,6,11,7]\n",
        "eating = [2,3,4,3,2]\n",
        "working =[7,8,7,2,2]\n",
        "playing = [8,5,7,8,13]\n",
        "slices = [7,2,2,13]\n",
        "activities = ['sleeping','eating','working','playing']\n",
        "cols = ['c','m','r','b']\n",
        " \n",
        "plt.pie(slices,\n",
        "  labels=activities,\n",
        "  colors=cols,\n",
        "  startangle=90,\n",
        "  shadow= True,\n",
        "  explode=(0,0.1,0,0),\n",
        "  autopct='%1.1f%%')\n",
        " \n",
        "plt.title('Pie Plot')\n",
        "plt.show()"
      ],
      "execution_count": 28,
      "outputs": [
        {
          "output_type": "display_data",
          "data": {
            "image/png": "[encoded data removed]",
            "text/plain": [
              "<Figure size 432x288 with 1 Axes>"
            ]
          },
          "metadata": {
            "tags": []
          }
        }
      ]
    },
    {
      "cell_type": "code",
      "metadata": {
        "id": "R10NTNLFQt9M"
      },
      "source": [
        ""
      ],
      "execution_count": null,
      "outputs": []
    }
  ]
}