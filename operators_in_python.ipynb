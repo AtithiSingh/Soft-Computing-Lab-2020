{
  "nbformat": 4,
  "nbformat_minor": 0,
  "metadata": {
    "colab": {
      "name": "sample_1",
      "provenance": [],
      "toc_visible": true,
      "authorship_tag": "ABX9TyPmBt79kIv1Q4uQ3X0w2N0O",
      "include_colab_link": true
    },
    "kernelspec": {
      "name": "python3",
      "display_name": "Python 3"
    }
  },
  "cells": [
    {
      "cell_type": "markdown",
      "metadata": {
        "id": "view-in-github",
        "colab_type": "text"
      },
      "source": [
        "<a href=\"https://colab.research.google.com/github/ISHIKA10/Soft-Computing-Lab-2020/blob/patch-1/operators_in_python.ipynb\" target=\"_parent\"><img src=\"https://colab.research.google.com/assets/colab-badge.svg\" alt=\"Open In Colab\"/></a>"
      ]
    },
    {
      "cell_type": "markdown",
      "metadata": {
        "id": "kNQ2lX2Pz4kF"
      },
      "source": [
        "# OPERATORS IN PYTHON:\n",
        "Python has many different Operators to chose from, which includes:\n",
        "\n",
        "\n",
        "*   Arithmetic operators\n",
        "*   Comparison operators\n",
        "*   Logical operators\n",
        "*   Identity operators\n",
        "*   Bitwise Operator\n",
        "\n",
        "\n",
        "\n",
        "\n",
        "\n",
        "\n",
        "\n",
        "\n",
        "\n",
        "\n",
        "\n",
        "\n",
        "\n",
        "\n",
        "\n"
      ]
    },
    {
      "cell_type": "markdown",
      "metadata": {
        "id": "pIth3jV86N4D"
      },
      "source": [
        "**Arithmetic operators** are used to perform mathematical operations like addition, subtraction, multiplication and division."
      ]
    },
    {
      "cell_type": "code",
      "metadata": {
        "id": "JosiYF68z_Yk",
        "outputId": "b7e16d83-7e51-420e-c175-b137dc9f6034",
        "colab": {
          "base_uri": "https://localhost:8080/",
          "height": 134
        }
      },
      "source": [
        "#Arithmetic operators\n",
        "a=3\n",
        "b=2\n",
        "print('a+b=',a+b)\n",
        "print('a-b=',a-b)\n",
        "print('a/b=',a/b)\n",
        "print('a//b=',a//b)\n",
        "print('a*b=',a*b)\n",
        "print('a%b=',a%b)\n",
        "print('a^b=',a**b)"
      ],
      "execution_count": 1,
      "outputs": [
        {
          "output_type": "stream",
          "text": [
            "a+b= 5\n",
            "a-b= 1\n",
            "a/b= 1.5\n",
            "a//b= 1\n",
            "a*b= 6\n",
            "a%b= 1\n",
            "a^b= 9\n"
          ],
          "name": "stdout"
        }
      ]
    },
    {
      "cell_type": "markdown",
      "metadata": {
        "id": "nTB4YvWl57q5"
      },
      "source": [
        "**Relational operators** compares the values. It either returns True or False according to the condition."
      ]
    },
    {
      "cell_type": "code",
      "metadata": {
        "id": "Mhr5vJb128y4",
        "outputId": "9871a1bc-28ac-42ab-a399-492868654429",
        "colab": {
          "base_uri": "https://localhost:8080/"
        }
      },
      "source": [
        "# Relational Operators\n",
        "a = 13\n",
        "b = 33\n",
        "  \n",
        "# a > b then True,else False \n",
        "print(a > b) \n",
        "\n",
        "print(a < b)\n",
        "\n",
        "print(a == b) \n",
        "\n",
        "print(a != b) \n",
        "  \n",
        "# a >= b True,else False \n",
        "print(a >= b) \n",
        "  \n",
        "print(a <= b) "
      ],
      "execution_count": null,
      "outputs": [
        {
          "output_type": "stream",
          "text": [
            "False\n",
            "True\n",
            "False\n",
            "True\n",
            "False\n",
            "True\n"
          ],
          "name": "stdout"
        }
      ]
    },
    {
      "cell_type": "markdown",
      "metadata": {
        "id": "MIsFG9r56bLQ"
      },
      "source": [
        "**Logical operator** perform Logical AND, Logical OR and Logical NOT operations."
      ]
    },
    {
      "cell_type": "code",
      "metadata": {
        "id": "oclNga3h6rwT",
        "outputId": "431b2017-dbc4-438b-b923-39cdad6f8773",
        "colab": {
          "base_uri": "https://localhost:8080/"
        }
      },
      "source": [
        "a = True\n",
        "b = False\n",
        "  \n",
        "print(a and b) \n",
        " \n",
        "print(a or b) \n",
        "   \n",
        "print(not a)"
      ],
      "execution_count": null,
      "outputs": [
        {
          "output_type": "stream",
          "text": [
            "False\n",
            "True\n",
            "False\n"
          ],
          "name": "stdout"
        }
      ]
    },
    {
      "cell_type": "markdown",
      "metadata": {
        "id": "J7IEqhiF7Xxp"
      },
      "source": [
        "**Bitwise operators** acts on bits and performs bit by bit operation"
      ]
    },
    {
      "cell_type": "code",
      "metadata": {
        "id": "593S11UV7ZdW",
        "outputId": "98aef738-42ec-4c80-e206-73facfa55599",
        "colab": {
          "base_uri": "https://localhost:8080/"
        }
      },
      "source": [
        "a = 10\n",
        "b = 4\n",
        "  \n",
        "\n",
        "#  AND operation \n",
        "print(a & b) \n",
        "  \n",
        "#  OR operation \n",
        "print(a | b) \n",
        "  \n",
        "#  NOT operation  \n",
        "print(~a) \n",
        "  \n",
        "#  XOR operation  \n",
        "print(a ^ b) \n",
        "  \n",
        "#  right shift operation  \n",
        "print(a >> 2) \n",
        "  \n",
        "#  left shift operation  \n",
        "print(a << 2) "
      ],
      "execution_count": null,
      "outputs": [
        {
          "output_type": "stream",
          "text": [
            "0\n",
            "14\n",
            "-11\n",
            "14\n",
            "2\n",
            "40\n"
          ],
          "name": "stdout"
        }
      ]
    }
  ]
}