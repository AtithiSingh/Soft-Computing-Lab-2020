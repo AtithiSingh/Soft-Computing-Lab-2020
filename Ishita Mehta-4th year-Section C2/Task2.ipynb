{
 "cells": [
  {
   "cell_type": "markdown",
   "metadata": {},
   "source": [
    "## Aim: Write a program to implement all operators in python."
   ]
  },
  {
   "cell_type": "markdown",
   "metadata": {},
   "source": [
    "Operators are used to perform operations on variables and values.\n",
    "Python divides the operators in the following groups:\n",
    "- Arithmetic operators\n",
    "- Comparison operators\n",
    "- Logical operators\n",
    "- Bitwise operators\n",
    "- Bitwise operators\n",
    "- Identity operators\n",
    "- Membership operators\n"
   ]
  },
  {
   "cell_type": "markdown",
   "metadata": {},
   "source": [
    "### 1) Arithmetic Operators\n",
    "Arithmetic operators are used to perform mathematical operations like addition, subtraction, multiplication, etc."
   ]
  },
  {
   "cell_type": "code",
   "execution_count": 14,
   "metadata": {},
   "outputs": [
    {
     "name": "stdout",
     "output_type": "stream",
     "text": [
      "10 + 3 = 13\n",
      "10 - 3 = 7\n",
      "10 * 3 = 30\n",
      "10 / 3 = 3.3333333333333335\n",
      "10 // 3 = 3\n",
      "10 % 3 = 1\n",
      "10 ** 3 = 1000\n"
     ]
    }
   ],
   "source": [
    "a,b=10,3\n",
    "print(a,'+',b,'=',a+b) #addition\n",
    "print(a,'-',b,'=',a-b) #subtraction\n",
    "print(a,'*',b,'=',a*b) #multiplication\n",
    "print(a,'/',b,'=',a/b) #division\n",
    "print(a,'//',b,'=',a//b) #floor division\n",
    "print(a,'%',b,'=',a%b)  #modulus\n",
    "print(a,'**',b,'=',a**b) #exponent"
   ]
  },
  {
   "cell_type": "markdown",
   "metadata": {},
   "source": [
    "### 2) Comparison operators\n",
    "Comparison operators are used to compare values. It returns either True or False according to the condition."
   ]
  },
  {
   "cell_type": "code",
   "execution_count": 3,
   "metadata": {},
   "outputs": [
    {
     "name": "stdout",
     "output_type": "stream",
     "text": [
      "10 > 3 = True\n",
      "10 < 3 = False\n",
      "10 == 3 = False\n",
      "10 != 3 = True\n",
      "10 >= 3 = True\n",
      "10 <= 3 = False\n"
     ]
    }
   ],
   "source": [
    "a,b=10,3\n",
    "print(a,'>',b,'=',a>b) #Greater than - True if left operand is greater than the right\n",
    "print(a,'<',b,'=',a<b) #Less than - True if left operand is less than the right\n",
    "print(a,'==',b,'=',a==b) #Equal to - True if both operands are equal\n",
    "print(a,'!=',b,'=',a!=b) #Not equal to - True if operands are not equal\n",
    "print(a,'>=',b,'=',a>=b) #Greater than or equal to - True if left operand is greater than or equal to the right\n",
    "print(a,'<=',b,'=',a<=b) #Less than or equal to - True if left operand is less than or equal to the right"
   ]
  },
  {
   "cell_type": "markdown",
   "metadata": {},
   "source": [
    "### 3) Logical operators\n",
    "Logical operators are the and, or, not operators."
   ]
  },
  {
   "cell_type": "code",
   "execution_count": 6,
   "metadata": {},
   "outputs": [
    {
     "name": "stdout",
     "output_type": "stream",
     "text": [
      "False AND True is False\n",
      "False OR True is True\n",
      "NOT False is True\n"
     ]
    }
   ],
   "source": [
    "a=False\n",
    "b=True\n",
    "print(a,'AND',b,'is',a and b) #True if both the operands are true\n",
    "print(a,'OR',b,'is',a or b) #True if either of the operands are true\n",
    "print('NOT', a,'is',not a) #True if operand is false (complements the operand)"
   ]
  },
  {
   "cell_type": "markdown",
   "metadata": {},
   "source": [
    "### 4) Bitwise operators\n",
    "Bitwise operators act on operands as if they were strings of binary digits. They operate bit by bit, hence the name."
   ]
  },
  {
   "cell_type": "code",
   "execution_count": 62,
   "metadata": {},
   "outputs": [
    {
     "name": "stdout",
     "output_type": "stream",
     "text": [
      "10 & 6 = 2\n",
      "10 | 6 = 14\n",
      "~ 6 = -7\n",
      "10 ^ 6 = 12\n",
      "10 >> 6 = 0\n",
      "10 << 6 = 640\n"
     ]
    }
   ],
   "source": [
    "a,b=10,6\n",
    "print(a,'&',b,'=',a&b) #Bitwise AND\n",
    "print(a,'|',b,'=',a|b) #Bitwise OR\n",
    "print('~',b,'=',~b)    #Bitwise NOT\n",
    "print(a,'^',b,'=',a^b) #Bitwise XOR\n",
    "print(a,'>>',b,'=',a>>b) #Bitwise right shift\n",
    "print(a,'<<',b,'=',a<<b) #Bitwise left shift"
   ]
  },
  {
   "cell_type": "markdown",
   "metadata": {},
   "source": [
    "### 5) Assignment operators\n",
    "Assignment operators are used in Python to assign values to variables."
   ]
  },
  {
   "cell_type": "code",
   "execution_count": 28,
   "metadata": {},
   "outputs": [
    {
     "name": "stdout",
     "output_type": "stream",
     "text": [
      "a = 5\n",
      "a = 8\n",
      "a = 5\n",
      "a = 15\n",
      "a = 5.0\n",
      "a = 2.0\n",
      "a = 0.0\n",
      "a = 0.0\n",
      "c = 2\n",
      "c = 3\n",
      "c = 7\n",
      "c = 3\n",
      "c = 6\n"
     ]
    }
   ],
   "source": [
    "a=5\n",
    "print('a','=',a)\n",
    "a+=3  #same as a=a+3\n",
    "print('a','=',a)\n",
    "a-=3  #same as a=a-3\n",
    "print('a','=',a)\n",
    "a*=3  #same as a=a*3\n",
    "print('a','=',a)\n",
    "a/=3  #same as a=a/3\n",
    "print('a','=',a)\n",
    "a%=3  #same as a=a%3\n",
    "print('a','=',a)\n",
    "a//=3  #same as a=a//3\n",
    "print('a','=',a)\n",
    "a**=3  #same as a=a**3\n",
    "print('a','=',a)\n",
    "c=6  \n",
    "c&=2  #same as c=c&2\n",
    "print('c','=',c)\n",
    "c|=1  #same as c=c|1\n",
    "print('c','=',c)\n",
    "c^=4  #same as c=c^4\n",
    "print('c','=',c)\n",
    "c>>=1  #same as c=c>>1\n",
    "print('c','=',c)\n",
    "c<<=1  #same as c=c<<1\n",
    "print('c','=',c)"
   ]
  },
  {
   "cell_type": "markdown",
   "metadata": {},
   "source": [
    "### 6) Identity operators\n",
    "- is and is not are the identity operators in Python.\n",
    "- They are used to check if two values (or variables) are identical i.e. located on the same part of the memory.\n",
    "- Two variables that are equal does not imply that they are identical."
   ]
  },
  {
   "cell_type": "code",
   "execution_count": 1,
   "metadata": {},
   "outputs": [
    {
     "name": "stdout",
     "output_type": "stream",
     "text": [
      "5 is not 5 = False\n",
      "good is good = True\n",
      "[1, 2, 3, 4] is [1, 2, 3, 4] = False\n"
     ]
    }
   ],
   "source": [
    "a = 5\n",
    "b = 5\n",
    "c = 'good'\n",
    "d = 'good'\n",
    "e = [1,2,3,4]\n",
    "f = [1,2,3,4]\n",
    "print(a,'is not',b,'=',a is not b)\n",
    "print(c,'is',d,'=',c is d)\n",
    "#x1 and y1 are integers of the same values, so they are equal as well as identical. Same is the case with x2 and y2 (strings).\n",
    "print(e,'is',f,'=',e is f)  \n",
    "#x3 and y3 are lists. They are equal but not identical. It is because the interpreter locates them separately in memory although they are equal."
   ]
  },
  {
   "cell_type": "markdown",
   "metadata": {},
   "source": [
    "### 7) Membership operators\n",
    "- in and not in are the membership operators in Python.\n",
    "- They are used to test whether a value or variable is found in a sequence (string, list, tuple, set and dictionary)."
   ]
  },
  {
   "cell_type": "code",
   "execution_count": 2,
   "metadata": {},
   "outputs": [
    {
     "name": "stdout",
     "output_type": "stream",
     "text": [
      "e in Hello = True\n",
      "he in Hello = False\n",
      "ell not in Hello = False\n",
      "1 in {1: 'mango', 2: 'orange'} = True\n",
      "mango in {1: 'mango', 2: 'orange'} = False\n"
     ]
    }
   ],
   "source": [
    "x = 'Hello'\n",
    "y = {1:'mango',2:'orange'}\n",
    "\n",
    "print('e in',x,'=','e' in x)\n",
    "print('he in',x,'=','he' in x)\n",
    "print('ell not in',x,'=','ell' not in x)\n",
    "print('1 in',y,'=',1 in y)\n",
    "print('mango in',y,'=','mango' in y)\n",
    "#In a dictionary we can only test for presence of key, not the value."
   ]
  },
  {
   "cell_type": "code",
   "execution_count": null,
   "metadata": {},
   "outputs": [],
   "source": []
  }
 ],
 "metadata": {
  "kernelspec": {
   "display_name": "Python 3",
   "language": "python",
   "name": "python3"
  },
  "language_info": {
   "codemirror_mode": {
    "name": "ipython",
    "version": 3
   },
   "file_extension": ".py",
   "mimetype": "text/x-python",
   "name": "python",
   "nbconvert_exporter": "python",
   "pygments_lexer": "ipython3",
   "version": "3.8.3"
  }
 },
 "nbformat": 4,
 "nbformat_minor": 4
}
