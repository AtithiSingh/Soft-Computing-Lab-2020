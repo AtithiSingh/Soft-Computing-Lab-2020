{
 "cells": [
  {
   "cell_type": "markdown",
   "metadata": {},
   "source": [
    "### Aim: Make a list of any 6 libraries of python with their functionalities in brief. Also,write the steps required for installing any new library in a new environment."
   ]
  },
  {
   "cell_type": "markdown",
   "metadata": {},
   "source": [
    "## 1) Theano\n",
    "### Installation: pip install Theano\n",
    "Theano is a Python library that allows you to define, optimize, and evaluate mathematical expressions involving multi-dimensional arrays efficiently. Theano features:\n",
    "- tight integration with NumPy – Use numpy.ndarray in Theano-compiled functions.\n",
    "- transparent use of a GPU – Perform data-intensive computations much faster than on a CPU.\n",
    "- efficient symbolic differentiation – Theano does your derivatives for functions with one or many inputs.\n",
    "- speed and stability optimizations – Get the right answer for log(1+x) even when x is really tiny.\n",
    "- dynamic C code generation – Evaluate expressions faster.\n",
    "- extensive unit-testing and self-verification – Detect and diagnose many types of errors."
   ]
  },
  {
   "cell_type": "markdown",
   "metadata": {},
   "source": [
    "## 2) PyTorch\n",
    "### Installation: pip install pytorch\n",
    "PyTorch is a python based library built to provide flexibility as a deep learning development platform. The workflow of PyTorch is as close as you can get to python’s scientific computing library – numpy.\n",
    "- Easy to use API – It is as simple as python can be.\n",
    "- Python support – As mentioned above, PyTorch smoothly integrates with the python data science stack. It is so similar to numpy that you might not even notice the difference.\n",
    "- Dynamic computation graphs – Instead of predefined graphs with specific functionalities, PyTorch provides a framework for us to build computational graphs as we go, and even change them during runtime. This is valuable for situations where we don’t know how much memory is going to be required for creating a neural network.\n",
    "- A few other advantages of using PyTorch are it’s multiGPU support, custom data loaders and simplified preprocessors."
   ]
  },
  {
   "cell_type": "markdown",
   "metadata": {},
   "source": [
    "## 3) OpenCV\n",
    "### Installation: pip install opencv-python\n",
    "- OpenCV was started at Intel in 1999 by Gary Bradsky and the first release came out in 2000.Right now, OpenCV supports a lot of algorithms related to Computer Vision and Machine Learning and it is expanding day-by-day.\n",
    "- OpenCV (Open Source Computer Vision) is a library of programming functions mainly aimed at real-time computer vision.\n",
    "- It can be used for Reading and Writing images, Detection of faces and its features, Detection of shapes like Circle,rectangle etc in a image,Text recognition in images, Modifying image quality and colors, Developing Augmented reality apps,etc.\n",
    "- Currently OpenCV supports a wide variety of programming languages like C++, Python, Java etc and is available on different platforms including Windows, Linux, OS X, Android, iOS etc. \n",
    "- Also, interfaces based on CUDA and OpenCL are also under active development for high-speed GPU operations.\n"
   ]
  },
  {
   "cell_type": "markdown",
   "metadata": {},
   "source": [
    "## 4) LightGBM\n",
    "### Installation: pip install lightgbm\n",
    "LightGBM is a gradient boosting framework that uses tree based learning algorithms. It is designed to be distributed and efficient with the following advantages:\n",
    "- Faster training speed and higher efficiency.\n",
    "- Lower memory usage.\n",
    "- Better accuracy.\n",
    "- Support of parallel and GPU learning.\n",
    "- Capable of handling large-scale data.\n"
   ]
  },
  {
   "cell_type": "markdown",
   "metadata": {},
   "source": [
    "## 5) Scikit-learn\n",
    "### Installation: pip install scikit-learn\n",
    "Scikit-learn provides a range of supervised and unsupervised learning algorithms via a consistent interface in Python.\n",
    "The library is built upon the SciPy (Scientific Python) that must be installed before you can use scikit-learn.\n",
    "The library is focused on modeling data. It is not focused on loading, manipulating and summarizing data. \n",
    "Some popular groups of models provided by scikit-learn include:\n",
    "- Clustering: for grouping unlabeled data such as KMeans.\n",
    "- Cross Validation: for estimating the performance of supervised models on unseen data.\n",
    "- Datasets: for test datasets and for generating datasets with specific properties for investigating model behavior.\n",
    "- Dimensionality Reduction: for reducing the number of attributes in data for summarization, visualization and feature selection such as Principal component analysis.\n",
    "- Ensemble methods: for combining the predictions of multiple supervised models.\n",
    "- Feature extraction: for defining attributes in image and text data.\n",
    "- Feature selection: for identifying meaningful attributes from which to create supervised models.\n",
    "- Parameter Tuning: for getting the most out of supervised models.\n",
    "- Manifold Learning: For summarizing and depicting complex multi-dimensional data.\n",
    "- Supervised Models: a vast array not limited to generalized linear models, discriminate analysis, naive bayes, lazy methods, neural networks, support vector machines and decision trees."
   ]
  },
  {
   "cell_type": "markdown",
   "metadata": {},
   "source": [
    "## 6) Keras\n",
    "### Installation: pip install keras\n",
    "Keras is considered as one of the coolest machine learning libraries in Python. It provides an easier mechanism to express neural networks. Keras also provides some of the best utilities for compiling models, processing data-sets, visualization of graphs, and much more.\n",
    "In the backend, Keras uses either Theano or TensorFlow internally. Some of the most popular neural networks like CNTK can also be used. Keras is comparatively slow when we compare it with other machine learning libraries. Because it creates a computational graph by using back-end infrastructure and then makes use of it to perform operations. All the models in Keras are portable.\n",
    "Features Of Keras are-\n",
    "- It runs smoothly on both CPU and GPU.\n",
    "- Keras supports almost all the models of a neural network – fully connected, convolutional, pooling, recurrent, embedding, etc. - Furthermore, these models can be combined to build more complex models.\n",
    "- Keras, being modular in nature,  is incredibly expressive, flexible, and apt for innovative research.\n",
    "- Keras is a completely Python-based framework, which makes it easy to debug and explore."
   ]
  },
  {
   "cell_type": "markdown",
   "metadata": {},
   "source": [
    "## Steps required to install any Python library in any given environment"
   ]
  },
  {
   "cell_type": "markdown",
   "metadata": {},
   "source": [
    "- Packages can be installed using pip or virtual environment manager: either venv for Python 3 or virtualenv for Python 2. These are the lowest-level tools for managing Python packages and are recommended if higher-level tools do not suit your needs."
   ]
  },
  {
   "cell_type": "markdown",
   "metadata": {},
   "source": [
    "### Installing pip\n",
    "pip is the reference Python package manager. It’s used to install and update packages. You’ll need to make sure you have the latest version of pip installed."
   ]
  },
  {
   "cell_type": "markdown",
   "metadata": {},
   "source": [
    "#### Windows\n",
    "- The Python installers for Windows include pip. You should be able to access pip using:\n",
    "        py -m pip --version\n",
    "        pip 9.0.1 from c:\\python36\\lib\\site-packages (Python 3.6.1)\n",
    "- You can make sure that pip is up-to-date by running:\n",
    "        py -m pip install --upgrade pip"
   ]
  },
  {
   "cell_type": "markdown",
   "metadata": {},
   "source": [
    "### Installing virtualenv\n",
    "- If you are using Python 3.3 or newer, the venv module is the preferred way to create and manage virtual environments. venv is included in the Python standard library and requires no additional installation. If you are using venv, you may skip this section.\n",
    "- virtualenv is used to manage Python packages for different projects. Using virtualenv allows you to avoid installing Python packages globally which could break system tools or other projects. You can install virtualenv using pip.\n",
    "- On macOS and Linux:\n",
    "        python3 -m pip install --user virtualenv\n",
    "- On Windows:\n",
    "        py -m pip install --user virtualenv"
   ]
  },
  {
   "cell_type": "markdown",
   "metadata": {},
   "source": [
    "### Creating a virtual environment\n",
    "- venv (for Python 3) and virtualenv (for Python 2) allow you to manage separate package installations for different projects. They essentially allow you to create a “virtual” isolated Python installation and install packages into that virtual installation. When you switch projects, you can simply create a new virtual environment and not have to worry about breaking the packages installed in the other environments. It is always recommended to use a virtual environment while developing Python applications.\n",
    "- To create a virtual environment, go to your project’s directory and run venv. If you are using Python 2, replace venv with virtualenv in the below commands.\n",
    "- On macOS and Linux:\n",
    "        python3 -m venv env\n",
    "- On Windows:\n",
    "        py -m venv env\n",
    "- The second argument is the location to create the virtual environment. Generally, you can just create this in your project and call it env.\n",
    "- venv will create a virtual Python installation in the env folder."
   ]
  },
  {
   "cell_type": "markdown",
   "metadata": {},
   "source": [
    "### Activating a virtual environment\n",
    "- Before you can start installing or using packages in your virtual environment you’ll need to activate it. Activating a virtual environment will put the virtual environment-specific python and pip executables into your shell’s PATH.\n",
    "\n",
    "- On macOS and Linux:\n",
    "\n",
    "        source env/bin/activate\n",
    "- On Windows:\n",
    "\n",
    "        .\\env\\Scripts\\activate"
   ]
  },
  {
   "cell_type": "markdown",
   "metadata": {},
   "source": [
    "### Installing packages\n",
    "- Now that you’re in your virtual environment you can install packages. \n",
    "- Example: Let’s install the Requests library from the Python Package Index (PyPI):\n",
    "#### pip install requests"
   ]
  },
  {
   "cell_type": "markdown",
   "metadata": {},
   "source": [
    "### Installing specific versions\n",
    "- pip allows you to specify which version of a package to install using version specifiers. For example, to install a specific version of requests:\n",
    "        pip install requests==2.18.4\n",
    "- To install the latest 2.x release of requests:\n",
    "        pip install requests>=2.0.0,<3.0.0\n",
    "- To install pre-release versions of packages, use the --pre flag:\n",
    "        pip install --pre requests"
   ]
  },
  {
   "cell_type": "markdown",
   "metadata": {},
   "source": [
    "### Using other package indexes\n",
    "- If you want to download packages from a different index than the Python Package Index (PyPI), you can use the --index-url flag:\n",
    "        pip install --index-url http://index.example.com/simple/ SomeProject\n",
    "- If you want to allow packages from both the Python Package Index (PyPI) and a separate index, you can use the --extra-index-url flag instead:\n",
    "        pip install --extra-index-url http://index.example.com/simple/ SomeProject"
   ]
  },
  {
   "cell_type": "markdown",
   "metadata": {},
   "source": [
    "### Upgrading packages\n",
    "- pip can upgrade packages in-place using the --upgrade flag. \n",
    "- For example, to install the latest version of requests and all of its dependencies:\n",
    "        pip install --upgrade requests"
   ]
  },
  {
   "cell_type": "markdown",
   "metadata": {},
   "source": [
    "### Leaving the virtual environment\n",
    "- If you want to switch projects or otherwise leave your virtual environment, simply run:\n",
    "        deactivate"
   ]
  },
  {
   "cell_type": "code",
   "execution_count": null,
   "metadata": {},
   "outputs": [],
   "source": []
  }
 ],
 "metadata": {
  "kernelspec": {
   "display_name": "Python 3",
   "language": "python",
   "name": "python3"
  },
  "language_info": {
   "codemirror_mode": {
    "name": "ipython",
    "version": 3
   },
   "file_extension": ".py",
   "mimetype": "text/x-python",
   "name": "python",
   "nbconvert_exporter": "python",
   "pygments_lexer": "ipython3",
   "version": "3.8.3"
  }
 },
 "nbformat": 4,
 "nbformat_minor": 4
}
