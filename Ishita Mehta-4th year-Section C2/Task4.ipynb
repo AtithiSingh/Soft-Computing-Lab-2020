{
 "cells": [
  {
   "cell_type": "markdown",
   "metadata": {},
   "source": [
    "### Aim: Write a program to implement various data structures in python and their opeations."
   ]
  },
  {
   "cell_type": "markdown",
   "metadata": {},
   "source": [
    "### 1) List\n",
    "\n",
    "- A list is created by placing all the elements inside square brackets [], separated by comma.\n",
    "- It can have any number of items and they may be of different types (integer, float, string etc.).\n",
    "- It can be accessed just like string (e.g. slicing and concatenation) so a list is simple to use and can grow and shrink automatically as needed."
   ]
  },
  {
   "cell_type": "code",
   "execution_count": 49,
   "metadata": {},
   "outputs": [
    {
     "name": "stdout",
     "output_type": "stream",
     "text": [
      "[1, 5.4, 0, 'a', 'hello', True, 4]\n"
     ]
    }
   ],
   "source": [
    "list=[1,5.4,0,\"a\",\"hello\",True,4]\n",
    "print(list)"
   ]
  },
  {
   "cell_type": "code",
   "execution_count": 50,
   "metadata": {},
   "outputs": [
    {
     "name": "stdout",
     "output_type": "stream",
     "text": [
      "5.4\n",
      "True\n",
      "[1, 0, 'hello', 4]\n",
      "[5.4, 0, 'a', 'hello']\n"
     ]
    }
   ],
   "source": [
    "#Accessig list elements\n",
    "print(list[1]) #Indexing\n",
    "print(list[-2]) #Negative indexing means beginning from the end, -1 refers to the last item, -2 refers to the second last item etc.\n",
    "print(list[::2]) #slicing [start:end:step_size]\n",
    "#By leaving out the start value, the range will start at the first item.\n",
    "#By leaving out the end value, the range will go on to the end of the list.\n",
    "print(list[1:5])\n",
    "#The search will start at index 1 (included) and end at index 5 (excluded)."
   ]
  },
  {
   "cell_type": "code",
   "execution_count": 51,
   "metadata": {},
   "outputs": [
    {
     "name": "stdout",
     "output_type": "stream",
     "text": [
      "[10, 5.4, 0, 'a', 'hello', True, 4]\n"
     ]
    }
   ],
   "source": [
    "#Change Item Value\n",
    "list[0]=10\n",
    "print(list) #element at index 0 is now changed to 10."
   ]
  },
  {
   "cell_type": "code",
   "execution_count": 52,
   "metadata": {},
   "outputs": [
    {
     "name": "stdout",
     "output_type": "stream",
     "text": [
      "[10, 5.4, 0, 'blue', 'a', 'hello', True, 4, 45]\n"
     ]
    }
   ],
   "source": [
    "#Add Items\n",
    "# To add an item to the end of the list, use the append() method\n",
    "list.append(45)\n",
    "#To add an item at the specified index, use the insert() method\n",
    "list.insert(3,\"blue\")\n",
    "print(list)"
   ]
  },
  {
   "cell_type": "code",
   "execution_count": 53,
   "metadata": {},
   "outputs": [
    {
     "name": "stdout",
     "output_type": "stream",
     "text": [
      "[10, 0, 'blue', 'a', True, 4]\n"
     ]
    }
   ],
   "source": [
    "#To remove an item from the list \"pop \" keyword is used\n",
    "#The remove() method removes the specified item\n",
    "list.remove(\"hello\")\n",
    "#The pop() method removes the specified index,or the last item if index is not specified\n",
    "list.pop()\n",
    "#The del keyword removes the specified index\n",
    "del list[1]\n",
    "print(list)"
   ]
  },
  {
   "cell_type": "code",
   "execution_count": 54,
   "metadata": {},
   "outputs": [
    {
     "name": "stdout",
     "output_type": "stream",
     "text": [
      "[4, True, 'a', 'blue', 0, 10]\n",
      "6\n"
     ]
    }
   ],
   "source": [
    "list.reverse() #To reverse the list\n",
    "print(list)\n",
    "print(len(list)) #To calculate length of the list"
   ]
  },
  {
   "cell_type": "code",
   "execution_count": 55,
   "metadata": {},
   "outputs": [
    {
     "name": "stdout",
     "output_type": "stream",
     "text": [
      "4\n",
      "True\n",
      "a\n",
      "blue\n",
      "0\n",
      "10\n"
     ]
    }
   ],
   "source": [
    "#Looping through a list\n",
    "for item in list:\n",
    "    print(item)"
   ]
  },
  {
   "cell_type": "code",
   "execution_count": 56,
   "metadata": {},
   "outputs": [
    {
     "name": "stdout",
     "output_type": "stream",
     "text": [
      "[-3, 0, 1, 3, 4, 7, 9]\n"
     ]
    }
   ],
   "source": [
    "#sort the list\n",
    "list1=[3,9,4,1,0,7,-3]\n",
    "list1.sort()\n",
    "print(list1)"
   ]
  },
  {
   "cell_type": "code",
   "execution_count": 57,
   "metadata": {},
   "outputs": [
    {
     "name": "stdout",
     "output_type": "stream",
     "text": [
      "[4, True, 'a', 'blue', 0, 10, -3, 0, 1, 3, 4, 7, 9]\n"
     ]
    }
   ],
   "source": [
    "#Joining 2 lists\n",
    "list2=list+list1\n",
    "print(list2)\n",
    "#list.extend(list1) also serves the same purpose."
   ]
  },
  {
   "cell_type": "code",
   "execution_count": 58,
   "metadata": {},
   "outputs": [
    {
     "name": "stdout",
     "output_type": "stream",
     "text": [
      "[]\n"
     ]
    }
   ],
   "source": [
    "#The clear() method empties the list\n",
    "list1.clear()\n",
    "print(list1)"
   ]
  },
  {
   "cell_type": "markdown",
   "metadata": {},
   "source": [
    "### 2) Dictionary\n",
    "* Dictionary in Python is similar to hash or maps in other languages. \n",
    "* It consists of key-value pairs. \n",
    "* The value can be accessed by unique key in the dictionary.\n",
    "* Keys are unique & immutable objects.\n",
    "* Syntax: dictionary = {\"key name\": value}"
   ]
  },
  {
   "cell_type": "code",
   "execution_count": 59,
   "metadata": {},
   "outputs": [
    {
     "name": "stdout",
     "output_type": "stream",
     "text": [
      "{'one': 1, 'two': 2, 'three': 3}\n"
     ]
    }
   ],
   "source": [
    "d={\"one\":1,\"two\":2,\"three\":3}\n",
    "print(d)"
   ]
  },
  {
   "cell_type": "code",
   "execution_count": 60,
   "metadata": {},
   "outputs": [
    {
     "name": "stdout",
     "output_type": "stream",
     "text": [
      "2\n",
      "2\n"
     ]
    }
   ],
   "source": [
    "#for acessing items\n",
    "print(d[\"two\"])\n",
    "#We can also use \"get\" keyword\n",
    "print(d.get(\"two\"))"
   ]
  },
  {
   "cell_type": "code",
   "execution_count": 61,
   "metadata": {},
   "outputs": [
    {
     "name": "stdout",
     "output_type": "stream",
     "text": [
      "{'one': 10, 'two': 2, 'three': 3}\n"
     ]
    }
   ],
   "source": [
    "# To change the values \n",
    "d[\"one\"]=10\n",
    "print(d)"
   ]
  },
  {
   "cell_type": "code",
   "execution_count": 62,
   "metadata": {},
   "outputs": [
    {
     "name": "stdout",
     "output_type": "stream",
     "text": [
      "one\n",
      "two\n",
      "three\n",
      "10\n",
      "2\n",
      "3\n"
     ]
    }
   ],
   "source": [
    "#Looping through dictionary\n",
    "\n",
    "for x in d:\n",
    "    print(x)\n",
    "    \n",
    "#For Printing all the values one by one\n",
    "\n",
    "for x in d:\n",
    "    print(d[x])"
   ]
  },
  {
   "cell_type": "code",
   "execution_count": 63,
   "metadata": {},
   "outputs": [
    {
     "name": "stdout",
     "output_type": "stream",
     "text": [
      "10\n",
      "2\n",
      "3\n"
     ]
    }
   ],
   "source": [
    "#We can use \"values\" keyword to return the value of dict.\n",
    "for x in d.values():\n",
    "    print(x)"
   ]
  },
  {
   "cell_type": "code",
   "execution_count": 64,
   "metadata": {},
   "outputs": [
    {
     "name": "stdout",
     "output_type": "stream",
     "text": [
      "one 10\n",
      "two 2\n",
      "three 3\n"
     ]
    }
   ],
   "source": [
    "#Loop through both keys and values, by using the items() method:\n",
    "for x, y in d.items():\n",
    "    print(x,y)"
   ]
  },
  {
   "cell_type": "code",
   "execution_count": 65,
   "metadata": {},
   "outputs": [
    {
     "name": "stdout",
     "output_type": "stream",
     "text": [
      "3\n"
     ]
    }
   ],
   "source": [
    "#For checking the length of dictonary\n",
    "print(len(d))"
   ]
  },
  {
   "cell_type": "code",
   "execution_count": 66,
   "metadata": {},
   "outputs": [
    {
     "name": "stdout",
     "output_type": "stream",
     "text": [
      "{'one': 10, 'two': 2, 'three': 3, 'four': 4}\n"
     ]
    }
   ],
   "source": [
    "#To add items in dictionary\n",
    "d[\"four\"]=4\n",
    "print(d)"
   ]
  },
  {
   "cell_type": "code",
   "execution_count": 67,
   "metadata": {},
   "outputs": [
    {
     "name": "stdout",
     "output_type": "stream",
     "text": [
      "{'two': 2, 'three': 3, 'four': 4}\n"
     ]
    }
   ],
   "source": [
    "#To remove items from dictionary\n",
    "d.pop(\"one\")\n",
    "print(d)"
   ]
  },
  {
   "cell_type": "code",
   "execution_count": 68,
   "metadata": {},
   "outputs": [
    {
     "name": "stdout",
     "output_type": "stream",
     "text": [
      "{'two': 2, 'four': 4}\n"
     ]
    }
   ],
   "source": [
    "#The del keyword removes the item with the specified key name\n",
    "del d[\"three\"]\n",
    "print(d)"
   ]
  },
  {
   "cell_type": "code",
   "execution_count": 69,
   "metadata": {},
   "outputs": [
    {
     "name": "stdout",
     "output_type": "stream",
     "text": [
      "{}\n"
     ]
    }
   ],
   "source": [
    "d.clear()\n",
    "print(d)"
   ]
  },
  {
   "cell_type": "markdown",
   "metadata": {},
   "source": [
    "### 3) Tuple\n",
    "* Tuples work exactly like lists except they are immutable, i.e. they can’t be changed in place. \n",
    "* They are normally written inside parentheses to distinguish them from lists (which use square brackets), parentheses aren’t always necessary. \n",
    "* Since tuples are immutable, their length is fixed. To grow or shrink a tuple, a new tuple must be created."
   ]
  },
  {
   "cell_type": "code",
   "execution_count": 70,
   "metadata": {},
   "outputs": [
    {
     "name": "stdout",
     "output_type": "stream",
     "text": [
      "(1, 'a', 'string', 3)\n",
      "a\n",
      "('a', 'string')\n",
      "(3, 'string', 'a', 1)\n"
     ]
    }
   ],
   "source": [
    "tup = (1, \"a\", \"string\", 1+2) \n",
    "print (tup) \n",
    "#Accessing tuple items\n",
    "print (tup[1]) \n",
    "print(tup[1:3])\n",
    "print(tup[::-1])#print in reverse order "
   ]
  },
  {
   "cell_type": "code",
   "execution_count": 71,
   "metadata": {},
   "outputs": [
    {
     "name": "stdout",
     "output_type": "stream",
     "text": [
      "(0, 1, 2, 3, 'a', 'b', 'c')\n"
     ]
    }
   ],
   "source": [
    "#Code for concatenating two tuples\n",
    "tuple1=(0,1,2,3)\n",
    "tuple2=(\"a\",\"b\",\"c\")\n",
    "print(tuple1+tuple2)"
   ]
  },
  {
   "cell_type": "code",
   "execution_count": 72,
   "metadata": {},
   "outputs": [
    {
     "name": "stdout",
     "output_type": "stream",
     "text": [
      "((0, 1, 2, 3), ('a', 'b', 'c'))\n"
     ]
    }
   ],
   "source": [
    "#nesting tuples\n",
    "tuple3=(tuple1,tuple2)\n",
    "print(tuple3)"
   ]
  },
  {
   "cell_type": "code",
   "execution_count": 73,
   "metadata": {},
   "outputs": [
    {
     "name": "stdout",
     "output_type": "stream",
     "text": [
      "('a', 'a', 'a', 'a', 'a')\n"
     ]
    }
   ],
   "source": [
    "#Use of multiplication operator\n",
    "tup=(\"a\",)*5\n",
    "print(tup)"
   ]
  },
  {
   "cell_type": "code",
   "execution_count": 74,
   "metadata": {},
   "outputs": [
    {
     "ename": "TypeError",
     "evalue": "'tuple' object does not support item assignment",
     "output_type": "error",
     "traceback": [
      "\u001b[1;31m---------------------------------------------------------------------------\u001b[0m",
      "\u001b[1;31mTypeError\u001b[0m                                 Traceback (most recent call last)",
      "\u001b[1;32m<ipython-input-74-517b10391f80>\u001b[0m in \u001b[0;36m<module>\u001b[1;34m\u001b[0m\n\u001b[0;32m      1\u001b[0m \u001b[1;31m#Tuples are immutable\u001b[0m\u001b[1;33m\u001b[0m\u001b[1;33m\u001b[0m\u001b[1;33m\u001b[0m\u001b[0m\n\u001b[1;32m----> 2\u001b[1;33m \u001b[0mtuple1\u001b[0m\u001b[1;33m[\u001b[0m\u001b[1;36m0\u001b[0m\u001b[1;33m]\u001b[0m\u001b[1;33m=\u001b[0m\u001b[1;36m4\u001b[0m\u001b[1;33m\u001b[0m\u001b[1;33m\u001b[0m\u001b[0m\n\u001b[0m\u001b[0;32m      3\u001b[0m \u001b[0mprint\u001b[0m\u001b[1;33m(\u001b[0m\u001b[0mtuple1\u001b[0m\u001b[1;33m)\u001b[0m\u001b[1;33m\u001b[0m\u001b[1;33m\u001b[0m\u001b[0m\n\u001b[0;32m      4\u001b[0m \u001b[1;31m#Once a tuple is created, you cannot add items to it. Tuples are unchangeable.\u001b[0m\u001b[1;33m\u001b[0m\u001b[1;33m\u001b[0m\u001b[1;33m\u001b[0m\u001b[0m\n",
      "\u001b[1;31mTypeError\u001b[0m: 'tuple' object does not support item assignment"
     ]
    }
   ],
   "source": [
    "#Tuples are immutable\n",
    "tuple1[0]=4\n",
    "print(tuple1)\n",
    "#Once a tuple is created, you cannot add items to it. Tuples are unchangeable."
   ]
  },
  {
   "cell_type": "code",
   "execution_count": 75,
   "metadata": {},
   "outputs": [
    {
     "name": "stdout",
     "output_type": "stream",
     "text": [
      "5\n"
     ]
    }
   ],
   "source": [
    "#Finding the length of tuple\n",
    "print(len(tup))"
   ]
  },
  {
   "cell_type": "code",
   "execution_count": 76,
   "metadata": {},
   "outputs": [
    {
     "name": "stdout",
     "output_type": "stream",
     "text": [
      "(0, 1, 2)\n",
      "('h', 'e', 'l', 'l', 'o')\n"
     ]
    }
   ],
   "source": [
    "#Code for converting a list and a string into a tuple\n",
    "list1 = [0, 1, 2] \n",
    "print(tuple(list1)) \n",
    "print(tuple('hello')) # string \n"
   ]
  },
  {
   "cell_type": "code",
   "execution_count": 77,
   "metadata": {},
   "outputs": [],
   "source": [
    "#Tuples are unchangeable, so you cannot remove items from it, but you can delete the tuple completely\n",
    "del(tup)"
   ]
  },
  {
   "cell_type": "markdown",
   "metadata": {},
   "source": [
    "### 4) Set\n",
    "* A set is a collection which is unordered and unindexed. \n",
    "* In Python, sets are written with curly brackets."
   ]
  },
  {
   "cell_type": "code",
   "execution_count": 79,
   "metadata": {},
   "outputs": [
    {
     "name": "stdout",
     "output_type": "stream",
     "text": [
      "{'c', 'a', 'b'}\n"
     ]
    }
   ],
   "source": [
    "set1 = {\"a\", \"b\", \"c\"}\n",
    "print(set1)"
   ]
  },
  {
   "cell_type": "code",
   "execution_count": 80,
   "metadata": {},
   "outputs": [
    {
     "name": "stdout",
     "output_type": "stream",
     "text": [
      "c\n",
      "a\n",
      "b\n"
     ]
    }
   ],
   "source": [
    "#Accessing Items\n",
    "#You cannot access items in a set by referring to an index or a key but you can loop through the set items using a \"for\" loop, \n",
    "for x in set1:\n",
    "  print(x)"
   ]
  },
  {
   "cell_type": "code",
   "execution_count": 81,
   "metadata": {},
   "outputs": [
    {
     "name": "stdout",
     "output_type": "stream",
     "text": [
      "True\n",
      "False\n"
     ]
    }
   ],
   "source": [
    "#To check for the item\n",
    "print(\"b\" in set1)\n",
    "print(\"f\" in set1)"
   ]
  },
  {
   "cell_type": "code",
   "execution_count": 82,
   "metadata": {},
   "outputs": [
    {
     "name": "stdout",
     "output_type": "stream",
     "text": [
      "{'c', 'h', 'a', 'b'}\n",
      "{'z', 'y', 'c', 'b', 'a', 'x', 'h'}\n"
     ]
    }
   ],
   "source": [
    "#Once a set is created, you cannot change its items but new items can be added.\n",
    "#Add Items\n",
    "set1.add(\"h\")\n",
    "print(set1)\n",
    "\n",
    "#Add multiple items to a set, using the update() method:\n",
    "set1.update([\"x\", \"y\", \"z\"])\n",
    "print(set1)"
   ]
  },
  {
   "cell_type": "code",
   "execution_count": 83,
   "metadata": {},
   "outputs": [
    {
     "name": "stdout",
     "output_type": "stream",
     "text": [
      "7\n"
     ]
    }
   ],
   "source": [
    "#To check the length\n",
    "print(len(set1))"
   ]
  },
  {
   "cell_type": "code",
   "execution_count": 84,
   "metadata": {},
   "outputs": [
    {
     "name": "stdout",
     "output_type": "stream",
     "text": [
      "{'z', 'y', 'c', 'b', 'a', 'x'}\n",
      "{'y', 'c', 'b', 'a', 'x'}\n"
     ]
    }
   ],
   "source": [
    "#To remove an item in a set, use the remove(), or the discard() method.\n",
    "set1.remove(\"h\")\n",
    "print(set1)\n",
    "#Sets are unordered, so when using the pop() method, you will not know which item that gets removed.\n",
    "set1.pop()\n",
    "print(set1)"
   ]
  },
  {
   "cell_type": "code",
   "execution_count": 85,
   "metadata": {},
   "outputs": [
    {
     "name": "stdout",
     "output_type": "stream",
     "text": [
      "set()\n"
     ]
    }
   ],
   "source": [
    "#The clear() method empties the set:\n",
    "set1.clear()\n",
    "print(set1)"
   ]
  },
  {
   "cell_type": "code",
   "execution_count": 86,
   "metadata": {},
   "outputs": [
    {
     "name": "stdout",
     "output_type": "stream",
     "text": [
      "{1, 2, 'a', 3, 'c', 'b'}\n",
      "{1, 2, 'a', 3, 'c', 'b'}\n"
     ]
    }
   ],
   "source": [
    "#Joining 2 sets\n",
    "#The union() method returns a new set with all items from both sets:\n",
    "set1 = {\"a\", \"b\" , \"c\"}\n",
    "set2 = {1, 2, 3}\n",
    "set3 = set1.union(set2)\n",
    "print(set3)\n",
    "#The update() method inserts the items in set2 into set1\n",
    "set1.update(set2)\n",
    "print(set1)\n",
    "\n"
   ]
  }
 ],
 "metadata": {
  "kernelspec": {
   "display_name": "Python 3",
   "language": "python",
   "name": "python3"
  },
  "language_info": {
   "codemirror_mode": {
    "name": "ipython",
    "version": 3
   },
   "file_extension": ".py",
   "mimetype": "text/x-python",
   "name": "python",
   "nbconvert_exporter": "python",
   "pygments_lexer": "ipython3",
   "version": "3.8.3"
  }
 },
 "nbformat": 4,
 "nbformat_minor": 4
}
