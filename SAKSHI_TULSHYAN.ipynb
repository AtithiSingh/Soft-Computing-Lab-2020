{
  "nbformat": 4,
  "nbformat_minor": 0,
  "metadata": {
    "colab": {
      "name": "SAKSHI TULSHYAN",
      "provenance": [],
      "include_colab_link": true
    },
    "kernelspec": {
      "name": "python3",
      "display_name": "Python 3"
    }
  },
  "cells": [
    {
      "cell_type": "markdown",
      "metadata": {
        "id": "view-in-github",
        "colab_type": "text"
      },
      "source": [
        "<a href=\"https://colab.research.google.com/github/sakshitulshyan/Soft-Computing-Lab-2020/blob/master/SAKSHI_TULSHYAN.ipynb\" target=\"_parent\"><img src=\"https://colab.research.google.com/assets/colab-badge.svg\" alt=\"Open In Colab\"/></a>"
      ]
    },
    {
      "cell_type": "markdown",
      "metadata": {
        "id": "aJqpBSNWS461"
      },
      "source": [
        "AIM: Program to implement all operators in python\n"
      ]
    },
    {
      "cell_type": "code",
      "metadata": {
        "id": "A4yNEawDlf3N"
      },
      "source": [
        ""
      ],
      "execution_count": null,
      "outputs": []
    },
    {
      "cell_type": "markdown",
      "metadata": {
        "id": "VTqouz_RTREp"
      },
      "source": [
        "1. Arithematic Operators"
      ]
    },
    {
      "cell_type": "code",
      "metadata": {
        "id": "soUpf3J5TUAx",
        "outputId": "51691e3f-702c-4107-c12d-94a242642baf",
        "colab": {
          "base_uri": "https://localhost:8080/",
          "height": 136
        }
      },
      "source": [
        "#Addition\n",
        "x = 10\n",
        "y = 5\n",
        "print('x + y =',x+y)\n",
        "\n",
        "# Substraction\n",
        "print('x - y =',x-y)\n",
        "\n",
        "# Multiplication\n",
        "print('x * y =',x*y)\n",
        "\n",
        "# Division\n",
        "print('x / y =',x/y)\n",
        "\n",
        "# Floor division\n",
        "print('x // y =',x//y)\n",
        "\n",
        "# Exponent\n",
        "print('x ** y =',x**y)\n",
        "\n",
        "# Modulus\n",
        "print('x % y =',x%y)"
      ],
      "execution_count": null,
      "outputs": [
        {
          "output_type": "stream",
          "text": [
            "x + y = 15\n",
            "x - y = 5\n",
            "x * y = 50\n",
            "x / y = 2.0\n",
            "x // y = 2\n",
            "x ** y = 100000\n",
            "x % y = 0\n"
          ],
          "name": "stdout"
        }
      ]
    },
    {
      "cell_type": "markdown",
      "metadata": {
        "id": "umxbisKPT8Tw"
      },
      "source": [
        "2. Comparison Operators"
      ]
    },
    {
      "cell_type": "code",
      "metadata": {
        "id": "dULjrRN3UAyf",
        "outputId": "408090b4-9c66-4170-a83c-48eab38ccaec",
        "colab": {
          "base_uri": "https://localhost:8080/",
          "height": 119
        }
      },
      "source": [
        "x = 2\n",
        "y = 3\n",
        "\n",
        "# Greater than\n",
        "print('x > y is',x>y)\n",
        "\n",
        "# Less than\n",
        "print('x < y is',x<y)\n",
        "\n",
        "# Equal to\n",
        "print('x == y is',x==y)\n",
        "\n",
        "# Not equal to\n",
        "print('x != y is',x!=y)\n",
        "\n",
        "# Greater than or equal to\n",
        "print('x >= y is',x>=y)\n",
        "\n",
        "# Smaller than or equal to\n",
        "print('x <= y is',x<=y)"
      ],
      "execution_count": null,
      "outputs": [
        {
          "output_type": "stream",
          "text": [
            "x > y is False\n",
            "x < y is True\n",
            "x == y is False\n",
            "x != y is True\n",
            "x >= y is False\n",
            "x <= y is True\n"
          ],
          "name": "stdout"
        }
      ]
    },
    {
      "cell_type": "markdown",
      "metadata": {
        "id": "5vmcIaVNUGv6"
      },
      "source": [
        "3. Logical Operators"
      ]
    },
    {
      "cell_type": "code",
      "metadata": {
        "id": "eK6leT8pUJ9F",
        "outputId": "c5a5d84c-8b69-450e-84cd-bcba9d9689ef",
        "colab": {
          "base_uri": "https://localhost:8080/",
          "height": 68
        }
      },
      "source": [
        "x = True #considered as 1\n",
        "y = False #considered as 0\n",
        "\n",
        "print('x or y is',x or y)\n",
        "\n",
        "print('x and y is',x and y)\n",
        "\n",
        "print('not x is',not x)"
      ],
      "execution_count": null,
      "outputs": [
        {
          "output_type": "stream",
          "text": [
            "x or y is True\n",
            "x and y is False\n",
            "not x is False\n"
          ],
          "name": "stdout"
        }
      ]
    },
    {
      "cell_type": "markdown",
      "metadata": {
        "id": "CFCP4LvYUNGT"
      },
      "source": [
        "4. Bitwise Operators"
      ]
    },
    {
      "cell_type": "code",
      "metadata": {
        "id": "9u5fNpl0URC6",
        "outputId": "5648018a-86dc-4cdc-d866-68eee1f79b00",
        "colab": {
          "base_uri": "https://localhost:8080/",
          "height": 119
        }
      },
      "source": [
        "x = 3\n",
        "y = 9\n",
        "\n",
        "# Bitwise AND\n",
        "print(x & y)\n",
        "\n",
        "# Bitwise OR\n",
        "print(x | y)\n",
        "\n",
        "# Bitwise NOT\n",
        "print(~x)\n",
        "\n",
        "# Bitwise XOR\n",
        "print(x ^ y)\n",
        "\n",
        "# Bitwise RIGHT SHIFT\n",
        "print(x >> 2)\n",
        "\n",
        "# Bitwise LEFT SHIFT\n",
        "print(x << 2)"
      ],
      "execution_count": null,
      "outputs": [
        {
          "output_type": "stream",
          "text": [
            "1\n",
            "11\n",
            "-4\n",
            "10\n",
            "0\n",
            "12\n"
          ],
          "name": "stdout"
        }
      ]
    },
    {
      "cell_type": "markdown",
      "metadata": {
        "id": "VAtwCtp5UWtL"
      },
      "source": [
        "5. Assignment Operators"
      ]
    },
    {
      "cell_type": "code",
      "metadata": {
        "id": "A-QZA13BUcNS",
        "outputId": "c034fde7-2607-44a7-f6c9-2deadf036b7c",
        "colab": {
          "base_uri": "https://localhost:8080/",
          "height": 136
        }
      },
      "source": [
        "a = 10\n",
        "b = 2\n",
        "c = 30\n",
        "\n",
        "c = a + b\n",
        "print (\"Value of c after c = a + b is \", c)\n",
        "\n",
        "c += a\n",
        "print (\"Value of c after c += a is \", c )\n",
        "\n",
        "c *= a\n",
        "print (\"Value of c after c *= a is \", c)\n",
        "\n",
        "c /= a \n",
        "print (\"Value of c after c /= a  is \", c) \n",
        "\n",
        "c  = 2\n",
        "c %= a\n",
        "print (\"Value of c after c %= a is \", c)\n",
        "\n",
        "c **= a\n",
        "print (\"Value of c after c **= a is \", c)\n",
        "\n",
        "c //= a\n",
        "print (\"Value of c after c //= a is \", c)"
      ],
      "execution_count": null,
      "outputs": [
        {
          "output_type": "stream",
          "text": [
            "Value of c after c = a + b is  12\n",
            "Value of c after c += a is  22\n",
            "Value of c after c *= a is  220\n",
            "Value of c after c /= a  is  22.0\n",
            "Value of c after c %= a is  2\n",
            "Value of c after c **= a is  1024\n",
            "Value of c after c //= a is  102\n"
          ],
          "name": "stdout"
        }
      ]
    },
    {
      "cell_type": "markdown",
      "metadata": {
        "id": "qtD9_EmRU9se"
      },
      "source": [
        "Submitted By: SAKSHI TULSHYAN/(170386)/Section C1/4th year"
      ]
    }
  ]
}