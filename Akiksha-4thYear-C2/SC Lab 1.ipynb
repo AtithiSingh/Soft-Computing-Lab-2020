{
 "cells": [
  {
   "cell_type": "markdown",
   "metadata": {},
   "source": [
    "# Aim: Write aprogram to implement all operators in python."
   ]
  },
  {
   "cell_type": "code",
   "execution_count": 3,
   "metadata": {},
   "outputs": [
    {
     "name": "stdout",
     "output_type": "stream",
     "text": [
      "10\n",
      "5\n"
     ]
    }
   ],
   "source": [
    "a=10\n",
    "b=5\n",
    "print(a)\n",
    "print(b)"
   ]
  },
  {
   "cell_type": "markdown",
   "metadata": {},
   "source": [
    "# Arithmatic Operators\n"
   ]
  },
  {
   "cell_type": "code",
   "execution_count": 5,
   "metadata": {},
   "outputs": [
    {
     "name": "stdout",
     "output_type": "stream",
     "text": [
      " \n",
      " Results \n",
      "\n",
      "15\n",
      "5\n",
      "50\n",
      "2.0\n",
      "0\n",
      "0\n"
     ]
    }
   ],
   "source": [
    "add = a+b\n",
    "sub = a-b\n",
    "multiply = a*b\n",
    "divide = a/b\n",
    "divfloor = b//a\n",
    "modulus= a%b\n",
    "\n",
    "print(\" \\n Results \\n\")\n",
    "print(add)\n",
    "print(sub)\n",
    "print(multiply)\n",
    "print(divide)\n",
    "print(divfloor)\n",
    "print(modulus)"
   ]
  },
  {
   "cell_type": "markdown",
   "metadata": {},
   "source": [
    "# Relational operators"
   ]
  },
  {
   "cell_type": "code",
   "execution_count": 6,
   "metadata": {},
   "outputs": [
    {
     "data": {
      "text/plain": [
       "False"
      ]
     },
     "execution_count": 6,
     "metadata": {},
     "output_type": "execute_result"
    }
   ],
   "source": [
    "a>b\n",
    "a<b\n",
    "a==b\n",
    "a!=b\n",
    "a>=b\n",
    "a<=b"
   ]
  },
  {
   "cell_type": "markdown",
   "metadata": {},
   "source": [
    "# Logical operators "
   ]
  },
  {
   "cell_type": "code",
   "execution_count": 7,
   "metadata": {},
   "outputs": [
    {
     "name": "stdout",
     "output_type": "stream",
     "text": [
      "True\n",
      "False\n"
     ]
    },
    {
     "data": {
      "text/plain": [
       "False"
      ]
     },
     "execution_count": 7,
     "metadata": {},
     "output_type": "execute_result"
    }
   ],
   "source": [
    "a=True\n",
    "b=False\n",
    "print(a)\n",
    "print(b)\n",
    "a and b\n",
    "a or b\n",
    "not a"
   ]
  },
  {
   "cell_type": "markdown",
   "metadata": {},
   "source": [
    "# Bitwise operators"
   ]
  },
  {
   "cell_type": "code",
   "execution_count": 8,
   "metadata": {},
   "outputs": [
    {
     "name": "stdout",
     "output_type": "stream",
     "text": [
      "False\n",
      "True\n",
      "-2\n",
      "True\n",
      "0\n",
      "4\n"
     ]
    }
   ],
   "source": [
    "print(a & b)\n",
    "print(a | b)\n",
    "print(~a)\n",
    "print(a ^ b)\n",
    "print(a >> 2)\n",
    "print(a << 2)"
   ]
  },
  {
   "cell_type": "code",
   "execution_count": null,
   "metadata": {},
   "outputs": [],
   "source": []
  }
 ],
 "metadata": {
  "kernelspec": {
   "display_name": "Python 3",
   "language": "python",
   "name": "python3"
  },
  "language_info": {
   "codemirror_mode": {
    "name": "ipython",
    "version": 3
   },
   "file_extension": ".py",
   "mimetype": "text/x-python",
   "name": "python",
   "nbconvert_exporter": "python",
   "pygments_lexer": "ipython3",
   "version": "3.7.4"
  }
 },
 "nbformat": 4,
 "nbformat_minor": 2
}
