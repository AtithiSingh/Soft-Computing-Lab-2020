{
 "cells": [
  {
   "cell_type": "markdown",
   "metadata": {},
   "source": [
    "# Aim: Write a program to implement all operators in python."
   ]
  },
  {
   "cell_type": "code",
   "execution_count": 24,
   "metadata": {},
   "outputs": [],
   "source": [
    "#Python has the following operators:\n",
    "\n",
    "#1. Arithmetic operators\n",
    "#2. Assignment operators\n",
    "#3. Comparison operators\n",
    "#4. Logical operators\n",
    "#5. Identity operators\n",
    "#6. Membership operators\n",
    "#7. Bitwise operators\n"
   ]
  },
  {
   "cell_type": "code",
   "execution_count": 25,
   "metadata": {},
   "outputs": [
    {
     "ename": "SyntaxError",
     "evalue": "invalid syntax (<ipython-input-25-b78977303843>, line 1)",
     "output_type": "error",
     "traceback": [
      "\u001b[1;36m  File \u001b[1;32m\"<ipython-input-25-b78977303843>\"\u001b[1;36m, line \u001b[1;32m1\u001b[0m\n\u001b[1;33m    1. Arithmetic operators\u001b[0m\n\u001b[1;37m       ^\u001b[0m\n\u001b[1;31mSyntaxError\u001b[0m\u001b[1;31m:\u001b[0m invalid syntax\n"
     ]
    }
   ],
   "source": [
    "#1. Arithmetic operators"
   ]
  },
  {
   "cell_type": "code",
   "execution_count": 9,
   "metadata": {},
   "outputs": [
    {
     "name": "stdout",
     "output_type": "stream",
     "text": [
      "23\n",
      "17\n",
      "60\n",
      "6.666666666666667\n",
      "2\n",
      "8000\n",
      "6\n"
     ]
    }
   ],
   "source": [
    "x = 20\n",
    "y = 3\n",
    "\n",
    "Addition = x + y\n",
    "Subtraction = x - y\n",
    "Multiplication = x * y\n",
    "Division = x / y\n",
    "Modulus = x % y\n",
    "Exponentiation = x ** y\n",
    "Floor_division = x // y\n",
    "\n",
    "print(Addition)\n",
    "print(Subtraction)\n",
    "print(Multiplication)\n",
    "print(Division)\n",
    "print(Modulus)\n",
    "print(Exponentiation)\n",
    "print(Floor_division)\n"
   ]
  },
  {
   "cell_type": "code",
   "execution_count": null,
   "metadata": {},
   "outputs": [],
   "source": [
    "#2. Assignment Operators"
   ]
  },
  {
   "cell_type": "code",
   "execution_count": 14,
   "metadata": {},
   "outputs": [
    {
     "name": "stdout",
     "output_type": "stream",
     "text": [
      "15\n",
      "18\n",
      "15\n",
      "45\n",
      "15.0\n",
      "5.0\n",
      "125.0\n",
      "2.0\n"
     ]
    }
   ],
   "source": [
    "x = 15 # we have assigned the value 5 to variable x\n",
    "print(x)\n",
    "x += 3 # x = x + 3\n",
    "print(x)\n",
    "x -= 3 # x = x -3\n",
    "print(x)\n",
    "x *= 3 # x = x * 3\n",
    "print(x)\n",
    "x /= 3 # x = x / 3\n",
    "print(x)\n",
    "x //= 3 # x = x // 3\n",
    "print(x)\n",
    "x **= 3 # x = x ** 3\n",
    "print(x)\n",
    "x %= 3 # x = x % 3\n",
    "print(x)"
   ]
  },
  {
   "cell_type": "code",
   "execution_count": null,
   "metadata": {},
   "outputs": [],
   "source": [
    "#3. Comparison operators"
   ]
  },
  {
   "cell_type": "code",
   "execution_count": 2,
   "metadata": {},
   "outputs": [
    {
     "name": "stdout",
     "output_type": "stream",
     "text": [
      "False\n",
      "True\n",
      "False\n",
      "True\n",
      "False\n",
      "True\n"
     ]
    }
   ],
   "source": [
    "x = 7\n",
    "y = 9\n",
    "print(x == y)   # Equal\n",
    "print(x != y)   # Not equal\n",
    "print(x > y)    # Greater than\n",
    "print(x < y)    # Less than\n",
    "print(x >= y)   # Greater than or equal to\n",
    "print(x <= y)   # Less than or equal to"
   ]
  },
  {
   "cell_type": "code",
   "execution_count": null,
   "metadata": {},
   "outputs": [],
   "source": [
    "#4. Logical operators"
   ]
  },
  {
   "cell_type": "code",
   "execution_count": 4,
   "metadata": {},
   "outputs": [
    {
     "name": "stdout",
     "output_type": "stream",
     "text": [
      "False\n",
      "True\n",
      "True\n"
     ]
    }
   ],
   "source": [
    "x = 8\n",
    "print(x < 5 and  x < 10)      # And operator \n",
    "print(x < 5 or x > 4)         # Or operator \n",
    "print(not(x < 5 and x < 10))  # Not operator "
   ]
  },
  {
   "cell_type": "code",
   "execution_count": null,
   "metadata": {},
   "outputs": [],
   "source": [
    "#5. Identity operators"
   ]
  },
  {
   "cell_type": "code",
   "execution_count": 6,
   "metadata": {},
   "outputs": [
    {
     "name": "stdout",
     "output_type": "stream",
     "text": [
      "False\n",
      "True\n"
     ]
    }
   ],
   "source": [
    "x = [1 , 2, 3 ,4 ]\n",
    "y = [1, 2]\n",
    "\n",
    "print(x is y)     # Is Operator \n",
    "print(x is not y) # Is Not Operator "
   ]
  },
  {
   "cell_type": "code",
   "execution_count": null,
   "metadata": {},
   "outputs": [],
   "source": [
    "#6. Membership operators"
   ]
  },
  {
   "cell_type": "code",
   "execution_count": 11,
   "metadata": {},
   "outputs": [
    {
     "name": "stdout",
     "output_type": "stream",
     "text": [
      "True\n",
      "False\n"
     ]
    }
   ],
   "source": [
    "x = [\"Hi\", \"Hello\", \"Hey\" ]\n",
    "\n",
    "print(\"Hello\" in x)     # In Operator \n",
    "print(\"Hello\" not in x) # Not In Operator \n"
   ]
  },
  {
   "cell_type": "code",
   "execution_count": null,
   "metadata": {},
   "outputs": [],
   "source": [
    "#7. Bitwise operators"
   ]
  },
  {
   "cell_type": "code",
   "execution_count": 22,
   "metadata": {},
   "outputs": [
    {
     "name": "stdout",
     "output_type": "stream",
     "text": [
      "4\n",
      "5\n",
      "1\n",
      "-6\n",
      "1\n",
      "16\n"
     ]
    }
   ],
   "source": [
    "x = 4\n",
    "y = 5\n",
    "\n",
    "print(x & y)    #AND Operator \n",
    "print(x | y)    #OR Operator \n",
    "print(x ^ y)    #XOR Operator \n",
    "print(~y)       #NOT Operator  \n",
    "print( x >> 2)  #Signed right shift Operator\n",
    "print( x << 2)  #Zero fill left shift Operator"
   ]
  }
 ],
 "metadata": {
  "kernelspec": {
   "display_name": "Python 3",
   "language": "python",
   "name": "python3"
  },
  "language_info": {
   "codemirror_mode": {
    "name": "ipython",
    "version": 3
   },
   "file_extension": ".py",
   "mimetype": "text/x-python",
   "name": "python",
   "nbconvert_exporter": "python",
   "pygments_lexer": "ipython3",
   "version": "3.8.3"
  }
 },
 "nbformat": 4,
 "nbformat_minor": 4
}
