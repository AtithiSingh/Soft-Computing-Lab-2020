{
 "cells": [
  {
   "cell_type": "markdown",
   "metadata": {},
   "source": [
    "# Program to demonstrate the use of Numpy for matrix operations\n"
   ]
  },
  {
   "cell_type": "markdown",
   "metadata": {},
   "source": [
    "# Creating a matrix using lists"
   ]
  },
  {
   "cell_type": "code",
   "execution_count": 1,
   "metadata": {},
   "outputs": [
    {
     "name": "stdout",
     "output_type": "stream",
     "text": [
      "[[1 2 3]\n",
      " [4 5 6]]\n"
     ]
    }
   ],
   "source": [
    "import numpy as np\n",
    " \n",
    "## Create a 2D numpy array using python lists\n",
    "arr = np.array([[ 1, 2, 3],[ 4, 5, 6]])\n",
    "print(arr)"
   ]
  },
  {
   "cell_type": "raw",
   "metadata": {},
   "source": [
    "np.array is used to create NumPy array from a list. NumPy arrays are of type ndarray.\n",
    "\n",
    "The output of the above program is:\n",
    "\n",
    "It represents a 2D matrix where input to np.array() is a list of lists [[ 1, 2, 3],[ 4, 5, 6]] . Each list in the parent list forms a row in the matrix."
   ]
  },
  {
   "cell_type": "markdown",
   "metadata": {},
   "source": [
    "# Creating matrix using ranges"
   ]
  },
  {
   "cell_type": "code",
   "execution_count": 2,
   "metadata": {},
   "outputs": [
    {
     "name": "stdout",
     "output_type": "stream",
     "text": [
      "[0 1 2 3 4]\n"
     ]
    }
   ],
   "source": [
    "## Generate numbers from (start) to (end-1)\n",
    "## Here start = 0\n",
    "## end = 5\n",
    "## Generated a NumPy array from 0 to 4\n",
    "print(np.arange(0,5))"
   ]
  },
  {
   "cell_type": "raw",
   "metadata": {},
   "source": [
    "np.arange() can generate a sequence of numbers given the start and end."
   ]
  },
  {
   "cell_type": "raw",
   "metadata": {},
   "source": [
    "To generate 2D matrix we can use np.arange() inside a list. We pass this list into np.array() which makes it a 2D NumPy array."
   ]
  },
  {
   "cell_type": "code",
   "execution_count": 3,
   "metadata": {},
   "outputs": [
    {
     "name": "stdout",
     "output_type": "stream",
     "text": [
      "[[0 1 2 3 4]\n",
      " [5 6 7 8 9]]\n"
     ]
    }
   ],
   "source": [
    "print(np.array([np.arange(0,5), np.arange(5,10)]))"
   ]
  },
  {
   "cell_type": "markdown",
   "metadata": {},
   "source": [
    "# Shape of Numpy Array"
   ]
  },
  {
   "cell_type": "raw",
   "metadata": {},
   "source": [
    "We refer to any NumPy object as an array of N-dimensions. In mathematics it is referred to as matrix of N-dimensions. Every NumPy ndarray object can be queried for its shape. A shape is a tuple of the format (n_rows, n_cols)"
   ]
  },
  {
   "cell_type": "code",
   "execution_count": 5,
   "metadata": {},
   "outputs": [
    {
     "name": "stdout",
     "output_type": "stream",
     "text": [
      "(2, 5)\n"
     ]
    }
   ],
   "source": [
    "\n",
    "arr_2d = np.array([np.arange(0,5), np.arange(5,10)])\n",
    "print(arr_2d.shape)"
   ]
  },
  {
   "cell_type": "markdown",
   "metadata": {},
   "source": [
    "# Matrix filling with zeros and ones"
   ]
  },
  {
   "cell_type": "code",
   "execution_count": 6,
   "metadata": {},
   "outputs": [
    {
     "name": "stdout",
     "output_type": "stream",
     "text": [
      "[[0. 0. 0. 0.]\n",
      " [0. 0. 0. 0.]\n",
      " [0. 0. 0. 0.]]\n"
     ]
    }
   ],
   "source": [
    "# Create a matrix of shape (3, 4) filled wit zeros\n",
    "## By default float64 type of numbers are generated if not specified\n",
    "print(np.zeros((3, 4)))"
   ]
  },
  {
   "cell_type": "code",
   "execution_count": 7,
   "metadata": {},
   "outputs": [
    {
     "name": "stdout",
     "output_type": "stream",
     "text": [
      "[[1 1]\n",
      " [1 1]]\n"
     ]
    }
   ],
   "source": [
    "## Create a matrix of shape (2, 2) filled with ones\n",
    "## Here we have specified dtype = np.int16 which asks NumPy to generate integers\n",
    "print(np.ones((2, 2), dtype=np.int16))"
   ]
  },
  {
   "cell_type": "raw",
   "metadata": {},
   "source": [
    "There is a twist while generating a matrix with ones, we have passed an additional parameter dtype=np.int16. This forces the np.ones function to generate integers rather than the default float. This additional parameter can also be passed into np.zeros"
   ]
  },
  {
   "cell_type": "markdown",
   "metadata": {},
   "source": [
    "# Matrix Operations"
   ]
  },
  {
   "cell_type": "markdown",
   "metadata": {},
   "source": [
    "# Scalar Addition and Matrix Addition"
   ]
  },
  {
   "cell_type": "code",
   "execution_count": 11,
   "metadata": {},
   "outputs": [
    {
     "name": "stdout",
     "output_type": "stream",
     "text": [
      "Matrix1:   [[0 1 2]\n",
      " [3 4 5]]\n",
      "Matrix2:   [[ 6  7  8]\n",
      " [ 9 10 11]]\n",
      "Scalar addition:  [[1 2 3]\n",
      " [4 5 6]]\n",
      "Element wise addition of two matrices of same size: n  [[ 6  8 10]\n",
      " [12 14 16]]\n"
     ]
    }
   ],
   "source": [
    "import numpy as np\n",
    "## Generate two matrices\n",
    "mat_2d_1 = np.array([np.arange(0,3), np.arange(3,6)])\n",
    "mat_2d_2 = np.array([np.arange(6,9), np.arange(9,12)])\n",
    "print(\"Matrix1:  \", mat_2d_1)\n",
    "print(\"Matrix2:  \", mat_2d_2)\n",
    " \n",
    "## Add 1 to each element in mat_2d_1 and print it\n",
    "print(\"Scalar addition: \", mat_2d_1 + 1)\n",
    " \n",
    "## Add two matrices above elementwise\n",
    "print(\"Element wise addition of two matrices of same size: n \", mat_2d_1 + mat_2d_2)"
   ]
  },
  {
   "cell_type": "markdown",
   "metadata": {},
   "source": [
    "# Subtraction"
   ]
  },
  {
   "cell_type": "code",
   "execution_count": 12,
   "metadata": {},
   "outputs": [
    {
     "name": "stdout",
     "output_type": "stream",
     "text": [
      "Matrix1:  [[0 1 2]\n",
      " [3 4 5]]\n",
      "Matrix2: [[ 6  7  8]\n",
      " [ 9 10 11]]\n",
      "Scalar addition: [[-1  0  1]\n",
      " [ 2  3  4]]\n",
      "Element wise subtraction of two matrices of same size: [[-6 -6 -6]\n",
      " [-6 -6 -6]]\n"
     ]
    }
   ],
   "source": [
    "import numpy as np\n",
    " \n",
    "## Generate two matrices\n",
    "mat_2d_1 = np.array([np.arange(0,3), np.arange(3,6)])\n",
    "mat_2d_2 = np.array([np.arange(6,9), np.arange(9,12)])\n",
    " \n",
    "print(\"Matrix1: \", mat_2d_1)\n",
    "print(\"Matrix2:\", mat_2d_2)\n",
    " \n",
    "## Subtract 1 from each element in mat_2d_1 and print it\n",
    "print(\"Scalar addition:\", mat_2d_1 - 1)\n",
    " \n",
    "## Subtract two matrices above elementwise\n",
    "print(\"Element wise subtraction of two matrices of same size:\", mat_2d_1 - mat_2d_2)\n"
   ]
  },
  {
   "cell_type": "markdown",
   "metadata": {},
   "source": [
    "# Product"
   ]
  },
  {
   "cell_type": "raw",
   "metadata": {},
   "source": [
    "Two types of multiplication or product operation can be done on NumPy matrices\n",
    "\n",
    "Scalar product: A scalar value is multiplied with all elements of a matrix\n",
    "Dot product: This is the product of two matrices as per the rules of matrix multiplication. "
   ]
  },
  {
   "cell_type": "code",
   "execution_count": 13,
   "metadata": {},
   "outputs": [
    {
     "name": "stdout",
     "output_type": "stream",
     "text": [
      "Matrix1: [[0 1 2]\n",
      " [3 4 5]]\n",
      "Matrix1 shape: (2, 3)\n",
      "Matrix2: [[0 1]\n",
      " [2 3]\n",
      " [4 5]]\n",
      "Matrix2 shape: (3, 2)\n",
      "Scalar Product: [[ 0  2  4]\n",
      " [ 6  8 10]]\n",
      "Dot Product:  [[10 13]\n",
      " [28 40]]\n"
     ]
    }
   ],
   "source": [
    "import numpy as np\n",
    " \n",
    "## Generate two matrices of shape (2,3) and (3,2) so that we can find\n",
    "## dot product\n",
    "mat_2d_1 = np.array([np.arange(0,3), np.arange(3,6)])\n",
    "mat_2d_2 = np.array([np.arange(0,2), np.arange(2,4), np.arange(4,6)])\n",
    " \n",
    "## Print shapes and matrices\n",
    "print(\"Matrix1:\", mat_2d_1)\n",
    "print(\"Matrix1 shape:\", mat_2d_1.shape)\n",
    "print(\"Matrix2:\", mat_2d_2)\n",
    "print(\"Matrix2 shape:\", mat_2d_2.shape)\n",
    " \n",
    "## Multiply each element by 2 in mat_2d_1 and print it\n",
    "print(\"Scalar Product:\", mat_2d_1 * 2)\n",
    " \n",
    "## Find product of two matrices above using dot product\n",
    "print(\"Dot Product: \", np.dot(mat_2d_1, mat_2d_2))\n",
    " "
   ]
  },
  {
   "cell_type": "markdown",
   "metadata": {},
   "source": [
    "# Division"
   ]
  },
  {
   "cell_type": "raw",
   "metadata": {},
   "source": [
    "Element wise scalar division can be done using division operator /"
   ]
  },
  {
   "cell_type": "code",
   "execution_count": 16,
   "metadata": {},
   "outputs": [
    {
     "name": "stdout",
     "output_type": "stream",
     "text": [
      "Matrix: n  [[0 1 2]\n",
      " [3 4 5]]\n",
      "Scalar Division: n  [[0.  0.5 1. ]\n",
      " [1.5 2.  2.5]]\n"
     ]
    }
   ],
   "source": [
    "import numpy as np\n",
    " \n",
    "## Generate a matrix of shape (2,3)\n",
    "mat_2d = np.array([np.arange(0,3), np.arange(3,6)])\n",
    " \n",
    "## Print the matrix\n",
    "print(\"Matrix: n \", mat_2d)\n",
    " \n",
    "## Element wise division by scalar\n",
    "print(\"Scalar Division: n \", mat_2d / 2)"
   ]
  },
  {
   "cell_type": "markdown",
   "metadata": {},
   "source": [
    "# Exponent"
   ]
  },
  {
   "cell_type": "raw",
   "metadata": {},
   "source": [
    "Element wise exponent can be found out using operator **"
   ]
  },
  {
   "cell_type": "code",
   "execution_count": 18,
   "metadata": {},
   "outputs": [
    {
     "name": "stdout",
     "output_type": "stream",
     "text": [
      "Matrix: [[0 1 2]\n",
      " [3 4 5]]\n",
      "Matrix raised to power of 2: [[ 0  1  4]\n",
      " [ 9 16 25]]\n"
     ]
    }
   ],
   "source": [
    "import numpy as np\n",
    " \n",
    "## Generate a matrix of shape (2,3)\n",
    "mat_2d = np.array([np.arange(0,3), np.arange(3,6)])\n",
    " \n",
    "## Print the matrix\n",
    "print(\"Matrix:\", mat_2d)\n",
    " \n",
    "## Find exponent element wise i.e. raise each element in matrix to power 2\n",
    "print(\"Matrix raised to power of 2:\", mat_2d ** 2)\n",
    " "
   ]
  },
  {
   "cell_type": "markdown",
   "metadata": {},
   "source": [
    "# Transpose"
   ]
  },
  {
   "cell_type": "raw",
   "metadata": {},
   "source": [
    "The transpose of a matrix is a new matrix whose rows are the columns of the original.\n",
    "A (2, 3) matrix becomes (3, 2) matrix in shape.\n",
    "Numpy has a property on every ndarray object that stores transpose of a matrix. We need not use any special operator to find transpose of a matrix.\n",
    "matrix.T provides transpose of a matrix in NumPy."
   ]
  },
  {
   "cell_type": "code",
   "execution_count": 19,
   "metadata": {},
   "outputs": [
    {
     "name": "stdout",
     "output_type": "stream",
     "text": [
      "Matrix: [[0 1 2]\n",
      " [3 4 5]]\n",
      "Transpose [[0 3]\n",
      " [1 4]\n",
      " [2 5]]\n"
     ]
    }
   ],
   "source": [
    "import numpy as np\n",
    " \n",
    "## Generate a matrix of shape (2,3)\n",
    "mat_2d = np.array([np.arange(0,3), np.arange(3,6)])\n",
    " \n",
    "## Print the matrix\n",
    "print(\"Matrix:\", mat_2d)\n",
    " \n",
    "## Matrix Transpose\n",
    "print(\"Transpose\", mat_2d.T)"
   ]
  },
  {
   "cell_type": "code",
   "execution_count": null,
   "metadata": {},
   "outputs": [],
   "source": []
  }
 ],
 "metadata": {
  "kernelspec": {
   "display_name": "Python 3",
   "language": "python",
   "name": "python3"
  },
  "language_info": {
   "codemirror_mode": {
    "name": "ipython",
    "version": 3
   },
   "file_extension": ".py",
   "mimetype": "text/x-python",
   "name": "python",
   "nbconvert_exporter": "python",
   "pygments_lexer": "ipython3",
   "version": "3.7.4"
  }
 },
 "nbformat": 4,
 "nbformat_minor": 2
}
