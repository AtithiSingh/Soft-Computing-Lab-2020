{
 "cells": [
  {
   "cell_type": "markdown",
   "metadata": {},
   "source": [
    "# A program to implement various data structures in python and their operations"
   ]
  },
  {
   "cell_type": "raw",
   "metadata": {},
   "source": [
    "Python has implicit support for Data Structures which enable us to store and access data. These structures are called List, Dictionary,Tuple and Set."
   ]
  },
  {
   "cell_type": "markdown",
   "metadata": {},
   "source": [
    "# Lists"
   ]
  },
  {
   "cell_type": "raw",
   "metadata": {},
   "source": [
    "Lists are used to store data of different data types in a sequential manner. There are addresses assigned to every element of the list, which is called as Index. The index value starts from 0 and goes on until the last element called the positive index. There is also negative indexing which starts from -1 enabling you to access elements from the last to first."
   ]
  },
  {
   "cell_type": "markdown",
   "metadata": {},
   "source": [
    "# Creating a List"
   ]
  },
  {
   "cell_type": "code",
   "execution_count": 2,
   "metadata": {},
   "outputs": [
    {
     "name": "stdout",
     "output_type": "stream",
     "text": [
      "[]\n",
      "[1, 2, 3, 'example', 3.132]\n"
     ]
    }
   ],
   "source": [
    "my_list = [] #create empty list\n",
    "print(my_list)\n",
    "my_list = [1, 2, 3, 'example', 3.132] #creating list with data\n",
    "print(my_list)"
   ]
  },
  {
   "cell_type": "markdown",
   "metadata": {},
   "source": [
    "# Adding Elements to List"
   ]
  },
  {
   "cell_type": "raw",
   "metadata": {},
   "source": [
    "The append() function adds all the elements passed to it as a single element.\n",
    "The extend() function adds the elements one-by-one into the list.\n",
    "The insert() function adds the element to the passed index value and increase the size of the list too."
   ]
  },
  {
   "cell_type": "code",
   "execution_count": 3,
   "metadata": {},
   "outputs": [
    {
     "name": "stdout",
     "output_type": "stream",
     "text": [
      "[1, 2, 3]\n",
      "[1, 2, 3, [555, 12]]\n",
      "[1, 2, 3, [555, 12], 234, 'more_example']\n",
      "[1, 'insert_example', 2, 3, [555, 12], 234, 'more_example']\n"
     ]
    }
   ],
   "source": [
    "my_list = [1, 2, 3]\n",
    "print(my_list)\n",
    "my_list.append([555, 12]) #add as a single element\n",
    "print(my_list)\n",
    "my_list.extend([234, 'more_example']) #add as different elements\n",
    "print(my_list)\n",
    "my_list.insert(1, 'insert_example') #add element i\n",
    "print(my_list)"
   ]
  },
  {
   "cell_type": "markdown",
   "metadata": {},
   "source": [
    "# Deleting Elements"
   ]
  },
  {
   "cell_type": "code",
   "execution_count": 4,
   "metadata": {},
   "outputs": [
    {
     "name": "stdout",
     "output_type": "stream",
     "text": [
      "[1, 2, 3, 'example', 3.132, 30]\n",
      "[1, 2, 3, 3.132, 30]\n",
      "Popped Element:  2  List remaining:  [1, 3, 3.132, 30]\n",
      "[]\n"
     ]
    }
   ],
   "source": [
    "my_list = [1, 2, 3, 'example', 3.132, 10, 30]\n",
    "del my_list[5] #delete element at index 5\n",
    "print(my_list)\n",
    "my_list.remove('example') #remove element with value\n",
    "print(my_list)\n",
    "a = my_list.pop(1) #pop element from list\n",
    "print('Popped Element: ', a, ' List remaining: ', my_list)\n",
    "my_list.clear() #empty the list\n",
    "print(my_list)"
   ]
  },
  {
   "cell_type": "markdown",
   "metadata": {},
   "source": [
    "# Accessing Elements"
   ]
  },
  {
   "cell_type": "code",
   "execution_count": 5,
   "metadata": {},
   "outputs": [
    {
     "name": "stdout",
     "output_type": "stream",
     "text": [
      "1\n",
      "2\n",
      "3\n",
      "example\n",
      "3.132\n",
      "10\n",
      "30\n",
      "[1, 2, 3, 'example', 3.132, 10, 30]\n",
      "example\n",
      "[1, 2]\n",
      "[30, 10, 3.132, 'example', 3, 2, 1]\n"
     ]
    }
   ],
   "source": [
    "my_list = [1, 2, 3, 'example', 3.132, 10, 30]\n",
    "for element in my_list: #access elements one by one\n",
    "    print(element)\n",
    "print(my_list) #access all elements\n",
    "print(my_list[3]) #access index 3 element\n",
    "print(my_list[0:2]) #access elements from 0 to 1 and exclude 2\n",
    "print(my_list[::-1]) #access elements in reverse"
   ]
  },
  {
   "cell_type": "markdown",
   "metadata": {},
   "source": [
    "# Other Functions"
   ]
  },
  {
   "cell_type": "raw",
   "metadata": {},
   "source": [
    "The len() function returns to us the length of the list.\n",
    "The index() function finds the index value of value passed where it has been encountered the first time.\n",
    "The count() function finds the count of the value passed to it.\n",
    "The sorted() and sort() functions do the same thing, that is to sort the values of the list. The sorted() has a return type whereas the sort() modifies the original list."
   ]
  },
  {
   "cell_type": "code",
   "execution_count": 7,
   "metadata": {},
   "outputs": [
    {
     "name": "stdout",
     "output_type": "stream",
     "text": [
      "6\n",
      "3\n",
      "2\n",
      "[1, 2, 3, 10, 10, 30]\n",
      "[30, 10, 10, 3, 2, 1]\n"
     ]
    }
   ],
   "source": [
    "my_list = [1, 2, 3, 10, 30, 10]\n",
    "print(len(my_list)) #find length of list\n",
    "print(my_list.index(10)) #find index of element that occurs first\n",
    "print(my_list.count(10)) #find count of the element\n",
    "print(sorted(my_list)) #print sorted list but not change original\n",
    "my_list.sort(reverse=True) #sort original list\n",
    "print(my_list)"
   ]
  },
  {
   "cell_type": "markdown",
   "metadata": {},
   "source": [
    "# Dictionary"
   ]
  },
  {
   "cell_type": "markdown",
   "metadata": {},
   "source": [
    "# Creating a Dictionary"
   ]
  },
  {
   "cell_type": "code",
   "execution_count": 8,
   "metadata": {},
   "outputs": [
    {
     "name": "stdout",
     "output_type": "stream",
     "text": [
      "{}\n",
      "{1: 'Python', 2: 'Java'}\n"
     ]
    }
   ],
   "source": [
    "my_dict = {} #empty dictionary\n",
    "print(my_dict)\n",
    "my_dict = {1: 'Python', 2: 'Java'} #dictionary with elements\n",
    "print(my_dict)"
   ]
  },
  {
   "cell_type": "markdown",
   "metadata": {},
   "source": [
    "# Changing and Adding key-value pairs"
   ]
  },
  {
   "cell_type": "code",
   "execution_count": 9,
   "metadata": {},
   "outputs": [
    {
     "name": "stdout",
     "output_type": "stream",
     "text": [
      "{'First': 'Python', 'Second': 'Java'}\n",
      "{'First': 'Python', 'Second': 'C++'}\n",
      "{'First': 'Python', 'Second': 'C++', 'Third': 'Ruby'}\n"
     ]
    }
   ],
   "source": [
    "my_dict = {'First': 'Python', 'Second': 'Java'}\n",
    "print(my_dict)\n",
    "my_dict['Second'] = 'C++' #changing element\n",
    "print(my_dict)\n",
    "my_dict['Third'] = 'Ruby' #adding key-value pair\n",
    "print(my_dict)"
   ]
  },
  {
   "cell_type": "markdown",
   "metadata": {},
   "source": [
    "# Deleting key-value pairs"
   ]
  },
  {
   "cell_type": "code",
   "execution_count": 10,
   "metadata": {},
   "outputs": [
    {
     "name": "stdout",
     "output_type": "stream",
     "text": [
      "Value: Ruby\n",
      "Dictionary: {'First': 'Python', 'Second': 'Java'}\n",
      "Key, value pair: ('Second', 'Java')\n",
      "Dictionary {'First': 'Python'}\n",
      "n {}\n"
     ]
    }
   ],
   "source": [
    "my_dict = {'First': 'Python', 'Second': 'Java', 'Third': 'Ruby'}\n",
    "a = my_dict.pop('Third') #pop element\n",
    "print('Value:', a)\n",
    "print('Dictionary:', my_dict)\n",
    "b = my_dict.popitem() #pop the key-value pair\n",
    "print('Key, value pair:', b)\n",
    "print('Dictionary', my_dict)\n",
    "my_dict.clear() #empty dictionary\n",
    "print('n', my_dict)"
   ]
  },
  {
   "cell_type": "markdown",
   "metadata": {},
   "source": [
    "# Accessing Elements"
   ]
  },
  {
   "cell_type": "code",
   "execution_count": 11,
   "metadata": {},
   "outputs": [
    {
     "name": "stdout",
     "output_type": "stream",
     "text": [
      "Python\n",
      "Java\n"
     ]
    }
   ],
   "source": [
    "my_dict = {'First': 'Python', 'Second': 'Java'}\n",
    "print(my_dict['First']) #access elements using keys\n",
    "print(my_dict.get('Second'))"
   ]
  },
  {
   "cell_type": "markdown",
   "metadata": {},
   "source": [
    "# Other Functions"
   ]
  },
  {
   "cell_type": "code",
   "execution_count": 12,
   "metadata": {},
   "outputs": [
    {
     "name": "stdout",
     "output_type": "stream",
     "text": [
      "dict_keys(['First', 'Second', 'Third'])\n",
      "dict_values(['Python', 'Java', 'Ruby'])\n",
      "dict_items([('First', 'Python'), ('Second', 'Java'), ('Third', 'Ruby')])\n",
      "Python\n"
     ]
    }
   ],
   "source": [
    "my_dict = {'First': 'Python', 'Second': 'Java', 'Third': 'Ruby'}\n",
    "print(my_dict.keys()) #get keys\n",
    "print(my_dict.values()) #get values\n",
    "print(my_dict.items()) #get key-value pairs\n",
    "print(my_dict.get('First'))"
   ]
  },
  {
   "cell_type": "markdown",
   "metadata": {},
   "source": [
    "# Tuple"
   ]
  },
  {
   "cell_type": "markdown",
   "metadata": {},
   "source": [
    "# Creating a Tuple"
   ]
  },
  {
   "cell_type": "code",
   "execution_count": 13,
   "metadata": {},
   "outputs": [
    {
     "name": "stdout",
     "output_type": "stream",
     "text": [
      "(1, 2, 3)\n"
     ]
    }
   ],
   "source": [
    "my_tuple = (1, 2, 3) #create tuple\n",
    "print(my_tuple) "
   ]
  },
  {
   "cell_type": "markdown",
   "metadata": {},
   "source": [
    "# Accessing Elements"
   ]
  },
  {
   "cell_type": "code",
   "execution_count": 14,
   "metadata": {},
   "outputs": [
    {
     "name": "stdout",
     "output_type": "stream",
     "text": [
      "1\n",
      "2\n",
      "3\n",
      "edureka\n",
      "(1, 2, 3, 'edureka')\n",
      "1\n",
      "(1, 2, 3, 'edureka')\n",
      "e\n"
     ]
    }
   ],
   "source": [
    "my_tuple2 = (1, 2, 3, 'edureka') #access elements\n",
    "for x in my_tuple2:\n",
    "    print(x)\n",
    "print(my_tuple2)\n",
    "print(my_tuple2[0])\n",
    "print(my_tuple2[:])\n",
    "print(my_tuple2[3][4])"
   ]
  },
  {
   "cell_type": "markdown",
   "metadata": {},
   "source": [
    "# Appending the Elements"
   ]
  },
  {
   "cell_type": "code",
   "execution_count": 15,
   "metadata": {},
   "outputs": [
    {
     "name": "stdout",
     "output_type": "stream",
     "text": [
      "(1, 2, 3, 4, 5, 6)\n"
     ]
    }
   ],
   "source": [
    "my_tuple = (1, 2, 3)\n",
    "my_tuple = my_tuple + (4, 5, 6) #add elements\n",
    "print(my_tuple)"
   ]
  },
  {
   "cell_type": "markdown",
   "metadata": {},
   "source": [
    "# Other Functions"
   ]
  },
  {
   "cell_type": "code",
   "execution_count": 16,
   "metadata": {},
   "outputs": [
    {
     "name": "stdout",
     "output_type": "stream",
     "text": [
      "(1, 2, 3, ['english', 'python'])\n",
      "1\n",
      "3\n"
     ]
    }
   ],
   "source": [
    "my_tuple = (1, 2, 3, ['hindi', 'python'])\n",
    "my_tuple[3][0] = 'english'\n",
    "print(my_tuple)\n",
    "print(my_tuple.count(2))\n",
    "print(my_tuple.index(['english', 'python']))"
   ]
  },
  {
   "cell_type": "markdown",
   "metadata": {},
   "source": [
    "# Sets"
   ]
  },
  {
   "cell_type": "markdown",
   "metadata": {},
   "source": [
    "# Creating a Set"
   ]
  },
  {
   "cell_type": "code",
   "execution_count": 17,
   "metadata": {},
   "outputs": [
    {
     "name": "stdout",
     "output_type": "stream",
     "text": [
      "{1, 2, 3, 4, 5}\n"
     ]
    }
   ],
   "source": [
    "my_set = {1, 2, 3, 4, 5, 5, 5} #create set\n",
    "print(my_set)"
   ]
  },
  {
   "cell_type": "markdown",
   "metadata": {},
   "source": [
    "# Adding Elements"
   ]
  },
  {
   "cell_type": "code",
   "execution_count": 18,
   "metadata": {},
   "outputs": [
    {
     "name": "stdout",
     "output_type": "stream",
     "text": [
      "{1, 2, 3, 4}\n"
     ]
    }
   ],
   "source": [
    "my_set = {1, 2, 3}\n",
    "my_set.add(4) #add element to set\n",
    "print(my_set)"
   ]
  },
  {
   "cell_type": "markdown",
   "metadata": {},
   "source": [
    "# Operations in Sets"
   ]
  },
  {
   "cell_type": "raw",
   "metadata": {},
   "source": [
    "The union() function combines the data present in both sets.\n",
    "The intersection() function finds the data present in both sets only.\n",
    "The difference() function deletes the data present in both and outputs data present only in the set passed.\n",
    "The symmetric_difference() does the same as the difference() function but outputs the data which is remaining in both sets."
   ]
  },
  {
   "cell_type": "code",
   "execution_count": 19,
   "metadata": {},
   "outputs": [
    {
     "name": "stdout",
     "output_type": "stream",
     "text": [
      "{1, 2, 3, 4, 5, 6} ---------- {1, 2, 3, 4, 5, 6}\n",
      "{3, 4} ---------- {3, 4}\n",
      "{1, 2} ---------- {1, 2}\n",
      "{1, 2, 5, 6} ---------- {1, 2, 5, 6}\n",
      "set()\n"
     ]
    }
   ],
   "source": [
    "my_set = {1, 2, 3, 4}\n",
    "my_set_2 = {3, 4, 5, 6}\n",
    "print(my_set.union(my_set_2), '----------', my_set | my_set_2)\n",
    "print(my_set.intersection(my_set_2), '----------', my_set & my_set_2)\n",
    "print(my_set.difference(my_set_2), '----------', my_set - my_set_2)\n",
    "print(my_set.symmetric_difference(my_set_2), '----------', my_set ^ my_set_2)\n",
    "my_set.clear()\n",
    "print(my_set)"
   ]
  },
  {
   "cell_type": "code",
   "execution_count": null,
   "metadata": {},
   "outputs": [],
   "source": []
  }
 ],
 "metadata": {
  "kernelspec": {
   "display_name": "Python 3",
   "language": "python",
   "name": "python3"
  },
  "language_info": {
   "codemirror_mode": {
    "name": "ipython",
    "version": 3
   },
   "file_extension": ".py",
   "mimetype": "text/x-python",
   "name": "python",
   "nbconvert_exporter": "python",
   "pygments_lexer": "ipython3",
   "version": "3.7.4"
  }
 },
 "nbformat": 4,
 "nbformat_minor": 2
}
