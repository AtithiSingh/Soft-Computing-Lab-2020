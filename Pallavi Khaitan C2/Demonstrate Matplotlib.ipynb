{
 "cells": [
  {
   "cell_type": "markdown",
   "metadata": {},
   "source": [
    "# Demonstrate Matplotlib"
   ]
  },
  {
   "cell_type": "code",
   "execution_count": 1,
   "metadata": {},
   "outputs": [],
   "source": [
    "import os"
   ]
  },
  {
   "cell_type": "code",
   "execution_count": 2,
   "metadata": {},
   "outputs": [],
   "source": [
    "import numpy as np\n",
    "import matplotlib.pyplot as plt"
   ]
  },
  {
   "cell_type": "code",
   "execution_count": 3,
   "metadata": {},
   "outputs": [],
   "source": [
    "def plot_time_series(time, xdata, xlbl, ylbl, ttl):\n",
    "    \"\"\"Plot a simple time series.\n",
    "    \"\"\"\n",
    "    # Create figure.\n",
    "    f = plt.figure()\n",
    "\n",
    "    # Create axis to plot on.\n",
    "    ax = f.add_subplot(111)\n",
    "\n",
    "    # Plot!\n",
    "    p = ax.plot(time, xdata, \"r--\", label=ylbl)\n",
    "\n",
    "    # Set some plot properties.\n",
    "    ax.grid(True)\n",
    "    ax.set_xlabel(xlbl)\n",
    "    ax.set_ylabel(ylbl)\n",
    "    ax.set_title(ttl)\n",
    "    ax.axis(\"tight\")\n",
    "\n",
    "    plt.legend(loc='best')\n",
    "\n",
    "    return f, ax, p\n"
   ]
  },
  {
   "cell_type": "code",
   "execution_count": 5,
   "metadata": {},
   "outputs": [],
   "source": [
    "def label_bars(ax, rects):\n",
    "    \"\"\"Plot numbers on top of bars in bar plot.\n",
    "    Taken from http://matplotlib.org/examples/api/barchart_demo.html\"\"\"\n",
    "    # attach some text labels\n",
    "    for rect in rects:\n",
    "        height = rect.get_height()\n",
    "        ax.text(rect.get_x() + rect.get_width()/2., height + 0.1,\n",
    "                '%d' % int(height),\n",
    "                ha='center', va='bottom')"
   ]
  },
  {
   "cell_type": "code",
   "execution_count": 6,
   "metadata": {},
   "outputs": [],
   "source": [
    "def plot_bar_chart(data, lbls, xlbl, ylbl, ttl):\n",
    "    \"\"\"Plot a bar chart.\n",
    "    \"\"\"\n",
    "    # Create figure.\n",
    "    f = plt.figure()\n",
    "\n",
    "    # Create axis to plot on.\n",
    "    ax = f.add_subplot(111)\n",
    "\n",
    "    # Create bars.\n",
    "    bar_width = 0.35\n",
    "    bar_x = np.array(range(len(data)))\n",
    "\n",
    "    # Plot!\n",
    "    b = ax.bar(bar_x, data, bar_width, color=\"b\")\n",
    "\n",
    "    # Set some plot properies.\n",
    "    ax.grid(True)\n",
    "\n",
    "    ax.set_xlabel(xlbl)\n",
    "    ax.set_xticks(bar_x + bar_width/2)\n",
    "    ax.set_xticklabels(lbls)\n",
    "\n",
    "    ax.set_ylabel(ylbl)\n",
    "    ax.set_title(ttl)\n",
    "\n",
    "    ax.legend(b, lbls, loc=\"best\")\n",
    "\n",
    "    label_bars(ax, b)\n",
    "\n",
    "    return f, ax, b"
   ]
  },
  {
   "cell_type": "code",
   "execution_count": 7,
   "metadata": {},
   "outputs": [
    {
     "name": "stderr",
     "output_type": "stream",
     "text": [
      "The PostScript backend does not support transparency; partially transparent artists will be rendered opaque.\n",
      "The PostScript backend does not support transparency; partially transparent artists will be rendered opaque.\n",
      "The PostScript backend does not support transparency; partially transparent artists will be rendered opaque.\n",
      "The PostScript backend does not support transparency; partially transparent artists will be rendered opaque.\n"
     ]
    },
    {
     "data": {
      "image/png": "[encoded data removed]",
      "text/plain": [
       "<Figure size 432x288 with 1 Axes>"
      ]
     },
     "metadata": {
      "needs_background": "light"
     },
     "output_type": "display_data"
    },
    {
     "data": {
      "image/png": "[encoded data removed]",
      "text/plain": [
       "<Figure size 432x288 with 1 Axes>"
      ]
     },
     "metadata": {
      "needs_background": "light"
     },
     "output_type": "display_data"
    }
   ],
   "source": [
    "def main():\n",
    "    \"\"\"Make some example plots.\n",
    "    \"\"\"\n",
    "    # Uncomment to see plots as they're produced.\n",
    "    # plt.ion()\n",
    "    output_dir = \"./\"\n",
    "\n",
    "    # Simple timeseries.\n",
    "    time = np.linspace(0, 2*np.pi)\n",
    "    data = np.sin(time)\n",
    "    f_time, ax_time, p_time = plot_time_series(time, data, \"Time [sec]\",\n",
    "                                               \"sin(x)\", \"TimeSeries\")\n",
    "    f_time.savefig(os.path.join(output_dir, \"time_series.eps\"))\n",
    "\n",
    "    # Simple bar plot.\n",
    "    bar_data = np.array([1.1, 2.2, 3.3, 4.4, 5.5])\n",
    "    bar_lbls = [\"A\", \"B\", \"C\", \"D\", \"E\"]\n",
    "    f_bar, ax_bar, p_bar = plot_bar_chart(bar_data, bar_lbls, \"Category\",\n",
    "                                          \"Count\", \"BarChart\")\n",
    "    f_bar.savefig(os.path.join(output_dir, \"bar_chart.eps\"))\n",
    "\n",
    "\n",
    "if __name__ == '__main__':\n",
    "    main()"
   ]
  },
  {
   "cell_type": "code",
   "execution_count": null,
   "metadata": {},
   "outputs": [],
   "source": []
  }
 ],
 "metadata": {
  "kernelspec": {
   "display_name": "Python 3",
   "language": "python",
   "name": "python3"
  },
  "language_info": {
   "codemirror_mode": {
    "name": "ipython",
    "version": 3
   },
   "file_extension": ".py",
   "mimetype": "text/x-python",
   "name": "python",
   "nbconvert_exporter": "python",
   "pygments_lexer": "ipython3",
   "version": "3.7.4"
  }
 },
 "nbformat": 4,
 "nbformat_minor": 2
}
