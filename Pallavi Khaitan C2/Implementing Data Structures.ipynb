{
 "cells": [
  {
   "cell_type": "markdown",
   "metadata": {},
   "source": [
    "# Implementation of various Data Structures in Python and their operations"
   ]
  },
  {
   "cell_type": "markdown",
   "metadata": {},
   "source": [
    "## Data structures in python are something which can old data:\n",
    "\n",
    "Lists\n",
    "\n",
    "Tuples\n",
    "\n",
    "Dictionary\n",
    "\n",
    "Sets\n",
    "\n",
    "Frozen Sets\n",
    "\n",
    "Arrays"
   ]
  },
  {
   "cell_type": "markdown",
   "metadata": {},
   "source": [
    "### 1. Lists"
   ]
  },
  {
   "cell_type": "markdown",
   "metadata": {},
   "source": [
    "List in Python are ordered and have a definite count.\n",
    "\n",
    "The elements in a list are indexed according to a definite sequence and the indexing of a list is done with 0 being the first index.\n",
    "\n",
    "Each element in the list has its definite place in the list, which allows duplicating of elements in the list, with each element having its own distinct place and credibility"
   ]
  },
  {
   "cell_type": "code",
   "execution_count": 9,
   "metadata": {},
   "outputs": [
    {
     "name": "stdout",
     "output_type": "stream",
     "text": [
      "Its an empty list:  []\n",
      "List with numerical data:  [1, 2, 3, 4]\n",
      "List with string data:  ['Hello', 'World']\n",
      "Nested list:  [['Good', 'Morning'], [3, 4, 5, 6]]\n"
     ]
    }
   ],
   "source": [
    "#Creating  lists\n",
    "\n",
    "l1 = []\n",
    "l2 = [1,2,3,4]\n",
    "l3 = [\"Hello\", \"World\"]\n",
    "l4 = [[\"Good\", \"Morning\"],[3,4,5,6]]\n",
    "\n",
    "print(\"Its an empty list: \", l1)\n",
    "print(\"List with numerical data: \", l2)\n",
    "print(\"List with string data: \", l3)\n",
    "print(\"Nested list: \", l4)"
   ]
  },
  {
   "cell_type": "code",
   "execution_count": 10,
   "metadata": {},
   "outputs": [
    {
     "name": "stdout",
     "output_type": "stream",
     "text": [
      "Duplicate elements in list:  [1, 2, 3, 4, 4, 5, 6, 6, 7, 7, 7, 7, 8, 9, 9]\n",
      "Length of list:  15\n"
     ]
    }
   ],
   "source": [
    "# list can be created with duplicate elements as well\n",
    "\n",
    "l1 = [1,2,3,4,4,5,6,6,7,7,7,7,8,9,9]\n",
    "print(\"Duplicate elements in list: \", l1)\n",
    "print(\"Length of list: \", len(l1))"
   ]
  },
  {
   "cell_type": "code",
   "execution_count": 11,
   "metadata": {},
   "outputs": [
    {
     "name": "stdout",
     "output_type": "stream",
     "text": [
      "Before append:  [1, 2, 3, 4]\n",
      "After append:  [1, 2, 3, 4, [5, 6, 7, 8]]\n"
     ]
    }
   ],
   "source": [
    "#new elements can be added to the list using append() function\n",
    "\n",
    "l1 = [1,2,3,4]\n",
    "l2 = [5,6,7,8]\n",
    "\n",
    "print(\"Before append: \", l1)\n",
    "l1.append(l2)\n",
    "print(\"After append: \", l1)"
   ]
  },
  {
   "cell_type": "code",
   "execution_count": 12,
   "metadata": {},
   "outputs": [
    {
     "name": "stdout",
     "output_type": "stream",
     "text": [
      "[1, 2, [4, 5, 6], 3]\n"
     ]
    }
   ],
   "source": [
    "#using insert() to add elements to the list\n",
    "#append() adds the elemnents at the end of the list but with insert() elements can be added at any desired position. Hence insert() takes 2 arguments\n",
    "\n",
    "l1 = [1,2,3]\n",
    "l1.insert(2,[4,5,6])\n",
    "print(l1)"
   ]
  },
  {
   "cell_type": "code",
   "execution_count": 13,
   "metadata": {},
   "outputs": [
    {
     "name": "stdout",
     "output_type": "stream",
     "text": [
      "4\n",
      "[4, 5, 6, 7]\n",
      "3\n",
      "-1\n"
     ]
    }
   ],
   "source": [
    "#accessing elements\n",
    "\n",
    "l1 = [1,2,3,4,5,6,7,8,9]\n",
    "l2 = [1,2,[3,4]]\n",
    "print(l1[3])\n",
    "print(l1[3:7])\n",
    "print(l2[2][0])\n",
    "print(-1)"
   ]
  },
  {
   "cell_type": "code",
   "execution_count": 14,
   "metadata": {},
   "outputs": [
    {
     "name": "stdout",
     "output_type": "stream",
     "text": [
      "Before Removing:  [34, 65, 77, 12, 32]\n",
      "After Removing:  [65, 12, 32]\n"
     ]
    }
   ],
   "source": [
    "#using remove() to remove elements from the list\n",
    "\n",
    "l1 = [34,65,77,12,32]\n",
    "print(\"Before Removing: \", l1)\n",
    "l1.remove(34)\n",
    "l1.remove(77)\n",
    "print(\"After Removing: \", l1)"
   ]
  },
  {
   "cell_type": "code",
   "execution_count": 15,
   "metadata": {},
   "outputs": [
    {
     "name": "stdout",
     "output_type": "stream",
     "text": [
      "[45, 66, 22, 67]\n"
     ]
    }
   ],
   "source": [
    "#using pop() to remove elements\n",
    "#The difference between remove() and pop() is that pop() rmoves the last element\n",
    "\n",
    "l1 = [45,66,22,67,98,23]\n",
    "l1.pop()\n",
    "l1.pop()\n",
    "print(l1)   #two elements popped from the end of the string"
   ]
  },
  {
   "cell_type": "markdown",
   "metadata": {},
   "source": [
    "### 2. Tuples"
   ]
  },
  {
   "cell_type": "markdown",
   "metadata": {},
   "source": [
    "Tuple is a collection of Python objects much like a list.\n",
    "\n",
    "The sequence of values stored in a tuple can be of any type, and they are indexed by integers.\n",
    "\n",
    "Values of a tuple are syntactically separated by ‘commas’. Although it is not necessary, it is more common to define a tuple by closing the sequence of values in parentheses."
   ]
  },
  {
   "cell_type": "code",
   "execution_count": 17,
   "metadata": {},
   "outputs": [
    {
     "name": "stdout",
     "output_type": "stream",
     "text": [
      "Empty Tuple:  ()\n",
      "Numerical tuple:  (1, 2, 3)\n",
      "Creating tuple form list:  [1, 2, 3, 4, 5, 6]\n",
      "Tuple typecasting:  ('G', 'e', 'e', 'k', 's')\n"
     ]
    }
   ],
   "source": [
    "#creating tuples\n",
    "\n",
    "t1 = ()\n",
    "t2 = (1,2,3)\n",
    "t3 = [1,2,3,4,5,6]\n",
    "t4 = tuple(\"Geeks\")\n",
    "\n",
    "print(\"Empty Tuple: \", t1)\n",
    "print(\"Numerical tuple: \",t2)\n",
    "print(\"Creating tuple form list: \", t3)\n",
    "print(\"Tuple typecasting: \", t4)"
   ]
  },
  {
   "cell_type": "code",
   "execution_count": 18,
   "metadata": {},
   "outputs": [
    {
     "name": "stdout",
     "output_type": "stream",
     "text": [
      "5\n",
      "(5, 6, 7, 8)\n",
      "4\n",
      "6\n"
     ]
    }
   ],
   "source": [
    "#accessing tuple elements\n",
    "\n",
    "t1 = (1,2,3,4,5,6,7,8)\n",
    "t2 = ((1,2,3,4),[6,7,8,9],10,11)\n",
    "print(t1[4])\n",
    "print(t1[4:8])\n",
    "print(t2[0][3])\n",
    "print(t2[1][0])"
   ]
  },
  {
   "cell_type": "code",
   "execution_count": 20,
   "metadata": {},
   "outputs": [
    {
     "name": "stdout",
     "output_type": "stream",
     "text": [
      "(1, 2, 3, 4, 5)\n"
     ]
    },
    {
     "ename": "NameError",
     "evalue": "name 't1' is not defined",
     "output_type": "error",
     "traceback": [
      "\u001b[1;31m---------------------------------------------------------------------------\u001b[0m",
      "\u001b[1;31mNameError\u001b[0m                                 Traceback (most recent call last)",
      "\u001b[1;32m<ipython-input-20-4b9f87d9d406>\u001b[0m in \u001b[0;36m<module>\u001b[1;34m\u001b[0m\n\u001b[0;32m      2\u001b[0m \u001b[0mprint\u001b[0m\u001b[1;33m(\u001b[0m\u001b[0mt1\u001b[0m\u001b[1;33m)\u001b[0m\u001b[1;33m\u001b[0m\u001b[1;33m\u001b[0m\u001b[0m\n\u001b[0;32m      3\u001b[0m \u001b[1;32mdel\u001b[0m \u001b[0mt1\u001b[0m\u001b[1;33m\u001b[0m\u001b[1;33m\u001b[0m\u001b[0m\n\u001b[1;32m----> 4\u001b[1;33m \u001b[0mprint\u001b[0m\u001b[1;33m(\u001b[0m\u001b[0mt1\u001b[0m\u001b[1;33m)\u001b[0m\u001b[1;33m\u001b[0m\u001b[1;33m\u001b[0m\u001b[0m\n\u001b[0m",
      "\u001b[1;31mNameError\u001b[0m: name 't1' is not defined"
     ]
    }
   ],
   "source": [
    "t1 = (1,2,3,4,5)\n",
    "print(t1)\n",
    "del t1\n",
    "print(t1)"
   ]
  },
  {
   "cell_type": "markdown",
   "metadata": {},
   "source": [
    "### 3. Sets"
   ]
  },
  {
   "cell_type": "markdown",
   "metadata": {},
   "source": [
    "In Python, Set is an unordered collection of data type that is iterable, mutable and has no duplicate elements.\n",
    "\n",
    "The order of elements in a set is undefined though it may consist of various elements."
   ]
  },
  {
   "cell_type": "code",
   "execution_count": 21,
   "metadata": {},
   "outputs": [
    {
     "name": "stdout",
     "output_type": "stream",
     "text": [
      "Empty set:  set()\n",
      "Set created from string object:  {'h', 'e', 'a', 's', 't', 'i', 'T'}\n",
      "Set created from typecasting list:  {1, 2, 3, 4, 5, 6}\n"
     ]
    }
   ],
   "source": [
    "#creating a set\n",
    "\n",
    "s1 = set()\n",
    "s2 = set(\"Thisisaset\")\n",
    "s3 = set([1,2,3,4,5,6])\n",
    "\n",
    "print(\"Empty set: \", s1)\n",
    "print(\"Set created from string object: \", s2)\n",
    "print(\"Set created from typecasting list: \", s3)"
   ]
  },
  {
   "cell_type": "code",
   "execution_count": 22,
   "metadata": {},
   "outputs": [
    {
     "name": "stdout",
     "output_type": "stream",
     "text": [
      "{1, 2, 3, 4, 5, (6, 7, 8)}\n",
      "{1, 2, 3, 4, 67, 6, 7, 8, 45, 89}\n"
     ]
    }
   ],
   "source": [
    "s1 = set((1,2,3))\n",
    "s1.add(4)\n",
    "s1.add(5)\n",
    "s1.add((6,7,8))\n",
    "print(s1)\n",
    "\n",
    "#with add() you can add only one element at a time. To add more elements we use update()\n",
    "\n",
    "s2 = set((1,2,3,4))\n",
    "s2.update([6,7,8],(45,67,89))\n",
    "print(s2)"
   ]
  },
  {
   "cell_type": "code",
   "execution_count": 23,
   "metadata": {},
   "outputs": [
    {
     "name": "stdout",
     "output_type": "stream",
     "text": [
      "Before popping:  {2, 34, 67, 99, 43, 12, 80, 17}\n",
      "After popping:  {67, 99, 43, 12, 80, 17}\n"
     ]
    }
   ],
   "source": [
    "#indexing is not possible in set\n",
    "\n",
    "#pop() is used to remove elements from the back of the tuple\n",
    "\n",
    "s1 = {34,67,2,12,43,99,17,80}\n",
    "print(\"Before popping: \", s1)\n",
    "s1.pop()\n",
    "s1.pop()\n",
    "print(\"After popping: \", s1)"
   ]
  },
  {
   "cell_type": "code",
   "execution_count": 24,
   "metadata": {},
   "outputs": [
    {
     "name": "stdout",
     "output_type": "stream",
     "text": [
      "After remove(): {34, 11, 45, 80, 55, 87}\n",
      "After discard(): {34, 45, 80, 55, 87}\n"
     ]
    }
   ],
   "source": [
    "#removing set elements using remove() and discard() \n",
    "#The difference between remove() and discard() is that remove() raises an Error\n",
    "#if the element we are trying to remove is not present while discard() doesnt \n",
    "#raise an error and the set remains unchanged.\n",
    "\n",
    "s1 = {45,12,11,34,87,55,90,80}\n",
    "s1.remove(12)\n",
    "s1.remove(90)\n",
    "print(\"After remove():\", s1)\n",
    "s1.discard(11)\n",
    "s1.discard(90)\n",
    "print(\"After discard():\", s1)"
   ]
  },
  {
   "cell_type": "markdown",
   "metadata": {},
   "source": [
    "### 4. Frozen Sets"
   ]
  },
  {
   "cell_type": "markdown",
   "metadata": {},
   "source": [
    "Frozen sets in Python are immutable objects that only support methods and operators that produce a result without affecting the frozen set or sets to which they are applied.\n",
    "\n",
    "While elements of a set can be modified at any time, elements of the frozen set remain the same after creation."
   ]
  },
  {
   "cell_type": "code",
   "execution_count": 25,
   "metadata": {},
   "outputs": [
    {
     "name": "stdout",
     "output_type": "stream",
     "text": [
      "frozenset()\n",
      "frozenset({'e', 'l', 'd', 'H', 'r', 'o', 'W'})\n"
     ]
    }
   ],
   "source": [
    "#creating a frozen set\n",
    "\n",
    "fs1 = frozenset()\n",
    "fs2 = frozenset(\"HelloWorld\")\n",
    "\n",
    "print(fs1)\n",
    "print(fs2)"
   ]
  },
  {
   "cell_type": "markdown",
   "metadata": {},
   "source": [
    "### 5. Dictionary"
   ]
  },
  {
   "cell_type": "markdown",
   "metadata": {},
   "source": [
    "Dictionary in Python is an unordered collection of data values, used to store data values like a map, which unlike other Data Types that hold only single value as an element, Dictionary holds key:value pair. Key value is provided in the dictionary to make it more optimized.\n",
    "\n",
    "Note – Keys in a dictionary doesn’t allows Polymorphism."
   ]
  },
  {
   "cell_type": "code",
   "execution_count": 26,
   "metadata": {},
   "outputs": [
    {
     "name": "stdout",
     "output_type": "stream",
     "text": [
      "Empty Dictionary: \n",
      "{}\n",
      "\n",
      "Dictionary with the use of dict(): \n",
      "{1: 'Geeks', 2: 'For', 3: 'Geeks'}\n",
      "\n",
      "Dictionary with each item as a pair: \n",
      "{1: 'Geeks', 2: 'For'}\n",
      "{1: 'Geeks', 2: 'For', 3: {'A': 'Welcome', 'B': 'To', 'C': 'Geeks'}}\n"
     ]
    }
   ],
   "source": [
    "#creating a dictionary\n",
    "\n",
    "\n",
    "Dict = {} \n",
    "print(\"Empty Dictionary: \") \n",
    "print(Dict) \n",
    "  \n",
    "Dict = dict({1: 'Geeks', 2: 'For', 3:'Geeks'}) \n",
    "print(\"\\nDictionary with the use of dict(): \") \n",
    "print(Dict) \n",
    "  \n",
    "Dict = dict([(1, 'Geeks'), (2, 'For')]) \n",
    "print(\"\\nDictionary with each item as a pair: \") \n",
    "print(Dict) \n",
    "\n",
    "Dict = {1: 'Geeks', 2: 'For', 3:{'A' : 'Welcome', 'B' : 'To', 'C' : 'Geeks'}} \n",
    "print(Dict)"
   ]
  },
  {
   "cell_type": "code",
   "execution_count": 27,
   "metadata": {},
   "outputs": [
    {
     "name": "stdout",
     "output_type": "stream",
     "text": [
      "\n",
      "Dictionary after adding 3 elements: \n",
      "{0: 'Geeks', 2: 'For', 3: 1}\n",
      "\n",
      "Dictionary after adding 3 elements: \n",
      "{0: 'Geeks', 2: 'For', 3: 1, 'Value_set': (2, 3, 4)}\n",
      "\n",
      "Updated key value: \n",
      "{0: 'Geeks', 2: 'Welcome', 3: 1, 'Value_set': (2, 3, 4)}\n",
      "\n",
      "Adding a Nested Key: \n",
      "{0: 'Geeks', 2: 'Welcome', 3: 1, 'Value_set': (2, 3, 4), 5: {'Nested': {'1': 'Life', '2': 'Geeks'}}}\n"
     ]
    }
   ],
   "source": [
    "#adding elements to a dictionary\n",
    "\n",
    "\n",
    "Dict = {} \n",
    "Dict[0] = 'Geeks'\n",
    "Dict[2] = 'For'\n",
    "Dict[3] = 1\n",
    "print(\"\\nDictionary after adding 3 elements: \") \n",
    "print(Dict) \n",
    "\n",
    "Dict['Value_set'] = 2, 3, 4\n",
    "print(\"\\nDictionary after adding 3 elements: \") \n",
    "print(Dict) \n",
    "\n",
    "Dict[2] = 'Welcome'\n",
    "print(\"\\nUpdated key value: \") \n",
    "print(Dict) \n",
    "\n",
    "Dict[5] = {'Nested' :{'1' : 'Life', '2' : 'Geeks'}} \n",
    "print(\"\\nAdding a Nested Key: \") \n",
    "print(Dict)"
   ]
  },
  {
   "cell_type": "code",
   "execution_count": 29,
   "metadata": {},
   "outputs": [
    {
     "name": "stdout",
     "output_type": "stream",
     "text": [
      "Accessing a element using key:\n",
      "For\n",
      "Accessing a element using key:\n",
      "Geeks\n"
     ]
    }
   ],
   "source": [
    "#accessing elements from a dictionary\n",
    "\n",
    "Dict = {1: 'Geeks', 'name': 'For', 3: 'Geeks'} \n",
    "print(\"Accessing a element using key:\") \n",
    "print(Dict['name']) \n",
    "print(\"Accessing a element using key:\") \n",
    "print(Dict[1])"
   ]
  },
  {
   "cell_type": "code",
   "execution_count": 30,
   "metadata": {},
   "outputs": [
    {
     "name": "stdout",
     "output_type": "stream",
     "text": [
      "Accessing a element using get:\n",
      "Geeks\n"
     ]
    }
   ],
   "source": [
    "Dict = {1: 'Geeks', 'name': 'For', 3: 'Geeks'} \n",
    "print(\"Accessing a element using get:\") \n",
    "print(Dict.get(3))"
   ]
  },
  {
   "cell_type": "code",
   "execution_count": 31,
   "metadata": {},
   "outputs": [
    {
     "name": "stdout",
     "output_type": "stream",
     "text": [
      "Initial Dictionary: \n",
      "{5: 'Welcome', 6: 'To', 7: 'Geeks', 'A': {1: 'Geeks', 2: 'For', 3: 'Geeks'}, 'B': {1: 'Geeks', 2: 'Life'}}\n",
      "\n",
      "Deleting a specific key: \n",
      "{5: 'Welcome', 7: 'Geeks', 'A': {1: 'Geeks', 2: 'For', 3: 'Geeks'}, 'B': {1: 'Geeks', 2: 'Life'}}\n",
      "\n",
      "Deleting a key from Nested Dictionary: \n",
      "{5: 'Welcome', 7: 'Geeks', 'A': {1: 'Geeks', 3: 'Geeks'}, 'B': {1: 'Geeks', 2: 'Life'}}\n"
     ]
    }
   ],
   "source": [
    "#deleting elements from the dictionary\n",
    "\n",
    "Dict = { 5 : 'Welcome', 6 : 'To', 7 : 'Geeks', \n",
    "\t\t'A' : {1 : 'Geeks', 2 : 'For', 3 : 'Geeks'}, \n",
    "\t\t'B' : {1 : 'Geeks', 2 : 'Life'}} \n",
    "print(\"Initial Dictionary: \") \n",
    "print(Dict) \n",
    "\n",
    "# Deleting a Key value \n",
    "del Dict[6] \n",
    "print(\"\\nDeleting a specific key: \") \n",
    "print(Dict) \n",
    "\n",
    "del Dict['A'][2] \n",
    "print(\"\\nDeleting a key from Nested Dictionary: \") \n",
    "print(Dict)"
   ]
  },
  {
   "cell_type": "code",
   "execution_count": 32,
   "metadata": {},
   "outputs": [
    {
     "name": "stdout",
     "output_type": "stream",
     "text": [
      "\n",
      "Dictionary after deletion: {'name': 'For', 3: 'Geeks'}\n",
      "Value associated to poped key is: Geeks\n"
     ]
    }
   ],
   "source": [
    "Dict = {1: 'Geeks', 'name': 'For', 3: 'Geeks'} \n",
    "\n",
    "# Deleting a key \n",
    "# using pop() method \n",
    "pop_ele = Dict.pop(1) \n",
    "print('\\nDictionary after deletion: ' + str(Dict)) \n",
    "print('Value associated to poped key is: ' + str(pop_ele))"
   ]
  },
  {
   "cell_type": "code",
   "execution_count": 33,
   "metadata": {},
   "outputs": [
    {
     "name": "stdout",
     "output_type": "stream",
     "text": [
      "\n",
      "Dictionary after deletion: {1: 'Geeks', 'name': 'For'}\n",
      "The arbitrary pair returned is: (3, 'Geeks')\n"
     ]
    }
   ],
   "source": [
    "Dict = {1: 'Geeks', 'name': 'For', 3: 'Geeks'} \n",
    "\n",
    "# Deleting an arbitrary key \n",
    "# using popitem() function \n",
    "pop_ele = Dict.popitem() \n",
    "print(\"\\nDictionary after deletion: \" + str(Dict)) \n",
    "print(\"The arbitrary pair returned is: \" + str(pop_ele))"
   ]
  },
  {
   "cell_type": "markdown",
   "metadata": {},
   "source": [
    "### 6. Arrays"
   ]
  },
  {
   "cell_type": "markdown",
   "metadata": {},
   "source": [
    "An array is a collection of items stored at contiguous memory locations. The idea is to store multiple items of the same type together.\n",
    "\n",
    "This makes it easier to calculate the position of each element by simply adding an offset to a base value, i.e., the memory location of the first element of the array (generally denoted by the name of the array).\n",
    "\n",
    "For simplicity, we can think of an array a fleet of stairs where on each step is placed a value (let’s say one of your friends). Here, you can identify the location of any of your friends by simply knowing the count of the step they are on. Array can be handled in Python by a module named array.\n",
    "\n",
    "They can be useful when we have to manipulate only a specific data type values. A user can treat lists as arrays. However, user cannot constraint the type of elements stored in a list. If you create arrays using the array module, all elements of the array must be of the same type."
   ]
  },
  {
   "cell_type": "code",
   "execution_count": 35,
   "metadata": {},
   "outputs": [
    {
     "name": "stdout",
     "output_type": "stream",
     "text": [
      "The new created array is :  1 2 3 \n",
      "The new created array is :  2.5 3.2 3.3 "
     ]
    }
   ],
   "source": [
    "#creating an array in python \n",
    "\n",
    "\n",
    "import array as arr \n",
    "a = arr.array('i', [1, 2, 3]) \n",
    "print (\"The new created array is : \", end =\" \") \n",
    "for i in range (0, 3): \n",
    "\tprint (a[i], end =\" \") \n",
    "print() \n",
    "\n",
    "b = arr.array('d', [2.5, 3.2, 3.3]) \n",
    "print (\"The new created array is : \", end =\" \") \n",
    "for i in range (0, 3): \n",
    "\tprint (b[i], end =\" \")"
   ]
  },
  {
   "cell_type": "code",
   "execution_count": 36,
   "metadata": {},
   "outputs": [
    {
     "name": "stdout",
     "output_type": "stream",
     "text": [
      "Array before insertion :  1 2 3 \n",
      "Array after insertion :  1 4 2 3 \n",
      "Array before insertion :  2.5 3.2 3.3 \n",
      "Array after insertion :  2.5 3.2 3.3 4.4 \n"
     ]
    }
   ],
   "source": [
    "#adding elements to an array\n",
    "\n",
    "\n",
    "import array as arr \n",
    "a = arr.array('i', [1, 2, 3]) \n",
    "print (\"Array before insertion : \", end =\" \") \n",
    "for i in range (0, 3): \n",
    "\tprint (a[i], end =\" \") \n",
    "print() \n",
    "\n",
    "# inserting array using \n",
    "# insert() function \n",
    "a.insert(1, 4) \n",
    "print (\"Array after insertion : \", end =\" \") \n",
    "for i in (a): \n",
    "\tprint (i, end =\" \") \n",
    "print() \n",
    "\n",
    "# array with float type \n",
    "b = arr.array('d', [2.5, 3.2, 3.3]) \n",
    "print (\"Array before insertion : \", end =\" \") \n",
    "for i in range (0, 3): \n",
    "\tprint (b[i], end =\" \") \n",
    "print() \n",
    "\n",
    "# adding an element using append() \n",
    "b.append(4.4) \n",
    "print (\"Array after insertion : \", end =\" \") \n",
    "for i in (b): \n",
    "\tprint (i, end =\" \") \n",
    "print()"
   ]
  },
  {
   "cell_type": "code",
   "execution_count": 38,
   "metadata": {},
   "outputs": [
    {
     "name": "stdout",
     "output_type": "stream",
     "text": [
      "Access element is:  1\n",
      "Access element is:  4\n",
      "Access element is:  3.2\n",
      "Access element is:  3.3\n"
     ]
    }
   ],
   "source": [
    "#accessing the elements\n",
    "\n",
    "\n",
    "import array as arr \n",
    "a = arr.array('i', [1, 2, 3, 4, 5, 6]) \n",
    "print(\"Access element is: \", a[0]) \n",
    "print(\"Access element is: \", a[3]) \n",
    "b = arr.array('d', [2.5, 3.2, 3.3]) \n",
    "print(\"Access element is: \", b[1]) \n",
    "print(\"Access element is: \", b[2])"
   ]
  },
  {
   "cell_type": "code",
   "execution_count": 39,
   "metadata": {},
   "outputs": [
    {
     "name": "stdout",
     "output_type": "stream",
     "text": [
      "The new created array is : 1 2 3 1 5 \r\n",
      "The popped element is : 3\n",
      "The array after popping is : 1 2 1 5 \r\n",
      "The array after removing is : 2 1 5 "
     ]
    }
   ],
   "source": [
    "#removing elements from the array\n",
    "\n",
    "\n",
    "import array \n",
    "arr = array.array('i', [1, 2, 3, 1, 5]) \n",
    "print (\"The new created array is : \", end =\"\") \n",
    "for i in range (0, 5): \n",
    "\tprint (arr[i], end =\" \") \n",
    "print (\"\\r\") \n",
    "\n",
    "# using pop() to remove element at 2nd position \n",
    "print (\"The popped element is : \", end =\"\") \n",
    "print (arr.pop(2)) \n",
    "print (\"The array after popping is : \", end =\"\") \n",
    "for i in range (0, 4): \n",
    "\tprint (arr[i], end =\" \") \n",
    "print(\"\\r\") \n",
    "\n",
    "# using remove() to remove 1st occurrence of 1 \n",
    "arr.remove(1) \n",
    "print (\"The array after removing is : \", end =\"\") \n",
    "for i in range (0, 3): \n",
    "\tprint (arr[i], end =\" \")"
   ]
  },
  {
   "cell_type": "code",
   "execution_count": 40,
   "metadata": {},
   "outputs": [
    {
     "name": "stdout",
     "output_type": "stream",
     "text": [
      "The new created array is : 1 2 3 1 2 5 \r\n",
      "The index of 1st occurrence of 2 is : 1\n",
      "The index of 1st occurrence of 1 is : 0\n"
     ]
    }
   ],
   "source": [
    "#searching element in an array\n",
    " \n",
    "import array \n",
    "arr = array.array('i', [1, 2, 3, 1, 2, 5]) \n",
    "print (\"The new created array is : \", end =\"\") \n",
    "for i in range (0, 6): \n",
    "\tprint (arr[i], end =\" \") \n",
    "print (\"\\r\") \n",
    "\n",
    "print (\"The index of 1st occurrence of 2 is : \", end =\"\") \n",
    "print (arr.index(2)) \n",
    "\n",
    "print (\"The index of 1st occurrence of 1 is : \", end =\"\") \n",
    "print (arr.index(1))"
   ]
  },
  {
   "cell_type": "markdown",
   "metadata": {},
   "source": [
    "### 7. Stacks"
   ]
  },
  {
   "cell_type": "markdown",
   "metadata": {},
   "source": [
    "Unlike an array structure, which allows random access at all the positions, a stack limits the inserting and removing operation to only one side of the data sequence. A stack follows the last in, first out (LIFO) principle.\n",
    "In Python, stack can be implemented using a list. To follow the LIFO principle, inserting and removing operations both occur at the tail of the list."
   ]
  },
  {
   "cell_type": "code",
   "execution_count": 41,
   "metadata": {},
   "outputs": [],
   "source": [
    "class stack:\n",
    "  def __init__(self,initialVal=[]):\n",
    "    self.stack = initialVal\n",
    "  \n",
    "  # push is to append to the tail of the list\n",
    "  def push(self,ele):\n",
    "    self.stack.append(ele)\n",
    "    return self.stack\n",
    "  \n",
    "  # pop is to remove from the tail of the list\n",
    "  def pop(self):\n",
    "    return self.stack.pop(-1)\n",
    "  \n",
    "  def checkStack(self):\n",
    "    print(self.stack)\n",
    "  \n",
    "  def checkTop(self):\n",
    "    print(self.stack[-1])\n"
   ]
  },
  {
   "cell_type": "markdown",
   "metadata": {},
   "source": [
    "### 8. Queue"
   ]
  },
  {
   "cell_type": "markdown",
   "metadata": {},
   "source": [
    "Similar to a stack, the queue also limits the position for inserting and removing am operation on a sequence of data. However, unlike a stack, a queue follows the first in, first out (FIFO) principle.\n",
    "In Python, a queue can also be implemented using a list. To follow the FIFO principle, the inserting operation occurs at the tail of the list, while the removing operation occurs at the head of the list.\n"
   ]
  },
  {
   "cell_type": "code",
   "execution_count": 42,
   "metadata": {},
   "outputs": [],
   "source": [
    "class queue:\n",
    "  def __init__(self,initialVal=[]):\n",
    "    self.queue = initialVal\n",
    "  \n",
    "  # enqueue is to append to the tail of the list\n",
    "  def enqueue(self,ele):\n",
    "    self.queue.append(ele)\n",
    "    return self.queue\n",
    "  \n",
    "  # dequeue is to remove from the head of the list\n",
    "  def dequeue(self):\n",
    "    return self.queue.pop(0)\n",
    "  \n",
    "  def checkQueue(self):\n",
    "    print(self.queue)\n",
    "  \n",
    "  def checkHead(self):\n",
    "    print(self.queue[0])\n",
    "  \n",
    "  def checkTail(self):\n",
    "    print(self.queue[-1])"
   ]
  },
  {
   "cell_type": "markdown",
   "metadata": {},
   "source": [
    "### 9. Linked Lists"
   ]
  },
  {
   "cell_type": "markdown",
   "metadata": {},
   "source": [
    "A linked list is a linear data structure, with the previous node pointing to the next node. It can be implemented by defining a ListNode class."
   ]
  },
  {
   "cell_type": "code",
   "execution_count": null,
   "metadata": {},
   "outputs": [],
   "source": [
    "class ListNode:\n",
    "  def _init_(self,val):\n",
    "    self.val = val\n",
    "    self.next = None\n",
    "\n",
    "# initiation of linked list\n",
    "headNode = ListNode(1)\n",
    "secondNode = ListNode(2)\n",
    "thirdNode = ListNode(3)\n",
    "\n",
    "headNode.next = secondNode\n",
    "secondNode.next = thirdNode\n",
    "\n",
    "# iterate through the linked list\n",
    "curNode = headNode\n",
    "while curNode:\n",
    "  print(curNode.val)\n",
    "  curNode = curNode.next\n",
    "\n",
    "# insert new listnode with value of 5 in between the secondNode and thirdNode\n",
    "curNode = headNode\n",
    "while curNode.val != 2:\n",
    "  curNode = curNode.next\n",
    "newNode = ListNode(5)\n",
    "newNode.next = curNode.next\n",
    "curNode.next = newNode\n",
    "\n",
    "# remove the listnode with value of 5\n",
    "curNode = headNode\n",
    "while curNode.next.val != 5:\n",
    "  curNode = curNode.next\n",
    "  curNode.next = curNode.next.next"
   ]
  },
  {
   "cell_type": "markdown",
   "metadata": {},
   "source": [
    "### 10. Tree"
   ]
  },
  {
   "cell_type": "markdown",
   "metadata": {},
   "source": [
    "Tree is a nonlinear data structure and allows different transversal ways. Here, the implementation of inorder, preorder, and postorder transversal is provided."
   ]
  },
  {
   "cell_type": "code",
   "execution_count": null,
   "metadata": {},
   "outputs": [],
   "source": [
    "class TreeNode:\n",
    "  def __init__(self, val):\n",
    "    self.val = val\n",
    "    self.left = None\n",
    "    self.right = None\n",
    "\n",
    "# initialization of a tree\n",
    "rootNode = TreeNode(1)\n",
    "leftNode = TreeNode(2)\n",
    "rightNode = TreeNode(3)\n",
    "\n",
    "rootNode.left = leftNode\n",
    "rootNode.right = rightNode\n",
    "\n",
    "# inorderTraversal of the tree (Left, Root, Right)\n",
    "def inorderTraversal(root):\n",
    "  result = []\n",
    "  \n",
    "  if not root:\n",
    "      return self.result\n",
    "  \n",
    "  def df(node: TreeNode):\n",
    "      if not node:\n",
    "          return\n",
    "      df(node.left)\n",
    "      result.append(node.val)\n",
    "      df(node.right)\n",
    "  \n",
    "  df(root)\n",
    "  return result\n",
    "\n",
    "# preorderTraversal of the tree (Root, Left, Right)\n",
    "def preorderTraversal(root):\n",
    "  result = []\n",
    "  \n",
    "  if not root:\n",
    "      return result\n",
    "  \n",
    "  def df(node: TreeNode):\n",
    "      if not node:\n",
    "          return\n",
    "      result.append(node.val)\n",
    "      df(node.left)\n",
    "      df(node.right)\n",
    "  \n",
    "  df(root)\n",
    "  return result\n",
    "\n",
    "# postorderTraversal of the tree (Left, Right, Root)\n",
    "def postorderTraversal(root):\n",
    "  result = []\n",
    "  \n",
    "  if not root:\n",
    "      return result\n",
    "  \n",
    "  def df(node: TreeNode):\n",
    "      if not node:\n",
    "          return\n",
    "      df(node.left)\n",
    "      df(node.right)\n",
    "      result.append(node.val)\n",
    "  \n",
    "  df(root)\n",
    "  return result\n",
    "\n",
    "print('inorder: ', inorderTraversal(rootNode))\n",
    "print('preorder: ', preorderTraversal(rootNode))\n",
    "print('postorder: ', postorderTraversal(rootNode))"
   ]
  },
  {
   "cell_type": "code",
   "execution_count": null,
   "metadata": {},
   "outputs": [],
   "source": []
  }
 ],
 "metadata": {
  "kernelspec": {
   "display_name": "Python 3",
   "language": "python",
   "name": "python3"
  },
  "language_info": {
   "codemirror_mode": {
    "name": "ipython",
    "version": 3
   },
   "file_extension": ".py",
   "mimetype": "text/x-python",
   "name": "python",
   "nbconvert_exporter": "python",
   "pygments_lexer": "ipython3",
   "version": "3.7.4"
  }
 },
 "nbformat": 4,
 "nbformat_minor": 2
}
