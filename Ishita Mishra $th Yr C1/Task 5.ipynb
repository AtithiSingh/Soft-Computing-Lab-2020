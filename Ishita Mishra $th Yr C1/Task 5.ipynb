
AIM:  Demonstrate the use of NumPy for matrix operations

NumPy is a Python library allowing easy numerical calculations involving single and multi-dimensional arrays and matrices. Many linear algebra calculations become easy to solve using NumPy.
In python matrix can be implemented as 2D list or 2D Array. Forming matrix from latter, gives the additional functionalities for performing various operations in matrix. These operations and array are defines in module “NumPy“. That's why we use NumPy.
Creating a matrix in NumPy
import NumPy as np
a = np.array([[121,122,123],[66,77,88]])
print(a)
Output:
[ [121, 122,123]
  [66 77 8]]
np. arange() can generate a sequence of numbers given the start and end.
import NumPy as np
print(np.arange(0,3))
Output:
  [0 1 2]

