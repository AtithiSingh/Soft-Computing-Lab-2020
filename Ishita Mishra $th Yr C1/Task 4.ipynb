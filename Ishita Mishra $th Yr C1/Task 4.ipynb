
AIM: Write the various data structure in python and their operations.

There are four built-in data structures in Python -list, tuple, dictionary and set.

LIST:
A list is a data structure that holds an ordered collection of items i.e. you can store a sequence of items in a list .Lists are used to store data of different data types in a sequential manner. There are addresses assigned to every element of the list, which is called as Index. The index value starts from 0 and goes on until the last element called the positive index. There is also negative indexing which starts from -1 enabling you to access elements from the last to first.
CREATING LIST:
my_ls = [1,2,'abc',58.06]
print(my_ls)
Output:
  [1,2,'abc',58.06]
ADDING ELEMENT:
The append() function adds all the elements passed to it as a single element.
The extend() function adds the elements one-by-one into the list.
The insert() function adds the element passed to the index value and increase the size of the list too.
my_list = [1, 2, 3]
print(my_list)
my_list.append([555, 12]) #add as a single element
print(my_list)
my_list.extend([234, 'more_example']) #add as different elements
print(my_list)
my_list.insert(1, 'insert_example') #add element i
print(my_list
Output:
[1, 2, 3]
[1, 2, 3, [555, 12]]
[1, 2, 3, [555, 12], 234, ‘more_example’]
[1, ‘insert_example’, 2, 3, [555, 12], 234, ‘more_example’]
DELETING ELEMENT
To delete elements, use the del keyword which is built-in into Python but this does not return anything back to us.
To remove an element by its value, you use the remove() function.
my_ls=[1,2,3,'exam',3.12,10,30]
del my_ls[5]
print(my_ls)
my_ls.remove('exam')
print(my_ls)

Output:
[1, 2, 3, ‘exam’, 3.132, 30]
[1, 2, 3, 3.132, 30]

ACCESSING ELEMENT:
my_list =[1,2,3,'exam,,3.132,10,30]
for element in my_list:
    print(element)
print(my_list)
print(my_list[3])
print(my_list[0:2])
print(my_list[::,-1])

Output:
1
2
3
exam
3.132
10
30
[1, 2, 3, ‘exam’, 3.132, 10, 30]
exam
[1, 2]
[30, 10, 3.132, ‘exam’, 3, 2, 1]

DICTIONARIES
Dictionaries are used to store key-value pairs. For example , a phone directory where hundreds and thousands of names and their corresponding numbers have been added. Now the constant values here are Name and the Phone Numbers which are called as the keys. And the various names and phone numbers are the values that have been fed to the keys. If you access the values of the keys, you will obtain all the names and phone numbers. And in Python, this structure is stored using dictionaries.Pairs of keys and values are specified in a dictionary by using the notation d = {key1 : value1, key2 : value2 }

CREATING DICTIONARIES:
dic={}
print(dic)
dic={1: ' Python ' , 2 : 'Java'}
print(dic)

Output:
{1: ' Python ' , 2 : 'Java'}
CHANGING AND ADDING KEY-VALUE PAIRS:
dic={'First': 'Python', 'Second': 'Java'}
print(dic)
dic['Second'] = 'C++'
print(dic)
dic['Third'] = 'Ruby'
print(dic)

Output:
{‘First’: ‘Python’, ‘Second’: ‘Java’}
{‘First’: ‘Python’, ‘Second’: ‘C++’}
{‘First’: ‘Python’, ‘Second’: ‘C++’, ‘Third’: ‘Ruby’}
DELETING KEY-VALUE PAIR:
dic = {'First': 'Python', 'Second': 'Java', 'Third': 'Ruby'}
a = dic.pop('Third')
print('Value:', a)
print('Dictionary:', dic)
b = dic.popitem()
print('Key, value pair:', b)
print('Dictionary', dic)
dic.clear()
print('n', dic)

Output:
Value: Ruby
Dictionary: {‘First’: ‘Python’, ‘Second’: ‘Java’}
Key, value pair: (‘Second’, ‘Java’)
Dictionary {‘First’: ‘Python’}
{}
ACCESSING ELEMENT:
dic={'First': 'Python', 'Second': 'Java'}
print(dic['First'])
print(dic.get('Second'))
Output:
Python
Java
TUPLE
Tuple are the same as lists are with the exception that the data once entered into the tuple cannot be changed no matter what. The only exception is when the data inside the tuple is mutable, only then the tuple data can be changed.Tuples are used to hold together multiple objects.


CREATING TUPLE:
tup = (1,2,3)
print(tup)

Output:
(1, 2, 3)

ACCESSING ELEMENT:
tup = (1,2,3,'abc')
for x in tup:
   print(x)
print(tup)
print(tup[0])
print(tup[:])
print(tup[3][4])

Output:
1
2
3
abc
(1, 2, 3, ‘abc’)
1
(1, 2, 3, ‘abc’)
a
APPENDING ELEMENT:
tup = (1,2,3)
tup=tup + (4,5,6)
print(tup)

Output:
(1,2,3,4,5,6)

SET:
Set are a collection of unordered elements that are unique. Meaning that even if the data is repeated more than one time, it would be entered into the set only once. It resembles the sets that you have learnt in arithmetic. The operations also are the same as is with the arithmetic sets.Sets are unordered collections of simple objects.
CREATING SET:
set ={1,2,3,4,5,5,5}
print(set)

Output:
{1, 2, 3, 4, 5}

ADDING ELEMENT:
set ={1,2,3}
set.add(4)
print(set)

Output:
{1, 2, 3, 4}




