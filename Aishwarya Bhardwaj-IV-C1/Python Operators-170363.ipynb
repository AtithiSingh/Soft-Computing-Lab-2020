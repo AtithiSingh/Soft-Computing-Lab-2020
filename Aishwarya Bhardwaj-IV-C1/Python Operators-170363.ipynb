{
 "cells": [
  {
   "cell_type": "markdown",
   "metadata": {},
   "source": [
    "# Aim: Write aprogram to implement all operators in python."
   ]
  },
  {
   "cell_type": "markdown",
   "metadata": {},
   "source": [
    "# Arithmetic Operators"
   ]
  },
  {
   "cell_type": "code",
   "execution_count": 3,
   "metadata": {},
   "outputs": [
    {
     "name": "stdout",
     "output_type": "stream",
     "text": [
      "Addition: x + y = 29\n",
      "Subtraction: x - y = 11\n",
      "Multiplication: x * y = 180\n",
      "Division: x / y = 2.2222222222222223\n",
      "Floor division: x // y = 2\n",
      "Exponent: x ** y = 512000000000\n",
      "Modulus: x % y = 2\n"
     ]
    }
   ],
   "source": [
    "x = 20\n",
    "y = 9\n",
    "\n",
    "print('Addition: x + y =',x+y)\n",
    "\n",
    "print('Subtraction: x - y =',x-y)\n",
    "\n",
    "print('Multiplication: x * y =',x*y)\n",
    "\n",
    "print('Division: x / y =',x/y)\n",
    "\n",
    "print('Floor division: x // y =',x//y)\n",
    "\n",
    "print('Exponent: x ** y =',x**y)\n",
    "\n",
    "print('Modulus: x % y =',x%y)"
   ]
  },
  {
   "cell_type": "markdown",
   "metadata": {},
   "source": [
    "# Relational Operators"
   ]
  },
  {
   "cell_type": "code",
   "execution_count": 4,
   "metadata": {},
   "outputs": [
    {
     "name": "stdout",
     "output_type": "stream",
     "text": [
      "x > y is False\n",
      "x < y is True\n",
      "x == y is False\n",
      "x != y is True\n",
      "x >= y is False\n",
      "x <= y is True\n"
     ]
    }
   ],
   "source": [
    "x = 10\n",
    "y = 12\n",
    "\n",
    "print('x > y is',x>y)\n",
    "\n",
    "print('x < y is',x<y)\n",
    "\n",
    "print('x == y is',x==y)\n",
    "\n",
    "print('x != y is',x!=y)\n",
    "\n",
    "print('x >= y is',x>=y)\n",
    "\n",
    "print('x <= y is',x<=y)"
   ]
  },
  {
   "cell_type": "markdown",
   "metadata": {},
   "source": [
    "# Logical Operators"
   ]
  },
  {
   "cell_type": "code",
   "execution_count": 5,
   "metadata": {},
   "outputs": [
    {
     "name": "stdout",
     "output_type": "stream",
     "text": [
      "x and y is False\n",
      "x or y is True\n",
      "not x is False\n"
     ]
    }
   ],
   "source": [
    "x = True\n",
    "y = False\n",
    "\n",
    "print('x and y is',x and y)\n",
    "\n",
    "print('x or y is',x or y)\n",
    "\n",
    "print('not x is',not x)"
   ]
  },
  {
   "cell_type": "markdown",
   "metadata": {},
   "source": [
    "# Bitwise operators"
   ]
  },
  {
   "cell_type": "code",
   "execution_count": 8,
   "metadata": {},
   "outputs": [
    {
     "name": "stdout",
     "output_type": "stream",
     "text": [
      "x= 6\n",
      "y= 8\n",
      "x & y= 0\n",
      "x | y= 14\n",
      "~x= -7\n",
      "x ^ y= 14\n",
      "x >> 2= 1\n",
      "y << 2= 32\n"
     ]
    }
   ],
   "source": [
    "x=6\n",
    "y=8\n",
    "\n",
    "print('x=',x)\n",
    "print('y=',y)\n",
    "print('x & y=',x & y)\n",
    "print('x | y=',x | y)\n",
    "print('~x=',~x)\n",
    "print('x ^ y=',x ^ y)\n",
    "print('x >> 2=',x >> 2)\n",
    "print('y << 2=',y << 2)"
   ]
  },
  {
   "cell_type": "markdown",
   "metadata": {},
   "source": [
    "# Assignment Operators"
   ]
  },
  {
   "cell_type": "code",
   "execution_count": 14,
   "metadata": {},
   "outputs": [
    {
     "name": "stdout",
     "output_type": "stream",
     "text": [
      "x= 18\n",
      "y= 80\n",
      "x= 23\n",
      "y= 2\n"
     ]
    }
   ],
   "source": [
    "x = 13\n",
    "y = 16\n",
    "\n",
    "x+=5\n",
    "print('x=',x)\n",
    "\n",
    "y*=5\n",
    "print('y=',y)\n",
    "\n",
    "x |= 5\n",
    "print('x=',x)\n",
    "\n",
    "y >>= 5\n",
    "print('y=',y)\n",
    "\n"
   ]
  },
  {
   "cell_type": "markdown",
   "metadata": {},
   "source": [
    " # Membership Operators"
   ]
  },
  {
   "cell_type": "code",
   "execution_count": 16,
   "metadata": {},
   "outputs": [
    {
     "name": "stdout",
     "output_type": "stream",
     "text": [
      "True\n",
      "True\n"
     ]
    }
   ],
   "source": [
    "x = 'Hello world'\n",
    "\n",
    "print('H' in x)\n",
    "\n",
    "print('hello' not in x)"
   ]
  },
  {
   "cell_type": "code",
   "execution_count": null,
   "metadata": {},
   "outputs": [],
   "source": []
  }
 ],
 "metadata": {
  "kernelspec": {
   "display_name": "Python 3",
   "language": "python",
   "name": "python3"
  },
  "language_info": {
   "codemirror_mode": {
    "name": "ipython",
    "version": 3
   },
   "file_extension": ".py",
   "mimetype": "text/x-python",
   "name": "python",
   "nbconvert_exporter": "python",
   "pygments_lexer": "ipython3",
   "version": "3.7.4"
  }
 },
 "nbformat": 4,
 "nbformat_minor": 2
}
