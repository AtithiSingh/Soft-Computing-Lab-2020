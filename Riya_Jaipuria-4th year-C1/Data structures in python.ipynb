{
  "nbformat": 4,
  "nbformat_minor": 0,
  "metadata": {
    "colab": {
      "name": "Untitled0.ipynb",
      "provenance": [],
      "authorship_tag": "ABX9TyM+a2Y2hph36zE84Yyf49jS",
      "include_colab_link": true
    },
    "kernelspec": {
      "name": "python3",
      "display_name": "Python 3"
    }
  },
  "cells": [
    {
      "cell_type": "markdown",
      "metadata": {
        "id": "view-in-github",
        "colab_type": "text"
      },
      "source": [
        "<a href=\"https://colab.research.google.com/github/RiyaJaipuria/Soft-Computing-Lab-2020/blob/master/Riya_Jaipuria-4th%20year-C1/Data%20structures%20in%20python.ipynb\" target=\"_parent\"><img src=\"https://colab.research.google.com/assets/colab-badge.svg\" alt=\"Open In Colab\"/></a>"
      ]
    },
    {
      "cell_type": "markdown",
      "metadata": {
        "id": "OVVw4dm3QkJ9"
      },
      "source": [
        "PROGRAM : 2\n",
        "\n",
        "AIM: Write a program to implement various data structures in python and their operations.\n",
        "\n",
        "Python has been used worldwide for different fields such as making websites, artificial intelligence and much more. But to make all of this possible, data plays a very important role which means that this data should be stored efficiently and the access to it must be timely. So there are two types of data structures:\n",
        "\n",
        "Built-in Data Structures : List, Dictionary, Tuple, Sets.\n",
        "\n",
        "User-Defined Data Structures Arrays, List, Stack, Queue, Trees, Linked Lists, Graphs, HashMaps."
      ]
    },
    {
      "cell_type": "markdown",
      "metadata": {
        "id": "jtMMaO2uQ3ai"
      },
      "source": [
        "1. LIST"
      ]
    },
    {
      "cell_type": "code",
      "metadata": {
        "id": "sUetfJJmQ6jD",
        "outputId": "2933e7c7-2be3-4b56-a349-e219964f7690",
        "colab": {
          "base_uri": "https://localhost:8080/",
          "height": 34
        }
      },
      "source": [
        "#CREATE LIST:\n",
        "#create empty list\n",
        "list1 = [] \n",
        "print(list1)"
      ],
      "execution_count": 1,
      "outputs": [
        {
          "output_type": "stream",
          "text": [
            "[]\n"
          ],
          "name": "stdout"
        }
      ]
    },
    {
      "cell_type": "code",
      "metadata": {
        "id": "8wn_tcZ5Q-qX",
        "outputId": "1c51699e-8c60-4cd1-e840-5ff78d634855",
        "colab": {
          "base_uri": "https://localhost:8080/",
          "height": 34
        }
      },
      "source": [
        "#creating list with data\n",
        "list2 = [1, 2, 3, 'abc', 192] \n",
        "print(list2)"
      ],
      "execution_count": 3,
      "outputs": [
        {
          "output_type": "stream",
          "text": [
            "[1, 2, 3, 'abc', 192]\n"
          ],
          "name": "stdout"
        }
      ]
    },
    {
      "cell_type": "code",
      "metadata": {
        "id": "apVn5CxHRHzC",
        "outputId": "7f8d49f5-7c13-4233-fb6d-b73b5c93ab01",
        "colab": {
          "base_uri": "https://localhost:8080/",
          "height": 51
        }
      },
      "source": [
        "#ADD ELEMENT: \n",
        "#add as a single element\n",
        "list1 = [1, 2, 3]\n",
        "print(list1)\n",
        "list1.append([56, 12]) \n",
        "print(list1)"
      ],
      "execution_count": 4,
      "outputs": [
        {
          "output_type": "stream",
          "text": [
            "[1, 2, 3]\n",
            "[1, 2, 3, [56, 12]]\n"
          ],
          "name": "stdout"
        }
      ]
    },
    {
      "cell_type": "code",
      "metadata": {
        "id": "UtsGdvkbRBFi",
        "outputId": "89f22e6f-4b1c-46c3-ca25-a015b7a66d87",
        "colab": {
          "base_uri": "https://localhost:8080/",
          "height": 34
        }
      },
      "source": [
        "#add as different elements\n",
        "list1.extend([768, 'xyz']) \n",
        "print(list1)"
      ],
      "execution_count": 6,
      "outputs": [
        {
          "output_type": "stream",
          "text": [
            "[1, 2, 3, [56, 12], 'def', 768, 'xyz']\n"
          ],
          "name": "stdout"
        }
      ]
    },
    {
      "cell_type": "code",
      "metadata": {
        "id": "llvSyQyPRRns",
        "outputId": "068c8c09-530e-440b-ea4b-d6e035db7dc3",
        "colab": {
          "base_uri": "https://localhost:8080/",
          "height": 34
        }
      },
      "source": [
        "#add ith elements\n",
        "list1.insert(89, 'def') \n",
        "print(list1)"
      ],
      "execution_count": 7,
      "outputs": [
        {
          "output_type": "stream",
          "text": [
            "[1, 2, 3, [56, 12], 'def', 768, 'xyz', 'def']\n"
          ],
          "name": "stdout"
        }
      ]
    },
    {
      "cell_type": "code",
      "metadata": {
        "id": "x2S-qdy9RYx1",
        "outputId": "6ef0940b-9077-4615-cd17-f7003a57f0d6",
        "colab": {
          "base_uri": "https://localhost:8080/",
          "height": 85
        }
      },
      "source": [
        "#DELET ELEMENT : \n",
        "list1 = [1, 2, 3, 'qwerty', 29.4, 10, 30]\n",
        "del list1[5] #delete element at index 5\n",
        "print(list1)\n",
        "list1.remove('qwerty') #remove element with value\n",
        "print(list1)\n",
        "a = list1.pop(4) #pop element from list\n",
        "print('Popped Element: ', a, ' List remaining: ', list1)\n",
        "list1.clear() #empty the list\n",
        "print(list1)"
      ],
      "execution_count": 8,
      "outputs": [
        {
          "output_type": "stream",
          "text": [
            "[1, 2, 3, 'qwerty', 29.4, 30]\n",
            "[1, 2, 3, 29.4, 30]\n",
            "Popped Element:  30  List remaining:  [1, 2, 3, 29.4]\n",
            "[]\n"
          ],
          "name": "stdout"
        }
      ]
    },
    {
      "cell_type": "code",
      "metadata": {
        "id": "eHVty6zCRof2",
        "outputId": "11764e6b-ffb4-41bb-bd43-60896bf8b7a7",
        "colab": {
          "base_uri": "https://localhost:8080/",
          "height": 204
        }
      },
      "source": [
        "#ACCESSING ELEMENTS :\n",
        "list1 = [1, 2, 3, 'asd', 29.499, 10, 30]\n",
        "for element in list1: #access elements one by one\n",
        "    print(element)\n",
        "print(list1) #access all elements\n",
        "print(list1[3]) #access index 3 element\n",
        "print(list1[0:2]) #access elements from 0 to 1 and exclude 2\n",
        "print(list1[::-1]) #access elements in reverse"
      ],
      "execution_count": 9,
      "outputs": [
        {
          "output_type": "stream",
          "text": [
            "1\n",
            "2\n",
            "3\n",
            "asd\n",
            "29.499\n",
            "10\n",
            "30\n",
            "[1, 2, 3, 'asd', 29.499, 10, 30]\n",
            "asd\n",
            "[1, 2]\n",
            "[30, 10, 29.499, 'asd', 3, 2, 1]\n"
          ],
          "name": "stdout"
        }
      ]
    },
    {
      "cell_type": "code",
      "metadata": {
        "id": "to2dOm7SR1UK",
        "outputId": "53ac7ea8-0c68-4cfa-f625-8ce21d38e606",
        "colab": {
          "base_uri": "https://localhost:8080/",
          "height": 102
        }
      },
      "source": [
        "#OTHER OPERATION ON LIST are : \n",
        "list1 = [1, 2, 3, 10, 30, 10]\n",
        "print(len(list1)) #find length of list\n",
        "print(list1.index(10)) #find index of element that occurs first\n",
        "print(list1.count(10)) #find count of the element\n",
        "print(sorted(list1)) #print sorted list but not change original\n",
        "list1.sort(reverse=True) #sort original list\n",
        "print(list1)"
      ],
      "execution_count": 10,
      "outputs": [
        {
          "output_type": "stream",
          "text": [
            "6\n",
            "3\n",
            "2\n",
            "[1, 2, 3, 10, 10, 30]\n",
            "[30, 10, 10, 3, 2, 1]\n"
          ],
          "name": "stdout"
        }
      ]
    },
    {
      "cell_type": "markdown",
      "metadata": {
        "id": "qlAdwu5jR7s7"
      },
      "source": [
        "2. DICTIONARY"
      ]
    },
    {
      "cell_type": "code",
      "metadata": {
        "id": "xBtwmyeER_gD",
        "outputId": "5453f564-05d1-4630-c0fb-769ec9100c33",
        "colab": {
          "base_uri": "https://localhost:8080/",
          "height": 51
        }
      },
      "source": [
        "#CREATING A DICTIONARY:\n",
        "my_dict = {} #empty dictionary\n",
        "print(my_dict)\n",
        "my_dict = {1: 'Python', 2: 'Java'} #dictionary with elements\n",
        "print(my_dict)"
      ],
      "execution_count": 11,
      "outputs": [
        {
          "output_type": "stream",
          "text": [
            "{}\n",
            "{1: 'Python', 2: 'Java'}\n"
          ],
          "name": "stdout"
        }
      ]
    },
    {
      "cell_type": "code",
      "metadata": {
        "id": "G48y8ZdGSFCs",
        "outputId": "a0047357-cd1a-4833-8c62-88df0bfb4a23",
        "colab": {
          "base_uri": "https://localhost:8080/",
          "height": 68
        }
      },
      "source": [
        "#Changing and Adding key, value pairs\n",
        "my_dict = {'First': 'Python', 'Second': 'Java'}\n",
        "print(my_dict)\n",
        "my_dict['Second'] = 'C++' #changing element\n",
        "print(my_dict)\n",
        "my_dict['Third'] = 'Ruby' #adding key-value pair\n",
        "print(my_dict)"
      ],
      "execution_count": 12,
      "outputs": [
        {
          "output_type": "stream",
          "text": [
            "{'First': 'Python', 'Second': 'Java'}\n",
            "{'First': 'Python', 'Second': 'C++'}\n",
            "{'First': 'Python', 'Second': 'C++', 'Third': 'Ruby'}\n"
          ],
          "name": "stdout"
        }
      ]
    },
    {
      "cell_type": "code",
      "metadata": {
        "id": "sChR-Ui7SHof",
        "outputId": "149a339d-d016-4a01-e34d-7ff707c968e6",
        "colab": {
          "base_uri": "https://localhost:8080/",
          "height": 102
        }
      },
      "source": [
        "#Deleting key value pairs\n",
        "my_dict = {'First': 'Python', 'Second': 'Java', 'Third': 'Ruby'}\n",
        "a = my_dict.pop('Third') #pop element\n",
        "print('Value:', a)\n",
        "print('Dictionary:', my_dict)\n",
        "b = my_dict.popitem() #pop the key-value pair\n",
        "print('Key, value pair:', b)\n",
        "print('Dictionary', my_dict)\n",
        "my_dict.clear() #empty dictionary\n",
        "print('n', my_dict)"
      ],
      "execution_count": 13,
      "outputs": [
        {
          "output_type": "stream",
          "text": [
            "Value: Ruby\n",
            "Dictionary: {'First': 'Python', 'Second': 'Java'}\n",
            "Key, value pair: ('Second', 'Java')\n",
            "Dictionary {'First': 'Python'}\n",
            "n {}\n"
          ],
          "name": "stdout"
        }
      ]
    },
    {
      "cell_type": "code",
      "metadata": {
        "id": "d05IbaaqSK4J",
        "outputId": "842aed80-157c-4406-bbe6-a72990bf483b",
        "colab": {
          "base_uri": "https://localhost:8080/",
          "height": 51
        }
      },
      "source": [
        "#ACCESSING ELEMENTS\n",
        "my_dict = {'First': 'Python', 'Second': 'Java'}\n",
        "print(my_dict['First']) #access elements using keys\n",
        "print(my_dict.get('Second'))"
      ],
      "execution_count": 14,
      "outputs": [
        {
          "output_type": "stream",
          "text": [
            "Python\n",
            "Java\n"
          ],
          "name": "stdout"
        }
      ]
    },
    {
      "cell_type": "code",
      "metadata": {
        "id": "M49AK1JHSOB3",
        "outputId": "2cecc8b0-4947-4ce2-aabb-f65cd668b5fd",
        "colab": {
          "base_uri": "https://localhost:8080/",
          "height": 85
        }
      },
      "source": [
        "#Other functions of dictionary\n",
        "my_dict = {'First': 'Python', 'Second': 'Java', 'Third': 'Ruby'}\n",
        "print(my_dict.keys()) #get keys\n",
        "print(my_dict.values()) #get values\n",
        "print(my_dict.items()) #get key-value pairs\n",
        "print(my_dict.get('First'))"
      ],
      "execution_count": 15,
      "outputs": [
        {
          "output_type": "stream",
          "text": [
            "dict_keys(['First', 'Second', 'Third'])\n",
            "dict_values(['Python', 'Java', 'Ruby'])\n",
            "dict_items([('First', 'Python'), ('Second', 'Java'), ('Third', 'Ruby')])\n",
            "Python\n"
          ],
          "name": "stdout"
        }
      ]
    },
    {
      "cell_type": "markdown",
      "metadata": {
        "id": "R_adepS9SUW8"
      },
      "source": [
        "3. TUPLE"
      ]
    },
    {
      "cell_type": "code",
      "metadata": {
        "id": "J2NETinHSVlg",
        "outputId": "3d5f12fc-9ae9-4490-f00f-abff98898726",
        "colab": {
          "base_uri": "https://localhost:8080/",
          "height": 34
        }
      },
      "source": [
        "#CREATING A TUPLE \n",
        "my_tuple = (1, 2, 3) #create tuple\n",
        "print(my_tuple)"
      ],
      "execution_count": 16,
      "outputs": [
        {
          "output_type": "stream",
          "text": [
            "(1, 2, 3)\n"
          ],
          "name": "stdout"
        }
      ]
    },
    {
      "cell_type": "code",
      "metadata": {
        "id": "26QcbGPuSYWT",
        "outputId": "5ae8410f-7e39-4730-d6cd-e8cb058aa584",
        "colab": {
          "base_uri": "https://localhost:8080/",
          "height": 153
        }
      },
      "source": [
        "\n",
        "#ACCESSING ELEMENTS\n",
        "my_tuple2 = (1, 2, 3, 'abcdefgh') #access elements\n",
        "for x in my_tuple2:\n",
        "    print(x)\n",
        "print(my_tuple2)\n",
        "print(my_tuple2[0])\n",
        "print(my_tuple2[:])\n",
        "print(my_tuple2[3][4])"
      ],
      "execution_count": 18,
      "outputs": [
        {
          "output_type": "stream",
          "text": [
            "1\n",
            "2\n",
            "3\n",
            "abcdefgh\n",
            "(1, 2, 3, 'abcdefgh')\n",
            "1\n",
            "(1, 2, 3, 'abcdefgh')\n",
            "e\n"
          ],
          "name": "stdout"
        }
      ]
    },
    {
      "cell_type": "code",
      "metadata": {
        "id": "2Ycg13RTSeY2",
        "outputId": "286b301d-421f-46b1-c9dd-4ae0bdba1c75",
        "colab": {
          "base_uri": "https://localhost:8080/",
          "height": 34
        }
      },
      "source": [
        "#APPENDING ELEMENTS\n",
        "my_tuple = (1, 2, 3)\n",
        "my_tuple = my_tuple + (4, 5, 6) #add elements\n",
        "print(my_tuple)"
      ],
      "execution_count": 19,
      "outputs": [
        {
          "output_type": "stream",
          "text": [
            "(1, 2, 3, 4, 5, 6)\n"
          ],
          "name": "stdout"
        }
      ]
    },
    {
      "cell_type": "code",
      "metadata": {
        "id": "aAvuMGHyShsR",
        "outputId": "d9da3f0c-fa60-4a85-bc38-248df5cf20bf",
        "colab": {
          "base_uri": "https://localhost:8080/",
          "height": 34
        }
      },
      "source": [
        "#CREATING SETS\n",
        "my_set = {1, 2, 3, 4, 5, 5, 5} #create set\n",
        "print(my_set)"
      ],
      "execution_count": 20,
      "outputs": [
        {
          "output_type": "stream",
          "text": [
            "{1, 2, 3, 4, 5}\n"
          ],
          "name": "stdout"
        }
      ]
    },
    {
      "cell_type": "code",
      "metadata": {
        "id": "R6Et-trvSk70",
        "outputId": "96cd4114-6249-4018-c685-f9c5b7e88ed7",
        "colab": {
          "base_uri": "https://localhost:8080/",
          "height": 34
        }
      },
      "source": [
        "#ADDING ELEMENTS\n",
        "my_set = {1, 2, 3}\n",
        "my_set.add(4) #add element to set\n",
        "print(my_set)"
      ],
      "execution_count": 21,
      "outputs": [
        {
          "output_type": "stream",
          "text": [
            "{1, 2, 3, 4}\n"
          ],
          "name": "stdout"
        }
      ]
    },
    {
      "cell_type": "code",
      "metadata": {
        "id": "Oyw55tVkSnLM",
        "outputId": "85bd840a-6ecb-49b4-93a8-984929ce1e7f",
        "colab": {
          "base_uri": "https://localhost:8080/",
          "height": 102
        }
      },
      "source": [
        "#OTHER OPERATIONS ON SETS\n",
        "my_set = {1, 2, 3, 4}\n",
        "my_set_2 = {3, 4, 5, 6}\n",
        "print(my_set.union(my_set_2), '----------', my_set | my_set_2)\n",
        "print(my_set.intersection(my_set_2), '----------', my_set & my_set_2)\n",
        "print(my_set.difference(my_set_2), '----------', my_set - my_set_2)\n",
        "print(my_set.symmetric_difference(my_set_2), '----------', my_set ^ my_set_2)\n",
        "my_set.clear()\n",
        "print(my_set)"
      ],
      "execution_count": 22,
      "outputs": [
        {
          "output_type": "stream",
          "text": [
            "{1, 2, 3, 4, 5, 6} ---------- {1, 2, 3, 4, 5, 6}\n",
            "{3, 4} ---------- {3, 4}\n",
            "{1, 2} ---------- {1, 2}\n",
            "{1, 2, 5, 6} ---------- {1, 2, 5, 6}\n",
            "set()\n"
          ],
          "name": "stdout"
        }
      ]
    },
    {
      "cell_type": "markdown",
      "metadata": {
        "id": "aKRNceF3SsVi"
      },
      "source": [
        "\n",
        "SUBMITTED BY : RIYA JAIPURIA (170384), Section C1"
      ]
    }
  ]
}