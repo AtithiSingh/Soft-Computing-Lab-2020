{
  "nbformat": 4,
  "nbformat_minor": 0,
  "metadata": {
    "colab": {
      "name": "Untitled1.ipynb",
      "provenance": [],
      "authorship_tag": "ABX9TyOXPukpIEmd5JgEHvla7BfG",
      "include_colab_link": true
    },
    "kernelspec": {
      "name": "python3",
      "display_name": "Python 3"
    }
  },
  "cells": [
    {
      "cell_type": "markdown",
      "metadata": {
        "id": "view-in-github",
        "colab_type": "text"
      },
      "source": [
        "<a href=\"https://colab.research.google.com/github/RiyaJaipuria/Soft-Computing-Lab-2020/blob/master/Riya_Jaipuria-4th%20year-C1/Numpy%20for%20matrix%20operations.ipynb\" target=\"_parent\"><img src=\"https://colab.research.google.com/assets/colab-badge.svg\" alt=\"Open In Colab\"/></a>"
      ]
    },
    {
      "cell_type": "markdown",
      "metadata": {
        "id": "4mwqpCa2en-i"
      },
      "source": [
        "Aim: Demonstrate the use of numpy for matrix operations"
      ]
    },
    {
      "cell_type": "code",
      "metadata": {
        "id": "9d0fKjnKevE7"
      },
      "source": [
        "\n",
        "import numpy as np"
      ],
      "execution_count": 1,
      "outputs": []
    },
    {
      "cell_type": "markdown",
      "metadata": {
        "id": "r4vxi5ngexYW"
      },
      "source": [
        "Creating an array"
      ]
    },
    {
      "cell_type": "code",
      "metadata": {
        "id": "3K0C0svSeznj",
        "outputId": "0931b9c2-7c92-4c89-fb84-579e50e7d8ab",
        "colab": {
          "base_uri": "https://localhost:8080/",
          "height": 51
        }
      },
      "source": [
        "#To create an ndarray, we can pass a list, tuple or any array-like object into the array() method, and it will be converted into an ndarray\n",
        "list1=[0,1,2,3,4]\n",
        "print(\"list1 is of tpye:\",type(list1))\n",
        "arr=np.array(list1) \n",
        "print(\"arr is of type:\",type(arr))"
      ],
      "execution_count": 2,
      "outputs": [
        {
          "output_type": "stream",
          "text": [
            "list1 is of tpye: <class 'list'>\n",
            "arr is of type: <class 'numpy.ndarray'>\n"
          ],
          "name": "stdout"
        }
      ]
    },
    {
      "cell_type": "code",
      "metadata": {
        "id": "jp90M8bbe4Wc",
        "outputId": "8c946663-8fa0-4667-cd62-ad91c4e12349",
        "colab": {
          "base_uri": "https://localhost:8080/",
          "height": 34
        }
      },
      "source": [
        "np.arange(0,10)"
      ],
      "execution_count": 3,
      "outputs": [
        {
          "output_type": "execute_result",
          "data": {
            "text/plain": [
              "array([0, 1, 2, 3, 4, 5, 6, 7, 8, 9])"
            ]
          },
          "metadata": {
            "tags": []
          },
          "execution_count": 3
        }
      ]
    },
    {
      "cell_type": "code",
      "metadata": {
        "id": "2Fikw-ahe8Q0",
        "outputId": "8adcfd78-df53-4f02-bf09-0759bd954025",
        "colab": {
          "base_uri": "https://localhost:8080/",
          "height": 34
        }
      },
      "source": [
        "np.zeros(5)"
      ],
      "execution_count": 4,
      "outputs": [
        {
          "output_type": "execute_result",
          "data": {
            "text/plain": [
              "array([0., 0., 0., 0., 0.])"
            ]
          },
          "metadata": {
            "tags": []
          },
          "execution_count": 4
        }
      ]
    },
    {
      "cell_type": "code",
      "metadata": {
        "id": "qnSA9PkqgHo5",
        "outputId": "6d0ae378-2b71-4910-c27b-6bff6d29d165",
        "colab": {
          "base_uri": "https://localhost:8080/",
          "height": 34
        }
      },
      "source": [
        "np.ones(4)"
      ],
      "execution_count": 5,
      "outputs": [
        {
          "output_type": "execute_result",
          "data": {
            "text/plain": [
              "array([1., 1., 1., 1.])"
            ]
          },
          "metadata": {
            "tags": []
          },
          "execution_count": 5
        }
      ]
    },
    {
      "cell_type": "code",
      "metadata": {
        "id": "sk0jueofgd6U",
        "outputId": "f2589603-0564-479a-f0c4-b13ae38306c6",
        "colab": {
          "base_uri": "https://localhost:8080/",
          "height": 34
        }
      },
      "source": [
        "np.arange(0,10,3)"
      ],
      "execution_count": 6,
      "outputs": [
        {
          "output_type": "execute_result",
          "data": {
            "text/plain": [
              "array([0, 3, 6, 9])"
            ]
          },
          "metadata": {
            "tags": []
          },
          "execution_count": 6
        }
      ]
    },
    {
      "cell_type": "code",
      "metadata": {
        "id": "t82kjwTFgf7o",
        "outputId": "69617402-54a1-445d-f09f-785a1018a5cb",
        "colab": {
          "base_uri": "https://localhost:8080/",
          "height": 51
        }
      },
      "source": [
        "arr1=np.array([1,5,-3,6,1,7,3,0])\n",
        "print(arr1)\n",
        "type(arr1)"
      ],
      "execution_count": 7,
      "outputs": [
        {
          "output_type": "stream",
          "text": [
            "[ 1  5 -3  6  1  7  3  0]\n"
          ],
          "name": "stdout"
        },
        {
          "output_type": "execute_result",
          "data": {
            "text/plain": [
              "numpy.ndarray"
            ]
          },
          "metadata": {
            "tags": []
          },
          "execution_count": 7
        }
      ]
    },
    {
      "cell_type": "markdown",
      "metadata": {
        "id": "A-hS78SWgjRQ"
      },
      "source": [
        "Accessing array elements"
      ]
    },
    {
      "cell_type": "code",
      "metadata": {
        "id": "fbQWgYV4gj3m",
        "outputId": "1e2f18c1-0692-4508-b755-eb0df68a8cb3",
        "colab": {
          "base_uri": "https://localhost:8080/",
          "height": 68
        }
      },
      "source": [
        "\n",
        "a = np.array([[[1, 2, 3], [4, 5, 6]], [[7, 8, 9], [10, 11, 12]]])\n",
        "print(a[1, 1, 2]) #Indexing\n",
        "print(a[-1,-1,-1]) #Negative indexing\n",
        "print(a[1,1,:]) #Slicing"
      ],
      "execution_count": 8,
      "outputs": [
        {
          "output_type": "stream",
          "text": [
            "12\n",
            "12\n",
            "[10 11 12]\n"
          ],
          "name": "stdout"
        }
      ]
    },
    {
      "cell_type": "markdown",
      "metadata": {
        "id": "Xf_0qFXxgoXH"
      },
      "source": [
        "Matrix creation"
      ]
    },
    {
      "cell_type": "code",
      "metadata": {
        "id": "xmvmZqmLgrEw",
        "outputId": "c4023109-8c28-45b9-9326-24061b5c63c8",
        "colab": {
          "base_uri": "https://localhost:8080/",
          "height": 102
        }
      },
      "source": [
        "np.zeros((5,5))"
      ],
      "execution_count": 9,
      "outputs": [
        {
          "output_type": "execute_result",
          "data": {
            "text/plain": [
              "array([[0., 0., 0., 0., 0.],\n",
              "       [0., 0., 0., 0., 0.],\n",
              "       [0., 0., 0., 0., 0.],\n",
              "       [0., 0., 0., 0., 0.],\n",
              "       [0., 0., 0., 0., 0.]])"
            ]
          },
          "metadata": {
            "tags": []
          },
          "execution_count": 9
        }
      ]
    },
    {
      "cell_type": "code",
      "metadata": {
        "id": "dmL2TsLQguE9",
        "outputId": "650b3371-6789-4016-d5d7-b1da8ac1ab89",
        "colab": {
          "base_uri": "https://localhost:8080/",
          "height": 102
        }
      },
      "source": [
        "np.ones((5,7))"
      ],
      "execution_count": 10,
      "outputs": [
        {
          "output_type": "execute_result",
          "data": {
            "text/plain": [
              "array([[1., 1., 1., 1., 1., 1., 1.],\n",
              "       [1., 1., 1., 1., 1., 1., 1.],\n",
              "       [1., 1., 1., 1., 1., 1., 1.],\n",
              "       [1., 1., 1., 1., 1., 1., 1.],\n",
              "       [1., 1., 1., 1., 1., 1., 1.]])"
            ]
          },
          "metadata": {
            "tags": []
          },
          "execution_count": 10
        }
      ]
    },
    {
      "cell_type": "code",
      "metadata": {
        "id": "OhZL1d5Ygv7V",
        "outputId": "3577f3c9-441e-49c5-8590-33651a4f438b",
        "colab": {
          "base_uri": "https://localhost:8080/",
          "height": 85
        }
      },
      "source": [
        "np.ones((4,4))*5"
      ],
      "execution_count": 11,
      "outputs": [
        {
          "output_type": "execute_result",
          "data": {
            "text/plain": [
              "array([[5., 5., 5., 5.],\n",
              "       [5., 5., 5., 5.],\n",
              "       [5., 5., 5., 5.],\n",
              "       [5., 5., 5., 5.]])"
            ]
          },
          "metadata": {
            "tags": []
          },
          "execution_count": 11
        }
      ]
    },
    {
      "cell_type": "code",
      "metadata": {
        "id": "vnqdH6gLhAo_",
        "outputId": "f46dbd54-6de6-4a38-cb87-f36f155d6c70",
        "colab": {
          "base_uri": "https://localhost:8080/",
          "height": 85
        }
      },
      "source": [
        "#2-D Arrays- An array that has 1-D arrays as its elements is called a 2-D array.\n",
        "x = np.array([[1, 2], [4, 5]])\n",
        "y = np.array([[7, 8], [9, 10]])\n",
        "print(x)\n",
        "print(y)"
      ],
      "execution_count": 13,
      "outputs": [
        {
          "output_type": "stream",
          "text": [
            "[[1 2]\n",
            " [4 5]]\n",
            "[[ 7  8]\n",
            " [ 9 10]]\n"
          ],
          "name": "stdout"
        }
      ]
    },
    {
      "cell_type": "markdown",
      "metadata": {
        "id": "V3OsaXCJhDEx"
      },
      "source": [
        "Matrix Operations"
      ]
    },
    {
      "cell_type": "code",
      "metadata": {
        "id": "SNpnprrDhFSV",
        "outputId": "0017cb25-2157-4f00-ab21-4b3661bb3a30",
        "colab": {
          "base_uri": "https://localhost:8080/",
          "height": 68
        }
      },
      "source": [
        "#  add()is used to add matrices\n",
        "print (\"Addition of two matrices: \")\n",
        "print (np.add(x,y))"
      ],
      "execution_count": 14,
      "outputs": [
        {
          "output_type": "stream",
          "text": [
            "Addition of two matrices: \n",
            "[[ 8 10]\n",
            " [13 15]]\n"
          ],
          "name": "stdout"
        }
      ]
    },
    {
      "cell_type": "code",
      "metadata": {
        "id": "SpkUTXNOhIZn",
        "outputId": "70cd8c8d-4ba2-4ad5-dd1d-5d87e8319fc9",
        "colab": {
          "base_uri": "https://localhost:8080/",
          "height": 68
        }
      },
      "source": [
        "# subtract() is used to subtract matrices\n",
        "print (\"Subtraction of two matrices : \")\n",
        "print (np.subtract(x,y))"
      ],
      "execution_count": 15,
      "outputs": [
        {
          "output_type": "stream",
          "text": [
            "Subtraction of two matrices : \n",
            "[[-6 -6]\n",
            " [-5 -5]]\n"
          ],
          "name": "stdout"
        }
      ]
    },
    {
      "cell_type": "code",
      "metadata": {
        "id": "sEw5SAhJhL4Q",
        "outputId": "a7fbf5e7-290b-44e9-f63f-af70b243048c",
        "colab": {
          "base_uri": "https://localhost:8080/",
          "height": 68
        }
      },
      "source": [
        "# divide() is used to divide matrices\n",
        "print (\"Matrix Division : \")\n",
        "print (np.divide(x,y))"
      ],
      "execution_count": 16,
      "outputs": [
        {
          "output_type": "stream",
          "text": [
            "Matrix Division : \n",
            "[[0.14285714 0.25      ]\n",
            " [0.44444444 0.5       ]]\n"
          ],
          "name": "stdout"
        }
      ]
    },
    {
      "cell_type": "code",
      "metadata": {
        "id": "e4zsjHm6hPVZ",
        "outputId": "7e09c682-1537-4bb9-a9ed-db208c20d8de",
        "colab": {
          "base_uri": "https://localhost:8080/",
          "height": 68
        }
      },
      "source": [
        "print (\"Element to Element Multiplication of two matrices: \")\n",
        "print (np.multiply(x,y))"
      ],
      "execution_count": 17,
      "outputs": [
        {
          "output_type": "stream",
          "text": [
            "Element to Element Multiplication of two matrices: \n",
            "[[ 7 16]\n",
            " [36 50]]\n"
          ],
          "name": "stdout"
        }
      ]
    },
    {
      "cell_type": "code",
      "metadata": {
        "id": "KTUbjk1GhRZK",
        "outputId": "d4387d99-053f-4da0-babc-c26a5bfd00b7",
        "colab": {
          "base_uri": "https://localhost:8080/",
          "height": 68
        }
      },
      "source": [
        "print (\"The product of two matrices : \")\n",
        "print (np.dot(x,y))"
      ],
      "execution_count": 18,
      "outputs": [
        {
          "output_type": "stream",
          "text": [
            "The product of two matrices : \n",
            "[[25 28]\n",
            " [73 82]]\n"
          ],
          "name": "stdout"
        }
      ]
    },
    {
      "cell_type": "code",
      "metadata": {
        "id": "7OeedkBWhV7t",
        "outputId": "c720dfd0-69d0-4851-972c-605a9e6fa92a",
        "colab": {
          "base_uri": "https://localhost:8080/",
          "height": 68
        }
      },
      "source": [
        "print (\"square root is : \")\n",
        "print (np.sqrt(x))"
      ],
      "execution_count": 19,
      "outputs": [
        {
          "output_type": "stream",
          "text": [
            "square root is : \n",
            "[[1.         1.41421356]\n",
            " [2.         2.23606798]]\n"
          ],
          "name": "stdout"
        }
      ]
    },
    {
      "cell_type": "code",
      "metadata": {
        "id": "NE8cuKyrhX7M"
      },
      "source": [
        "print (\"The summation of elements : \")\n",
        "print (np.sum(y))"
      ],
      "execution_count": null,
      "outputs": []
    },
    {
      "cell_type": "code",
      "metadata": {
        "id": "raArJKwUhbHN",
        "outputId": "8610787a-efcc-48bf-e983-b7081893bccc",
        "colab": {
          "base_uri": "https://localhost:8080/",
          "height": 51
        }
      },
      "source": [
        "print (\"The column wise summation  : \")\n",
        "print (np.sum(y,axis=0))"
      ],
      "execution_count": 20,
      "outputs": [
        {
          "output_type": "stream",
          "text": [
            "The column wise summation  : \n",
            "[16 18]\n"
          ],
          "name": "stdout"
        }
      ]
    },
    {
      "cell_type": "code",
      "metadata": {
        "id": "WD3i-yW_heSa",
        "outputId": "116bddc5-c931-4445-ebb8-556e12134aed",
        "colab": {
          "base_uri": "https://localhost:8080/",
          "height": 51
        }
      },
      "source": [
        "print (\"The row wise summation: \")\n",
        "print (np.sum(y,axis=1))"
      ],
      "execution_count": 21,
      "outputs": [
        {
          "output_type": "stream",
          "text": [
            "The row wise summation: \n",
            "[15 19]\n"
          ],
          "name": "stdout"
        }
      ]
    },
    {
      "cell_type": "code",
      "metadata": {
        "id": "33r3KGPPhhly",
        "outputId": "5791d55c-6573-441f-c86f-dceb0e0acb54",
        "colab": {
          "base_uri": "https://localhost:8080/",
          "height": 68
        }
      },
      "source": [
        "# using \"T\" to transpose the matrix\n",
        "print (\"Matrix transposition : \")\n",
        "print (x.T)"
      ],
      "execution_count": 22,
      "outputs": [
        {
          "output_type": "stream",
          "text": [
            "Matrix transposition : \n",
            "[[1 4]\n",
            " [2 5]]\n"
          ],
          "name": "stdout"
        }
      ]
    },
    {
      "cell_type": "code",
      "metadata": {
        "id": "uJOEmDgZhjzA",
        "outputId": "52c83fa2-5aa6-4306-9891-fc9ebd8a9ab0",
        "colab": {
          "base_uri": "https://localhost:8080/",
          "height": 85
        }
      },
      "source": [
        "#Check Number of Dimensions\n",
        "#NumPy Arrays provides the ndim attribute that returns an integer that tells us how many dimensions the array have.\n",
        "a = np.array(42)\n",
        "b = np.array([1, 2, 3, 4, 5])\n",
        "c = np.array([[1, 2, 3], [4, 5, 6]])\n",
        "d = np.array([[[1, 2, 3], [4, 5, 6]], [[1, 2, 3], [4, 5, 6]]])\n",
        "print(a.ndim)\n",
        "print(b.ndim)\n",
        "print(c.ndim)\n",
        "print(d.ndim)"
      ],
      "execution_count": 23,
      "outputs": [
        {
          "output_type": "stream",
          "text": [
            "0\n",
            "1\n",
            "2\n",
            "3\n"
          ],
          "name": "stdout"
        }
      ]
    },
    {
      "cell_type": "code",
      "metadata": {
        "id": "8B1aMISXhmYN",
        "outputId": "cf442653-ffed-46a0-e585-a53ba0447761",
        "colab": {
          "base_uri": "https://localhost:8080/",
          "height": 34
        }
      },
      "source": [
        "#Higher Dimensional Arrays\n",
        "#An array can have any number of dimensions.\n",
        "#When the array is created, you can define the number of dimensions by using the ndmin argument.\n",
        "arr2 = np.array([1, 2, 3, 4], ndmin=5)\n",
        "print(arr2)"
      ],
      "execution_count": 24,
      "outputs": [
        {
          "output_type": "stream",
          "text": [
            "[[[[[1 2 3 4]]]]]\n"
          ],
          "name": "stdout"
        }
      ]
    },
    {
      "cell_type": "code",
      "metadata": {
        "id": "SgppNBcUhpvz",
        "outputId": "6df1aefd-c25f-41ef-e97d-3be59552e134",
        "colab": {
          "base_uri": "https://localhost:8080/",
          "height": 119
        }
      },
      "source": [
        "np.random.randint(0,100,100)\n",
        "#randint returns integer value only."
      ],
      "execution_count": 25,
      "outputs": [
        {
          "output_type": "execute_result",
          "data": {
            "text/plain": [
              "array([65, 11, 14, 32, 43, 56, 81, 95, 45, 85, 27, 93, 12, 71, 44, 57, 18,\n",
              "       38, 65, 88, 26, 37, 19, 20, 45, 74,  4, 89, 94, 92, 49, 71,  7, 25,\n",
              "       12,  0, 94, 63, 16, 39, 20, 26, 22, 92, 48, 61, 70, 78, 38, 26, 72,\n",
              "       63, 29, 66, 82,  0, 26, 83, 39, 95, 25, 53, 12, 36, 57, 81, 63,  7,\n",
              "       42, 91,  3, 78, 48, 84, 26, 92, 92, 18, 16, 69, 53, 42, 91, 82, 53,\n",
              "       32, 39, 49, 39, 19, 60, 66, 71, 75, 63, 60, 30, 46, 16, 83])"
            ]
          },
          "metadata": {
            "tags": []
          },
          "execution_count": 25
        }
      ]
    },
    {
      "cell_type": "code",
      "metadata": {
        "id": "k_O98ZWDhsam",
        "outputId": "71815df4-c308-4c72-8647-c6e5f202ac24",
        "colab": {
          "base_uri": "https://localhost:8080/",
          "height": 187
        }
      },
      "source": [
        "np.random.randint(0,100,100).reshape(10,10)\n",
        "# reshape is used to convert array into matrix"
      ],
      "execution_count": 26,
      "outputs": [
        {
          "output_type": "execute_result",
          "data": {
            "text/plain": [
              "array([[56, 70, 38, 50, 86, 58, 16, 83, 54,  9],\n",
              "       [60,  4, 68,  7, 70, 44, 87, 93,  8, 40],\n",
              "       [66, 61,  2,  8,  4, 19,  5, 92, 59, 40],\n",
              "       [98, 10, 55, 26, 60, 12, 54, 26, 97, 88],\n",
              "       [ 6, 22, 72, 87, 39, 39,  4, 13, 90, 37],\n",
              "       [21, 17, 28, 47, 17, 17, 28, 91, 32, 25],\n",
              "       [33, 19, 71,  1, 63,  6, 41, 15, 72, 69],\n",
              "       [98, 47, 35, 52, 94, 22, 61, 11, 95, 45],\n",
              "       [56, 39, 53, 19, 17, 84, 53, 81, 67, 40],\n",
              "       [29, 23, 42, 93, 16, 57, 35, 32, 92, 27]])"
            ]
          },
          "metadata": {
            "tags": []
          },
          "execution_count": 26
        }
      ]
    },
    {
      "cell_type": "code",
      "metadata": {
        "id": "gf-OC7yFhwEc"
      },
      "source": [
        "np.random.random(25).reshape(5,5)\n",
        "#return values between 0 and 1"
      ],
      "execution_count": null,
      "outputs": []
    },
    {
      "cell_type": "code",
      "metadata": {
        "id": "t3gRYpVJhxxs",
        "outputId": "372e032c-d901-40f1-fe6d-03d37f4dddd9",
        "colab": {
          "base_uri": "https://localhost:8080/",
          "height": 102
        }
      },
      "source": [
        "np.random.randn(25).reshape(5,5)\n",
        "# selects value from normal curve"
      ],
      "execution_count": 27,
      "outputs": [
        {
          "output_type": "execute_result",
          "data": {
            "text/plain": [
              "array([[-0.43202938, -0.27515914, -0.21856724,  0.73654515,  0.01261335],\n",
              "       [-1.39277254, -0.95682677, -0.7320028 , -1.68494069, -0.39256739],\n",
              "       [-0.03097994,  0.28196276, -1.07215222, -0.47777811,  0.25078983],\n",
              "       [-0.36785089, -0.7544625 ,  1.1464285 , -3.19569745, -0.11300649],\n",
              "       [ 0.22389614, -1.21938562, -0.41859028, -0.98714085, -0.63947894]])"
            ]
          },
          "metadata": {
            "tags": []
          },
          "execution_count": 27
        }
      ]
    },
    {
      "cell_type": "code",
      "metadata": {
        "id": "CwBGZDaYh0y1",
        "outputId": "854248bc-c2f9-4346-f003-10b334fdb29c",
        "colab": {
          "base_uri": "https://localhost:8080/",
          "height": 34
        }
      },
      "source": [
        "# to fix randomness,we use seed function of numpy library.\n",
        "np.random.seed(52)\n",
        "arr3=np.random.randint(0,100,10)\n",
        "arr3"
      ],
      "execution_count": 28,
      "outputs": [
        {
          "output_type": "execute_result",
          "data": {
            "text/plain": [
              "array([28, 11, 13, 23, 86, 28, 32, 69, 11, 91])"
            ]
          },
          "metadata": {
            "tags": []
          },
          "execution_count": 28
        }
      ]
    },
    {
      "cell_type": "markdown",
      "metadata": {
        "id": "AK_SmY_ch53c"
      },
      "source": [
        "\n",
        "Array operations"
      ]
    },
    {
      "cell_type": "code",
      "metadata": {
        "id": "KeiMT2NXh6j-",
        "outputId": "48488c07-5018-4a3d-848b-e22d0ed4cab2",
        "colab": {
          "base_uri": "https://localhost:8080/",
          "height": 34
        }
      },
      "source": [
        "arr3.mean()"
      ],
      "execution_count": 29,
      "outputs": [
        {
          "output_type": "execute_result",
          "data": {
            "text/plain": [
              "39.2"
            ]
          },
          "metadata": {
            "tags": []
          },
          "execution_count": 29
        }
      ]
    },
    {
      "cell_type": "code",
      "metadata": {
        "id": "_AAtUoNKh8UR",
        "outputId": "e87cc3cf-7608-49c4-9b40-da90924587e1",
        "colab": {
          "base_uri": "https://localhost:8080/",
          "height": 34
        }
      },
      "source": [
        "arr3.max()"
      ],
      "execution_count": 30,
      "outputs": [
        {
          "output_type": "execute_result",
          "data": {
            "text/plain": [
              "91"
            ]
          },
          "metadata": {
            "tags": []
          },
          "execution_count": 30
        }
      ]
    },
    {
      "cell_type": "code",
      "metadata": {
        "id": "nTw1paWDh99q",
        "outputId": "1004f7f7-994a-4cee-aa8b-df6fa595d3c5",
        "colab": {
          "base_uri": "https://localhost:8080/",
          "height": 34
        }
      },
      "source": [
        "arr3.min()"
      ],
      "execution_count": 31,
      "outputs": [
        {
          "output_type": "execute_result",
          "data": {
            "text/plain": [
              "11"
            ]
          },
          "metadata": {
            "tags": []
          },
          "execution_count": 31
        }
      ]
    },
    {
      "cell_type": "code",
      "metadata": {
        "id": "fFZeTJiNh_6Y",
        "outputId": "34914ac7-3120-4f24-9d58-bda447794570",
        "colab": {
          "base_uri": "https://localhost:8080/",
          "height": 34
        }
      },
      "source": [
        "#index of maximum number\n",
        "arr3.argmax()"
      ],
      "execution_count": 32,
      "outputs": [
        {
          "output_type": "execute_result",
          "data": {
            "text/plain": [
              "9"
            ]
          },
          "metadata": {
            "tags": []
          },
          "execution_count": 32
        }
      ]
    },
    {
      "cell_type": "code",
      "metadata": {
        "id": "Q64-CpEOiCwz",
        "outputId": "8f9e32f2-040c-45d8-afe9-5d1fb3ff96c5",
        "colab": {
          "base_uri": "https://localhost:8080/",
          "height": 34
        }
      },
      "source": [
        "arr3.argmin()"
      ],
      "execution_count": 33,
      "outputs": [
        {
          "output_type": "execute_result",
          "data": {
            "text/plain": [
              "1"
            ]
          },
          "metadata": {
            "tags": []
          },
          "execution_count": 33
        }
      ]
    },
    {
      "cell_type": "code",
      "metadata": {
        "id": "f4AxFAraiEni",
        "outputId": "9c2d06a0-3dac-4d27-9cdb-fd31e137dacf",
        "colab": {
          "base_uri": "https://localhost:8080/",
          "height": 34
        }
      },
      "source": [
        "arr3.argsort()"
      ],
      "execution_count": 34,
      "outputs": [
        {
          "output_type": "execute_result",
          "data": {
            "text/plain": [
              "array([1, 8, 2, 3, 0, 5, 6, 7, 4, 9])"
            ]
          },
          "metadata": {
            "tags": []
          },
          "execution_count": 34
        }
      ]
    },
    {
      "cell_type": "code",
      "metadata": {
        "id": "ulisr1THiIIQ"
      },
      "source": [
        "arr3.sort()"
      ],
      "execution_count": 36,
      "outputs": []
    },
    {
      "cell_type": "code",
      "metadata": {
        "id": "bqhKB5s4iTYo",
        "outputId": "d4d31e90-d20c-4d34-f9cf-ee41d4e13780",
        "colab": {
          "base_uri": "https://localhost:8080/",
          "height": 34
        }
      },
      "source": [
        "arr3"
      ],
      "execution_count": 38,
      "outputs": [
        {
          "output_type": "execute_result",
          "data": {
            "text/plain": [
              "array([11, 11, 13, 23, 28, 28, 32, 69, 86, 91])"
            ]
          },
          "metadata": {
            "tags": []
          },
          "execution_count": 38
        }
      ]
    }
  ]
}