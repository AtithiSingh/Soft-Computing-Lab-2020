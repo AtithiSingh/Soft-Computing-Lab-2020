{
  "nbformat": 4,
  "nbformat_minor": 0,
  "metadata": {
    "colab": {
      "name": "PythonOperator.ipynb",
      "provenance": [],
      "collapsed_sections": [],
      "authorship_tag": "ABX9TyPoMYIPWvR0W02RTE4YyhVd",
      "include_colab_link": true
    },
    "kernelspec": {
      "name": "python3",
      "display_name": "Python 3"
    }
  },
  "cells": [
    {
      "cell_type": "markdown",
      "metadata": {
        "id": "view-in-github",
        "colab_type": "text"
      },
      "source": [
        "<a href=\"https://colab.research.google.com/github/tarusingh00250/Soft-Computing-Lab-2020/blob/master/Taru%20Singh-4th%20year-Sec%20C1/PythonOperator.ipynb\" target=\"_parent\"><img src=\"https://colab.research.google.com/assets/colab-badge.svg\" alt=\"Open In Colab\"/></a>"
      ]
    },
    {
      "cell_type": "code",
      "metadata": {
        "id": "8NZrmEw9x8gr"
      },
      "source": [
        ""
      ],
      "execution_count": null,
      "outputs": []
    },
    {
      "cell_type": "markdown",
      "metadata": {
        "id": "TplWo_jxx9GS"
      },
      "source": [
        "1. Arithematic Operators\n"
      ]
    },
    {
      "cell_type": "code",
      "metadata": {
        "id": "dadkVaIxyBIP",
        "outputId": "ccca91a3-d39d-402e-d70d-0a241d64304a",
        "colab": {
          "base_uri": "https://localhost:8080/",
          "height": 136
        }
      },
      "source": [
        "#Addition\n",
        "x = 10\n",
        "y = 5\n",
        "print('x + y =',x+y)\n",
        "\n",
        "# Substraction\n",
        "print('x - y =',x-y)\n",
        "\n",
        "# Multiplication\n",
        "print('x * y =',x*y)\n",
        "\n",
        "# Division\n",
        "print('x / y =',x/y)\n",
        "\n",
        "# Floor division\n",
        "print('x // y =',x//y)\n",
        "\n",
        "# Exponent\n",
        "print('x ** y =',x**y)\n",
        "\n",
        "# Modulus\n",
        "print('x % y =',x%y)"
      ],
      "execution_count": 1,
      "outputs": [
        {
          "output_type": "stream",
          "text": [
            "x + y = 15\n",
            "x - y = 5\n",
            "x * y = 50\n",
            "x / y = 2.0\n",
            "x // y = 2\n",
            "x ** y = 100000\n",
            "x % y = 0\n"
          ],
          "name": "stdout"
        }
      ]
    },
    {
      "cell_type": "code",
      "metadata": {
        "id": "KjNySloPyGoT"
      },
      "source": [
        ""
      ],
      "execution_count": null,
      "outputs": []
    },
    {
      "cell_type": "markdown",
      "metadata": {
        "id": "dbJ86SSJyHlH"
      },
      "source": [
        "2. Comparision Operators"
      ]
    },
    {
      "cell_type": "code",
      "metadata": {
        "id": "8ctMYIi4yKXu",
        "outputId": "56dff420-3d0f-465d-da05-c14025887535",
        "colab": {
          "base_uri": "https://localhost:8080/",
          "height": 119
        }
      },
      "source": [
        "x = 2\n",
        "y = 3\n",
        "\n",
        "# Greater than\n",
        "print('x > y is',x>y)\n",
        "\n",
        "# Less than\n",
        "print('x < y is',x<y)\n",
        "\n",
        "# Equal to\n",
        "print('x == y is',x==y)\n",
        "\n",
        "# Not equal to\n",
        "print('x != y is',x!=y)\n",
        "\n",
        "# Greater than or equal to\n",
        "print('x >= y is',x>=y)\n",
        "\n",
        "# Smaller than or equal to\n",
        "print('x <= y is',x<=y)"
      ],
      "execution_count": 2,
      "outputs": [
        {
          "output_type": "stream",
          "text": [
            "x > y is False\n",
            "x < y is True\n",
            "x == y is False\n",
            "x != y is True\n",
            "x >= y is False\n",
            "x <= y is True\n"
          ],
          "name": "stdout"
        }
      ]
    },
    {
      "cell_type": "code",
      "metadata": {
        "id": "Q2P18P3wyPD9"
      },
      "source": [
        ""
      ],
      "execution_count": null,
      "outputs": []
    },
    {
      "cell_type": "markdown",
      "metadata": {
        "id": "w9O_RLv2yQGy"
      },
      "source": [
        "3. Logical Operators "
      ]
    },
    {
      "cell_type": "code",
      "metadata": {
        "id": "LKmnklgVyTuP",
        "outputId": "0541216b-a121-45cc-aac2-d01e96a1eb19",
        "colab": {
          "base_uri": "https://localhost:8080/",
          "height": 68
        }
      },
      "source": [
        "x = True #considered as 1\n",
        "y = False #considered as 0\n",
        "\n",
        "print('x or y is',x or y)\n",
        "\n",
        "print('x and y is',x and y)\n",
        "\n",
        "print('not x is',not x)"
      ],
      "execution_count": 3,
      "outputs": [
        {
          "output_type": "stream",
          "text": [
            "x or y is True\n",
            "x and y is False\n",
            "not x is False\n"
          ],
          "name": "stdout"
        }
      ]
    },
    {
      "cell_type": "code",
      "metadata": {
        "id": "eQWg24xdyWqn"
      },
      "source": [
        ""
      ],
      "execution_count": null,
      "outputs": []
    },
    {
      "cell_type": "markdown",
      "metadata": {
        "id": "mwXoKThXyXVy"
      },
      "source": [
        "4. Bitwise Operators"
      ]
    },
    {
      "cell_type": "code",
      "metadata": {
        "id": "ImJnaCGDyZCw",
        "outputId": "bbba5deb-4c2b-45ea-e90c-31c835550ee1",
        "colab": {
          "base_uri": "https://localhost:8080/",
          "height": 119
        }
      },
      "source": [
        "x = 3\n",
        "y = 9\n",
        "\n",
        "# Bitwise AND\n",
        "print(x & y)\n",
        "\n",
        "# Bitwise OR\n",
        "print(x | y)\n",
        "\n",
        "# Bitwise NOT\n",
        "print(~x)\n",
        "\n",
        "# Bitwise XOR\n",
        "print(x ^ y)\n",
        "\n",
        "# Bitwise RIGHT SHIFT\n",
        "print(x >> 2)\n",
        "\n",
        "# Bitwise LEFT SHIFT\n",
        "print(x << 2)"
      ],
      "execution_count": 4,
      "outputs": [
        {
          "output_type": "stream",
          "text": [
            "1\n",
            "11\n",
            "-4\n",
            "10\n",
            "0\n",
            "12\n"
          ],
          "name": "stdout"
        }
      ]
    },
    {
      "cell_type": "code",
      "metadata": {
        "id": "UUQlp1JnyfJb"
      },
      "source": [
        ""
      ],
      "execution_count": null,
      "outputs": []
    },
    {
      "cell_type": "markdown",
      "metadata": {
        "id": "Kxv8TqcQyf72"
      },
      "source": [
        "5. Assignment Operators"
      ]
    },
    {
      "cell_type": "code",
      "metadata": {
        "id": "OtWTpE0FyiMl",
        "outputId": "bd5b8d30-3cbe-496c-d5b0-05497b60edc8",
        "colab": {
          "base_uri": "https://localhost:8080/",
          "height": 136
        }
      },
      "source": [
        "a = 10\n",
        "b = 2\n",
        "c = 30\n",
        "\n",
        "c = a + b\n",
        "print (\"Value of c after c = a + b is \", c)\n",
        "\n",
        "c += a\n",
        "print (\"Value of c after c += a is \", c )\n",
        "\n",
        "c *= a\n",
        "print (\"Value of c after c *= a is \", c)\n",
        "\n",
        "c /= a \n",
        "print (\"Value of c after c /= a  is \", c) \n",
        "\n",
        "c  = 2\n",
        "c %= a\n",
        "print (\"Value of c after c %= a is \", c)\n",
        "\n",
        "c **= a\n",
        "print (\"Value of c after c **= a is \", c)\n",
        "\n",
        "c //= a\n",
        "print (\"Value of c after c //= a is \", c)"
      ],
      "execution_count": 5,
      "outputs": [
        {
          "output_type": "stream",
          "text": [
            "Value of c after c = a + b is  12\n",
            "Value of c after c += a is  22\n",
            "Value of c after c *= a is  220\n",
            "Value of c after c /= a  is  22.0\n",
            "Value of c after c %= a is  2\n",
            "Value of c after c **= a is  1024\n",
            "Value of c after c //= a is  102\n"
          ],
          "name": "stdout"
        }
      ]
    },
    {
      "cell_type": "code",
      "metadata": {
        "id": "cDKwW1guylms"
      },
      "source": [
        ""
      ],
      "execution_count": null,
      "outputs": []
    },
    {
      "cell_type": "markdown",
      "metadata": {
        "id": "B6dOXhZJyprh"
      },
      "source": [
        "Taru Singh 170393 Sec C1 "
      ]
    },
    {
      "cell_type": "code",
      "metadata": {
        "id": "rc6YvShGyyO1"
      },
      "source": [
        ""
      ],
      "execution_count": null,
      "outputs": []
    }
  ]
}