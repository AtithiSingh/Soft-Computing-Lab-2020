{
  "nbformat": 4,
  "nbformat_minor": 0,
  "metadata": {
    "colab": {
      "name": "Riya Sinha_4th year_170385_C1.ipynb",
      "provenance": []
    },
    "kernelspec": {
      "name": "python3",
      "display_name": "Python 3"
    }
  },
  "cells": [
    {
      "cell_type": "markdown",
      "metadata": {
        "id": "qny58mtoKZEG"
      },
      "source": [
        "# **PROGRAM : 2**\n",
        "AIM: Write a program to implement various data structures in python and their operations."
      ]
    },
    {
      "cell_type": "markdown",
      "metadata": {
        "id": "kURp_-bQNKuo"
      },
      "source": [
        "Python has been used worldwide for different fields such as making websites, artificial intelligence and much more. But to make all of this possible, data plays a very important role which means that this data should be stored efficiently and the access to it must be timely.\n",
        "So there are two types of data structures:\n",
        "\n",
        "**Built-in Data Structures :** \n",
        "List,\n",
        "Dictionary,\n",
        "Tuple,\n",
        "Sets.\n",
        "\n",
        "**User-Defined Data Structures**\n",
        "Arrays, List,\n",
        "Stack,\n",
        "Queue,\n",
        "Trees,\n",
        "Linked Lists,\n",
        "Graphs,\n",
        "HashMaps."
      ]
    },
    {
      "cell_type": "markdown",
      "metadata": {
        "id": "rkCjGZECOPKR"
      },
      "source": [
        "1. **LIST**\n",
        "\n",
        "\n",
        "\n"
      ]
    },
    {
      "cell_type": "code",
      "metadata": {
        "id": "Tbfc4ufpKkIu",
        "outputId": "a0fa4337-8bb1-4acd-a975-4122f4cd20f5",
        "colab": {
          "base_uri": "https://localhost:8080/",
          "height": 34
        }
      },
      "source": [
        "#CREATE LIST:\n",
        "#create empty list\n",
        "list1 = [] \n",
        "print(list1)\n"
      ],
      "execution_count": 1,
      "outputs": [
        {
          "output_type": "stream",
          "text": [
            "[]\n"
          ],
          "name": "stdout"
        }
      ]
    },
    {
      "cell_type": "code",
      "metadata": {
        "id": "AYAWmO5JOpx4",
        "outputId": "340bf55a-fd83-432d-c626-a789612ed19d",
        "colab": {
          "base_uri": "https://localhost:8080/",
          "height": 34
        }
      },
      "source": [
        "#creating list with data\n",
        "list2 = [1, 2, 3, 'riyasinha', 294] \n",
        "print(list2)"
      ],
      "execution_count": 3,
      "outputs": [
        {
          "output_type": "stream",
          "text": [
            "[1, 2, 3, 'riyasinha', 294]\n"
          ],
          "name": "stdout"
        }
      ]
    },
    {
      "cell_type": "code",
      "metadata": {
        "id": "g5EJo5AOO_5N",
        "outputId": "c57ac3b9-507f-4234-def1-f4d28a412a26",
        "colab": {
          "base_uri": "https://localhost:8080/",
          "height": 50
        }
      },
      "source": [
        "#ADD ELEMENT: \n",
        "#add as a single element\n",
        "list1 = [1, 2, 3]\n",
        "print(list1)\n",
        "list1.append([555, 12]) \n",
        "print(list1)\n"
      ],
      "execution_count": 10,
      "outputs": [
        {
          "output_type": "stream",
          "text": [
            "[1, 2, 3]\n",
            "[1, 2, 3, [555, 12]]\n"
          ],
          "name": "stdout"
        }
      ]
    },
    {
      "cell_type": "code",
      "metadata": {
        "id": "XubE2ZEMP-qI",
        "outputId": "eba88e24-1029-4b8b-de81-782c794d7164",
        "colab": {
          "base_uri": "https://localhost:8080/",
          "height": 34
        }
      },
      "source": [
        "#add as different elements\n",
        "list1.extend([234, 'riyasinhaisbest']) \n",
        "print(list1)"
      ],
      "execution_count": 11,
      "outputs": [
        {
          "output_type": "stream",
          "text": [
            "[1, 2, 3, [555, 12], 234, 'riyasinhaisbest']\n"
          ],
          "name": "stdout"
        }
      ]
    },
    {
      "cell_type": "code",
      "metadata": {
        "id": "jBD5xropQBcD",
        "outputId": "db9be847-c40a-4f1f-f6c6-49d2e61e9a8e",
        "colab": {
          "base_uri": "https://localhost:8080/",
          "height": 34
        }
      },
      "source": [
        "#add ith elements\n",
        "list1.insert(4564, 'riyasinhaisawesome') \n",
        "print(list1)"
      ],
      "execution_count": 13,
      "outputs": [
        {
          "output_type": "stream",
          "text": [
            "[1, 2, 3, [555, 12], 234, 'riyasinhaisbest', 'riyasinhaisawesome']\n"
          ],
          "name": "stdout"
        }
      ]
    },
    {
      "cell_type": "code",
      "metadata": {
        "id": "-navMf95QX07",
        "outputId": "588448b8-859b-414e-fea1-410f2df12e7e",
        "colab": {
          "base_uri": "https://localhost:8080/",
          "height": 84
        }
      },
      "source": [
        "#DELET ELEMENT : \n",
        "list1 = [1, 2, 3, 'riyasinha', 29.4, 10, 30]\n",
        "del list1[5] #delete element at index 5\n",
        "print(list1)\n",
        "list1.remove('riyasinha') #remove element with value\n",
        "print(list1)\n",
        "a = list1.pop(4) #pop element from list\n",
        "print('Popped Element: ', a, ' List remaining: ', list1)\n",
        "list1.clear() #empty the list\n",
        "print(list1)"
      ],
      "execution_count": 16,
      "outputs": [
        {
          "output_type": "stream",
          "text": [
            "[1, 2, 3, 'riyasinha', 29.4, 30]\n",
            "[1, 2, 3, 29.4, 30]\n",
            "Popped Element:  30  List remaining:  [1, 2, 3, 29.4]\n",
            "[]\n"
          ],
          "name": "stdout"
        }
      ]
    },
    {
      "cell_type": "code",
      "metadata": {
        "id": "-mWcM1qDRMeS",
        "outputId": "4be46901-3c69-4a91-dcb9-c71c3080e573",
        "colab": {
          "base_uri": "https://localhost:8080/",
          "height": 202
        }
      },
      "source": [
        "#ACCESSING ELEMENTS :\n",
        "list1 = [1, 2, 3, 'riyasinhaisawesome', 29.499, 10, 30]\n",
        "for element in list1: #access elements one by one\n",
        "    print(element)\n",
        "print(list1) #access all elements\n",
        "print(list1[3]) #access index 3 element\n",
        "print(list1[0:2]) #access elements from 0 to 1 and exclude 2\n",
        "print(list1[::-1]) #access elements in reverse"
      ],
      "execution_count": 19,
      "outputs": [
        {
          "output_type": "stream",
          "text": [
            "1\n",
            "2\n",
            "3\n",
            "riyasinhaisawesome\n",
            "29.499\n",
            "10\n",
            "30\n",
            "[1, 2, 3, 'riyasinhaisawesome', 29.499, 10, 30]\n",
            "riyasinhaisawesome\n",
            "[1, 2]\n",
            "[30, 10, 29.499, 'riyasinhaisawesome', 3, 2, 1]\n"
          ],
          "name": "stdout"
        }
      ]
    },
    {
      "cell_type": "code",
      "metadata": {
        "id": "lOPgxF0mRlEI",
        "outputId": "37c5cb0c-905f-4e19-ef76-0f72c5941d9c",
        "colab": {
          "base_uri": "https://localhost:8080/",
          "height": 101
        }
      },
      "source": [
        "#OTHER OPERATION ON LIST are : \n",
        "list1 = [1, 2, 3, 10, 30, 10]\n",
        "print(len(list1)) #find length of list\n",
        "print(list1.index(10)) #find index of element that occurs first\n",
        "print(list1.count(10)) #find count of the element\n",
        "print(sorted(list1)) #print sorted list but not change original\n",
        "list1.sort(reverse=True) #sort original list\n",
        "print(list1)"
      ],
      "execution_count": 20,
      "outputs": [
        {
          "output_type": "stream",
          "text": [
            "6\n",
            "3\n",
            "2\n",
            "[1, 2, 3, 10, 10, 30]\n",
            "[30, 10, 10, 3, 2, 1]\n"
          ],
          "name": "stdout"
        }
      ]
    },
    {
      "cell_type": "markdown",
      "metadata": {
        "id": "xry3CAPOR-R0"
      },
      "source": [
        "2. **DICTIONARY**"
      ]
    },
    {
      "cell_type": "code",
      "metadata": {
        "id": "_yc-PuJmSGd-",
        "outputId": "5c6c935d-f61d-4c56-d92e-5117f4bb3f9e",
        "colab": {
          "base_uri": "https://localhost:8080/",
          "height": 50
        }
      },
      "source": [
        "#CREATING A DICTIONARY:\n",
        "my_dict = {} #empty dictionary\n",
        "print(my_dict)\n",
        "my_dict = {1: 'Python', 2: 'Java'} #dictionary with elements\n",
        "print(my_dict)"
      ],
      "execution_count": 21,
      "outputs": [
        {
          "output_type": "stream",
          "text": [
            "{}\n",
            "{1: 'Python', 2: 'Java'}\n"
          ],
          "name": "stdout"
        }
      ]
    },
    {
      "cell_type": "code",
      "metadata": {
        "id": "uC8NLLh5SPvW",
        "outputId": "b039a52b-19eb-4bd6-c90a-c7fd66508157",
        "colab": {
          "base_uri": "https://localhost:8080/",
          "height": 67
        }
      },
      "source": [
        "#Changing and Adding key, value pairs\n",
        "my_dict = {'First': 'Python', 'Second': 'Java'}\n",
        "print(my_dict)\n",
        "my_dict['Second'] = 'C++' #changing element\n",
        "print(my_dict)\n",
        "my_dict['Third'] = 'Ruby' #adding key-value pair\n",
        "print(my_dict)"
      ],
      "execution_count": 22,
      "outputs": [
        {
          "output_type": "stream",
          "text": [
            "{'First': 'Python', 'Second': 'Java'}\n",
            "{'First': 'Python', 'Second': 'C++'}\n",
            "{'First': 'Python', 'Second': 'C++', 'Third': 'Ruby'}\n"
          ],
          "name": "stdout"
        }
      ]
    },
    {
      "cell_type": "code",
      "metadata": {
        "id": "dCwAtzzUSZ5z",
        "outputId": "d31e24f7-3741-4ee9-c0f9-03f08791d0ed",
        "colab": {
          "base_uri": "https://localhost:8080/",
          "height": 101
        }
      },
      "source": [
        "#Deleting key value pairs\n",
        "my_dict = {'First': 'Python', 'Second': 'Java', 'Third': 'Ruby'}\n",
        "a = my_dict.pop('Third') #pop element\n",
        "print('Value:', a)\n",
        "print('Dictionary:', my_dict)\n",
        "b = my_dict.popitem() #pop the key-value pair\n",
        "print('Key, value pair:', b)\n",
        "print('Dictionary', my_dict)\n",
        "my_dict.clear() #empty dictionary\n",
        "print('n', my_dict)"
      ],
      "execution_count": 23,
      "outputs": [
        {
          "output_type": "stream",
          "text": [
            "Value: Ruby\n",
            "Dictionary: {'First': 'Python', 'Second': 'Java'}\n",
            "Key, value pair: ('Second', 'Java')\n",
            "Dictionary {'First': 'Python'}\n",
            "n {}\n"
          ],
          "name": "stdout"
        }
      ]
    },
    {
      "cell_type": "code",
      "metadata": {
        "id": "USQtLhw1ScAp",
        "outputId": "55c0e6e7-d7e1-478e-96bb-e689a75d6e68",
        "colab": {
          "base_uri": "https://localhost:8080/",
          "height": 50
        }
      },
      "source": [
        "#ACCESSING ELEMENTS\n",
        "my_dict = {'First': 'Python', 'Second': 'Java'}\n",
        "print(my_dict['First']) #access elements using keys\n",
        "print(my_dict.get('Second'))"
      ],
      "execution_count": 25,
      "outputs": [
        {
          "output_type": "stream",
          "text": [
            "Python\n",
            "Java\n"
          ],
          "name": "stdout"
        }
      ]
    },
    {
      "cell_type": "code",
      "metadata": {
        "id": "76_qchErSuB9",
        "outputId": "8ce1cb99-74f8-4a49-a8f7-15b5f0f6f22f",
        "colab": {
          "base_uri": "https://localhost:8080/",
          "height": 84
        }
      },
      "source": [
        "#Other functions of dictionary\n",
        "my_dict = {'First': 'Python', 'Second': 'Java', 'Third': 'Ruby'}\n",
        "print(my_dict.keys()) #get keys\n",
        "print(my_dict.values()) #get values\n",
        "print(my_dict.items()) #get key-value pairs\n",
        "print(my_dict.get('First'))"
      ],
      "execution_count": 26,
      "outputs": [
        {
          "output_type": "stream",
          "text": [
            "dict_keys(['First', 'Second', 'Third'])\n",
            "dict_values(['Python', 'Java', 'Ruby'])\n",
            "dict_items([('First', 'Python'), ('Second', 'Java'), ('Third', 'Ruby')])\n",
            "Python\n"
          ],
          "name": "stdout"
        }
      ]
    },
    {
      "cell_type": "markdown",
      "metadata": {
        "id": "jKVTg2tVS3vy"
      },
      "source": [
        "3. **TUPLE**"
      ]
    },
    {
      "cell_type": "code",
      "metadata": {
        "id": "1IvpO-yRS65n",
        "outputId": "ffa75ad6-d4f2-4d9c-bbfc-5873c1b1807f",
        "colab": {
          "base_uri": "https://localhost:8080/",
          "height": 34
        }
      },
      "source": [
        "#CREATING A TUPLE \n",
        "my_tuple = (1, 2, 3) #create tuple\n",
        "print(my_tuple) "
      ],
      "execution_count": 27,
      "outputs": [
        {
          "output_type": "stream",
          "text": [
            "(1, 2, 3)\n"
          ],
          "name": "stdout"
        }
      ]
    },
    {
      "cell_type": "code",
      "metadata": {
        "id": "omINrj7lTCvJ",
        "outputId": "53e2cc0f-476b-4259-94c0-532735fadb1b",
        "colab": {
          "base_uri": "https://localhost:8080/",
          "height": 151
        }
      },
      "source": [
        "#ACCESSING ELEMENTS\n",
        "my_tuple2 = (1, 2, 3, 'riyasinha') #access elements\n",
        "for x in my_tuple2:\n",
        "    print(x)\n",
        "print(my_tuple2)\n",
        "print(my_tuple2[0])\n",
        "print(my_tuple2[:])\n",
        "print(my_tuple2[3][4])"
      ],
      "execution_count": 29,
      "outputs": [
        {
          "output_type": "stream",
          "text": [
            "1\n",
            "2\n",
            "3\n",
            "riyasinha\n",
            "(1, 2, 3, 'riyasinha')\n",
            "1\n",
            "(1, 2, 3, 'riyasinha')\n",
            "s\n"
          ],
          "name": "stdout"
        }
      ]
    },
    {
      "cell_type": "code",
      "metadata": {
        "id": "7lax83QzTN-Y",
        "outputId": "1f8af024-8c44-46d5-c1d3-7648e5b137b0",
        "colab": {
          "base_uri": "https://localhost:8080/",
          "height": 34
        }
      },
      "source": [
        "#APPENDING ELEMENTS\n",
        "my_tuple = (1, 2, 3)\n",
        "my_tuple = my_tuple + (4, 5, 6) #add elements\n",
        "print(my_tuple)"
      ],
      "execution_count": 30,
      "outputs": [
        {
          "output_type": "stream",
          "text": [
            "(1, 2, 3, 4, 5, 6)\n"
          ],
          "name": "stdout"
        }
      ]
    },
    {
      "cell_type": "markdown",
      "metadata": {
        "id": "8EikfdBhTTIh"
      },
      "source": [
        "4. **SETS**"
      ]
    },
    {
      "cell_type": "code",
      "metadata": {
        "id": "I_wAB5m2TVYk",
        "outputId": "fb03239a-d6ff-465f-97ee-1d110a9b4905",
        "colab": {
          "base_uri": "https://localhost:8080/",
          "height": 34
        }
      },
      "source": [
        "#CREATING SETS\n",
        "my_set = {1, 2, 3, 4, 5, 5, 5} #create set\n",
        "print(my_set)"
      ],
      "execution_count": 31,
      "outputs": [
        {
          "output_type": "stream",
          "text": [
            "{1, 2, 3, 4, 5}\n"
          ],
          "name": "stdout"
        }
      ]
    },
    {
      "cell_type": "code",
      "metadata": {
        "id": "9CK7EZ-kTbz1",
        "outputId": "31dd0441-2c6c-4e88-ae86-eca121bcf17a",
        "colab": {
          "base_uri": "https://localhost:8080/",
          "height": 34
        }
      },
      "source": [
        "#ADDING ELEMENTS\n",
        "my_set = {1, 2, 3}\n",
        "my_set.add(4) #add element to set\n",
        "print(my_set)"
      ],
      "execution_count": 32,
      "outputs": [
        {
          "output_type": "stream",
          "text": [
            "{1, 2, 3, 4}\n"
          ],
          "name": "stdout"
        }
      ]
    },
    {
      "cell_type": "code",
      "metadata": {
        "id": "s6M26-piTjJw",
        "outputId": "3fb3f37d-fb15-4b43-a39c-067f15f4c477",
        "colab": {
          "base_uri": "https://localhost:8080/",
          "height": 101
        }
      },
      "source": [
        "#OTHER OPERATIONS ON SETS\n",
        "my_set = {1, 2, 3, 4}\n",
        "my_set_2 = {3, 4, 5, 6}\n",
        "print(my_set.union(my_set_2), '----------', my_set | my_set_2)\n",
        "print(my_set.intersection(my_set_2), '----------', my_set & my_set_2)\n",
        "print(my_set.difference(my_set_2), '----------', my_set - my_set_2)\n",
        "print(my_set.symmetric_difference(my_set_2), '----------', my_set ^ my_set_2)\n",
        "my_set.clear()\n",
        "print(my_set)"
      ],
      "execution_count": 33,
      "outputs": [
        {
          "output_type": "stream",
          "text": [
            "{1, 2, 3, 4, 5, 6} ---------- {1, 2, 3, 4, 5, 6}\n",
            "{3, 4} ---------- {3, 4}\n",
            "{1, 2} ---------- {1, 2}\n",
            "{1, 2, 5, 6} ---------- {1, 2, 5, 6}\n",
            "set()\n"
          ],
          "name": "stdout"
        }
      ]
    },
    {
      "cell_type": "markdown",
      "metadata": {
        "id": "luXd-lozTtdU"
      },
      "source": [
        "\n",
        "\n",
        "**SUBMITTED BY : RIYA SINHA (170385), Section C1**\n",
        "\n",
        "**DATE : 13th October 2020**\n",
        "\n",
        "**SUBMITTED TO : SK JANGIR**"
      ]
    }
  ]
}