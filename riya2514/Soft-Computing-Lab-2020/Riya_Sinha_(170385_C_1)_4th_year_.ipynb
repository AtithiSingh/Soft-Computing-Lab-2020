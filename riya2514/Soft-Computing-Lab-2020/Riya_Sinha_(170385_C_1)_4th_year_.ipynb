{
  "nbformat": 4,
  "nbformat_minor": 0,
  "metadata": {
    "colab": {
      "name": "Riya Sinha (170385 - C 1) 4th year .ipynb",
      "provenance": [],
      "collapsed_sections": [],
      "authorship_tag": "ABX9TyMcIIRwJ0gzmaiW5ckHQpnl",
      "include_colab_link": true
    },
    "kernelspec": {
      "name": "python3",
      "display_name": "Python 3"
    }
  },
  "cells": [
    {
      "cell_type": "markdown",
      "metadata": {
        "id": "view-in-github",
        "colab_type": "text"
      },
      "source": [
        "<a href=\"https://colab.research.google.com/github/riya2514/Soft-Computing-Lab-2020/blob/master/riya2514/Soft-Computing-Lab-2020/Riya_Sinha_(170385_C_1)_4th_year_.ipynb\" target=\"_parent\"><img src=\"https://colab.research.google.com/assets/colab-badge.svg\" alt=\"Open In Colab\"/></a>"
      ]
    },
    {
      "cell_type": "markdown",
      "metadata": {
        "id": "RwCHwzrx3tlW"
      },
      "source": [
        "# **PROGRAM : 1**\n",
        "\n",
        "---\n",
        "\n",
        "\n",
        "\n",
        "**AIM** : Write a program to implement all operators in python"
      ]
    },
    {
      "cell_type": "markdown",
      "metadata": {
        "id": "biADN6PR4bcm"
      },
      "source": [
        "Operators are special symbols in Python that carry out arithmetic or logical computation. The value that the operator operates on is called the operand."
      ]
    },
    {
      "cell_type": "markdown",
      "metadata": {
        "id": "8jdSk8T15Jh0"
      },
      "source": [
        "\n",
        "\n",
        " **Arithmetic operators**: \n",
        "Arithmetic operators are used to perform mathematical operations like addition, subtraction, multiplication, etc.\n",
        "\n"
      ]
    },
    {
      "cell_type": "code",
      "metadata": {
        "id": "Mi0S4d_W5RoN",
        "outputId": "d6d48aba-2912-4ca5-9eeb-986272aa1be5",
        "colab": {
          "base_uri": "https://localhost:8080/",
          "height": 34
        }
      },
      "source": [
        "#Addition\n",
        "x = 20\n",
        "y = 41\n",
        "print('x + y =',x+y)"
      ],
      "execution_count": 4,
      "outputs": [
        {
          "output_type": "stream",
          "text": [
            "x + y = 61\n"
          ],
          "name": "stdout"
        }
      ]
    },
    {
      "cell_type": "code",
      "metadata": {
        "id": "D8whzPIY5qAM",
        "outputId": "5702f8c0-1fad-4122-ef03-eb637dae596b",
        "colab": {
          "base_uri": "https://localhost:8080/",
          "height": 34
        }
      },
      "source": [
        "# Substraction\n",
        "print('x - y =',x-y)"
      ],
      "execution_count": 5,
      "outputs": [
        {
          "output_type": "stream",
          "text": [
            "x - y = -21\n"
          ],
          "name": "stdout"
        }
      ]
    },
    {
      "cell_type": "code",
      "metadata": {
        "id": "xqN-IBV15xeK",
        "outputId": "20d0f9b3-78ec-434f-f9a0-02f25528e3f9",
        "colab": {
          "base_uri": "https://localhost:8080/",
          "height": 34
        }
      },
      "source": [
        "# Multiplication\n",
        "print('x * y =',x*y)"
      ],
      "execution_count": 6,
      "outputs": [
        {
          "output_type": "stream",
          "text": [
            "x * y = 820\n"
          ],
          "name": "stdout"
        }
      ]
    },
    {
      "cell_type": "code",
      "metadata": {
        "id": "K_7JJllC6Aqp",
        "outputId": "0b97811c-6ba5-41a4-e514-5135d3435fc3",
        "colab": {
          "base_uri": "https://localhost:8080/",
          "height": 34
        }
      },
      "source": [
        "# Division\n",
        "print('x / y =',x/y)"
      ],
      "execution_count": 7,
      "outputs": [
        {
          "output_type": "stream",
          "text": [
            "x / y = 0.4878048780487805\n"
          ],
          "name": "stdout"
        }
      ]
    },
    {
      "cell_type": "code",
      "metadata": {
        "id": "q-MajrVC6LUO",
        "outputId": "a22aaa8f-94b9-4348-9538-ef6c03024f53",
        "colab": {
          "base_uri": "https://localhost:8080/",
          "height": 34
        }
      },
      "source": [
        "# Floor division\n",
        "print('x // y =',x//y)\n"
      ],
      "execution_count": 8,
      "outputs": [
        {
          "output_type": "stream",
          "text": [
            "x // y = 0\n"
          ],
          "name": "stdout"
        }
      ]
    },
    {
      "cell_type": "code",
      "metadata": {
        "id": "TGj6SycO6lG-",
        "outputId": "4960cf3c-a750-4c0c-a59b-5580fb839f2a",
        "colab": {
          "base_uri": "https://localhost:8080/",
          "height": 34
        }
      },
      "source": [
        "# Exponent\n",
        "print('x ** y =',x**y)"
      ],
      "execution_count": 9,
      "outputs": [
        {
          "output_type": "stream",
          "text": [
            "x ** y = 219902325555200000000000000000000000000000000000000000\n"
          ],
          "name": "stdout"
        }
      ]
    },
    {
      "cell_type": "code",
      "metadata": {
        "id": "pSlxE0ou6u3O",
        "outputId": "0b6bcdd2-9433-45fe-a37c-bcf5ebbdbf7c",
        "colab": {
          "base_uri": "https://localhost:8080/",
          "height": 34
        }
      },
      "source": [
        "# Modulus\n",
        "print('x % y =',x%y)"
      ],
      "execution_count": 10,
      "outputs": [
        {
          "output_type": "stream",
          "text": [
            "x % y = 20\n"
          ],
          "name": "stdout"
        }
      ]
    },
    {
      "cell_type": "markdown",
      "metadata": {
        "id": "wThM0V-K7bpW"
      },
      "source": [
        " **Comparison Operators** : Comparison operators are used to compare values. It returns either True or False according to the condition."
      ]
    },
    {
      "cell_type": "code",
      "metadata": {
        "id": "HkbEU02b8hta",
        "outputId": "5c78a59c-2ad0-4275-a33c-be46557bfb95",
        "colab": {
          "base_uri": "https://localhost:8080/",
          "height": 118
        }
      },
      "source": [
        "x = 20\n",
        "y = 43\n",
        "\n",
        "# Greater than\n",
        "print('x > y is',x>y)\n",
        "\n",
        "# Less than\n",
        "print('x < y is',x<y)\n",
        "\n",
        "# Equal to\n",
        "print('x == y is',x==y)\n",
        "\n",
        "# Not equal to\n",
        "print('x != y is',x!=y)\n",
        "\n",
        "# Greater than or equal to\n",
        "print('x >= y is',x>=y)\n",
        "\n",
        "# Smaller than or equal to\n",
        "print('x <= y is',x<=y)"
      ],
      "execution_count": 11,
      "outputs": [
        {
          "output_type": "stream",
          "text": [
            "x > y is False\n",
            "x < y is True\n",
            "x == y is False\n",
            "x != y is True\n",
            "x >= y is False\n",
            "x <= y is True\n"
          ],
          "name": "stdout"
        }
      ]
    },
    {
      "cell_type": "markdown",
      "metadata": {
        "id": "rWN3hx-R9fVO"
      },
      "source": [
        " **Logical Operators** : Logical operators are the and, or, not operators.\n",
        "\n"
      ]
    },
    {
      "cell_type": "code",
      "metadata": {
        "id": "-f8OWARU9x16",
        "outputId": "3a360792-8260-46c6-c083-acf085143257",
        "colab": {
          "base_uri": "https://localhost:8080/",
          "height": 67
        }
      },
      "source": [
        "x = True #considered as 1\n",
        "y = False #considered as 0\n",
        "\n",
        "print('x or y is',x or y)\n",
        "\n",
        "print('x and y is',x and y)\n",
        "\n",
        "print('not x is',not x)"
      ],
      "execution_count": 15,
      "outputs": [
        {
          "output_type": "stream",
          "text": [
            "x or y is True\n",
            "x and y is False\n",
            "not x is False\n"
          ],
          "name": "stdout"
        }
      ]
    },
    {
      "cell_type": "markdown",
      "metadata": {
        "id": "rJ5Hm0DK-Jbs"
      },
      "source": [
        "**Bitwise Operators** : Bitwise operators act on operands as if they were strings of binary digits. They operate bit by bit, hence the name."
      ]
    },
    {
      "cell_type": "code",
      "metadata": {
        "id": "5qNK8m7R-Z-6",
        "outputId": "fd53f772-c779-4e84-b8a3-a727c9c188c3",
        "colab": {
          "base_uri": "https://localhost:8080/",
          "height": 118
        }
      },
      "source": [
        "x = 10\n",
        "y = 4\n",
        "\n",
        "# Bitwise AND\n",
        "print(x & y)\n",
        "\n",
        "# Bitwise OR\n",
        "print(x | y)\n",
        "\n",
        "# Bitwise NOT\n",
        "print(~x)\n",
        "\n",
        "# Bitwise XOR\n",
        "print(x ^ y)\n",
        "\n",
        "# Bitwise RIGHT SHIFT\n",
        "print(x >> 2)\n",
        "\n",
        "# Bitwise LEFT SHIFT\n",
        "print(x << 2)"
      ],
      "execution_count": 16,
      "outputs": [
        {
          "output_type": "stream",
          "text": [
            "0\n",
            "14\n",
            "-11\n",
            "14\n",
            "2\n",
            "40\n"
          ],
          "name": "stdout"
        }
      ]
    },
    {
      "cell_type": "markdown",
      "metadata": {
        "id": "v8hIkBkC_seG"
      },
      "source": [
        " **Assignment Operators :** Assignment operators are used in Python to assign values to variables."
      ]
    },
    {
      "cell_type": "code",
      "metadata": {
        "id": "1LhZIO5rA-BE",
        "outputId": "90f54e7b-76e1-40ad-f4e6-6f7fc693bced",
        "colab": {
          "base_uri": "https://localhost:8080/",
          "height": 134
        }
      },
      "source": [
        "a = 34\n",
        "b = 19\n",
        "c = 0\n",
        "\n",
        "c = a + b\n",
        "print (\"Value of c after c = a + b is \", c)\n",
        "\n",
        "c += a\n",
        "print (\"Value of c after c += a is \", c )\n",
        "\n",
        "c *= a\n",
        "print (\"Value of c after c *= a is \", c)\n",
        "\n",
        "c /= a \n",
        "print (\"Value of c after c /= a  is \", c) \n",
        "\n",
        "c  = 2\n",
        "c %= a\n",
        "print (\"Value of c after c %= a is \", c)\n",
        "\n",
        "c **= a\n",
        "print (\"Value of c after c **= a is \", c)\n",
        "\n",
        "c //= a\n",
        "print (\"Value of c after c //= a is \", c)\n",
        "\n"
      ],
      "execution_count": 27,
      "outputs": [
        {
          "output_type": "stream",
          "text": [
            "Value of c after c = a + b is  53\n",
            "Value of c after c += a is  87\n",
            "Value of c after c *= a is  2958\n",
            "Value of c after c /= a  is  87.0\n",
            "Value of c after c %= a is  2\n",
            "Value of c after c **= a is  17179869184\n",
            "Value of c after c //= a is  505290270\n"
          ],
          "name": "stdout"
        }
      ]
    },
    {
      "cell_type": "markdown",
      "metadata": {
        "id": "WAk09DZxDQuG"
      },
      "source": [
        "\n",
        "\n",
        "**Submitted to** : S K Jangir\n",
        "\n",
        "**Submitted by** : Riya Sinha / (170385) / Section C 1 / 4th year"
      ]
    }
  ]
}