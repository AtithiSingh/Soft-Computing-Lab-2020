{
  "nbformat": 4,
  "nbformat_minor": 0,
  "metadata": {
    "colab": {
      "name": "Python_Operators.ipynb",
      "provenance": [],
      "authorship_tag": "ABX9TyPE6RP5csGXYwkzZhou91SB",
      "include_colab_link": true
    },
    "kernelspec": {
      "name": "python3",
      "display_name": "Python 3"
    }
  },
  "cells": [
    {
      "cell_type": "markdown",
      "metadata": {
        "id": "view-in-github",
        "colab_type": "text"
      },
      "source": [
        "<a href=\"https://colab.research.google.com/github/snehadujaniya/Soft-Computing-Lab-2020/blob/patch-1/Python_Operators.ipynb\" target=\"_parent\"><img src=\"https://colab.research.google.com/assets/colab-badge.svg\" alt=\"Open In Colab\"/></a>"
      ]
    },
    {
      "cell_type": "markdown",
      "metadata": {
        "id": "Wes9yi3CThVq"
      },
      "source": [
        "Aim: Implement various operators in Python\n"
      ]
    },
    {
      "cell_type": "markdown",
      "metadata": {
        "id": "CPttXKKsTohE"
      },
      "source": [
        "1) Arithmetic Operators"
      ]
    },
    {
      "cell_type": "code",
      "metadata": {
        "id": "EE_6YIZRTntB",
        "outputId": "2bd3c265-62ec-4bf1-8631-d88e2be72a66",
        "colab": {
          "base_uri": "https://localhost:8080/",
          "height": 139
        }
      },
      "source": [
        "a=10\n",
        "b=18\n",
        "print(a+b) #Addition\n",
        "print(b-a) #Subtraction\n",
        "print(a*b) #Multiplication\n",
        "print(b/a) #Division\n",
        "print(b%a) #Modulus\n",
        "print(a**b)#Exponentiation\n",
        "print(a//b)#Floor Division"
      ],
      "execution_count": 1,
      "outputs": [
        {
          "output_type": "stream",
          "text": [
            "28\n",
            "8\n",
            "180\n",
            "1.8\n",
            "8\n",
            "1000000000000000000\n",
            "0\n"
          ],
          "name": "stdout"
        }
      ]
    },
    {
      "cell_type": "markdown",
      "metadata": {
        "id": "uDO3JHEKTu78"
      },
      "source": [
        "2) Assignment Operators"
      ]
    },
    {
      "cell_type": "code",
      "metadata": {
        "id": "zmVczYI3TPCa",
        "outputId": "d90a2af1-b550-48b7-b1e9-84590db3ec09",
        "colab": {
          "base_uri": "https://localhost:8080/",
          "height": 225
        }
      },
      "source": [
        "#Increment\n",
        "x=12\n",
        "x+=4\n",
        "print(x)\n",
        "\n",
        "#Decrement\n",
        "x-=2\n",
        "print(x)\n",
        "\n",
        "#Multiply itslef by a number\n",
        "x*=4\n",
        "print(x)\n",
        "\n",
        "#Divide itslef by a number\n",
        "x/=2\n",
        "print(x)\n",
        "\n",
        "#Remainder when divideb by a number\n",
        "x%=2\n",
        "print(x)\n",
        "\n",
        "#Dividend when divided by a number\n",
        "x//=3\n",
        "print(x)\n",
        "\n",
        "#Power to a number\n",
        "x**=2\n",
        "print(x)\n",
        "\n",
        "# And Operation with a number\n",
        "y=4\n",
        "y &= 2\n",
        "print(y)\n",
        "\n",
        "# Or operation with a number\n",
        "y=8\n",
        "y|=2\n",
        "print(y)\n",
        "\n",
        "# Power\n",
        "y=3\n",
        "y^=3\n",
        "print(y)\n",
        "\n",
        "# Right Shift\n",
        "y=4\n",
        "y>>=2\n",
        "print(y)\n",
        "\n",
        "# Left Shift\n",
        "y<<=2\n",
        "print(y)"
      ],
      "execution_count": 2,
      "outputs": [
        {
          "output_type": "stream",
          "text": [
            "16\n",
            "14\n",
            "56\n",
            "28.0\n",
            "0.0\n",
            "0.0\n",
            "0.0\n",
            "0\n",
            "10\n",
            "0\n",
            "1\n",
            "4\n"
          ],
          "name": "stdout"
        }
      ]
    },
    {
      "cell_type": "markdown",
      "metadata": {
        "id": "Ku28BsTvUtwf"
      },
      "source": [
        "3) Comparison Operators"
      ]
    },
    {
      "cell_type": "code",
      "metadata": {
        "id": "Dal6WwrLUpuw",
        "outputId": "27adf3a3-77b7-46b7-bf3d-29afd3228392",
        "colab": {
          "base_uri": "https://localhost:8080/",
          "height": 121
        }
      },
      "source": [
        "x=3\n",
        "y=6\n",
        "print(x==y) #Equal\n",
        "print(x!=y) #Not Equal\n",
        "print(x>y)  #Greater than\n",
        "print(x<y)  #Less than\n",
        "print(x>=y) #Greater than or equal to\n",
        "print(x<=y) #Less than or equal to"
      ],
      "execution_count": 3,
      "outputs": [
        {
          "output_type": "stream",
          "text": [
            "False\n",
            "True\n",
            "False\n",
            "True\n",
            "False\n",
            "True\n"
          ],
          "name": "stdout"
        }
      ]
    },
    {
      "cell_type": "markdown",
      "metadata": {
        "id": "D2-IpVhdU55R"
      },
      "source": [
        "4) Logical Operators"
      ]
    },
    {
      "cell_type": "code",
      "metadata": {
        "id": "uem9x-nAU42P",
        "outputId": "928aceca-1e58-404e-dce9-7d280e5a7e99",
        "colab": {
          "base_uri": "https://localhost:8080/",
          "height": 69
        }
      },
      "source": [
        "x = 10\n",
        "print(x>2 and x<10) #and operator \n",
        "print(x>2 or x<10)  #or operator\n",
        "print(not(x>3))     #nor operator"
      ],
      "execution_count": 4,
      "outputs": [
        {
          "output_type": "stream",
          "text": [
            "False\n",
            "True\n",
            "False\n"
          ],
          "name": "stdout"
        }
      ]
    },
    {
      "cell_type": "markdown",
      "metadata": {
        "id": "LMLL6uKyVB8J"
      },
      "source": [
        "5) Bitwise Operators"
      ]
    },
    {
      "cell_type": "code",
      "metadata": {
        "id": "0RPKXQYvVAd6",
        "outputId": "1ad2be80-d924-4fc9-81d2-116b081d5661",
        "colab": {
          "base_uri": "https://localhost:8080/",
          "height": 121
        }
      },
      "source": [
        "x=110\n",
        "y=100\n",
        "print(x&y) #AND\n",
        "print(x|y) #OR\n",
        "print(x*y) #XOR\n",
        "print(~x)  #NOT\n",
        "print(x<<1) #BITWISE LEFT SHIFT\n",
        "print(x>>1) #BITWISE RIGHT SHIFT"
      ],
      "execution_count": 5,
      "outputs": [
        {
          "output_type": "stream",
          "text": [
            "100\n",
            "110\n",
            "11000\n",
            "-111\n",
            "220\n",
            "55\n"
          ],
          "name": "stdout"
        }
      ]
    },
    {
      "cell_type": "code",
      "metadata": {
        "id": "HEKG7qo5VHRk"
      },
      "source": [
        ""
      ],
      "execution_count": null,
      "outputs": []
    }
  ]
}