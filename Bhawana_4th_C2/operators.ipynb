{
  "nbformat": 4,
  "nbformat_minor": 0,
  "metadata": {
    "colab": {
      "name": "Py_operators.ipynb",
      "provenance": [],
      "authorship_tag": "ABX9TyPdd7WeFEgt32ca5ABZbeGv",
      "include_colab_link": true
    },
    "kernelspec": {
      "name": "python3",
      "display_name": "Python 3"
    }
  },
  "cells": [
    {
      "cell_type": "markdown",
      "metadata": {
        "id": "view-in-github",
        "colab_type": "text"
      },
      "source": [
        "<a href=\"https://colab.research.google.com/github/bhawana19/Soft-Computing-Lab-2020/blob/master/Bhawana_4th_C2/operators.ipynb\" target=\"_parent\"><img src=\"https://colab.research.google.com/assets/colab-badge.svg\" alt=\"Open In Colab\"/></a>"
      ]
    },
    {
      "cell_type": "markdown",
      "metadata": {
        "id": "2tGPLeQtKJnq"
      },
      "source": [
        "Aim- Write a program to implement all operators in python"
      ]
    },
    {
      "cell_type": "markdown",
      "metadata": {
        "id": "gyi-m_OMKqcX"
      },
      "source": [
        "Addition Operators"
      ]
    },
    {
      "cell_type": "code",
      "metadata": {
        "id": "umZTwrhDG1FT",
        "outputId": "52d05e33-cd04-48ae-eae8-0060f8bfad74",
        "colab": {
          "base_uri": "https://localhost:8080/",
          "height": 136
        }
      },
      "source": [
        "\n",
        "a=5\n",
        "b=9\n",
        "c=a+b #addition\n",
        "print(c)\n",
        "# Subtraction\n",
        "d=b-a\n",
        "print(d)\n",
        "# Multiplication\n",
        "e=a*b\n",
        "print(b)\n",
        "#Division\n",
        "f=b/a\n",
        "print(f)\n",
        "#Modulus\n",
        "print(a%b)\n",
        "#Exponent\n",
        "print(a**b)\n",
        "#Floor Division\n",
        "print(a//b)\n",
        "\n",
        "\n",
        "\n",
        "\n",
        "\n"
      ],
      "execution_count": null,
      "outputs": [
        {
          "output_type": "stream",
          "text": [
            "14\n",
            "4\n",
            "9\n",
            "1.8\n",
            "5\n",
            "1953125\n",
            "0\n"
          ],
          "name": "stdout"
        }
      ]
    },
    {
      "cell_type": "markdown",
      "metadata": {
        "id": "Ra70VEqQLVja"
      },
      "source": [
        "Comparison Operators\n"
      ]
    },
    {
      "cell_type": "code",
      "metadata": {
        "id": "4JfTZ5NSLmMc",
        "outputId": "aca98ec0-e4e7-49b6-cdcb-b552b1ec0685",
        "colab": {
          "base_uri": "https://localhost:8080/",
          "height": 119
        }
      },
      "source": [
        "print(a==b) \n",
        "print(a!=b) \n",
        "print(a>b)\n",
        "print(a<b)\n",
        "print(a>=b)\n",
        "print(a<=b)\n"
      ],
      "execution_count": null,
      "outputs": [
        {
          "output_type": "stream",
          "text": [
            "False\n",
            "True\n",
            "False\n",
            "True\n",
            "False\n",
            "True\n"
          ],
          "name": "stdout"
        }
      ]
    },
    {
      "cell_type": "markdown",
      "metadata": {
        "id": "YZm_q99zZLb3"
      },
      "source": [
        "Bitwise Operators"
      ]
    },
    {
      "cell_type": "code",
      "metadata": {
        "id": "TMvanSHTZuPT",
        "outputId": "281f7735-4a90-485e-b4e2-3e7c01d1ee97",
        "colab": {
          "base_uri": "https://localhost:8080/",
          "height": 119
        }
      },
      "source": [
        "print(a&b)\n",
        "print(a|b)\n",
        "print(a^b)\n",
        "print(~a)\n",
        "print(a<<1)\n",
        "print(a>>1)"
      ],
      "execution_count": null,
      "outputs": [
        {
          "output_type": "stream",
          "text": [
            "1\n",
            "13\n",
            "12\n",
            "-6\n",
            "10\n",
            "2\n"
          ],
          "name": "stdout"
        }
      ]
    },
    {
      "cell_type": "markdown",
      "metadata": {
        "id": "dANC6ZviaJcg"
      },
      "source": [
        "Logical Operators"
      ]
    },
    {
      "cell_type": "code",
      "metadata": {
        "id": "KWeJW5mnaMKg",
        "outputId": "b1e7c136-32a0-4209-fe88-2ac20f1d7fc6",
        "colab": {
          "base_uri": "https://localhost:8080/",
          "height": 68
        }
      },
      "source": [
        "print(a>7 and b<7)\n",
        "print(a>7 or b<7)\n",
        "print(not(a>7))"
      ],
      "execution_count": null,
      "outputs": [
        {
          "output_type": "stream",
          "text": [
            "False\n",
            "False\n",
            "True\n"
          ],
          "name": "stdout"
        }
      ]
    },
    {
      "cell_type": "markdown",
      "metadata": {
        "id": "ZIRjPvmMbMBC"
      },
      "source": [
        "Assignment Operators"
      ]
    },
    {
      "cell_type": "code",
      "metadata": {
        "id": "LdDeSwcAbWTl",
        "outputId": "fb75c579-5279-48bc-cf02-119f815acc13",
        "colab": {
          "base_uri": "https://localhost:8080/",
          "height": 153
        }
      },
      "source": [
        "c=a+b\n",
        "print(c)\n",
        "c+=a\n",
        "print(c)\n",
        "c-=a\n",
        "print(c)\n",
        "c*=a\n",
        "print(c)\n",
        "c/=a\n",
        "print(c)\n",
        "c**=a\n",
        "print(c)\n",
        "c%=a\n",
        "print(c)\n",
        "c//=a\n",
        "print(c)"
      ],
      "execution_count": null,
      "outputs": [
        {
          "output_type": "stream",
          "text": [
            "14\n",
            "19\n",
            "14\n",
            "70\n",
            "14.0\n",
            "537824.0\n",
            "4.0\n",
            "0.0\n"
          ],
          "name": "stdout"
        }
      ]
    },
    {
      "cell_type": "markdown",
      "metadata": {
        "id": "dUCUWtECcHYV"
      },
      "source": [
        "Identity Operators"
      ]
    },
    {
      "cell_type": "code",
      "metadata": {
        "id": "-3xfbPtgcJz2",
        "outputId": "de73aecc-0afc-4147-c4cc-ad2d596492fe",
        "colab": {
          "base_uri": "https://localhost:8080/",
          "height": 51
        }
      },
      "source": [
        "print(a is b)\n",
        "print(a is not b)"
      ],
      "execution_count": null,
      "outputs": [
        {
          "output_type": "stream",
          "text": [
            "False\n",
            "True\n"
          ],
          "name": "stdout"
        }
      ]
    }
  ]
}