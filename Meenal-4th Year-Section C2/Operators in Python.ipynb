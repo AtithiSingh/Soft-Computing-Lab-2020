{
 "cells": [
  {
   "cell_type": "markdown",
   "metadata": {},
   "source": [
    "# Aim: Write a program to implement all the operators in python"
   ]
  },
  {
   "cell_type": "markdown",
   "metadata": {},
   "source": [
    "### 1. Arithmetic Operators "
   ]
  },
  {
   "cell_type": "code",
   "execution_count": 1,
   "metadata": {},
   "outputs": [
    {
     "name": "stdout",
     "output_type": "stream",
     "text": [
      "20 + 5 = 25\n",
      "20 - 5 = 15\n",
      "20 * 5 = 100\n",
      "20 / 5 = 4.0\n",
      "20 % 5 = 0\n",
      "20 ** 5 = 3200000\n"
     ]
    }
   ],
   "source": [
    "x, y = 20, 5\n",
    "\n",
    "# addition\n",
    "print(x, '+', y, '=', x+y)\n",
    "# subtraction\n",
    "print(x, '-', y, '=', x-y)\n",
    "# multiplication\n",
    "print(x, '*', y, '=', x*y)\n",
    "# division\n",
    "print(x, '/', y, '=', x/y)\n",
    "# modulus\n",
    "print(x, '%', y, '=', x%y)\n",
    "# exponent\n",
    "print(x, '**', y, '=', x**y)"
   ]
  },
  {
   "cell_type": "markdown",
   "metadata": {},
   "source": [
    "### 2. Logical Operators"
   ]
  },
  {
   "cell_type": "code",
   "execution_count": 2,
   "metadata": {},
   "outputs": [
    {
     "name": "stdout",
     "output_type": "stream",
     "text": [
      "True AND False = False\n",
      "True OR False = True\n",
      "NOT True = False\n"
     ]
    }
   ],
   "source": [
    "x= True\n",
    "y= False\n",
    "\n",
    "# 'AND' : true when both operands true otherwise false\n",
    "print(x, 'AND', y, '=', x and y)\n",
    "# 'OR' : true when either operand is true otherwise false\n",
    "print(x, 'OR', y, '=', x or y)\n",
    "# 'NOT' : true when operand is false\n",
    "print('NOT', x, '=', not x)"
   ]
  },
  {
   "cell_type": "markdown",
   "metadata": {},
   "source": [
    "### 3. Bitwise Operators"
   ]
  },
  {
   "cell_type": "code",
   "execution_count": 4,
   "metadata": {},
   "outputs": [
    {
     "name": "stdout",
     "output_type": "stream",
     "text": [
      "20 & 5 = 4\n",
      "20 | 5 = 21\n",
      "~ 20 = -21\n",
      "20 ^ 5 = 17\n",
      "20 >> 5 = 0\n",
      "20 << 5 = 640\n"
     ]
    }
   ],
   "source": [
    "x, y = 20, 5\n",
    "\n",
    "# Bitwise AND '&'\n",
    "print(x, '&', y, '=' , x&y) \n",
    "# Bitwise OR '|'\n",
    "print(x, '|', y, '=' , x|y)\n",
    "# Bitwise NOT '~'\n",
    "print('~', x, '=', ~x)\n",
    "# Bitwise XOR '^'\n",
    "print(x, '^', y, '=' , x^y)\n",
    "# Right shift '>>'\n",
    "print(x, '>>', y, '=' , x>>y)\n",
    "# Left Shift '<<'\n",
    "print(x, '<<', y, '=' , x<<y)"
   ]
  },
  {
   "cell_type": "markdown",
   "metadata": {},
   "source": [
    "### 4. Comparison Operators "
   ]
  },
  {
   "cell_type": "code",
   "execution_count": 3,
   "metadata": {},
   "outputs": [
    {
     "name": "stdout",
     "output_type": "stream",
     "text": [
      "20 > 5 = True\n",
      "20 < 5 = False\n",
      "20 == 5 = False\n",
      "20 >= 5 = True\n",
      "20 <= 5 = False\n",
      "20 != 5 = True\n"
     ]
    }
   ],
   "source": [
    "x, y = 20, 5\n",
    "\n",
    "# Greator than '>'\n",
    "print(x, '>', y, '=' , x>y)\n",
    "# Less than '<'\n",
    "print(x, '<', y, '=' , x<y)\n",
    "# Equals to\n",
    "print(x, '==', y, '=' , x==y)\n",
    "# Greater than equals to '>='\n",
    "print(x, '>=', y, '=' , x>=y)\n",
    "# Less than equals to '<='\n",
    "print(x, '<=', y, '=' , x<=y)\n",
    "# Not equals to '!='\n",
    "print(x, '!=', y, '=' , x!=y)"
   ]
  },
  {
   "cell_type": "markdown",
   "metadata": {},
   "source": [
    "### 5. Assignment Operator"
   ]
  },
  {
   "cell_type": "code",
   "execution_count": 6,
   "metadata": {},
   "outputs": [
    {
     "name": "stdout",
     "output_type": "stream",
     "text": [
      "x = 5\n"
     ]
    }
   ],
   "source": [
    "# Assignment operator '='\n",
    "x = 5\n",
    "\n",
    "print('x', '=', x)"
   ]
  },
  {
   "cell_type": "markdown",
   "metadata": {},
   "source": [
    "### 6. Identity Operators"
   ]
  },
  {
   "cell_type": "code",
   "execution_count": 9,
   "metadata": {},
   "outputs": [
    {
     "name": "stdout",
     "output_type": "stream",
     "text": [
      "10 is 10 = True\n",
      "10 is not 20 = True\n",
      "check is not check = False\n",
      "[0, 1, 2] is [0, 1, 2] = False\n"
     ]
    }
   ],
   "source": [
    "x = 10\n",
    "y = 10\n",
    "z = 20\n",
    "a = 'check'\n",
    "b = 'check'\n",
    "m=[0,1,2]\n",
    "n=[0,1,2]\n",
    "# 'is' true if both values are identical\n",
    "print(x,'is', y, '=', x is y)\n",
    "# 'is not' true if both values are different\n",
    "print(x,'is not',z,'=', x is not z)\n",
    "# strings and integers are identical \n",
    "print(a,'is not', b, '=', a is not b)\n",
    "# list items are equal but not identical as they have different memory locations that is why the answer is false \n",
    "print(m,'is',n,'=',m is n)  "
   ]
  },
  {
   "cell_type": "markdown",
   "metadata": {},
   "source": [
    "### 7. Membership Operators "
   ]
  },
  {
   "cell_type": "code",
   "execution_count": 16,
   "metadata": {},
   "outputs": [
    {
     "name": "stdout",
     "output_type": "stream",
     "text": [
      "Hello in ['Hi', 'Hello', 'Hola', 'Hell'] = True\n",
      "he in Hello = False\n",
      "He in Hello = True\n",
      "Hell not in {1: 'kitkat', 2: 'bournville'} = True\n"
     ]
    }
   ],
   "source": [
    "x = 'Hello'\n",
    "y = {1:'kitkat', 2:'bournville'}\n",
    "z = ['Hi', 'Hello', 'Hola', 'Hell']\n",
    "\n",
    "# 'in' true if a value is present in the sequence of dictionary or list or tuple or string or set\n",
    "print('Hello in', z, '=', 'Hello' in z)\n",
    "print('he in',x,'=','he' in x)\n",
    "print('He in',x,'=','He' in x)\n",
    "# 'not in' true if a value is not present in the sequence\n",
    "print('Hell not in', y, '=', 'Hell' not in y)"
   ]
  },
  {
   "cell_type": "code",
   "execution_count": null,
   "metadata": {},
   "outputs": [],
   "source": []
  }
 ],
 "metadata": {
  "kernelspec": {
   "display_name": "Python 3",
   "language": "python",
   "name": "python3"
  },
  "language_info": {
   "codemirror_mode": {
    "name": "ipython",
    "version": 3
   },
   "file_extension": ".py",
   "mimetype": "text/x-python",
   "name": "python",
   "nbconvert_exporter": "python",
   "pygments_lexer": "ipython3",
   "version": "3.7.7"
  }
 },
 "nbformat": 4,
 "nbformat_minor": 4
}
