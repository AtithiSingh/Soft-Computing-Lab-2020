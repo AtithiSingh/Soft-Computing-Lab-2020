{
 "cells": [
  {
   "cell_type": "markdown",
   "metadata": {},
   "source": [
    "## Aim: Write a program to implement various data structures in python and their operations."
   ]
  },
  {
   "cell_type": "markdown",
   "metadata": {},
   "source": [
    "### List"
   ]
  },
  {
   "cell_type": "code",
   "execution_count": 1,
   "metadata": {},
   "outputs": [
    {
     "name": "stdout",
     "output_type": "stream",
     "text": [
      "['abc', 'def', 10, False, 4.5]\n"
     ]
    }
   ],
   "source": [
    "# created by using square brackets and elements separated by comma\n",
    "ls=['abc','def',10,False, 4.5]\n",
    "print(ls)"
   ]
  },
  {
   "cell_type": "code",
   "execution_count": 2,
   "metadata": {},
   "outputs": [
    {
     "name": "stdout",
     "output_type": "stream",
     "text": [
      "def\n",
      "[10, False, 4.5]\n",
      "4.5\n"
     ]
    }
   ],
   "source": [
    "# indexing\n",
    "print(ls[1]) \n",
    "# to retrieve a range of elements\n",
    "print(ls[2:5])\n",
    "# accessing elements from the end\n",
    "print(ls[-1])"
   ]
  },
  {
   "cell_type": "code",
   "execution_count": 3,
   "metadata": {},
   "outputs": [
    {
     "data": {
      "text/plain": [
       "5"
      ]
     },
     "execution_count": 3,
     "metadata": {},
     "output_type": "execute_result"
    }
   ],
   "source": [
    "# length of list\n",
    "len(ls)"
   ]
  },
  {
   "cell_type": "code",
   "execution_count": 4,
   "metadata": {},
   "outputs": [
    {
     "name": "stdout",
     "output_type": "stream",
     "text": [
      "['abc', 18, 'def', 'hello', 10, False, 4.5, 'hey']\n"
     ]
    }
   ],
   "source": [
    "# add elements in end\n",
    "ls.append('hey')\n",
    "# insert element at a particular index\n",
    "ls.insert(1,18)\n",
    "ls.insert(3,'hello')\n",
    "print(ls)"
   ]
  },
  {
   "cell_type": "code",
   "execution_count": 5,
   "metadata": {},
   "outputs": [
    {
     "name": "stdout",
     "output_type": "stream",
     "text": [
      "['abc', 18, 'def', 10, False, 4.5]\n"
     ]
    }
   ],
   "source": [
    "# remove element from the end\n",
    "ls.pop()\n",
    "# remove specified element\n",
    "ls.remove('hello')\n",
    "print(ls)"
   ]
  },
  {
   "cell_type": "code",
   "execution_count": 6,
   "metadata": {},
   "outputs": [
    {
     "name": "stdout",
     "output_type": "stream",
     "text": [
      "abc\n",
      "18\n",
      "def\n",
      "10\n",
      "False\n",
      "4.5\n"
     ]
    }
   ],
   "source": [
    "# loop in list\n",
    "for element in ls:\n",
    "    print(element)"
   ]
  },
  {
   "cell_type": "code",
   "execution_count": 7,
   "metadata": {},
   "outputs": [
    {
     "name": "stdout",
     "output_type": "stream",
     "text": [
      "[]\n"
     ]
    }
   ],
   "source": [
    "# empty the list\n",
    "ls.clear()\n",
    "print(ls)"
   ]
  },
  {
   "cell_type": "markdown",
   "metadata": {},
   "source": [
    "### Dictionary"
   ]
  },
  {
   "cell_type": "code",
   "execution_count": 8,
   "metadata": {},
   "outputs": [
    {
     "name": "stdout",
     "output_type": "stream",
     "text": [
      "{1: 'abc', 2: 'def', 3: 'ghi', 4: 'jkl'}\n"
     ]
    }
   ],
   "source": [
    "# created using curly brackets and consists of key-value pair\n",
    "dict = {1: \"abc\", 2: \"def\", 3: \"ghi\", 4: \"jkl\"} \n",
    "print(dict)"
   ]
  },
  {
   "cell_type": "code",
   "execution_count": 9,
   "metadata": {},
   "outputs": [
    {
     "name": "stdout",
     "output_type": "stream",
     "text": [
      "ghi\n"
     ]
    }
   ],
   "source": [
    "# accessing elements\n",
    "print(dict[3])"
   ]
  },
  {
   "cell_type": "code",
   "execution_count": 10,
   "metadata": {},
   "outputs": [
    {
     "data": {
      "text/plain": [
       "4"
      ]
     },
     "execution_count": 10,
     "metadata": {},
     "output_type": "execute_result"
    }
   ],
   "source": [
    "# length of dictionary\n",
    "len(dict)"
   ]
  },
  {
   "cell_type": "code",
   "execution_count": 11,
   "metadata": {},
   "outputs": [
    {
     "name": "stdout",
     "output_type": "stream",
     "text": [
      "{1: 'abc', 2: 'def', 3: 'ghi', 4: 'mno', 5: 'pqr'}\n"
     ]
    }
   ],
   "source": [
    "# changing values\n",
    "dict[4]='mno'\n",
    "# adding elements in the end\n",
    "dict[5]='pqr'\n",
    "print(dict)"
   ]
  },
  {
   "cell_type": "code",
   "execution_count": 12,
   "metadata": {},
   "outputs": [
    {
     "name": "stdout",
     "output_type": "stream",
     "text": [
      "1\n",
      "2\n",
      "3\n",
      "4\n",
      "5\n"
     ]
    }
   ],
   "source": [
    "# loop in dictionary to get the keys\n",
    "for i in dict:\n",
    "    print(i)"
   ]
  },
  {
   "cell_type": "code",
   "execution_count": 13,
   "metadata": {},
   "outputs": [
    {
     "name": "stdout",
     "output_type": "stream",
     "text": [
      "abc\n",
      "def\n",
      "ghi\n",
      "mno\n",
      "pqr\n"
     ]
    }
   ],
   "source": [
    "# loop in dictionary to get the values \n",
    "for i in dict:\n",
    "    print(dict[i])"
   ]
  },
  {
   "cell_type": "code",
   "execution_count": 14,
   "metadata": {},
   "outputs": [
    {
     "name": "stdout",
     "output_type": "stream",
     "text": [
      "1 abc\n",
      "2 def\n",
      "3 ghi\n",
      "4 mno\n",
      "5 pqr\n"
     ]
    }
   ],
   "source": [
    "# to get both keys and values \n",
    "for i,j in dict.items():\n",
    "    print(i,j)"
   ]
  },
  {
   "cell_type": "code",
   "execution_count": 15,
   "metadata": {},
   "outputs": [
    {
     "name": "stdout",
     "output_type": "stream",
     "text": [
      "{1: 'abc', 2: 'def', 3: 'ghi', 5: 'pqr'}\n"
     ]
    }
   ],
   "source": [
    "# removing elements\n",
    "dict.pop(4)\n",
    "print(dict)"
   ]
  },
  {
   "cell_type": "code",
   "execution_count": 16,
   "metadata": {},
   "outputs": [
    {
     "name": "stdout",
     "output_type": "stream",
     "text": [
      "{}\n"
     ]
    }
   ],
   "source": [
    "# emptyig the dictionary\n",
    "dict.clear()\n",
    "print(dict)"
   ]
  },
  {
   "cell_type": "markdown",
   "metadata": {},
   "source": [
    "### Tuple"
   ]
  },
  {
   "cell_type": "code",
   "execution_count": 17,
   "metadata": {},
   "outputs": [
    {
     "name": "stdout",
     "output_type": "stream",
     "text": [
      "(1, 'hey', True, 'abc', 17.8)\n"
     ]
    }
   ],
   "source": [
    "# created by using paranthesis and separated by comma \n",
    "tu=(1,'hey', True, \"abc\", 17.8)\n",
    "print(tu)"
   ]
  },
  {
   "cell_type": "code",
   "execution_count": 18,
   "metadata": {},
   "outputs": [
    {
     "name": "stdout",
     "output_type": "stream",
     "text": [
      "abc\n",
      "('hey', True, 'abc')\n"
     ]
    }
   ],
   "source": [
    "# access elements\n",
    "print(tu[3])\n",
    "print(tu[1:4])"
   ]
  },
  {
   "cell_type": "code",
   "execution_count": 19,
   "metadata": {},
   "outputs": [
    {
     "name": "stdout",
     "output_type": "stream",
     "text": [
      "(1, 'abc', 2, 'def', 3, 'ghi')\n"
     ]
    }
   ],
   "source": [
    "# they are immutable so once created, no elements can be added\n",
    "# new tuple is to be created and concatenate to add more items\n",
    "tu1=(1,\"abc\",2)\n",
    "tu2=(\"def\", 3,\"ghi\")\n",
    "print(tu1+tu2)"
   ]
  },
  {
   "cell_type": "code",
   "execution_count": 20,
   "metadata": {},
   "outputs": [
    {
     "data": {
      "text/plain": [
       "5"
      ]
     },
     "execution_count": 20,
     "metadata": {},
     "output_type": "execute_result"
    }
   ],
   "source": [
    "# length of tuple\n",
    "len(tu)"
   ]
  },
  {
   "cell_type": "code",
   "execution_count": 21,
   "metadata": {},
   "outputs": [],
   "source": [
    "# items cannot be deleted but whole tuple can be deleted\n",
    "del(tu)"
   ]
  },
  {
   "cell_type": "markdown",
   "metadata": {},
   "source": [
    "### Set"
   ]
  },
  {
   "cell_type": "code",
   "execution_count": 22,
   "metadata": {},
   "outputs": [
    {
     "name": "stdout",
     "output_type": "stream",
     "text": [
      "{'hey', 'hola', 'hello'}\n"
     ]
    }
   ],
   "source": [
    "# created using curly brackets but unlike dictionary doesn't have key-value pair\n",
    "# and sets are unordered\n",
    "set1={\"hey\",\"hello\",\"hola\"}\n",
    "print(set1)"
   ]
  },
  {
   "cell_type": "code",
   "execution_count": 23,
   "metadata": {},
   "outputs": [
    {
     "name": "stdout",
     "output_type": "stream",
     "text": [
      "hey\n",
      "hola\n",
      "hello\n"
     ]
    }
   ],
   "source": [
    "# items can be accessed only by using loop\n",
    "for item in set1:\n",
    "    print(item)"
   ]
  },
  {
   "cell_type": "code",
   "execution_count": 24,
   "metadata": {},
   "outputs": [
    {
     "data": {
      "text/plain": [
       "3"
      ]
     },
     "execution_count": 24,
     "metadata": {},
     "output_type": "execute_result"
    }
   ],
   "source": [
    "# length of set\n",
    "len(set1)"
   ]
  },
  {
   "cell_type": "code",
   "execution_count": 25,
   "metadata": {},
   "outputs": [
    {
     "name": "stdout",
     "output_type": "stream",
     "text": [
      "{'a', 'b', 'c', 'how are you', 'hello', 'hey', 'hola'}\n"
     ]
    }
   ],
   "source": [
    "# items can only be added and cannot be changed once written\n",
    "set1.add(\"how are you\")\n",
    "# add multiple values at once\n",
    "set1.update([\"a\",\"b\",\"c\"])\n",
    "print(set1)"
   ]
  },
  {
   "cell_type": "code",
   "execution_count": 26,
   "metadata": {},
   "outputs": [
    {
     "name": "stdout",
     "output_type": "stream",
     "text": [
      "{'b', 'c', 'hello', 'hey', 'hola'}\n"
     ]
    }
   ],
   "source": [
    "# remove a particular element\n",
    "set1.remove(\"how are you\")\n",
    "# remove any random element\n",
    "set1.pop()\n",
    "print(set1)"
   ]
  },
  {
   "cell_type": "code",
   "execution_count": 27,
   "metadata": {},
   "outputs": [
    {
     "name": "stdout",
     "output_type": "stream",
     "text": [
      "set()\n"
     ]
    }
   ],
   "source": [
    "# emptying the set\n",
    "set1.clear()\n",
    "print(set1)"
   ]
  }
 ],
 "metadata": {
  "kernelspec": {
   "display_name": "Python 3",
   "language": "python",
   "name": "python3"
  },
  "language_info": {
   "codemirror_mode": {
    "name": "ipython",
    "version": 3
   },
   "file_extension": ".py",
   "mimetype": "text/x-python",
   "name": "python",
   "nbconvert_exporter": "python",
   "pygments_lexer": "ipython3",
   "version": "3.7.7"
  }
 },
 "nbformat": 4,
 "nbformat_minor": 4
}
