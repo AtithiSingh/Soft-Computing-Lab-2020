{
 "cells": [
  {
   "cell_type": "markdown",
   "metadata": {},
   "source": [
    "# Aim: Demonstrate the use of Numpy for matrix operations"
   ]
  },
  {
   "cell_type": "code",
   "execution_count": 1,
   "metadata": {},
   "outputs": [],
   "source": [
    "import numpy as np"
   ]
  },
  {
   "cell_type": "markdown",
   "metadata": {},
   "source": [
    "### Creating matrix / 2-D arrays"
   ]
  },
  {
   "cell_type": "code",
   "execution_count": 2,
   "metadata": {},
   "outputs": [
    {
     "data": {
      "text/plain": [
       "array([[0., 0.],\n",
       "       [0., 0.],\n",
       "       [0., 0.]])"
      ]
     },
     "execution_count": 2,
     "metadata": {},
     "output_type": "execute_result"
    }
   ],
   "source": [
    "np.zeros((3,2))"
   ]
  },
  {
   "cell_type": "code",
   "execution_count": 3,
   "metadata": {},
   "outputs": [
    {
     "data": {
      "text/plain": [
       "array([[1., 1.],\n",
       "       [1., 1.]])"
      ]
     },
     "execution_count": 3,
     "metadata": {},
     "output_type": "execute_result"
    }
   ],
   "source": [
    "np.ones((2,2))"
   ]
  },
  {
   "cell_type": "code",
   "execution_count": 4,
   "metadata": {},
   "outputs": [
    {
     "name": "stdout",
     "output_type": "stream",
     "text": [
      "[[18 26  7]\n",
      " [ 1  2  3]]\n"
     ]
    }
   ],
   "source": [
    "m1=np.array([[18,26,7],[1,2,3]])\n",
    "print(m1)"
   ]
  },
  {
   "cell_type": "code",
   "execution_count": 5,
   "metadata": {},
   "outputs": [
    {
     "name": "stdout",
     "output_type": "stream",
     "text": [
      "[[ 2  3  4]\n",
      " [10 20 30]]\n"
     ]
    }
   ],
   "source": [
    "m2=np.array([[2,3,4],[10,20,30]])\n",
    "print(m2)"
   ]
  },
  {
   "cell_type": "markdown",
   "metadata": {},
   "source": [
    "### Matirx Operations"
   ]
  },
  {
   "cell_type": "code",
   "execution_count": 6,
   "metadata": {},
   "outputs": [
    {
     "name": "stdout",
     "output_type": "stream",
     "text": [
      "3\n",
      "[[18 26]]\n"
     ]
    }
   ],
   "source": [
    "# Accessing elements\n",
    "print(m1[1][2])\n",
    "# Range of elements\n",
    "print(m1[0:1:,0:2])"
   ]
  },
  {
   "cell_type": "code",
   "execution_count": 7,
   "metadata": {},
   "outputs": [
    {
     "name": "stdout",
     "output_type": "stream",
     "text": [
      "[[20 29 11]\n",
      " [11 22 33]]\n"
     ]
    }
   ],
   "source": [
    "# Addition is done using add() function\n",
    "print(np.add(m1,m2))"
   ]
  },
  {
   "cell_type": "code",
   "execution_count": 8,
   "metadata": {},
   "outputs": [
    {
     "name": "stdout",
     "output_type": "stream",
     "text": [
      "[[ 16  23   3]\n",
      " [ -9 -18 -27]]\n"
     ]
    }
   ],
   "source": [
    "# Subtraction is done using subtract() function\n",
    "print(np.subtract(m1,m2))"
   ]
  },
  {
   "cell_type": "code",
   "execution_count": 9,
   "metadata": {},
   "outputs": [
    {
     "name": "stdout",
     "output_type": "stream",
     "text": [
      "[[36 78 28]\n",
      " [10 40 90]]\n"
     ]
    }
   ],
   "source": [
    "# Element to Element multiplication is done suing multiply() function\n",
    "print(np.multiply(m1,m2))"
   ]
  },
  {
   "cell_type": "code",
   "execution_count": 10,
   "metadata": {},
   "outputs": [
    {
     "name": "stdout",
     "output_type": "stream",
     "text": [
      "[[1 2]\n",
      " [3 4]\n",
      " [5 6]]\n",
      "[[131 182]\n",
      " [ 22  28]]\n"
     ]
    }
   ],
   "source": [
    "# Product is done using dot() function\n",
    "# for product, no. of columns in first matrix should be same as no. of rows in second matrix\n",
    "m3=np.array([[1,2],[3,4],[5,6]])\n",
    "print(m3)\n",
    "print(np.dot(m1,m3))"
   ]
  },
  {
   "cell_type": "code",
   "execution_count": 11,
   "metadata": {},
   "outputs": [
    {
     "name": "stdout",
     "output_type": "stream",
     "text": [
      "[[9.         8.66666667 1.75      ]\n",
      " [0.1        0.1        0.1       ]]\n"
     ]
    }
   ],
   "source": [
    "# Division is done using divide() function \n",
    "print(np.divide(m1,m2))"
   ]
  },
  {
   "cell_type": "code",
   "execution_count": 12,
   "metadata": {},
   "outputs": [
    {
     "name": "stdout",
     "output_type": "stream",
     "text": [
      "[[ 4  9]\n",
      " [16 25]]\n",
      "[[2. 3.]\n",
      " [4. 5.]]\n"
     ]
    }
   ],
   "source": [
    "# square root is found using sqrt() function\n",
    "x=np.array([[4,9],[16,25]])\n",
    "print(x)\n",
    "print(np.sqrt(x))"
   ]
  },
  {
   "cell_type": "code",
   "execution_count": 13,
   "metadata": {},
   "outputs": [
    {
     "name": "stdout",
     "output_type": "stream",
     "text": [
      "[[18  1]\n",
      " [26  2]\n",
      " [ 7  3]]\n"
     ]
    }
   ],
   "source": [
    "# Transpose of the matrix\n",
    "print(m1.T)"
   ]
  },
  {
   "cell_type": "code",
   "execution_count": 14,
   "metadata": {},
   "outputs": [
    {
     "name": "stdout",
     "output_type": "stream",
     "text": [
      "57\n"
     ]
    }
   ],
   "source": [
    "# sum of all elements is done using sum() function\n",
    "print(np.sum(m1))"
   ]
  },
  {
   "cell_type": "code",
   "execution_count": 15,
   "metadata": {},
   "outputs": [
    {
     "name": "stdout",
     "output_type": "stream",
     "text": [
      "1\n",
      "0\n",
      "2\n"
     ]
    }
   ],
   "source": [
    "# ndim is used to check the dimensions\n",
    "a1=np.array([2,3])\n",
    "a2=np.array(18)\n",
    "print(a1.ndim)\n",
    "print(a2.ndim)\n",
    "print(m1.ndim)"
   ]
  },
  {
   "cell_type": "code",
   "execution_count": 16,
   "metadata": {},
   "outputs": [
    {
     "name": "stdout",
     "output_type": "stream",
     "text": [
      "[18  4 18 12 20  1  4 19 24 14  7  0 10 21 15 13 16  2  5  5  0  9 22  5\n",
      " 23]\n",
      "[[18  4 18 12 20]\n",
      " [ 1  4 19 24 14]\n",
      " [ 7  0 10 21 15]\n",
      " [13 16  2  5  5]\n",
      " [ 0  9 22  5 23]]\n"
     ]
    }
   ],
   "source": [
    "# creating a matrix from any random integers\n",
    "i=np.random.randint(0,25,25)\n",
    "print(i)\n",
    "# reshape is used to convert array into matrix\n",
    "j=i.reshape(5,5)\n",
    "print(j)"
   ]
  },
  {
   "cell_type": "code",
   "execution_count": null,
   "metadata": {},
   "outputs": [],
   "source": []
  }
 ],
 "metadata": {
  "kernelspec": {
   "display_name": "Python 3",
   "language": "python",
   "name": "python3"
  },
  "language_info": {
   "codemirror_mode": {
    "name": "ipython",
    "version": 3
   },
   "file_extension": ".py",
   "mimetype": "text/x-python",
   "name": "python",
   "nbconvert_exporter": "python",
   "pygments_lexer": "ipython3",
   "version": "3.7.7"
  }
 },
 "nbformat": 4,
 "nbformat_minor": 4
}
