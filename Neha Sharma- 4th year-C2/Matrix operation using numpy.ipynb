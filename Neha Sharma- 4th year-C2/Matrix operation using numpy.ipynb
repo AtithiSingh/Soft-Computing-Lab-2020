{
 "cells": [
  {
   "cell_type": "code",
   "execution_count": 2,
   "metadata": {},
   "outputs": [
    {
     "name": "stdout",
     "output_type": "stream",
     "text": [
      "Addition of two matrices: \n",
      "[[ 5 10]\n",
      " [ 9 15]]\n",
      "Subtraction of two matrices : \n",
      "[[-3 -6]\n",
      " [-3 -5]]\n",
      "Matrix Division : \n",
      "[[0.25 0.25]\n",
      " [0.5  0.5 ]]\n",
      "Multiplication of two matrices: \n",
      "[[ 4 16]\n",
      " [18 50]]\n",
      "The product of two matrices : \n",
      "[[16 28]\n",
      " [42 74]]\n",
      "square root is : \n",
      "[[1.         1.41421356]\n",
      " [1.73205081 2.23606798]]\n",
      "The summation of elements : \n",
      "28\n",
      "The column wise summation  : \n",
      "[10 18]\n",
      "The row wise summation: \n",
      "[12 16]\n",
      "Matrix transposition : \n",
      "[[1 3]\n",
      " [2 5]]\n"
     ]
    }
   ],
   "source": [
    "import numpy\n",
    "\n",
    "mat1 = numpy.array([[1, 2], [3, 5]])\n",
    "mat2 = numpy.array([[4, 8], [6, 10]])\n",
    "\n",
    "print (\"Addition of two matrices: \") \n",
    "print (numpy.add(mat1,mat2))       #  add()is used to add matrices\n",
    "\n",
    "print (\"Subtraction of two matrices : \") \n",
    "print (numpy.subtract(mat1,mat2))  # subtract()is used to subtract matrices\n",
    "\n",
    "print (\"Matrix Division : \")\n",
    "print (numpy.divide(mat1,mat2))    # divide()is used to divide matrices\n",
    "\n",
    "print (\"Multiplication of two matrices: \")\n",
    "print (numpy.multiply(mat1,mat2))   #  multiply()is used to multiply matrices\n",
    "\n",
    "print (\"The product of two matrices : \")\n",
    "print (numpy.dot(mat1,mat2))\n",
    "\n",
    "print (\"square root is : \")\n",
    "print (numpy.sqrt(mat1))            # Square root\n",
    "\n",
    "print (\"The summation of elements : \")  \n",
    "print (numpy.sum(mat2))             #Addition of all the elements\n",
    "\n",
    "print (\"The column wise summation  : \")\n",
    "print (numpy.sum(mat2,axis=0))\n",
    "\n",
    "print (\"The row wise summation: \")\n",
    "print (numpy.sum(mat2,axis=1))\n",
    "\n",
    "print (\"Matrix transposition : \")\n",
    "print (mat1.T)                      # using \"T\" to transpose the matrix"
   ]
  }
 ],
 "metadata": {
  "kernelspec": {
   "display_name": "Python 3",
   "language": "python",
   "name": "python3"
  },
  "language_info": {
   "codemirror_mode": {
    "name": "ipython",
    "version": 3
   },
   "file_extension": ".py",
   "mimetype": "text/x-python",
   "name": "python",
   "nbconvert_exporter": "python",
   "pygments_lexer": "ipython3",
   "version": "3.6.8"
  }
 },
 "nbformat": 4,
 "nbformat_minor": 2
}
