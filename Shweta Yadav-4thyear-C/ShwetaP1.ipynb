{
  "nbformat": 4,
  "nbformat_minor": 0,
  "metadata": {
    "colab": {
      "name": "ShwetaP1.ipynb",
      "provenance": [],
      "collapsed_sections": [],
      "authorship_tag": "ABX9TyN3Gvut8hzkrbSF662yBvP/",
      "include_colab_link": true
    },
    "kernelspec": {
      "name": "python3",
      "display_name": "Python 3"
    }
  },
  "cells": [
    {
      "cell_type": "markdown",
      "metadata": {
        "id": "view-in-github",
        "colab_type": "text"
      },
      "source": [
        "<a href=\"https://colab.research.google.com/github/shwetay58/Soft-Computing-Lab-2020/blob/master/Shweta%20Yadav-4thyear-C/ShwetaP1.ipynb\" target=\"_parent\"><img src=\"https://colab.research.google.com/assets/colab-badge.svg\" alt=\"Open In Colab\"/></a>"
      ]
    },
    {
      "cell_type": "markdown",
      "metadata": {
        "id": "-tpYaPXvKChn"
      },
      "source": [
        "AIM: A program to implement all operators in python"
      ]
    },
    {
      "cell_type": "markdown",
      "metadata": {
        "id": "BZFtZIrHKSj1"
      },
      "source": [
        "1. Arithematic Operators"
      ]
    },
    {
      "cell_type": "code",
      "metadata": {
        "id": "vCry-FvtKU2M",
        "outputId": "ab9e1b64-4f3a-455a-ea42-21f71da923a0",
        "colab": {
          "base_uri": "https://localhost:8080/",
          "height": 136
        }
      },
      "source": [
        "#Addition\n",
        "x = 10\n",
        "y = 5\n",
        "print('x + y =',x+y)\n",
        "\n",
        "# Substraction\n",
        "print('x - y =',x-y)\n",
        "\n",
        "# Multiplication\n",
        "print('x * y =',x*y)\n",
        "\n",
        "# Division\n",
        "print('x / y =',x/y)\n",
        "\n",
        "# Floor division\n",
        "print('x // y =',x//y)\n",
        "\n",
        "# Exponent\n",
        "print('x ** y =',x**y)\n",
        "\n",
        "# Modulus\n",
        "print('x % y =',x%y)"
      ],
      "execution_count": 5,
      "outputs": [
        {
          "output_type": "stream",
          "text": [
            "x + y = 15\n",
            "x - y = 5\n",
            "x * y = 50\n",
            "x / y = 2.0\n",
            "x // y = 2\n",
            "x ** y = 100000\n",
            "x % y = 0\n"
          ],
          "name": "stdout"
        }
      ]
    },
    {
      "cell_type": "markdown",
      "metadata": {
        "id": "5o7tETv5Kig3"
      },
      "source": [
        "2. Comparison Operators"
      ]
    },
    {
      "cell_type": "code",
      "metadata": {
        "id": "c8jSO0T2KkOV",
        "outputId": "70a80bac-4b37-42b5-a79c-e9986602f8bf",
        "colab": {
          "base_uri": "https://localhost:8080/",
          "height": 119
        }
      },
      "source": [
        "x = 2\n",
        "y = 3\n",
        "\n",
        "# Greater than\n",
        "print('x > y is',x>y)\n",
        "\n",
        "# Less than\n",
        "print('x < y is',x<y)\n",
        "\n",
        "# Equal to\n",
        "print('x == y is',x==y)\n",
        "\n",
        "# Not equal to\n",
        "print('x != y is',x!=y)\n",
        "\n",
        "# Greater than or equal to\n",
        "print('x >= y is',x>=y)\n",
        "\n",
        "# Smaller than or equal to\n",
        "print('x <= y is',x<=y)"
      ],
      "execution_count": 6,
      "outputs": [
        {
          "output_type": "stream",
          "text": [
            "x > y is False\n",
            "x < y is True\n",
            "x == y is False\n",
            "x != y is True\n",
            "x >= y is False\n",
            "x <= y is True\n"
          ],
          "name": "stdout"
        }
      ]
    },
    {
      "cell_type": "markdown",
      "metadata": {
        "id": "rlo5zs00KsLK"
      },
      "source": [
        "3. Logical Operators"
      ]
    },
    {
      "cell_type": "code",
      "metadata": {
        "id": "6JONGHcBKu0d",
        "outputId": "06b9ba0a-ff0d-47a4-98b7-85c634af2d25",
        "colab": {
          "base_uri": "https://localhost:8080/",
          "height": 68
        }
      },
      "source": [
        "x = True #considered as 1\n",
        "y = False #considered as 0\n",
        "\n",
        "print('x or y is',x or y)\n",
        "\n",
        "print('x and y is',x and y)\n",
        "\n",
        "print('not x is',not x)"
      ],
      "execution_count": 7,
      "outputs": [
        {
          "output_type": "stream",
          "text": [
            "x or y is True\n",
            "x and y is False\n",
            "not x is False\n"
          ],
          "name": "stdout"
        }
      ]
    },
    {
      "cell_type": "markdown",
      "metadata": {
        "id": "aiWG_25tK0XA"
      },
      "source": [
        "4. Bitwise Operators"
      ]
    },
    {
      "cell_type": "code",
      "metadata": {
        "id": "suKMKSFmK3fr",
        "outputId": "4886ddd3-46b0-4759-90b3-c676ca45c964",
        "colab": {
          "base_uri": "https://localhost:8080/",
          "height": 119
        }
      },
      "source": [
        "x = 2\n",
        "y = 8\n",
        "\n",
        "# Bitwise AND\n",
        "print(x & y)\n",
        "\n",
        "# Bitwise OR\n",
        "print(x | y)\n",
        "\n",
        "# Bitwise NOT\n",
        "print(~x)\n",
        "\n",
        "# Bitwise XOR\n",
        "print(x ^ y)\n",
        "\n",
        "# Bitwise RIGHT SHIFT\n",
        "print(x >> 2)\n",
        "\n",
        "# Bitwise LEFT SHIFT\n",
        "print(x << 2)"
      ],
      "execution_count": 9,
      "outputs": [
        {
          "output_type": "stream",
          "text": [
            "0\n",
            "10\n",
            "-3\n",
            "10\n",
            "0\n",
            "8\n"
          ],
          "name": "stdout"
        }
      ]
    },
    {
      "cell_type": "markdown",
      "metadata": {
        "id": "NV00N-KXLI9A"
      },
      "source": [
        "5. Assignment Operators"
      ]
    },
    {
      "cell_type": "code",
      "metadata": {
        "id": "fYreGffhLLg2",
        "outputId": "63f9f40f-e8e8-4e0e-93b5-48397de52a2b",
        "colab": {
          "base_uri": "https://localhost:8080/",
          "height": 136
        }
      },
      "source": [
        "a = 11\n",
        "b = 3\n",
        "c = 30\n",
        "\n",
        "c = a + b\n",
        "print (\"Value of c after c = a + b is \", c)\n",
        "\n",
        "c += a\n",
        "print (\"Value of c after c += a is \", c )\n",
        "\n",
        "c *= a\n",
        "print (\"Value of c after c *= a is \", c)\n",
        "\n",
        "c /= a \n",
        "print (\"Value of c after c /= a  is \", c) \n",
        "\n",
        "c  = 2\n",
        "c %= a\n",
        "print (\"Value of c after c %= a is \", c)\n",
        "\n",
        "c **= a\n",
        "print (\"Value of c after c **= a is \", c)\n",
        "\n",
        "c //= a\n",
        "print (\"Value of c after c //= a is \", c)"
      ],
      "execution_count": 11,
      "outputs": [
        {
          "output_type": "stream",
          "text": [
            "Value of c after c = a + b is  14\n",
            "Value of c after c += a is  25\n",
            "Value of c after c *= a is  275\n",
            "Value of c after c /= a  is  25.0\n",
            "Value of c after c %= a is  2\n",
            "Value of c after c **= a is  2048\n",
            "Value of c after c //= a is  186\n"
          ],
          "name": "stdout"
        }
      ]
    }
  ]
}