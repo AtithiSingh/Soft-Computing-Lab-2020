{
  "nbformat": 4,
  "nbformat_minor": 0,
  "metadata": {
    "colab": {
      "name": "ShwetaP2",
      "provenance": [],
      "collapsed_sections": [],
      "authorship_tag": "ABX9TyOcF2v+hRCC0+OgbvKAimiG",
      "include_colab_link": true
    },
    "kernelspec": {
      "name": "python3",
      "display_name": "Python 3"
    }
  },
  "cells": [
    {
      "cell_type": "markdown",
      "metadata": {
        "id": "view-in-github",
        "colab_type": "text"
      },
      "source": [
        "<a href=\"https://colab.research.google.com/github/shwetay58/Soft-Computing-Lab-2020/blob/master/Shweta%20Yadav-4thyear-C/ShwetaP2.ipynb\" target=\"_parent\"><img src=\"https://colab.research.google.com/assets/colab-badge.svg\" alt=\"Open In Colab\"/></a>"
      ]
    },
    {
      "cell_type": "markdown",
      "metadata": {
        "id": "J2h8SWQhe1yF"
      },
      "source": [
        "AIM:To demonstrate the use of numpy for matrix operations."
      ]
    },
    {
      "cell_type": "code",
      "metadata": {
        "id": "xJB9t-rMfPUt"
      },
      "source": [
        "import numpy as np"
      ],
      "execution_count": null,
      "outputs": []
    },
    {
      "cell_type": "markdown",
      "metadata": {
        "id": "TWpG42PMf5Lw"
      },
      "source": [
        "1.Creating an array"
      ]
    },
    {
      "cell_type": "code",
      "metadata": {
        "id": "mmRGdl2yf8Hc",
        "outputId": "3619d110-5370-4ea9-b1a7-495b165fd09d",
        "colab": {
          "base_uri": "https://localhost:8080/",
          "height": 51
        }
      },
      "source": [
        "li=[1,2,3,4,5]\n",
        "print(\"list1 is of tpye:\",type(li))\n",
        "arr=np.array(li) \n",
        "print(\"arr is of type:\",type(arr))"
      ],
      "execution_count": null,
      "outputs": [
        {
          "output_type": "stream",
          "text": [
            "list1 is of tpye: <class 'list'>\n",
            "arr is of type: <class 'numpy.ndarray'>\n"
          ],
          "name": "stdout"
        }
      ]
    },
    {
      "cell_type": "code",
      "metadata": {
        "id": "L8Q5oYXtgLmq",
        "outputId": "570187d3-34d7-4cda-c621-46f815b608c1",
        "colab": {
          "base_uri": "https://localhost:8080/",
          "height": 34
        }
      },
      "source": [
        "np.arange(0,10)"
      ],
      "execution_count": null,
      "outputs": [
        {
          "output_type": "execute_result",
          "data": {
            "text/plain": [
              "array([0, 1, 2, 3, 4, 5, 6, 7, 8, 9])"
            ]
          },
          "metadata": {
            "tags": []
          },
          "execution_count": 4
        }
      ]
    },
    {
      "cell_type": "code",
      "metadata": {
        "id": "_jhptPg_giFQ",
        "outputId": "2138c0f8-4ac7-4154-b934-e20281a4cfd8",
        "colab": {
          "base_uri": "https://localhost:8080/",
          "height": 34
        }
      },
      "source": [
        "np.zeros(5)"
      ],
      "execution_count": null,
      "outputs": [
        {
          "output_type": "execute_result",
          "data": {
            "text/plain": [
              "array([0., 0., 0., 0., 0.])"
            ]
          },
          "metadata": {
            "tags": []
          },
          "execution_count": 5
        }
      ]
    },
    {
      "cell_type": "code",
      "metadata": {
        "id": "IKP2iLAZglds",
        "outputId": "7ab8fca1-fc95-4a98-a75a-9db06dfe5d54",
        "colab": {
          "base_uri": "https://localhost:8080/",
          "height": 34
        }
      },
      "source": [
        "np.ones(6)"
      ],
      "execution_count": null,
      "outputs": [
        {
          "output_type": "execute_result",
          "data": {
            "text/plain": [
              "array([1., 1., 1., 1., 1., 1.])"
            ]
          },
          "metadata": {
            "tags": []
          },
          "execution_count": 6
        }
      ]
    },
    {
      "cell_type": "code",
      "metadata": {
        "id": "fgnW5qasgroh",
        "outputId": "dc1b5e70-1d44-4d38-e2c8-ea13a16fba1e",
        "colab": {
          "base_uri": "https://localhost:8080/",
          "height": 34
        }
      },
      "source": [
        "np.arange(0,10,4)"
      ],
      "execution_count": null,
      "outputs": [
        {
          "output_type": "execute_result",
          "data": {
            "text/plain": [
              "array([0, 4, 8])"
            ]
          },
          "metadata": {
            "tags": []
          },
          "execution_count": 7
        }
      ]
    },
    {
      "cell_type": "code",
      "metadata": {
        "id": "y7QuW9zVgwPy",
        "outputId": "cabfd031-5757-4454-cda8-1605aaa1f2a5",
        "colab": {
          "base_uri": "https://localhost:8080/",
          "height": 51
        }
      },
      "source": [
        "arr1=np.array([1,2,-3,7,-5,8,4,0])\n",
        "print(arr1)\n",
        "type(arr1)"
      ],
      "execution_count": null,
      "outputs": [
        {
          "output_type": "stream",
          "text": [
            "[ 1  2 -3  7 -5  8  4  0]\n"
          ],
          "name": "stdout"
        },
        {
          "output_type": "execute_result",
          "data": {
            "text/plain": [
              "numpy.ndarray"
            ]
          },
          "metadata": {
            "tags": []
          },
          "execution_count": 8
        }
      ]
    },
    {
      "cell_type": "markdown",
      "metadata": {
        "id": "2bHhXeGNhSWC"
      },
      "source": [
        "2.Accessing array elements"
      ]
    },
    {
      "cell_type": "code",
      "metadata": {
        "id": "izVEAn57hWgr",
        "outputId": "42f35e12-531a-4720-e531-2e6ee79ec462",
        "colab": {
          "base_uri": "https://localhost:8080/",
          "height": 68
        }
      },
      "source": [
        "s = np.array([[[1, 2, 3], [4, 5, 6]], [[7, 8, 9], [10, 11, 12]]])\n",
        "print(s[1, 1, 2])\n",
        "print(s[-1,-1,-1])\n",
        "print(s[1,1,:]) "
      ],
      "execution_count": null,
      "outputs": [
        {
          "output_type": "stream",
          "text": [
            "12\n",
            "12\n",
            "[10 11 12]\n"
          ],
          "name": "stdout"
        }
      ]
    },
    {
      "cell_type": "markdown",
      "metadata": {
        "id": "WPToe1uIhqwT"
      },
      "source": [
        "3.Matrix creation"
      ]
    },
    {
      "cell_type": "code",
      "metadata": {
        "id": "wj5iEjonhsyI",
        "outputId": "8d4a3ac8-7441-4b1a-9e81-3b291e742386",
        "colab": {
          "base_uri": "https://localhost:8080/",
          "height": 85
        }
      },
      "source": [
        "np.zeros((4,4))"
      ],
      "execution_count": null,
      "outputs": [
        {
          "output_type": "execute_result",
          "data": {
            "text/plain": [
              "array([[0., 0., 0., 0.],\n",
              "       [0., 0., 0., 0.],\n",
              "       [0., 0., 0., 0.],\n",
              "       [0., 0., 0., 0.]])"
            ]
          },
          "metadata": {
            "tags": []
          },
          "execution_count": 10
        }
      ]
    },
    {
      "cell_type": "code",
      "metadata": {
        "id": "vvg-dQ1dhyu1",
        "outputId": "6de40fd7-734c-4034-bfb6-2cb0e12f39b2",
        "colab": {
          "base_uri": "https://localhost:8080/",
          "height": 85
        }
      },
      "source": [
        "np.ones((4,8))"
      ],
      "execution_count": null,
      "outputs": [
        {
          "output_type": "execute_result",
          "data": {
            "text/plain": [
              "array([[1., 1., 1., 1., 1., 1., 1., 1.],\n",
              "       [1., 1., 1., 1., 1., 1., 1., 1.],\n",
              "       [1., 1., 1., 1., 1., 1., 1., 1.],\n",
              "       [1., 1., 1., 1., 1., 1., 1., 1.]])"
            ]
          },
          "metadata": {
            "tags": []
          },
          "execution_count": 11
        }
      ]
    },
    {
      "cell_type": "code",
      "metadata": {
        "id": "Sx8bIef5h2qE",
        "outputId": "43f324c0-6f3d-4c6e-e685-4e4ef56460cc",
        "colab": {
          "base_uri": "https://localhost:8080/",
          "height": 102
        }
      },
      "source": [
        "np.ones((5,5))*3"
      ],
      "execution_count": null,
      "outputs": [
        {
          "output_type": "execute_result",
          "data": {
            "text/plain": [
              "array([[3., 3., 3., 3., 3.],\n",
              "       [3., 3., 3., 3., 3.],\n",
              "       [3., 3., 3., 3., 3.],\n",
              "       [3., 3., 3., 3., 3.],\n",
              "       [3., 3., 3., 3., 3.]])"
            ]
          },
          "metadata": {
            "tags": []
          },
          "execution_count": 12
        }
      ]
    },
    {
      "cell_type": "code",
      "metadata": {
        "id": "4O062cxTh9qH",
        "outputId": "7107cdf9-783b-48f0-e93b-f35f4a274244",
        "colab": {
          "base_uri": "https://localhost:8080/",
          "height": 85
        }
      },
      "source": [
        "#2-D arrays\n",
        "x = np.array([[1, 2], [7, 8]])\n",
        "y = np.array([[6, 7], [9, 10]])\n",
        "print(x)\n",
        "print(y)"
      ],
      "execution_count": null,
      "outputs": [
        {
          "output_type": "stream",
          "text": [
            "[[1 2]\n",
            " [7 8]]\n",
            "[[ 6  7]\n",
            " [ 9 10]]\n"
          ],
          "name": "stdout"
        }
      ]
    },
    {
      "cell_type": "markdown",
      "metadata": {
        "id": "E9ao2NjwjAce"
      },
      "source": [
        "4.Matrix operations"
      ]
    },
    {
      "cell_type": "code",
      "metadata": {
        "id": "z7dMNfNDjBXM",
        "outputId": "e4225835-ef65-435e-925a-69ef0f962901",
        "colab": {
          "base_uri": "https://localhost:8080/",
          "height": 68
        }
      },
      "source": [
        "print (\"Addition of two matrices: \")\n",
        "print (np.add(x,y))"
      ],
      "execution_count": null,
      "outputs": [
        {
          "output_type": "stream",
          "text": [
            "Addition of two matrices: \n",
            "[[ 7  9]\n",
            " [16 18]]\n"
          ],
          "name": "stdout"
        }
      ]
    },
    {
      "cell_type": "code",
      "metadata": {
        "id": "HQQFCu7wlYCv",
        "outputId": "2e686e32-7f25-45f1-94ee-05b7c272214b",
        "colab": {
          "base_uri": "https://localhost:8080/",
          "height": 68
        }
      },
      "source": [
        "print (\"Subtraction of two matrices : \")\n",
        "print (np.subtract(x,y))"
      ],
      "execution_count": null,
      "outputs": [
        {
          "output_type": "stream",
          "text": [
            "Subtraction of two matrices : \n",
            "[[-5 -5]\n",
            " [-2 -2]]\n"
          ],
          "name": "stdout"
        }
      ]
    },
    {
      "cell_type": "code",
      "metadata": {
        "id": "yk8PuoJ5ldlM",
        "outputId": "73a57da5-ba74-4ada-8748-5f4d063a4c27",
        "colab": {
          "base_uri": "https://localhost:8080/",
          "height": 68
        }
      },
      "source": [
        "print (\"Matrix Division : \")\n",
        "print (np.divide(x,y))"
      ],
      "execution_count": null,
      "outputs": [
        {
          "output_type": "stream",
          "text": [
            "Matrix Division : \n",
            "[[0.16666667 0.28571429]\n",
            " [0.77777778 0.8       ]]\n"
          ],
          "name": "stdout"
        }
      ]
    },
    {
      "cell_type": "code",
      "metadata": {
        "id": "PZa_xxoRlhSP",
        "outputId": "2654b2b0-1841-4ade-aba6-ef70b27eadcd",
        "colab": {
          "base_uri": "https://localhost:8080/",
          "height": 68
        }
      },
      "source": [
        "print (\"Element to Element Multiplication of two matrices: \")\n",
        "print (np.multiply(x,y))"
      ],
      "execution_count": null,
      "outputs": [
        {
          "output_type": "stream",
          "text": [
            "Element to Element Multiplication of two matrices: \n",
            "[[ 6 14]\n",
            " [63 80]]\n"
          ],
          "name": "stdout"
        }
      ]
    },
    {
      "cell_type": "code",
      "metadata": {
        "id": "Gw79zjCOlmon",
        "outputId": "29f9ad28-35c3-4164-9830-b6c30245d032",
        "colab": {
          "base_uri": "https://localhost:8080/",
          "height": 68
        }
      },
      "source": [
        "print (\"The product of two matrices : \")\n",
        "print (np.dot(x,y))"
      ],
      "execution_count": null,
      "outputs": [
        {
          "output_type": "stream",
          "text": [
            "The product of two matrices : \n",
            "[[ 24  27]\n",
            " [114 129]]\n"
          ],
          "name": "stdout"
        }
      ]
    },
    {
      "cell_type": "code",
      "metadata": {
        "id": "YvO3WBXxlqF_",
        "outputId": "f6b9cefe-cea0-4f7f-cc84-d16a8a0afcf0",
        "colab": {
          "base_uri": "https://localhost:8080/",
          "height": 68
        }
      },
      "source": [
        "print (\"square root is : \")\n",
        "print (np.sqrt(x))"
      ],
      "execution_count": null,
      "outputs": [
        {
          "output_type": "stream",
          "text": [
            "square root is : \n",
            "[[1.         1.41421356]\n",
            " [2.64575131 2.82842712]]\n"
          ],
          "name": "stdout"
        }
      ]
    },
    {
      "cell_type": "code",
      "metadata": {
        "id": "uAxnzpMLlugp",
        "outputId": "5677aade-c706-46ef-8e8e-31b76e4b77bd",
        "colab": {
          "base_uri": "https://localhost:8080/",
          "height": 51
        }
      },
      "source": [
        "print (\"The summation of elements : \")\n",
        "print (np.sum(y))"
      ],
      "execution_count": null,
      "outputs": [
        {
          "output_type": "stream",
          "text": [
            "The summation of elements : \n",
            "32\n"
          ],
          "name": "stdout"
        }
      ]
    },
    {
      "cell_type": "code",
      "metadata": {
        "id": "ldJBOWsAlyek",
        "outputId": "32100680-db59-4a8a-a97c-cc7e20a7af54",
        "colab": {
          "base_uri": "https://localhost:8080/",
          "height": 51
        }
      },
      "source": [
        "print (\"The column wise summation  : \")\n",
        "print (np.sum(y,axis=0))"
      ],
      "execution_count": null,
      "outputs": [
        {
          "output_type": "stream",
          "text": [
            "The column wise summation  : \n",
            "[15 17]\n"
          ],
          "name": "stdout"
        }
      ]
    },
    {
      "cell_type": "code",
      "metadata": {
        "id": "ZwOIk-qkl16R",
        "outputId": "70a616fa-57d6-42c6-a99d-1a5f2848dfbc",
        "colab": {
          "base_uri": "https://localhost:8080/",
          "height": 51
        }
      },
      "source": [
        "print (\"The row wise summation: \")\n",
        "print (np.sum(y,axis=1))"
      ],
      "execution_count": null,
      "outputs": [
        {
          "output_type": "stream",
          "text": [
            "The row wise summation: \n",
            "[13 19]\n"
          ],
          "name": "stdout"
        }
      ]
    },
    {
      "cell_type": "code",
      "metadata": {
        "id": "6mDvE81ml5fc",
        "outputId": "4666058a-845a-499d-cf59-7a6a3d2fe28d",
        "colab": {
          "base_uri": "https://localhost:8080/",
          "height": 68
        }
      },
      "source": [
        "print (\"Matrix transposition : \")\n",
        "print (x.T)"
      ],
      "execution_count": null,
      "outputs": [
        {
          "output_type": "stream",
          "text": [
            "Matrix transposition : \n",
            "[[1 7]\n",
            " [2 8]]\n"
          ],
          "name": "stdout"
        }
      ]
    },
    {
      "cell_type": "code",
      "metadata": {
        "id": "M2JrmGsHl89N",
        "outputId": "df87c821-ec48-4d64-aadc-006c0e912502",
        "colab": {
          "base_uri": "https://localhost:8080/",
          "height": 85
        }
      },
      "source": [
        "#Checking number of dimensions\n",
        "a = np.array(42)\n",
        "b = np.array([1, 2, 3, 4, 5])\n",
        "c = np.array([[1, 2, 3], [4, 5, 6]])\n",
        "d = np.array([[[1, 2, 3], [4, 5, 6]], [[1, 2, 3], [4, 5, 6]]])\n",
        "print(a.ndim)\n",
        "print(b.ndim)\n",
        "print(c.ndim)\n",
        "print(d.ndim)"
      ],
      "execution_count": null,
      "outputs": [
        {
          "output_type": "stream",
          "text": [
            "0\n",
            "1\n",
            "2\n",
            "3\n"
          ],
          "name": "stdout"
        }
      ]
    },
    {
      "cell_type": "code",
      "metadata": {
        "id": "QOgaTDF-mImr",
        "outputId": "c324c3fc-28ca-4b60-d33f-c7115ae70553",
        "colab": {
          "base_uri": "https://localhost:8080/",
          "height": 51
        }
      },
      "source": [
        "#Higher dimensional arrays\n",
        "arr2 = np.array([1, 2, 3, 4], ndmin=5)\n",
        "print(arr2)"
      ],
      "execution_count": null,
      "outputs": [
        {
          "output_type": "stream",
          "text": [
            "[[[[[1 2 3 4]]]]]\n",
            "[[[[[1 2 3 4]]]]]\n"
          ],
          "name": "stdout"
        }
      ]
    },
    {
      "cell_type": "code",
      "metadata": {
        "id": "oGg62G_2mc6y",
        "outputId": "afcf198b-b818-4ee6-9c6e-1b968398fd41",
        "colab": {
          "base_uri": "https://localhost:8080/",
          "height": 119
        }
      },
      "source": [
        "np.random.randint(0,100,100) #returning integer value only"
      ],
      "execution_count": null,
      "outputs": [
        {
          "output_type": "execute_result",
          "data": {
            "text/plain": [
              "array([52, 40, 13, 45, 91, 54, 89, 22, 33, 99, 17, 16, 83, 93, 63, 77, 60,\n",
              "       40, 37, 96, 36, 73, 90, 47,  6,  6, 27, 51, 35, 16, 86, 43, 27, 93,\n",
              "       58, 83, 62, 23,  5, 11, 53,  4, 17, 16, 97, 86, 47, 77, 37, 91, 16,\n",
              "       63, 22, 45, 80, 62,  4, 79, 24, 38, 16, 41, 44, 20, 88, 60, 56, 29,\n",
              "       66, 57, 16, 20, 22, 50,  9, 94, 32, 65, 49, 46, 59, 83, 47, 19, 60,\n",
              "       23, 53, 56, 26, 48, 69, 17, 25, 10, 63, 82, 46, 63, 60, 35])"
            ]
          },
          "metadata": {
            "tags": []
          },
          "execution_count": 27
        }
      ]
    },
    {
      "cell_type": "code",
      "metadata": {
        "id": "K1Tnesqkmq1M",
        "outputId": "cc08240a-75b6-4b4c-a339-b58a06000d28",
        "colab": {
          "base_uri": "https://localhost:8080/",
          "height": 187
        }
      },
      "source": [
        "np.random.randint(0,100,100).reshape(10,10) #conerting array into matrix"
      ],
      "execution_count": null,
      "outputs": [
        {
          "output_type": "execute_result",
          "data": {
            "text/plain": [
              "array([[38, 22, 98, 37, 59, 98, 34, 89, 99, 12],\n",
              "       [33, 71, 11, 52, 63, 55, 80, 55, 95, 35],\n",
              "       [48, 75, 62, 97, 28, 17, 32, 87, 96,  5],\n",
              "       [35, 16, 38, 13, 64, 88, 39, 66,  7, 54],\n",
              "       [24, 78, 72, 40,  6, 97, 65, 86, 82, 59],\n",
              "       [92, 37, 85, 32, 48, 58, 69, 89, 86, 12],\n",
              "       [55, 74, 17, 73, 53, 84, 52, 60, 55, 88],\n",
              "       [30, 15, 40, 74, 19, 70, 29, 53, 64, 38],\n",
              "       [90, 24, 54, 57,  1, 25, 38, 23, 72, 79],\n",
              "       [25, 88, 32, 43, 56, 30, 32, 18,  2, 87]])"
            ]
          },
          "metadata": {
            "tags": []
          },
          "execution_count": 28
        }
      ]
    },
    {
      "cell_type": "code",
      "metadata": {
        "id": "t_aN_5Ymmywx",
        "outputId": "8600a00d-3705-4728-a057-c866d53a7013",
        "colab": {
          "base_uri": "https://localhost:8080/",
          "height": 102
        }
      },
      "source": [
        "np.random.random(25).reshape(5,5) #returning values between 0-1"
      ],
      "execution_count": null,
      "outputs": [
        {
          "output_type": "execute_result",
          "data": {
            "text/plain": [
              "array([[0.22766965, 0.22974952, 0.71185546, 0.74872659, 0.68159998],\n",
              "       [0.58258091, 0.25383666, 0.15615305, 0.62550957, 0.24346113],\n",
              "       [0.78047046, 0.03570635, 0.44152917, 0.60871444, 0.91690115],\n",
              "       [0.55220588, 0.19273855, 0.81566873, 0.31896912, 0.51221319],\n",
              "       [0.59801662, 0.88153391, 0.61149105, 0.62229238, 0.2877801 ]])"
            ]
          },
          "metadata": {
            "tags": []
          },
          "execution_count": 29
        }
      ]
    },
    {
      "cell_type": "code",
      "metadata": {
        "id": "_l-nP8Fmm529",
        "outputId": "57b2505e-3732-434b-be83-50b6a2a4b844",
        "colab": {
          "base_uri": "https://localhost:8080/",
          "height": 102
        }
      },
      "source": [
        "np.random.randn(25).reshape(5,5)"
      ],
      "execution_count": null,
      "outputs": [
        {
          "output_type": "execute_result",
          "data": {
            "text/plain": [
              "array([[ 2.37368451,  0.35155442,  0.05360192,  0.10487498,  0.12532361],\n",
              "       [-0.46717835,  2.7152015 ,  1.2403066 , -0.370004  ,  1.57410576],\n",
              "       [-0.60941431,  0.72015747,  0.4623562 , -0.1499697 , -0.34253691],\n",
              "       [-1.10616074, -0.10593298,  0.12204132, -0.78583471,  0.02873571],\n",
              "       [-0.05888931, -0.95074215, -0.14594537,  2.16916188,  1.33406604]])"
            ]
          },
          "metadata": {
            "tags": []
          },
          "execution_count": 30
        }
      ]
    },
    {
      "cell_type": "code",
      "metadata": {
        "id": "aOBMtEz-m_6s",
        "outputId": "8aac0487-9cec-44f6-db7d-57b616ea3905",
        "colab": {
          "base_uri": "https://localhost:8080/",
          "height": 34
        }
      },
      "source": [
        "np.random.seed(52)\n",
        "arr3=np.random.randint(0,100,10)\n",
        "arr3"
      ],
      "execution_count": null,
      "outputs": [
        {
          "output_type": "execute_result",
          "data": {
            "text/plain": [
              "array([28, 11, 13, 23, 86, 28, 32, 69, 11, 91])"
            ]
          },
          "metadata": {
            "tags": []
          },
          "execution_count": 31
        }
      ]
    },
    {
      "cell_type": "markdown",
      "metadata": {
        "id": "SDvVrD-dn1rE"
      },
      "source": [
        "5.Array operations"
      ]
    },
    {
      "cell_type": "code",
      "metadata": {
        "id": "_a9SCKIOn3hU",
        "outputId": "62378005-3e7a-4782-c9e2-2046fe7a42bf",
        "colab": {
          "base_uri": "https://localhost:8080/",
          "height": 34
        }
      },
      "source": [
        "arr3.mean()"
      ],
      "execution_count": null,
      "outputs": [
        {
          "output_type": "execute_result",
          "data": {
            "text/plain": [
              "39.2"
            ]
          },
          "metadata": {
            "tags": []
          },
          "execution_count": 32
        }
      ]
    },
    {
      "cell_type": "code",
      "metadata": {
        "id": "XF-6pwqAn8Q0",
        "outputId": "745c559b-addb-4195-cc57-2b9c2666ae17",
        "colab": {
          "base_uri": "https://localhost:8080/",
          "height": 34
        }
      },
      "source": [
        "arr3.max()"
      ],
      "execution_count": null,
      "outputs": [
        {
          "output_type": "execute_result",
          "data": {
            "text/plain": [
              "91"
            ]
          },
          "metadata": {
            "tags": []
          },
          "execution_count": 33
        }
      ]
    },
    {
      "cell_type": "code",
      "metadata": {
        "id": "ipp_jF_Nn_3X",
        "outputId": "faa25b8c-faf2-419f-c88c-c12c0b2412d4",
        "colab": {
          "base_uri": "https://localhost:8080/",
          "height": 34
        }
      },
      "source": [
        "arr3.min()"
      ],
      "execution_count": null,
      "outputs": [
        {
          "output_type": "execute_result",
          "data": {
            "text/plain": [
              "11"
            ]
          },
          "metadata": {
            "tags": []
          },
          "execution_count": 34
        }
      ]
    },
    {
      "cell_type": "code",
      "metadata": {
        "id": "2UzEC-ImoC6k",
        "outputId": "40d4835e-b3d4-4bca-85ff-336aab9cc408",
        "colab": {
          "base_uri": "https://localhost:8080/",
          "height": 34
        }
      },
      "source": [
        "arr3.argmax()"
      ],
      "execution_count": null,
      "outputs": [
        {
          "output_type": "execute_result",
          "data": {
            "text/plain": [
              "9"
            ]
          },
          "metadata": {
            "tags": []
          },
          "execution_count": 35
        }
      ]
    },
    {
      "cell_type": "code",
      "metadata": {
        "id": "sq79zFJgobR8",
        "outputId": "2cd45913-46b8-439c-cee5-09d9f8b1928a",
        "colab": {
          "base_uri": "https://localhost:8080/",
          "height": 34
        }
      },
      "source": [
        "arr3.argmin()"
      ],
      "execution_count": null,
      "outputs": [
        {
          "output_type": "execute_result",
          "data": {
            "text/plain": [
              "1"
            ]
          },
          "metadata": {
            "tags": []
          },
          "execution_count": 36
        }
      ]
    },
    {
      "cell_type": "code",
      "metadata": {
        "id": "zrDXwqMEoepH",
        "outputId": "ed95b065-4107-410c-a017-404e7d83f1fe",
        "colab": {
          "base_uri": "https://localhost:8080/",
          "height": 34
        }
      },
      "source": [
        "arr3.argsort()"
      ],
      "execution_count": null,
      "outputs": [
        {
          "output_type": "execute_result",
          "data": {
            "text/plain": [
              "array([1, 8, 2, 3, 0, 5, 6, 7, 4, 9])"
            ]
          },
          "metadata": {
            "tags": []
          },
          "execution_count": 37
        }
      ]
    },
    {
      "cell_type": "code",
      "metadata": {
        "id": "ZjAkpbCRohVb"
      },
      "source": [
        "arr3.sort()"
      ],
      "execution_count": null,
      "outputs": []
    },
    {
      "cell_type": "code",
      "metadata": {
        "id": "6YUCDRoLojv2",
        "outputId": "450c6ada-ad27-4138-bc63-f72ae962e0d2",
        "colab": {
          "base_uri": "https://localhost:8080/",
          "height": 34
        }
      },
      "source": [
        "arr3"
      ],
      "execution_count": null,
      "outputs": [
        {
          "output_type": "execute_result",
          "data": {
            "text/plain": [
              "array([11, 11, 13, 23, 28, 28, 32, 69, 86, 91])"
            ]
          },
          "metadata": {
            "tags": []
          },
          "execution_count": 39
        }
      ]
    },
    {
      "cell_type": "code",
      "metadata": {
        "id": "Rq5M2BoKomQ7"
      },
      "source": [
        ""
      ],
      "execution_count": null,
      "outputs": []
    }
  ]
}