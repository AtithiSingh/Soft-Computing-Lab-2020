{
  "nbformat": 4,
  "nbformat_minor": 0,
  "metadata": {
    "colab": {
      "name": "ShwetaP3.ipynb",
      "provenance": [],
      "collapsed_sections": [],
      "include_colab_link": true
    },
    "kernelspec": {
      "name": "python3",
      "display_name": "Python 3"
    }
  },
  "cells": [
    {
      "cell_type": "markdown",
      "metadata": {
        "id": "view-in-github",
        "colab_type": "text"
      },
      "source": [
        "<a href=\"https://colab.research.google.com/github/shwetay58/Soft-Computing-Lab-2020/blob/master/Shweta%20Yadav-4thyear-C/ShwetaP3.ipynb\" target=\"_parent\"><img src=\"https://colab.research.google.com/assets/colab-badge.svg\" alt=\"Open In Colab\"/></a>"
      ]
    },
    {
      "cell_type": "markdown",
      "metadata": {
        "id": "JWgq7RMLfVBt"
      },
      "source": [
        "AIM: A program to implement various python data structures"
      ]
    },
    {
      "cell_type": "markdown",
      "metadata": {
        "id": "g3UFUpICfkyN"
      },
      "source": [
        "1. List"
      ]
    },
    {
      "cell_type": "code",
      "metadata": {
        "id": "9gDbaeO5fl-9",
        "outputId": "a7003d22-32a5-4fbf-a826-1766378ef7a0",
        "colab": {
          "base_uri": "https://localhost:8080/",
          "height": 323
        }
      },
      "source": [
        "l = [\"green\", \"teal\", \"grey\"]\n",
        "print(l)\n",
        "print(l[1])\n",
        "#negative indexing\n",
        "print(l[-1])\n",
        "#range of indexes\n",
        "print(l[1:3])\n",
        "#change value\n",
        "l[1]=\"mint\"\n",
        "print(l)\n",
        "#loop\n",
        "for x in l:\n",
        "  print(x)\n",
        "# to check if value exists\n",
        "if \"mint\" in l:\n",
        "  print(\"Yes\")\n",
        "# length of list\n",
        "print(len(l))\n",
        "# to append the values\n",
        "l.append(\"red\")\n",
        "print(l)\n",
        "# to insert at a particular index\n",
        "l.insert(1, \"red\")\n",
        "print(l)\n",
        "# to remove a value\n",
        "l.remove(\"red\")\n",
        "print(l)\n",
        "# to remove from a specified index\n",
        "l.pop(3)\n",
        "print(l)\n",
        "# copy a list\n",
        "l1=l.copy()\n",
        "print(l1)\n",
        "# empty list \n",
        "l.clear()\n",
        "print(l)\n",
        "# delete list\n",
        "del l\n",
        "print(l1)\n",
        "l2 = [1, 2, 3]\n",
        "# join two list\n",
        "l3=l1+l2\n",
        "print(l3)\n",
        "\n"
      ],
      "execution_count": null,
      "outputs": [
        {
          "output_type": "stream",
          "text": [
            "['green', 'teal', 'grey']\n",
            "teal\n",
            "grey\n",
            "['teal', 'grey']\n",
            "['green', 'mint', 'grey']\n",
            "green\n",
            "mint\n",
            "grey\n",
            "Yes\n",
            "3\n",
            "['green', 'mint', 'grey', 'red']\n",
            "['green', 'red', 'mint', 'grey', 'red']\n",
            "['green', 'mint', 'grey', 'red']\n",
            "['green', 'mint', 'grey']\n",
            "['green', 'mint', 'grey']\n",
            "[]\n",
            "['green', 'mint', 'grey']\n",
            "['green', 'mint', 'grey', 1, 2, 3]\n"
          ],
          "name": "stdout"
        }
      ]
    },
    {
      "cell_type": "markdown",
      "metadata": {
        "id": "_80F-eHJoXOv"
      },
      "source": [
        "2. Tuple"
      ]
    },
    {
      "cell_type": "code",
      "metadata": {
        "id": "ojLYteLloZlH",
        "outputId": "b2ec276b-8b23-418d-fad2-2d3f6b788a36",
        "colab": {
          "base_uri": "https://localhost:8080/",
          "height": 187
        }
      },
      "source": [
        "t = (\"green\", \"teal\", \"grey\")\n",
        "print(t)\n",
        "# access tuple values\n",
        "print(t[1])\n",
        "# negative indexing\n",
        "print(t[-1])\n",
        "# range of indexes\n",
        "print(t[2:3])\n",
        "# change tuple values\n",
        "y = list(t)\n",
        "y[1] = \"red\"\n",
        "t = tuple(y)\n",
        "print(t)\n",
        "# loop\n",
        "for x in t:\n",
        "  print(x)\n",
        "# if value exists\n",
        "if 'mint' in t:\n",
        "  print(\"yes\")\n",
        "# tuple length\n",
        "print(len(t))\n",
        "# tuples are immutable so you can't add or remove items\n",
        "# join two tuples\n",
        "t1 = (\"a\", \"b\" , \"c\")\n",
        "t2 = (\"e\", \"f\")\n",
        "\n",
        "t3 = t1 + t2\n",
        "print(t3)"
      ],
      "execution_count": null,
      "outputs": [
        {
          "output_type": "stream",
          "text": [
            "('green', 'teal', 'grey')\n",
            "teal\n",
            "grey\n",
            "('grey',)\n",
            "('green', 'red', 'grey')\n",
            "green\n",
            "red\n",
            "grey\n",
            "3\n",
            "('a', 'b', 'c', 'e', 'f')\n"
          ],
          "name": "stdout"
        }
      ]
    },
    {
      "cell_type": "markdown",
      "metadata": {
        "id": "q0ujCoCjsk1e"
      },
      "source": [
        "3. Dictionary"
      ]
    },
    {
      "cell_type": "code",
      "metadata": {
        "id": "VX814MdDsmbM",
        "outputId": "854bb0f4-1e25-4ddc-c462-22de14468507",
        "colab": {
          "base_uri": "https://localhost:8080/",
          "height": 238
        }
      },
      "source": [
        "d = {\n",
        "  \"brand\": \"Ford\",\n",
        "  \"model\": \"Mustang\",\n",
        "  \"year\": 1964\n",
        "}\n",
        "print(d)\n",
        "# access items\n",
        "x = d[\"model\"]\n",
        "print(x)\n",
        "# get () is also used to access items\n",
        "x= d.get(\"brand\")\n",
        "print(x)\n",
        "# change value\n",
        "d[\"year\"] = 1976\n",
        "print(d)\n",
        "# loop\n",
        "for x in d:\n",
        "  print(x)\n",
        "# length of dictonary\n",
        "print(len(d))\n",
        "# add items\n",
        "d[\"color\"] = \"red\"\n",
        "print(d)\n",
        "# remove items\n",
        "d.pop(\"color\")\n",
        "print(d)\n",
        "# copy the dictionary\n",
        "d1=d.copy()\n",
        "print(d1)\n",
        "# clear the dictionary\n",
        "d.clear()\n",
        "print(d)\n",
        "# delete dictionary\n",
        "del d\n",
        "# nested dictionary\n",
        "d2 = {\n",
        "  \"name\" : \"Tobias\",\n",
        "  \"year\" : 2007\n",
        "}\n",
        "info = {\n",
        "  \"d1\" : d1,\n",
        "  \"d2\" : d2\n",
        "}\n",
        "print(info)"
      ],
      "execution_count": null,
      "outputs": [
        {
          "output_type": "stream",
          "text": [
            "{'brand': 'Ford', 'model': 'Mustang', 'year': 1964}\n",
            "Mustang\n",
            "Ford\n",
            "{'brand': 'Ford', 'model': 'Mustang', 'year': 1976}\n",
            "brand\n",
            "model\n",
            "year\n",
            "3\n",
            "{'brand': 'Ford', 'model': 'Mustang', 'year': 1976, 'color': 'red'}\n",
            "{'brand': 'Ford', 'model': 'Mustang', 'year': 1976}\n",
            "{'brand': 'Ford', 'model': 'Mustang', 'year': 1976}\n",
            "{}\n",
            "{'d1': {'brand': 'Ford', 'model': 'Mustang', 'year': 1976}, 'd2': {'name': 'Tobias', 'year': 2007}}\n"
          ],
          "name": "stdout"
        }
      ]
    },
    {
      "cell_type": "markdown",
      "metadata": {
        "id": "6AaV4PBQ1Y6U"
      },
      "source": [
        "4. Set"
      ]
    },
    {
      "cell_type": "code",
      "metadata": {
        "id": "ChUL80kM1aKJ",
        "outputId": "2d307017-b664-476d-a6d3-c8ed7e9fb8f7",
        "colab": {
          "base_uri": "https://localhost:8080/",
          "height": 187
        }
      },
      "source": [
        "s = {\"green\", \"teal\", \"grey\"}\n",
        "print(s)\n",
        "# access items\n",
        "for x in s:\n",
        "  print(x)\n",
        "# if some value is present\n",
        "print(\"teal\" in s)\n",
        "# add items\n",
        "s.add(\"orange\")\n",
        "print(s)\n",
        "# for multiple items\n",
        "s.update([\"orange\", \"red\"])\n",
        "print(s)\n",
        "#length of set\n",
        "print(len(s))\n",
        "# remove an item\n",
        "s.remove(\"orange\")\n",
        "print(s)\n",
        "# clear the entries of set\n",
        "s.clear()\n",
        "# delelte the set\n",
        "del s\n",
        "# join two sets\n",
        "set1 = {\"a\", \"b\" , \"c\"}\n",
        "set2 = {1, 2, 3}\n",
        "\n",
        "set3 = set1.union(set2)\n",
        "print(set3)\n",
        "\n"
      ],
      "execution_count": null,
      "outputs": [
        {
          "output_type": "stream",
          "text": [
            "{'teal', 'grey', 'green'}\n",
            "teal\n",
            "grey\n",
            "green\n",
            "True\n",
            "{'teal', 'grey', 'green', 'orange'}\n",
            "{'teal', 'red', 'grey', 'green', 'orange'}\n",
            "5\n",
            "{'teal', 'red', 'grey', 'green'}\n",
            "{1, 'a', 'b', 2, 3, 'c'}\n"
          ],
          "name": "stdout"
        }
      ]
    }
  ]
}