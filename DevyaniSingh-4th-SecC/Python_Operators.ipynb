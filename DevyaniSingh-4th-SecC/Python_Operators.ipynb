{
 "cells": [
  {
   "cell_type": "markdown",
   "metadata": {},
   "source": [
    "# Aim- Implement all the types of operators in python"
   ]
  },
  {
   "cell_type": "markdown",
   "metadata": {},
   "source": [
    "### Arithmetic Operators"
   ]
  },
  {
   "cell_type": "code",
   "execution_count": 9,
   "metadata": {},
   "outputs": [
    {
     "name": "stdout",
     "output_type": "stream",
     "text": [
      "11\n",
      "1\n",
      "30\n",
      "1.2\n",
      "1\n",
      "15625\n",
      "0\n"
     ]
    }
   ],
   "source": [
    "a=5\n",
    "b=6\n",
    "print(a+b) #Addition\n",
    "print(b-a) #Subtraction\n",
    "print(a*b) #Multiplication\n",
    "print(b/a) #Division\n",
    "print(b%a) #Modulus\n",
    "print(a**b)#Exponentiation\n",
    "print(a//b)#Floor Division"
   ]
  },
  {
   "cell_type": "markdown",
   "metadata": {},
   "source": [
    "#### Assignment Operators"
   ]
  },
  {
   "cell_type": "code",
   "execution_count": 21,
   "metadata": {},
   "outputs": [
    {
     "name": "stdout",
     "output_type": "stream",
     "text": [
      "16\n",
      "14\n",
      "56\n",
      "28.0\n",
      "0.0\n",
      "0.0\n",
      "0.0\n",
      "0\n",
      "10\n",
      "0\n",
      "1\n",
      "4\n"
     ]
    }
   ],
   "source": [
    "x=12\n",
    "x+=4\n",
    "print(x)\n",
    "x-=2\n",
    "print(x)\n",
    "x*=4\n",
    "print(x)\n",
    "x/=2\n",
    "print(x)\n",
    "x%=2\n",
    "print(x)\n",
    "x//=3\n",
    "print(x)\n",
    "x**=2\n",
    "print(x)\n",
    "y=4\n",
    "y &=2\n",
    "print(y)\n",
    "y=8\n",
    "y|=2\n",
    "print(y)\n",
    "y=3\n",
    "y^=3\n",
    "print(y)\n",
    "y=4\n",
    "y>>=2\n",
    "print(y)\n",
    "y<<=2\n",
    "print(y)"
   ]
  },
  {
   "cell_type": "markdown",
   "metadata": {},
   "source": [
    "### Comparison Operator"
   ]
  },
  {
   "cell_type": "code",
   "execution_count": 22,
   "metadata": {},
   "outputs": [
    {
     "name": "stdout",
     "output_type": "stream",
     "text": [
      "False\n",
      "True\n",
      "False\n",
      "True\n",
      "False\n",
      "True\n"
     ]
    }
   ],
   "source": [
    "x=3\n",
    "y=6\n",
    "print(x==y) #Equal\n",
    "print(x!=y) #Not Equal\n",
    "print(x>y)  #Greater than\n",
    "print(x<y)  #Less than\n",
    "print(x>=y) #Greater than or equal to\n",
    "print(x<=y) #Less than or equal to"
   ]
  },
  {
   "cell_type": "markdown",
   "metadata": {},
   "source": [
    "### Logical Operator"
   ]
  },
  {
   "cell_type": "code",
   "execution_count": 23,
   "metadata": {},
   "outputs": [
    {
     "name": "stdout",
     "output_type": "stream",
     "text": [
      "True\n",
      "True\n",
      "False\n"
     ]
    }
   ],
   "source": [
    "x=5\n",
    "print(x>2 and x<10) #and operator \n",
    "print(x>2 or x<10)  #or operator\n",
    "print(not(x>3))     #nor operator"
   ]
  },
  {
   "cell_type": "markdown",
   "metadata": {},
   "source": [
    "### Bitwise Operator"
   ]
  },
  {
   "cell_type": "code",
   "execution_count": 28,
   "metadata": {},
   "outputs": [
    {
     "name": "stdout",
     "output_type": "stream",
     "text": [
      "100\n",
      "110\n",
      "11000\n",
      "-111\n",
      "220\n",
      "55\n"
     ]
    }
   ],
   "source": [
    "x=110\n",
    "y=100\n",
    "print(x&y) #AND\n",
    "print(x|y) #OR\n",
    "print(x*y) #XOR\n",
    "print(~x)  #NOT\n",
    "print(x<<1) #BITWISE LEFT SHIFT\n",
    "print(x>>1) #BITWISE RIGHT SHIFT"
   ]
  },
  {
   "cell_type": "code",
   "execution_count": null,
   "metadata": {},
   "outputs": [],
   "source": []
  }
 ],
 "metadata": {
  "kernelspec": {
   "display_name": "Python 3",
   "language": "python",
   "name": "python3"
  },
  "language_info": {
   "codemirror_mode": {
    "name": "ipython",
    "version": 3
   },
   "file_extension": ".py",
   "mimetype": "text/x-python",
   "name": "python",
   "nbconvert_exporter": "python",
   "pygments_lexer": "ipython3",
   "version": "3.6.4"
  }
 },
 "nbformat": 4,
 "nbformat_minor": 2
}
