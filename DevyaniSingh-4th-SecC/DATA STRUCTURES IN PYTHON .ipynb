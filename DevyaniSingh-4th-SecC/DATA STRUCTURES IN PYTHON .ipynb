{
 "cells": [
  {
   "cell_type": "markdown",
   "metadata": {},
   "source": [
    "## DATA STRUCTURES"
   ]
  },
  {
   "cell_type": "markdown",
   "metadata": {},
   "source": [
    "### Built-in data structures"
   ]
  },
  {
   "cell_type": "markdown",
   "metadata": {},
   "source": [
    "#### LIST"
   ]
  },
  {
   "cell_type": "code",
   "execution_count": 2,
   "metadata": {},
   "outputs": [
    {
     "name": "stdout",
     "output_type": "stream",
     "text": [
      "[1, 2.7, 'hello']\n"
     ]
    }
   ],
   "source": [
    "#Used to store data of different data types in a sequential manner.\n",
    "list = [1,2.7,'hello']\n",
    "print(list)"
   ]
  },
  {
   "cell_type": "code",
   "execution_count": 7,
   "metadata": {},
   "outputs": [
    {
     "name": "stdout",
     "output_type": "stream",
     "text": [
      "[1, 2.7, 'how', 'hello', 4, 4, [4], [4], 33, 'hi', [4], 33, 'hi']\n"
     ]
    }
   ],
   "source": [
    "list.append([4]) #Add single element\n",
    "list.extend([33,\"hi\"]) #Add as different elements\n",
    "list.insert(2,'how') #Add element i\n",
    "print(list)"
   ]
  },
  {
   "cell_type": "code",
   "execution_count": 8,
   "metadata": {},
   "outputs": [
    {
     "name": "stdout",
     "output_type": "stream",
     "text": [
      "[1, 2.7, 'hello', 4, 4, [4], 33, 'hi', [4], 33, 'hi']\n"
     ]
    }
   ],
   "source": [
    "del list[2] #Delete element at i index\n",
    "list.pop(5) #Remove element from list\n",
    "print(list)"
   ]
  },
  {
   "cell_type": "code",
   "execution_count": 9,
   "metadata": {},
   "outputs": [
    {
     "name": "stdout",
     "output_type": "stream",
     "text": [
      "1\n",
      "2.7\n",
      "hello\n",
      "4\n",
      "4\n",
      "[4]\n",
      "33\n",
      "hi\n",
      "[4]\n",
      "33\n",
      "hi\n"
     ]
    }
   ],
   "source": [
    "for i in list:\n",
    "    print(i)    #Accessing each element"
   ]
  },
  {
   "cell_type": "markdown",
   "metadata": {},
   "source": [
    "#### DICTIONARY"
   ]
  },
  {
   "cell_type": "code",
   "execution_count": 23,
   "metadata": {},
   "outputs": [
    {
     "name": "stdout",
     "output_type": "stream",
     "text": [
      "{1: 'HI', 2: 'HELLO'}\n"
     ]
    }
   ],
   "source": [
    "#Used to store key-value pairs\n",
    "dict = {1:'HI',2:'HELLO'}\n",
    "print(dict)"
   ]
  },
  {
   "cell_type": "code",
   "execution_count": 24,
   "metadata": {},
   "outputs": [
    {
     "name": "stdout",
     "output_type": "stream",
     "text": [
      "{1: 'HI', 2: 'HEY', 3: 'BONJOUR'}\n"
     ]
    }
   ],
   "source": [
    "dict[2]='HEY'#Changing element\n",
    "dict[3]=\"BONJOUR\"#Adding elements\n",
    "print(dict)"
   ]
  },
  {
   "cell_type": "code",
   "execution_count": 25,
   "metadata": {},
   "outputs": [
    {
     "name": "stdout",
     "output_type": "stream",
     "text": [
      "{1: 'HI', 3: 'BONJOUR'}\n"
     ]
    }
   ],
   "source": [
    "dict.pop(2) #Pop element\n",
    "print(dict)"
   ]
  },
  {
   "cell_type": "code",
   "execution_count": 26,
   "metadata": {},
   "outputs": [
    {
     "name": "stdout",
     "output_type": "stream",
     "text": [
      "{}\n"
     ]
    }
   ],
   "source": [
    "dict.clear() #Empty dictionary\n",
    "print(dict)"
   ]
  },
  {
   "cell_type": "markdown",
   "metadata": {},
   "source": [
    "#### TUPLE"
   ]
  },
  {
   "cell_type": "code",
   "execution_count": 27,
   "metadata": {},
   "outputs": [
    {
     "name": "stdout",
     "output_type": "stream",
     "text": [
      "(4, 5, 6)\n"
     ]
    }
   ],
   "source": [
    "#They are same as lists with the exception that the data once entered cannot be changed\n",
    "tup=(4,5,6)\n",
    "print(tup)"
   ]
  },
  {
   "cell_type": "code",
   "execution_count": 28,
   "metadata": {},
   "outputs": [
    {
     "name": "stdout",
     "output_type": "stream",
     "text": [
      "(4, 5, 6, 1, 2, 3)\n"
     ]
    }
   ],
   "source": [
    "tup = tup+(1,2,3)  # Adding elements\n",
    "print(tup) \n",
    "#Other functions are same as lists "
   ]
  },
  {
   "cell_type": "markdown",
   "metadata": {},
   "source": [
    "#### SETS"
   ]
  },
  {
   "cell_type": "code",
   "execution_count": 30,
   "metadata": {},
   "outputs": [
    {
     "name": "stdout",
     "output_type": "stream",
     "text": [
      "{1, 2, 3}\n"
     ]
    }
   ],
   "source": [
    "#Collection of unordered elements that are unique.\n",
    "set1={1,2,3}\n",
    "print(set)"
   ]
  },
  {
   "cell_type": "code",
   "execution_count": 34,
   "metadata": {},
   "outputs": [
    {
     "name": "stdout",
     "output_type": "stream",
     "text": [
      "{1, 2, 3, 4, 5}\n",
      "{3}\n",
      "{3}\n"
     ]
    }
   ],
   "source": [
    "set2 ={3,4,5}\n",
    "print(set.union(set1,set2)) #Combining elements of both the sets\n",
    "print(set.intersection(set1,set2)) #Elements that present in both the sets\n",
    "print(set.difference(set1-set2)) #Deletes the data present in both and outputs the data present only in the set passed"
   ]
  },
  {
   "cell_type": "markdown",
   "metadata": {},
   "source": [
    "### USER-DEFINED DATA STRUCTURES"
   ]
  },
  {
   "cell_type": "markdown",
   "metadata": {},
   "source": [
    "#### ARRAYS"
   ]
  },
  {
   "cell_type": "code",
   "execution_count": 35,
   "metadata": {},
   "outputs": [],
   "source": [
    "#Arrays and similar to lists just except arrays have homogenous elements unlike lists."
   ]
  },
  {
   "cell_type": "markdown",
   "metadata": {},
   "source": [
    "#### STACK"
   ]
  },
  {
   "cell_type": "code",
   "execution_count": 36,
   "metadata": {},
   "outputs": [],
   "source": [
    "#It works on LIFO last in First Out principle\n",
    "#Functions-push,pop\n",
    "#It uses list,collections.deque and queue.LifoQueue"
   ]
  },
  {
   "cell_type": "markdown",
   "metadata": {},
   "source": [
    "#### QUEUE"
   ]
  },
  {
   "cell_type": "code",
   "execution_count": 37,
   "metadata": {},
   "outputs": [],
   "source": [
    "#It works on FIFO First in First Out principle\n",
    "#Functions-Enqueue and Dequeue\n",
    "#It uses list,collections.deque"
   ]
  },
  {
   "cell_type": "markdown",
   "metadata": {},
   "source": [
    "#### TREE"
   ]
  },
  {
   "cell_type": "code",
   "execution_count": null,
   "metadata": {},
   "outputs": [],
   "source": [
    "#It consists of roots and nodes"
   ]
  }
 ],
 "metadata": {
  "kernelspec": {
   "display_name": "Python 3",
   "language": "python",
   "name": "python3"
  },
  "language_info": {
   "codemirror_mode": {
    "name": "ipython",
    "version": 3
   },
   "file_extension": ".py",
   "mimetype": "text/x-python",
   "name": "python",
   "nbconvert_exporter": "python",
   "pygments_lexer": "ipython3",
   "version": "3.6.4"
  }
 },
 "nbformat": 4,
 "nbformat_minor": 2
}
